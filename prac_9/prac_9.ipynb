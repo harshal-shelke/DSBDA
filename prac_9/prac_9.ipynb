{
 "cells": [
  {
   "cell_type": "code",
   "execution_count": 21,
   "id": "adc13844-b550-4653-8ecc-61b727e60576",
   "metadata": {},
   "outputs": [],
   "source": [
    "import pandas as pd\n",
    "import numpy as np\n",
    "import matplotlib.pyplot as plt\n",
    "import seaborn as sns\n",
    "import plotly.express as px\n",
    "import warnings \n",
    "warnings.filterwarnings('ignore')\n",
    "%matplotlib inline"
   ]
  },
  {
   "cell_type": "code",
   "execution_count": 22,
   "id": "3b353ea0-8129-489b-9a3b-58fb364b3248",
   "metadata": {},
   "outputs": [],
   "source": [
    "titanic_data=pd.read_csv('titanic.csv')"
   ]
  },
  {
   "cell_type": "code",
   "execution_count": 23,
   "id": "6b8fe2c9-99b5-4fbf-8f48-50f892a0ecee",
   "metadata": {},
   "outputs": [
    {
     "data": {
      "text/html": [
       "<div>\n",
       "<style scoped>\n",
       "    .dataframe tbody tr th:only-of-type {\n",
       "        vertical-align: middle;\n",
       "    }\n",
       "\n",
       "    .dataframe tbody tr th {\n",
       "        vertical-align: top;\n",
       "    }\n",
       "\n",
       "    .dataframe thead th {\n",
       "        text-align: right;\n",
       "    }\n",
       "</style>\n",
       "<table border=\"1\" class=\"dataframe\">\n",
       "  <thead>\n",
       "    <tr style=\"text-align: right;\">\n",
       "      <th></th>\n",
       "      <th>PassengerId</th>\n",
       "      <th>Survived</th>\n",
       "      <th>Pclass</th>\n",
       "      <th>Name</th>\n",
       "      <th>Sex</th>\n",
       "      <th>Age</th>\n",
       "      <th>SibSp</th>\n",
       "      <th>Parch</th>\n",
       "      <th>Ticket</th>\n",
       "      <th>Fare</th>\n",
       "      <th>Cabin</th>\n",
       "      <th>Embarked</th>\n",
       "    </tr>\n",
       "  </thead>\n",
       "  <tbody>\n",
       "    <tr>\n",
       "      <th>0</th>\n",
       "      <td>892</td>\n",
       "      <td>0</td>\n",
       "      <td>3</td>\n",
       "      <td>Kelly, Mr. James</td>\n",
       "      <td>male</td>\n",
       "      <td>34.5</td>\n",
       "      <td>0</td>\n",
       "      <td>0</td>\n",
       "      <td>330911</td>\n",
       "      <td>7.8292</td>\n",
       "      <td>NaN</td>\n",
       "      <td>Q</td>\n",
       "    </tr>\n",
       "    <tr>\n",
       "      <th>1</th>\n",
       "      <td>893</td>\n",
       "      <td>1</td>\n",
       "      <td>3</td>\n",
       "      <td>Wilkes, Mrs. James (Ellen Needs)</td>\n",
       "      <td>female</td>\n",
       "      <td>47.0</td>\n",
       "      <td>1</td>\n",
       "      <td>0</td>\n",
       "      <td>363272</td>\n",
       "      <td>7.0000</td>\n",
       "      <td>NaN</td>\n",
       "      <td>S</td>\n",
       "    </tr>\n",
       "    <tr>\n",
       "      <th>2</th>\n",
       "      <td>894</td>\n",
       "      <td>0</td>\n",
       "      <td>2</td>\n",
       "      <td>Myles, Mr. Thomas Francis</td>\n",
       "      <td>male</td>\n",
       "      <td>62.0</td>\n",
       "      <td>0</td>\n",
       "      <td>0</td>\n",
       "      <td>240276</td>\n",
       "      <td>9.6875</td>\n",
       "      <td>NaN</td>\n",
       "      <td>Q</td>\n",
       "    </tr>\n",
       "    <tr>\n",
       "      <th>3</th>\n",
       "      <td>895</td>\n",
       "      <td>0</td>\n",
       "      <td>3</td>\n",
       "      <td>Wirz, Mr. Albert</td>\n",
       "      <td>male</td>\n",
       "      <td>27.0</td>\n",
       "      <td>0</td>\n",
       "      <td>0</td>\n",
       "      <td>315154</td>\n",
       "      <td>8.6625</td>\n",
       "      <td>NaN</td>\n",
       "      <td>S</td>\n",
       "    </tr>\n",
       "    <tr>\n",
       "      <th>4</th>\n",
       "      <td>896</td>\n",
       "      <td>1</td>\n",
       "      <td>3</td>\n",
       "      <td>Hirvonen, Mrs. Alexander (Helga E Lindqvist)</td>\n",
       "      <td>female</td>\n",
       "      <td>22.0</td>\n",
       "      <td>1</td>\n",
       "      <td>1</td>\n",
       "      <td>3101298</td>\n",
       "      <td>12.2875</td>\n",
       "      <td>NaN</td>\n",
       "      <td>S</td>\n",
       "    </tr>\n",
       "  </tbody>\n",
       "</table>\n",
       "</div>"
      ],
      "text/plain": [
       "   PassengerId  Survived  Pclass  \\\n",
       "0          892         0       3   \n",
       "1          893         1       3   \n",
       "2          894         0       2   \n",
       "3          895         0       3   \n",
       "4          896         1       3   \n",
       "\n",
       "                                           Name     Sex   Age  SibSp  Parch  \\\n",
       "0                              Kelly, Mr. James    male  34.5      0      0   \n",
       "1              Wilkes, Mrs. James (Ellen Needs)  female  47.0      1      0   \n",
       "2                     Myles, Mr. Thomas Francis    male  62.0      0      0   \n",
       "3                              Wirz, Mr. Albert    male  27.0      0      0   \n",
       "4  Hirvonen, Mrs. Alexander (Helga E Lindqvist)  female  22.0      1      1   \n",
       "\n",
       "    Ticket     Fare Cabin Embarked  \n",
       "0   330911   7.8292   NaN        Q  \n",
       "1   363272   7.0000   NaN        S  \n",
       "2   240276   9.6875   NaN        Q  \n",
       "3   315154   8.6625   NaN        S  \n",
       "4  3101298  12.2875   NaN        S  "
      ]
     },
     "execution_count": 23,
     "metadata": {},
     "output_type": "execute_result"
    }
   ],
   "source": [
    "titanic_data.head(5)"
   ]
  },
  {
   "cell_type": "code",
   "execution_count": 24,
   "id": "93fb6265-5bc4-4328-b09e-e60fa72e24d4",
   "metadata": {},
   "outputs": [
    {
     "data": {
      "text/plain": [
       "PassengerId      0\n",
       "Survived         0\n",
       "Pclass           0\n",
       "Name             0\n",
       "Sex              0\n",
       "Age             86\n",
       "SibSp            0\n",
       "Parch            0\n",
       "Ticket           0\n",
       "Fare             1\n",
       "Cabin          327\n",
       "Embarked         0\n",
       "dtype: int64"
      ]
     },
     "execution_count": 24,
     "metadata": {},
     "output_type": "execute_result"
    }
   ],
   "source": [
    "titanic_data.isnull().sum()"
   ]
  },
  {
   "cell_type": "code",
   "execution_count": 25,
   "id": "57f46249-6049-4349-85d0-d2aa24e030c3",
   "metadata": {},
   "outputs": [],
   "source": [
    "titanic_data['Age']=titanic_data['Age'].fillna(titanic_data['Age'].mean())"
   ]
  },
  {
   "cell_type": "code",
   "execution_count": 26,
   "id": "41f00da1-35d4-4f6e-b7b6-baede5e357ce",
   "metadata": {},
   "outputs": [
    {
     "data": {
      "text/plain": [
       "PassengerId      0\n",
       "Survived         0\n",
       "Pclass           0\n",
       "Name             0\n",
       "Sex              0\n",
       "Age              0\n",
       "SibSp            0\n",
       "Parch            0\n",
       "Ticket           0\n",
       "Fare             1\n",
       "Cabin          327\n",
       "Embarked         0\n",
       "dtype: int64"
      ]
     },
     "execution_count": 26,
     "metadata": {},
     "output_type": "execute_result"
    }
   ],
   "source": [
    "titanic_data.isna().sum()"
   ]
  },
  {
   "cell_type": "code",
   "execution_count": 27,
   "id": "7abe7b7c-3014-487d-aa79-64bc5fc543c6",
   "metadata": {},
   "outputs": [],
   "source": [
    "def function1(value):\n",
    "    if(value=='male'):\n",
    "        return 1\n",
    "    else:\n",
    "        return 0\n",
    "        "
   ]
  },
  {
   "cell_type": "code",
   "execution_count": 28,
   "id": "c28821d3-94dd-4b40-82ab-7b380650606d",
   "metadata": {},
   "outputs": [],
   "source": [
    "def function2(value):\n",
    "    if(value=='S'):\n",
    "        return 0;\n",
    "    elif (value=='C'):\n",
    "        return 1\n",
    "    elif (value=='Q'):\n",
    "        return 2;\n",
    "    else:\n",
    "        return 0"
   ]
  },
  {
   "cell_type": "code",
   "execution_count": 29,
   "id": "b57efb30-f2e0-4d3e-925a-98186a97210a",
   "metadata": {},
   "outputs": [],
   "source": [
    "titanic_data['Sex']=titanic_data['Sex'].apply(function1)"
   ]
  },
  {
   "cell_type": "code",
   "execution_count": 30,
   "id": "f28fd362-4533-42d7-a99d-96dc910c12fa",
   "metadata": {},
   "outputs": [],
   "source": [
    "titanic_data['Embarked']=titanic_data['Embarked'].apply(function2)"
   ]
  },
  {
   "cell_type": "code",
   "execution_count": 31,
   "id": "43ff9e6c-1004-4304-9166-ddafb9cda030",
   "metadata": {},
   "outputs": [
    {
     "data": {
      "text/plain": [
       "(418, 12)"
      ]
     },
     "execution_count": 31,
     "metadata": {},
     "output_type": "execute_result"
    }
   ],
   "source": [
    "titanic_data.shape"
   ]
  },
  {
   "cell_type": "code",
   "execution_count": 34,
   "id": "e0f03cb3-739a-477d-ab0e-ac1b781e759b",
   "metadata": {},
   "outputs": [
    {
     "data": {
      "application/vnd.plotly.v1+json": {
       "config": {
        "plotlyServerURL": "https://plot.ly"
       },
       "data": [
        {
         "alignmentgroup": "True",
         "hovertemplate": "color=Kelly, Mr. James<br>x=%{x}<extra></extra>",
         "legendgroup": "Kelly, Mr. James",
         "marker": {
          "color": "#636efa"
         },
         "name": "Kelly, Mr. James",
         "notched": false,
         "offsetgroup": "Kelly, Mr. James",
         "orientation": "h",
         "showlegend": true,
         "type": "box",
         "x": [
          34.5
         ],
         "x0": " ",
         "xaxis": "x",
         "y0": " ",
         "yaxis": "y"
        },
        {
         "alignmentgroup": "True",
         "hovertemplate": "color=Wilkes, Mrs. James (Ellen Needs)<br>x=%{x}<extra></extra>",
         "legendgroup": "Wilkes, Mrs. James (Ellen Needs)",
         "marker": {
          "color": "#EF553B"
         },
         "name": "Wilkes, Mrs. James (Ellen Needs)",
         "notched": false,
         "offsetgroup": "Wilkes, Mrs. James (Ellen Needs)",
         "orientation": "h",
         "showlegend": true,
         "type": "box",
         "x": [
          47
         ],
         "x0": " ",
         "xaxis": "x",
         "y0": " ",
         "yaxis": "y"
        },
        {
         "alignmentgroup": "True",
         "hovertemplate": "color=Myles, Mr. Thomas Francis<br>x=%{x}<extra></extra>",
         "legendgroup": "Myles, Mr. Thomas Francis",
         "marker": {
          "color": "#00cc96"
         },
         "name": "Myles, Mr. Thomas Francis",
         "notched": false,
         "offsetgroup": "Myles, Mr. Thomas Francis",
         "orientation": "h",
         "showlegend": true,
         "type": "box",
         "x": [
          62
         ],
         "x0": " ",
         "xaxis": "x",
         "y0": " ",
         "yaxis": "y"
        },
        {
         "alignmentgroup": "True",
         "hovertemplate": "color=Wirz, Mr. Albert<br>x=%{x}<extra></extra>",
         "legendgroup": "Wirz, Mr. Albert",
         "marker": {
          "color": "#ab63fa"
         },
         "name": "Wirz, Mr. Albert",
         "notched": false,
         "offsetgroup": "Wirz, Mr. Albert",
         "orientation": "h",
         "showlegend": true,
         "type": "box",
         "x": [
          27
         ],
         "x0": " ",
         "xaxis": "x",
         "y0": " ",
         "yaxis": "y"
        },
        {
         "alignmentgroup": "True",
         "hovertemplate": "color=Hirvonen, Mrs. Alexander (Helga E Lindqvist)<br>x=%{x}<extra></extra>",
         "legendgroup": "Hirvonen, Mrs. Alexander (Helga E Lindqvist)",
         "marker": {
          "color": "#FFA15A"
         },
         "name": "Hirvonen, Mrs. Alexander (Helga E Lindqvist)",
         "notched": false,
         "offsetgroup": "Hirvonen, Mrs. Alexander (Helga E Lindqvist)",
         "orientation": "h",
         "showlegend": true,
         "type": "box",
         "x": [
          22
         ],
         "x0": " ",
         "xaxis": "x",
         "y0": " ",
         "yaxis": "y"
        },
        {
         "alignmentgroup": "True",
         "hovertemplate": "color=Svensson, Mr. Johan Cervin<br>x=%{x}<extra></extra>",
         "legendgroup": "Svensson, Mr. Johan Cervin",
         "marker": {
          "color": "#19d3f3"
         },
         "name": "Svensson, Mr. Johan Cervin",
         "notched": false,
         "offsetgroup": "Svensson, Mr. Johan Cervin",
         "orientation": "h",
         "showlegend": true,
         "type": "box",
         "x": [
          14
         ],
         "x0": " ",
         "xaxis": "x",
         "y0": " ",
         "yaxis": "y"
        },
        {
         "alignmentgroup": "True",
         "hovertemplate": "color=Connolly, Miss. Kate<br>x=%{x}<extra></extra>",
         "legendgroup": "Connolly, Miss. Kate",
         "marker": {
          "color": "#FF6692"
         },
         "name": "Connolly, Miss. Kate",
         "notched": false,
         "offsetgroup": "Connolly, Miss. Kate",
         "orientation": "h",
         "showlegend": true,
         "type": "box",
         "x": [
          30
         ],
         "x0": " ",
         "xaxis": "x",
         "y0": " ",
         "yaxis": "y"
        },
        {
         "alignmentgroup": "True",
         "hovertemplate": "color=Caldwell, Mr. Albert Francis<br>x=%{x}<extra></extra>",
         "legendgroup": "Caldwell, Mr. Albert Francis",
         "marker": {
          "color": "#B6E880"
         },
         "name": "Caldwell, Mr. Albert Francis",
         "notched": false,
         "offsetgroup": "Caldwell, Mr. Albert Francis",
         "orientation": "h",
         "showlegend": true,
         "type": "box",
         "x": [
          26
         ],
         "x0": " ",
         "xaxis": "x",
         "y0": " ",
         "yaxis": "y"
        },
        {
         "alignmentgroup": "True",
         "hovertemplate": "color=Abrahim, Mrs. Joseph (Sophie Halaut Easu)<br>x=%{x}<extra></extra>",
         "legendgroup": "Abrahim, Mrs. Joseph (Sophie Halaut Easu)",
         "marker": {
          "color": "#FF97FF"
         },
         "name": "Abrahim, Mrs. Joseph (Sophie Halaut Easu)",
         "notched": false,
         "offsetgroup": "Abrahim, Mrs. Joseph (Sophie Halaut Easu)",
         "orientation": "h",
         "showlegend": true,
         "type": "box",
         "x": [
          18
         ],
         "x0": " ",
         "xaxis": "x",
         "y0": " ",
         "yaxis": "y"
        },
        {
         "alignmentgroup": "True",
         "hovertemplate": "color=Davies, Mr. John Samuel<br>x=%{x}<extra></extra>",
         "legendgroup": "Davies, Mr. John Samuel",
         "marker": {
          "color": "#FECB52"
         },
         "name": "Davies, Mr. John Samuel",
         "notched": false,
         "offsetgroup": "Davies, Mr. John Samuel",
         "orientation": "h",
         "showlegend": true,
         "type": "box",
         "x": [
          21
         ],
         "x0": " ",
         "xaxis": "x",
         "y0": " ",
         "yaxis": "y"
        },
        {
         "alignmentgroup": "True",
         "hovertemplate": "color=Ilieff, Mr. Ylio<br>x=%{x}<extra></extra>",
         "legendgroup": "Ilieff, Mr. Ylio",
         "marker": {
          "color": "#636efa"
         },
         "name": "Ilieff, Mr. Ylio",
         "notched": false,
         "offsetgroup": "Ilieff, Mr. Ylio",
         "orientation": "h",
         "showlegend": true,
         "type": "box",
         "x": [
          30.272590361445783
         ],
         "x0": " ",
         "xaxis": "x",
         "y0": " ",
         "yaxis": "y"
        },
        {
         "alignmentgroup": "True",
         "hovertemplate": "color=Jones, Mr. Charles Cresson<br>x=%{x}<extra></extra>",
         "legendgroup": "Jones, Mr. Charles Cresson",
         "marker": {
          "color": "#EF553B"
         },
         "name": "Jones, Mr. Charles Cresson",
         "notched": false,
         "offsetgroup": "Jones, Mr. Charles Cresson",
         "orientation": "h",
         "showlegend": true,
         "type": "box",
         "x": [
          46
         ],
         "x0": " ",
         "xaxis": "x",
         "y0": " ",
         "yaxis": "y"
        },
        {
         "alignmentgroup": "True",
         "hovertemplate": "color=Snyder, Mrs. John Pillsbury (Nelle Stevenson)<br>x=%{x}<extra></extra>",
         "legendgroup": "Snyder, Mrs. John Pillsbury (Nelle Stevenson)",
         "marker": {
          "color": "#00cc96"
         },
         "name": "Snyder, Mrs. John Pillsbury (Nelle Stevenson)",
         "notched": false,
         "offsetgroup": "Snyder, Mrs. John Pillsbury (Nelle Stevenson)",
         "orientation": "h",
         "showlegend": true,
         "type": "box",
         "x": [
          23
         ],
         "x0": " ",
         "xaxis": "x",
         "y0": " ",
         "yaxis": "y"
        },
        {
         "alignmentgroup": "True",
         "hovertemplate": "color=Howard, Mr. Benjamin<br>x=%{x}<extra></extra>",
         "legendgroup": "Howard, Mr. Benjamin",
         "marker": {
          "color": "#ab63fa"
         },
         "name": "Howard, Mr. Benjamin",
         "notched": false,
         "offsetgroup": "Howard, Mr. Benjamin",
         "orientation": "h",
         "showlegend": true,
         "type": "box",
         "x": [
          63
         ],
         "x0": " ",
         "xaxis": "x",
         "y0": " ",
         "yaxis": "y"
        },
        {
         "alignmentgroup": "True",
         "hovertemplate": "color=Chaffee, Mrs. Herbert Fuller (Carrie Constance Toogood)<br>x=%{x}<extra></extra>",
         "legendgroup": "Chaffee, Mrs. Herbert Fuller (Carrie Constance Toogood)",
         "marker": {
          "color": "#FFA15A"
         },
         "name": "Chaffee, Mrs. Herbert Fuller (Carrie Constance Toogood)",
         "notched": false,
         "offsetgroup": "Chaffee, Mrs. Herbert Fuller (Carrie Constance Toogood)",
         "orientation": "h",
         "showlegend": true,
         "type": "box",
         "x": [
          47
         ],
         "x0": " ",
         "xaxis": "x",
         "y0": " ",
         "yaxis": "y"
        },
        {
         "alignmentgroup": "True",
         "hovertemplate": "color=del Carlo, Mrs. Sebastiano (Argenia Genovesi)<br>x=%{x}<extra></extra>",
         "legendgroup": "del Carlo, Mrs. Sebastiano (Argenia Genovesi)",
         "marker": {
          "color": "#19d3f3"
         },
         "name": "del Carlo, Mrs. Sebastiano (Argenia Genovesi)",
         "notched": false,
         "offsetgroup": "del Carlo, Mrs. Sebastiano (Argenia Genovesi)",
         "orientation": "h",
         "showlegend": true,
         "type": "box",
         "x": [
          24
         ],
         "x0": " ",
         "xaxis": "x",
         "y0": " ",
         "yaxis": "y"
        },
        {
         "alignmentgroup": "True",
         "hovertemplate": "color=Keane, Mr. Daniel<br>x=%{x}<extra></extra>",
         "legendgroup": "Keane, Mr. Daniel",
         "marker": {
          "color": "#FF6692"
         },
         "name": "Keane, Mr. Daniel",
         "notched": false,
         "offsetgroup": "Keane, Mr. Daniel",
         "orientation": "h",
         "showlegend": true,
         "type": "box",
         "x": [
          35
         ],
         "x0": " ",
         "xaxis": "x",
         "y0": " ",
         "yaxis": "y"
        },
        {
         "alignmentgroup": "True",
         "hovertemplate": "color=Assaf, Mr. Gerios<br>x=%{x}<extra></extra>",
         "legendgroup": "Assaf, Mr. Gerios",
         "marker": {
          "color": "#B6E880"
         },
         "name": "Assaf, Mr. Gerios",
         "notched": false,
         "offsetgroup": "Assaf, Mr. Gerios",
         "orientation": "h",
         "showlegend": true,
         "type": "box",
         "x": [
          21
         ],
         "x0": " ",
         "xaxis": "x",
         "y0": " ",
         "yaxis": "y"
        },
        {
         "alignmentgroup": "True",
         "hovertemplate": "color=Ilmakangas, Miss. Ida Livija<br>x=%{x}<extra></extra>",
         "legendgroup": "Ilmakangas, Miss. Ida Livija",
         "marker": {
          "color": "#FF97FF"
         },
         "name": "Ilmakangas, Miss. Ida Livija",
         "notched": false,
         "offsetgroup": "Ilmakangas, Miss. Ida Livija",
         "orientation": "h",
         "showlegend": true,
         "type": "box",
         "x": [
          27
         ],
         "x0": " ",
         "xaxis": "x",
         "y0": " ",
         "yaxis": "y"
        },
        {
         "alignmentgroup": "True",
         "hovertemplate": "color=Assaf Khalil, Mrs. Mariana (Miriam\")\"<br>x=%{x}<extra></extra>",
         "legendgroup": "Assaf Khalil, Mrs. Mariana (Miriam\")\"",
         "marker": {
          "color": "#FECB52"
         },
         "name": "Assaf Khalil, Mrs. Mariana (Miriam\")\"",
         "notched": false,
         "offsetgroup": "Assaf Khalil, Mrs. Mariana (Miriam\")\"",
         "orientation": "h",
         "showlegend": true,
         "type": "box",
         "x": [
          45
         ],
         "x0": " ",
         "xaxis": "x",
         "y0": " ",
         "yaxis": "y"
        },
        {
         "alignmentgroup": "True",
         "hovertemplate": "color=Rothschild, Mr. Martin<br>x=%{x}<extra></extra>",
         "legendgroup": "Rothschild, Mr. Martin",
         "marker": {
          "color": "#636efa"
         },
         "name": "Rothschild, Mr. Martin",
         "notched": false,
         "offsetgroup": "Rothschild, Mr. Martin",
         "orientation": "h",
         "showlegend": true,
         "type": "box",
         "x": [
          55
         ],
         "x0": " ",
         "xaxis": "x",
         "y0": " ",
         "yaxis": "y"
        },
        {
         "alignmentgroup": "True",
         "hovertemplate": "color=Olsen, Master. Artur Karl<br>x=%{x}<extra></extra>",
         "legendgroup": "Olsen, Master. Artur Karl",
         "marker": {
          "color": "#EF553B"
         },
         "name": "Olsen, Master. Artur Karl",
         "notched": false,
         "offsetgroup": "Olsen, Master. Artur Karl",
         "orientation": "h",
         "showlegend": true,
         "type": "box",
         "x": [
          9
         ],
         "x0": " ",
         "xaxis": "x",
         "y0": " ",
         "yaxis": "y"
        },
        {
         "alignmentgroup": "True",
         "hovertemplate": "color=Flegenheim, Mrs. Alfred (Antoinette)<br>x=%{x}<extra></extra>",
         "legendgroup": "Flegenheim, Mrs. Alfred (Antoinette)",
         "marker": {
          "color": "#00cc96"
         },
         "name": "Flegenheim, Mrs. Alfred (Antoinette)",
         "notched": false,
         "offsetgroup": "Flegenheim, Mrs. Alfred (Antoinette)",
         "orientation": "h",
         "showlegend": true,
         "type": "box",
         "x": [
          30.272590361445783
         ],
         "x0": " ",
         "xaxis": "x",
         "y0": " ",
         "yaxis": "y"
        },
        {
         "alignmentgroup": "True",
         "hovertemplate": "color=Williams, Mr. Richard Norris II<br>x=%{x}<extra></extra>",
         "legendgroup": "Williams, Mr. Richard Norris II",
         "marker": {
          "color": "#ab63fa"
         },
         "name": "Williams, Mr. Richard Norris II",
         "notched": false,
         "offsetgroup": "Williams, Mr. Richard Norris II",
         "orientation": "h",
         "showlegend": true,
         "type": "box",
         "x": [
          21
         ],
         "x0": " ",
         "xaxis": "x",
         "y0": " ",
         "yaxis": "y"
        },
        {
         "alignmentgroup": "True",
         "hovertemplate": "color=Ryerson, Mrs. Arthur Larned (Emily Maria Borie)<br>x=%{x}<extra></extra>",
         "legendgroup": "Ryerson, Mrs. Arthur Larned (Emily Maria Borie)",
         "marker": {
          "color": "#FFA15A"
         },
         "name": "Ryerson, Mrs. Arthur Larned (Emily Maria Borie)",
         "notched": false,
         "offsetgroup": "Ryerson, Mrs. Arthur Larned (Emily Maria Borie)",
         "orientation": "h",
         "showlegend": true,
         "type": "box",
         "x": [
          48
         ],
         "x0": " ",
         "xaxis": "x",
         "y0": " ",
         "yaxis": "y"
        },
        {
         "alignmentgroup": "True",
         "hovertemplate": "color=Robins, Mr. Alexander A<br>x=%{x}<extra></extra>",
         "legendgroup": "Robins, Mr. Alexander A",
         "marker": {
          "color": "#19d3f3"
         },
         "name": "Robins, Mr. Alexander A",
         "notched": false,
         "offsetgroup": "Robins, Mr. Alexander A",
         "orientation": "h",
         "showlegend": true,
         "type": "box",
         "x": [
          50
         ],
         "x0": " ",
         "xaxis": "x",
         "y0": " ",
         "yaxis": "y"
        },
        {
         "alignmentgroup": "True",
         "hovertemplate": "color=Ostby, Miss. Helene Ragnhild<br>x=%{x}<extra></extra>",
         "legendgroup": "Ostby, Miss. Helene Ragnhild",
         "marker": {
          "color": "#FF6692"
         },
         "name": "Ostby, Miss. Helene Ragnhild",
         "notched": false,
         "offsetgroup": "Ostby, Miss. Helene Ragnhild",
         "orientation": "h",
         "showlegend": true,
         "type": "box",
         "x": [
          22
         ],
         "x0": " ",
         "xaxis": "x",
         "y0": " ",
         "yaxis": "y"
        },
        {
         "alignmentgroup": "True",
         "hovertemplate": "color=Daher, Mr. Shedid<br>x=%{x}<extra></extra>",
         "legendgroup": "Daher, Mr. Shedid",
         "marker": {
          "color": "#B6E880"
         },
         "name": "Daher, Mr. Shedid",
         "notched": false,
         "offsetgroup": "Daher, Mr. Shedid",
         "orientation": "h",
         "showlegend": true,
         "type": "box",
         "x": [
          22.5
         ],
         "x0": " ",
         "xaxis": "x",
         "y0": " ",
         "yaxis": "y"
        },
        {
         "alignmentgroup": "True",
         "hovertemplate": "color=Brady, Mr. John Bertram<br>x=%{x}<extra></extra>",
         "legendgroup": "Brady, Mr. John Bertram",
         "marker": {
          "color": "#FF97FF"
         },
         "name": "Brady, Mr. John Bertram",
         "notched": false,
         "offsetgroup": "Brady, Mr. John Bertram",
         "orientation": "h",
         "showlegend": true,
         "type": "box",
         "x": [
          41
         ],
         "x0": " ",
         "xaxis": "x",
         "y0": " ",
         "yaxis": "y"
        },
        {
         "alignmentgroup": "True",
         "hovertemplate": "color=Samaan, Mr. Elias<br>x=%{x}<extra></extra>",
         "legendgroup": "Samaan, Mr. Elias",
         "marker": {
          "color": "#FECB52"
         },
         "name": "Samaan, Mr. Elias",
         "notched": false,
         "offsetgroup": "Samaan, Mr. Elias",
         "orientation": "h",
         "showlegend": true,
         "type": "box",
         "x": [
          30.272590361445783
         ],
         "x0": " ",
         "xaxis": "x",
         "y0": " ",
         "yaxis": "y"
        },
        {
         "alignmentgroup": "True",
         "hovertemplate": "color=Louch, Mr. Charles Alexander<br>x=%{x}<extra></extra>",
         "legendgroup": "Louch, Mr. Charles Alexander",
         "marker": {
          "color": "#636efa"
         },
         "name": "Louch, Mr. Charles Alexander",
         "notched": false,
         "offsetgroup": "Louch, Mr. Charles Alexander",
         "orientation": "h",
         "showlegend": true,
         "type": "box",
         "x": [
          50
         ],
         "x0": " ",
         "xaxis": "x",
         "y0": " ",
         "yaxis": "y"
        },
        {
         "alignmentgroup": "True",
         "hovertemplate": "color=Jefferys, Mr. Clifford Thomas<br>x=%{x}<extra></extra>",
         "legendgroup": "Jefferys, Mr. Clifford Thomas",
         "marker": {
          "color": "#EF553B"
         },
         "name": "Jefferys, Mr. Clifford Thomas",
         "notched": false,
         "offsetgroup": "Jefferys, Mr. Clifford Thomas",
         "orientation": "h",
         "showlegend": true,
         "type": "box",
         "x": [
          24
         ],
         "x0": " ",
         "xaxis": "x",
         "y0": " ",
         "yaxis": "y"
        },
        {
         "alignmentgroup": "True",
         "hovertemplate": "color=Dean, Mrs. Bertram (Eva Georgetta Light)<br>x=%{x}<extra></extra>",
         "legendgroup": "Dean, Mrs. Bertram (Eva Georgetta Light)",
         "marker": {
          "color": "#00cc96"
         },
         "name": "Dean, Mrs. Bertram (Eva Georgetta Light)",
         "notched": false,
         "offsetgroup": "Dean, Mrs. Bertram (Eva Georgetta Light)",
         "orientation": "h",
         "showlegend": true,
         "type": "box",
         "x": [
          33
         ],
         "x0": " ",
         "xaxis": "x",
         "y0": " ",
         "yaxis": "y"
        },
        {
         "alignmentgroup": "True",
         "hovertemplate": "color=Johnston, Mrs. Andrew G (Elizabeth Lily\" Watson)\"<br>x=%{x}<extra></extra>",
         "legendgroup": "Johnston, Mrs. Andrew G (Elizabeth Lily\" Watson)\"",
         "marker": {
          "color": "#ab63fa"
         },
         "name": "Johnston, Mrs. Andrew G (Elizabeth Lily\" Watson)\"",
         "notched": false,
         "offsetgroup": "Johnston, Mrs. Andrew G (Elizabeth Lily\" Watson)\"",
         "orientation": "h",
         "showlegend": true,
         "type": "box",
         "x": [
          30.272590361445783
         ],
         "x0": " ",
         "xaxis": "x",
         "y0": " ",
         "yaxis": "y"
        },
        {
         "alignmentgroup": "True",
         "hovertemplate": "color=Mock, Mr. Philipp Edmund<br>x=%{x}<extra></extra>",
         "legendgroup": "Mock, Mr. Philipp Edmund",
         "marker": {
          "color": "#FFA15A"
         },
         "name": "Mock, Mr. Philipp Edmund",
         "notched": false,
         "offsetgroup": "Mock, Mr. Philipp Edmund",
         "orientation": "h",
         "showlegend": true,
         "type": "box",
         "x": [
          30
         ],
         "x0": " ",
         "xaxis": "x",
         "y0": " ",
         "yaxis": "y"
        },
        {
         "alignmentgroup": "True",
         "hovertemplate": "color=Katavelas, Mr. Vassilios (Catavelas Vassilios\")\"<br>x=%{x}<extra></extra>",
         "legendgroup": "Katavelas, Mr. Vassilios (Catavelas Vassilios\")\"",
         "marker": {
          "color": "#19d3f3"
         },
         "name": "Katavelas, Mr. Vassilios (Catavelas Vassilios\")\"",
         "notched": false,
         "offsetgroup": "Katavelas, Mr. Vassilios (Catavelas Vassilios\")\"",
         "orientation": "h",
         "showlegend": true,
         "type": "box",
         "x": [
          18.5
         ],
         "x0": " ",
         "xaxis": "x",
         "y0": " ",
         "yaxis": "y"
        },
        {
         "alignmentgroup": "True",
         "hovertemplate": "color=Roth, Miss. Sarah A<br>x=%{x}<extra></extra>",
         "legendgroup": "Roth, Miss. Sarah A",
         "marker": {
          "color": "#FF6692"
         },
         "name": "Roth, Miss. Sarah A",
         "notched": false,
         "offsetgroup": "Roth, Miss. Sarah A",
         "orientation": "h",
         "showlegend": true,
         "type": "box",
         "x": [
          30.272590361445783
         ],
         "x0": " ",
         "xaxis": "x",
         "y0": " ",
         "yaxis": "y"
        },
        {
         "alignmentgroup": "True",
         "hovertemplate": "color=Cacic, Miss. Manda<br>x=%{x}<extra></extra>",
         "legendgroup": "Cacic, Miss. Manda",
         "marker": {
          "color": "#B6E880"
         },
         "name": "Cacic, Miss. Manda",
         "notched": false,
         "offsetgroup": "Cacic, Miss. Manda",
         "orientation": "h",
         "showlegend": true,
         "type": "box",
         "x": [
          21
         ],
         "x0": " ",
         "xaxis": "x",
         "y0": " ",
         "yaxis": "y"
        },
        {
         "alignmentgroup": "True",
         "hovertemplate": "color=Sap, Mr. Julius<br>x=%{x}<extra></extra>",
         "legendgroup": "Sap, Mr. Julius",
         "marker": {
          "color": "#FF97FF"
         },
         "name": "Sap, Mr. Julius",
         "notched": false,
         "offsetgroup": "Sap, Mr. Julius",
         "orientation": "h",
         "showlegend": true,
         "type": "box",
         "x": [
          25
         ],
         "x0": " ",
         "xaxis": "x",
         "y0": " ",
         "yaxis": "y"
        },
        {
         "alignmentgroup": "True",
         "hovertemplate": "color=Hee, Mr. Ling<br>x=%{x}<extra></extra>",
         "legendgroup": "Hee, Mr. Ling",
         "marker": {
          "color": "#FECB52"
         },
         "name": "Hee, Mr. Ling",
         "notched": false,
         "offsetgroup": "Hee, Mr. Ling",
         "orientation": "h",
         "showlegend": true,
         "type": "box",
         "x": [
          30.272590361445783
         ],
         "x0": " ",
         "xaxis": "x",
         "y0": " ",
         "yaxis": "y"
        },
        {
         "alignmentgroup": "True",
         "hovertemplate": "color=Karun, Mr. Franz<br>x=%{x}<extra></extra>",
         "legendgroup": "Karun, Mr. Franz",
         "marker": {
          "color": "#636efa"
         },
         "name": "Karun, Mr. Franz",
         "notched": false,
         "offsetgroup": "Karun, Mr. Franz",
         "orientation": "h",
         "showlegend": true,
         "type": "box",
         "x": [
          39
         ],
         "x0": " ",
         "xaxis": "x",
         "y0": " ",
         "yaxis": "y"
        },
        {
         "alignmentgroup": "True",
         "hovertemplate": "color=Franklin, Mr. Thomas Parham<br>x=%{x}<extra></extra>",
         "legendgroup": "Franklin, Mr. Thomas Parham",
         "marker": {
          "color": "#EF553B"
         },
         "name": "Franklin, Mr. Thomas Parham",
         "notched": false,
         "offsetgroup": "Franklin, Mr. Thomas Parham",
         "orientation": "h",
         "showlegend": true,
         "type": "box",
         "x": [
          30.272590361445783
         ],
         "x0": " ",
         "xaxis": "x",
         "y0": " ",
         "yaxis": "y"
        },
        {
         "alignmentgroup": "True",
         "hovertemplate": "color=Goldsmith, Mr. Nathan<br>x=%{x}<extra></extra>",
         "legendgroup": "Goldsmith, Mr. Nathan",
         "marker": {
          "color": "#00cc96"
         },
         "name": "Goldsmith, Mr. Nathan",
         "notched": false,
         "offsetgroup": "Goldsmith, Mr. Nathan",
         "orientation": "h",
         "showlegend": true,
         "type": "box",
         "x": [
          41
         ],
         "x0": " ",
         "xaxis": "x",
         "y0": " ",
         "yaxis": "y"
        },
        {
         "alignmentgroup": "True",
         "hovertemplate": "color=Corbett, Mrs. Walter H (Irene Colvin)<br>x=%{x}<extra></extra>",
         "legendgroup": "Corbett, Mrs. Walter H (Irene Colvin)",
         "marker": {
          "color": "#ab63fa"
         },
         "name": "Corbett, Mrs. Walter H (Irene Colvin)",
         "notched": false,
         "offsetgroup": "Corbett, Mrs. Walter H (Irene Colvin)",
         "orientation": "h",
         "showlegend": true,
         "type": "box",
         "x": [
          30
         ],
         "x0": " ",
         "xaxis": "x",
         "y0": " ",
         "yaxis": "y"
        },
        {
         "alignmentgroup": "True",
         "hovertemplate": "color=Kimball, Mrs. Edwin Nelson Jr (Gertrude Parsons)<br>x=%{x}<extra></extra>",
         "legendgroup": "Kimball, Mrs. Edwin Nelson Jr (Gertrude Parsons)",
         "marker": {
          "color": "#FFA15A"
         },
         "name": "Kimball, Mrs. Edwin Nelson Jr (Gertrude Parsons)",
         "notched": false,
         "offsetgroup": "Kimball, Mrs. Edwin Nelson Jr (Gertrude Parsons)",
         "orientation": "h",
         "showlegend": true,
         "type": "box",
         "x": [
          45
         ],
         "x0": " ",
         "xaxis": "x",
         "y0": " ",
         "yaxis": "y"
        },
        {
         "alignmentgroup": "True",
         "hovertemplate": "color=Peltomaki, Mr. Nikolai Johannes<br>x=%{x}<extra></extra>",
         "legendgroup": "Peltomaki, Mr. Nikolai Johannes",
         "marker": {
          "color": "#19d3f3"
         },
         "name": "Peltomaki, Mr. Nikolai Johannes",
         "notched": false,
         "offsetgroup": "Peltomaki, Mr. Nikolai Johannes",
         "orientation": "h",
         "showlegend": true,
         "type": "box",
         "x": [
          25
         ],
         "x0": " ",
         "xaxis": "x",
         "y0": " ",
         "yaxis": "y"
        },
        {
         "alignmentgroup": "True",
         "hovertemplate": "color=Chevre, Mr. Paul Romaine<br>x=%{x}<extra></extra>",
         "legendgroup": "Chevre, Mr. Paul Romaine",
         "marker": {
          "color": "#FF6692"
         },
         "name": "Chevre, Mr. Paul Romaine",
         "notched": false,
         "offsetgroup": "Chevre, Mr. Paul Romaine",
         "orientation": "h",
         "showlegend": true,
         "type": "box",
         "x": [
          45
         ],
         "x0": " ",
         "xaxis": "x",
         "y0": " ",
         "yaxis": "y"
        },
        {
         "alignmentgroup": "True",
         "hovertemplate": "color=Shaughnessy, Mr. Patrick<br>x=%{x}<extra></extra>",
         "legendgroup": "Shaughnessy, Mr. Patrick",
         "marker": {
          "color": "#B6E880"
         },
         "name": "Shaughnessy, Mr. Patrick",
         "notched": false,
         "offsetgroup": "Shaughnessy, Mr. Patrick",
         "orientation": "h",
         "showlegend": true,
         "type": "box",
         "x": [
          30.272590361445783
         ],
         "x0": " ",
         "xaxis": "x",
         "y0": " ",
         "yaxis": "y"
        },
        {
         "alignmentgroup": "True",
         "hovertemplate": "color=Bucknell, Mrs. William Robert (Emma Eliza Ward)<br>x=%{x}<extra></extra>",
         "legendgroup": "Bucknell, Mrs. William Robert (Emma Eliza Ward)",
         "marker": {
          "color": "#FF97FF"
         },
         "name": "Bucknell, Mrs. William Robert (Emma Eliza Ward)",
         "notched": false,
         "offsetgroup": "Bucknell, Mrs. William Robert (Emma Eliza Ward)",
         "orientation": "h",
         "showlegend": true,
         "type": "box",
         "x": [
          60
         ],
         "x0": " ",
         "xaxis": "x",
         "y0": " ",
         "yaxis": "y"
        },
        {
         "alignmentgroup": "True",
         "hovertemplate": "color=Coutts, Mrs. William (Winnie Minnie\" Treanor)\"<br>x=%{x}<extra></extra>",
         "legendgroup": "Coutts, Mrs. William (Winnie Minnie\" Treanor)\"",
         "marker": {
          "color": "#FECB52"
         },
         "name": "Coutts, Mrs. William (Winnie Minnie\" Treanor)\"",
         "notched": false,
         "offsetgroup": "Coutts, Mrs. William (Winnie Minnie\" Treanor)\"",
         "orientation": "h",
         "showlegend": true,
         "type": "box",
         "x": [
          36
         ],
         "x0": " ",
         "xaxis": "x",
         "y0": " ",
         "yaxis": "y"
        },
        {
         "alignmentgroup": "True",
         "hovertemplate": "color=Smith, Mr. Lucien Philip<br>x=%{x}<extra></extra>",
         "legendgroup": "Smith, Mr. Lucien Philip",
         "marker": {
          "color": "#636efa"
         },
         "name": "Smith, Mr. Lucien Philip",
         "notched": false,
         "offsetgroup": "Smith, Mr. Lucien Philip",
         "orientation": "h",
         "showlegend": true,
         "type": "box",
         "x": [
          24
         ],
         "x0": " ",
         "xaxis": "x",
         "y0": " ",
         "yaxis": "y"
        },
        {
         "alignmentgroup": "True",
         "hovertemplate": "color=Pulbaum, Mr. Franz<br>x=%{x}<extra></extra>",
         "legendgroup": "Pulbaum, Mr. Franz",
         "marker": {
          "color": "#EF553B"
         },
         "name": "Pulbaum, Mr. Franz",
         "notched": false,
         "offsetgroup": "Pulbaum, Mr. Franz",
         "orientation": "h",
         "showlegend": true,
         "type": "box",
         "x": [
          27
         ],
         "x0": " ",
         "xaxis": "x",
         "y0": " ",
         "yaxis": "y"
        },
        {
         "alignmentgroup": "True",
         "hovertemplate": "color=Hocking, Miss. Ellen Nellie\"\"<br>x=%{x}<extra></extra>",
         "legendgroup": "Hocking, Miss. Ellen Nellie\"\"",
         "marker": {
          "color": "#00cc96"
         },
         "name": "Hocking, Miss. Ellen Nellie\"\"",
         "notched": false,
         "offsetgroup": "Hocking, Miss. Ellen Nellie\"\"",
         "orientation": "h",
         "showlegend": true,
         "type": "box",
         "x": [
          20
         ],
         "x0": " ",
         "xaxis": "x",
         "y0": " ",
         "yaxis": "y"
        },
        {
         "alignmentgroup": "True",
         "hovertemplate": "color=Fortune, Miss. Ethel Flora<br>x=%{x}<extra></extra>",
         "legendgroup": "Fortune, Miss. Ethel Flora",
         "marker": {
          "color": "#ab63fa"
         },
         "name": "Fortune, Miss. Ethel Flora",
         "notched": false,
         "offsetgroup": "Fortune, Miss. Ethel Flora",
         "orientation": "h",
         "showlegend": true,
         "type": "box",
         "x": [
          28
         ],
         "x0": " ",
         "xaxis": "x",
         "y0": " ",
         "yaxis": "y"
        },
        {
         "alignmentgroup": "True",
         "hovertemplate": "color=Mangiavacchi, Mr. Serafino Emilio<br>x=%{x}<extra></extra>",
         "legendgroup": "Mangiavacchi, Mr. Serafino Emilio",
         "marker": {
          "color": "#FFA15A"
         },
         "name": "Mangiavacchi, Mr. Serafino Emilio",
         "notched": false,
         "offsetgroup": "Mangiavacchi, Mr. Serafino Emilio",
         "orientation": "h",
         "showlegend": true,
         "type": "box",
         "x": [
          30.272590361445783
         ],
         "x0": " ",
         "xaxis": "x",
         "y0": " ",
         "yaxis": "y"
        },
        {
         "alignmentgroup": "True",
         "hovertemplate": "color=Rice, Master. Albert<br>x=%{x}<extra></extra>",
         "legendgroup": "Rice, Master. Albert",
         "marker": {
          "color": "#19d3f3"
         },
         "name": "Rice, Master. Albert",
         "notched": false,
         "offsetgroup": "Rice, Master. Albert",
         "orientation": "h",
         "showlegend": true,
         "type": "box",
         "x": [
          10
         ],
         "x0": " ",
         "xaxis": "x",
         "y0": " ",
         "yaxis": "y"
        },
        {
         "alignmentgroup": "True",
         "hovertemplate": "color=Cor, Mr. Bartol<br>x=%{x}<extra></extra>",
         "legendgroup": "Cor, Mr. Bartol",
         "marker": {
          "color": "#FF6692"
         },
         "name": "Cor, Mr. Bartol",
         "notched": false,
         "offsetgroup": "Cor, Mr. Bartol",
         "orientation": "h",
         "showlegend": true,
         "type": "box",
         "x": [
          35
         ],
         "x0": " ",
         "xaxis": "x",
         "y0": " ",
         "yaxis": "y"
        },
        {
         "alignmentgroup": "True",
         "hovertemplate": "color=Abelseth, Mr. Olaus Jorgensen<br>x=%{x}<extra></extra>",
         "legendgroup": "Abelseth, Mr. Olaus Jorgensen",
         "marker": {
          "color": "#B6E880"
         },
         "name": "Abelseth, Mr. Olaus Jorgensen",
         "notched": false,
         "offsetgroup": "Abelseth, Mr. Olaus Jorgensen",
         "orientation": "h",
         "showlegend": true,
         "type": "box",
         "x": [
          25
         ],
         "x0": " ",
         "xaxis": "x",
         "y0": " ",
         "yaxis": "y"
        },
        {
         "alignmentgroup": "True",
         "hovertemplate": "color=Davison, Mr. Thomas Henry<br>x=%{x}<extra></extra>",
         "legendgroup": "Davison, Mr. Thomas Henry",
         "marker": {
          "color": "#FF97FF"
         },
         "name": "Davison, Mr. Thomas Henry",
         "notched": false,
         "offsetgroup": "Davison, Mr. Thomas Henry",
         "orientation": "h",
         "showlegend": true,
         "type": "box",
         "x": [
          30.272590361445783
         ],
         "x0": " ",
         "xaxis": "x",
         "y0": " ",
         "yaxis": "y"
        },
        {
         "alignmentgroup": "True",
         "hovertemplate": "color=Chaudanson, Miss. Victorine<br>x=%{x}<extra></extra>",
         "legendgroup": "Chaudanson, Miss. Victorine",
         "marker": {
          "color": "#FECB52"
         },
         "name": "Chaudanson, Miss. Victorine",
         "notched": false,
         "offsetgroup": "Chaudanson, Miss. Victorine",
         "orientation": "h",
         "showlegend": true,
         "type": "box",
         "x": [
          36
         ],
         "x0": " ",
         "xaxis": "x",
         "y0": " ",
         "yaxis": "y"
        },
        {
         "alignmentgroup": "True",
         "hovertemplate": "color=Dika, Mr. Mirko<br>x=%{x}<extra></extra>",
         "legendgroup": "Dika, Mr. Mirko",
         "marker": {
          "color": "#636efa"
         },
         "name": "Dika, Mr. Mirko",
         "notched": false,
         "offsetgroup": "Dika, Mr. Mirko",
         "orientation": "h",
         "showlegend": true,
         "type": "box",
         "x": [
          17
         ],
         "x0": " ",
         "xaxis": "x",
         "y0": " ",
         "yaxis": "y"
        },
        {
         "alignmentgroup": "True",
         "hovertemplate": "color=McCrae, Mr. Arthur Gordon<br>x=%{x}<extra></extra>",
         "legendgroup": "McCrae, Mr. Arthur Gordon",
         "marker": {
          "color": "#EF553B"
         },
         "name": "McCrae, Mr. Arthur Gordon",
         "notched": false,
         "offsetgroup": "McCrae, Mr. Arthur Gordon",
         "orientation": "h",
         "showlegend": true,
         "type": "box",
         "x": [
          32
         ],
         "x0": " ",
         "xaxis": "x",
         "y0": " ",
         "yaxis": "y"
        },
        {
         "alignmentgroup": "True",
         "hovertemplate": "color=Bjorklund, Mr. Ernst Herbert<br>x=%{x}<extra></extra>",
         "legendgroup": "Bjorklund, Mr. Ernst Herbert",
         "marker": {
          "color": "#00cc96"
         },
         "name": "Bjorklund, Mr. Ernst Herbert",
         "notched": false,
         "offsetgroup": "Bjorklund, Mr. Ernst Herbert",
         "orientation": "h",
         "showlegend": true,
         "type": "box",
         "x": [
          18
         ],
         "x0": " ",
         "xaxis": "x",
         "y0": " ",
         "yaxis": "y"
        },
        {
         "alignmentgroup": "True",
         "hovertemplate": "color=Bradley, Miss. Bridget Delia<br>x=%{x}<extra></extra>",
         "legendgroup": "Bradley, Miss. Bridget Delia",
         "marker": {
          "color": "#ab63fa"
         },
         "name": "Bradley, Miss. Bridget Delia",
         "notched": false,
         "offsetgroup": "Bradley, Miss. Bridget Delia",
         "orientation": "h",
         "showlegend": true,
         "type": "box",
         "x": [
          22
         ],
         "x0": " ",
         "xaxis": "x",
         "y0": " ",
         "yaxis": "y"
        },
        {
         "alignmentgroup": "True",
         "hovertemplate": "color=Ryerson, Master. John Borie<br>x=%{x}<extra></extra>",
         "legendgroup": "Ryerson, Master. John Borie",
         "marker": {
          "color": "#FFA15A"
         },
         "name": "Ryerson, Master. John Borie",
         "notched": false,
         "offsetgroup": "Ryerson, Master. John Borie",
         "orientation": "h",
         "showlegend": true,
         "type": "box",
         "x": [
          13
         ],
         "x0": " ",
         "xaxis": "x",
         "y0": " ",
         "yaxis": "y"
        },
        {
         "alignmentgroup": "True",
         "hovertemplate": "color=Corey, Mrs. Percy C (Mary Phyllis Elizabeth Miller)<br>x=%{x}<extra></extra>",
         "legendgroup": "Corey, Mrs. Percy C (Mary Phyllis Elizabeth Miller)",
         "marker": {
          "color": "#19d3f3"
         },
         "name": "Corey, Mrs. Percy C (Mary Phyllis Elizabeth Miller)",
         "notched": false,
         "offsetgroup": "Corey, Mrs. Percy C (Mary Phyllis Elizabeth Miller)",
         "orientation": "h",
         "showlegend": true,
         "type": "box",
         "x": [
          30.272590361445783
         ],
         "x0": " ",
         "xaxis": "x",
         "y0": " ",
         "yaxis": "y"
        },
        {
         "alignmentgroup": "True",
         "hovertemplate": "color=Burns, Miss. Mary Delia<br>x=%{x}<extra></extra>",
         "legendgroup": "Burns, Miss. Mary Delia",
         "marker": {
          "color": "#FF6692"
         },
         "name": "Burns, Miss. Mary Delia",
         "notched": false,
         "offsetgroup": "Burns, Miss. Mary Delia",
         "orientation": "h",
         "showlegend": true,
         "type": "box",
         "x": [
          18
         ],
         "x0": " ",
         "xaxis": "x",
         "y0": " ",
         "yaxis": "y"
        },
        {
         "alignmentgroup": "True",
         "hovertemplate": "color=Moore, Mr. Clarence Bloomfield<br>x=%{x}<extra></extra>",
         "legendgroup": "Moore, Mr. Clarence Bloomfield",
         "marker": {
          "color": "#B6E880"
         },
         "name": "Moore, Mr. Clarence Bloomfield",
         "notched": false,
         "offsetgroup": "Moore, Mr. Clarence Bloomfield",
         "orientation": "h",
         "showlegend": true,
         "type": "box",
         "x": [
          47
         ],
         "x0": " ",
         "xaxis": "x",
         "y0": " ",
         "yaxis": "y"
        },
        {
         "alignmentgroup": "True",
         "hovertemplate": "color=Tucker, Mr. Gilbert Milligan Jr<br>x=%{x}<extra></extra>",
         "legendgroup": "Tucker, Mr. Gilbert Milligan Jr",
         "marker": {
          "color": "#FF97FF"
         },
         "name": "Tucker, Mr. Gilbert Milligan Jr",
         "notched": false,
         "offsetgroup": "Tucker, Mr. Gilbert Milligan Jr",
         "orientation": "h",
         "showlegend": true,
         "type": "box",
         "x": [
          31
         ],
         "x0": " ",
         "xaxis": "x",
         "y0": " ",
         "yaxis": "y"
        },
        {
         "alignmentgroup": "True",
         "hovertemplate": "color=Fortune, Mrs. Mark (Mary McDougald)<br>x=%{x}<extra></extra>",
         "legendgroup": "Fortune, Mrs. Mark (Mary McDougald)",
         "marker": {
          "color": "#FECB52"
         },
         "name": "Fortune, Mrs. Mark (Mary McDougald)",
         "notched": false,
         "offsetgroup": "Fortune, Mrs. Mark (Mary McDougald)",
         "orientation": "h",
         "showlegend": true,
         "type": "box",
         "x": [
          60
         ],
         "x0": " ",
         "xaxis": "x",
         "y0": " ",
         "yaxis": "y"
        },
        {
         "alignmentgroup": "True",
         "hovertemplate": "color=Mulvihill, Miss. Bertha E<br>x=%{x}<extra></extra>",
         "legendgroup": "Mulvihill, Miss. Bertha E",
         "marker": {
          "color": "#636efa"
         },
         "name": "Mulvihill, Miss. Bertha E",
         "notched": false,
         "offsetgroup": "Mulvihill, Miss. Bertha E",
         "orientation": "h",
         "showlegend": true,
         "type": "box",
         "x": [
          24
         ],
         "x0": " ",
         "xaxis": "x",
         "y0": " ",
         "yaxis": "y"
        },
        {
         "alignmentgroup": "True",
         "hovertemplate": "color=Minkoff, Mr. Lazar<br>x=%{x}<extra></extra>",
         "legendgroup": "Minkoff, Mr. Lazar",
         "marker": {
          "color": "#EF553B"
         },
         "name": "Minkoff, Mr. Lazar",
         "notched": false,
         "offsetgroup": "Minkoff, Mr. Lazar",
         "orientation": "h",
         "showlegend": true,
         "type": "box",
         "x": [
          21
         ],
         "x0": " ",
         "xaxis": "x",
         "y0": " ",
         "yaxis": "y"
        },
        {
         "alignmentgroup": "True",
         "hovertemplate": "color=Nieminen, Miss. Manta Josefina<br>x=%{x}<extra></extra>",
         "legendgroup": "Nieminen, Miss. Manta Josefina",
         "marker": {
          "color": "#00cc96"
         },
         "name": "Nieminen, Miss. Manta Josefina",
         "notched": false,
         "offsetgroup": "Nieminen, Miss. Manta Josefina",
         "orientation": "h",
         "showlegend": true,
         "type": "box",
         "x": [
          29
         ],
         "x0": " ",
         "xaxis": "x",
         "y0": " ",
         "yaxis": "y"
        },
        {
         "alignmentgroup": "True",
         "hovertemplate": "color=Ovies y Rodriguez, Mr. Servando<br>x=%{x}<extra></extra>",
         "legendgroup": "Ovies y Rodriguez, Mr. Servando",
         "marker": {
          "color": "#ab63fa"
         },
         "name": "Ovies y Rodriguez, Mr. Servando",
         "notched": false,
         "offsetgroup": "Ovies y Rodriguez, Mr. Servando",
         "orientation": "h",
         "showlegend": true,
         "type": "box",
         "x": [
          28.5
         ],
         "x0": " ",
         "xaxis": "x",
         "y0": " ",
         "yaxis": "y"
        },
        {
         "alignmentgroup": "True",
         "hovertemplate": "color=Geiger, Miss. Amalie<br>x=%{x}<extra></extra>",
         "legendgroup": "Geiger, Miss. Amalie",
         "marker": {
          "color": "#FFA15A"
         },
         "name": "Geiger, Miss. Amalie",
         "notched": false,
         "offsetgroup": "Geiger, Miss. Amalie",
         "orientation": "h",
         "showlegend": true,
         "type": "box",
         "x": [
          35
         ],
         "x0": " ",
         "xaxis": "x",
         "y0": " ",
         "yaxis": "y"
        },
        {
         "alignmentgroup": "True",
         "hovertemplate": "color=Keeping, Mr. Edwin<br>x=%{x}<extra></extra>",
         "legendgroup": "Keeping, Mr. Edwin",
         "marker": {
          "color": "#19d3f3"
         },
         "name": "Keeping, Mr. Edwin",
         "notched": false,
         "offsetgroup": "Keeping, Mr. Edwin",
         "orientation": "h",
         "showlegend": true,
         "type": "box",
         "x": [
          32.5
         ],
         "x0": " ",
         "xaxis": "x",
         "y0": " ",
         "yaxis": "y"
        },
        {
         "alignmentgroup": "True",
         "hovertemplate": "color=Miles, Mr. Frank<br>x=%{x}<extra></extra>",
         "legendgroup": "Miles, Mr. Frank",
         "marker": {
          "color": "#FF6692"
         },
         "name": "Miles, Mr. Frank",
         "notched": false,
         "offsetgroup": "Miles, Mr. Frank",
         "orientation": "h",
         "showlegend": true,
         "type": "box",
         "x": [
          30.272590361445783
         ],
         "x0": " ",
         "xaxis": "x",
         "y0": " ",
         "yaxis": "y"
        },
        {
         "alignmentgroup": "True",
         "hovertemplate": "color=Cornell, Mrs. Robert Clifford (Malvina Helen Lamson)<br>x=%{x}<extra></extra>",
         "legendgroup": "Cornell, Mrs. Robert Clifford (Malvina Helen Lamson)",
         "marker": {
          "color": "#B6E880"
         },
         "name": "Cornell, Mrs. Robert Clifford (Malvina Helen Lamson)",
         "notched": false,
         "offsetgroup": "Cornell, Mrs. Robert Clifford (Malvina Helen Lamson)",
         "orientation": "h",
         "showlegend": true,
         "type": "box",
         "x": [
          55
         ],
         "x0": " ",
         "xaxis": "x",
         "y0": " ",
         "yaxis": "y"
        },
        {
         "alignmentgroup": "True",
         "hovertemplate": "color=Aldworth, Mr. Charles Augustus<br>x=%{x}<extra></extra>",
         "legendgroup": "Aldworth, Mr. Charles Augustus",
         "marker": {
          "color": "#FF97FF"
         },
         "name": "Aldworth, Mr. Charles Augustus",
         "notched": false,
         "offsetgroup": "Aldworth, Mr. Charles Augustus",
         "orientation": "h",
         "showlegend": true,
         "type": "box",
         "x": [
          30
         ],
         "x0": " ",
         "xaxis": "x",
         "y0": " ",
         "yaxis": "y"
        },
        {
         "alignmentgroup": "True",
         "hovertemplate": "color=Doyle, Miss. Elizabeth<br>x=%{x}<extra></extra>",
         "legendgroup": "Doyle, Miss. Elizabeth",
         "marker": {
          "color": "#FECB52"
         },
         "name": "Doyle, Miss. Elizabeth",
         "notched": false,
         "offsetgroup": "Doyle, Miss. Elizabeth",
         "orientation": "h",
         "showlegend": true,
         "type": "box",
         "x": [
          24
         ],
         "x0": " ",
         "xaxis": "x",
         "y0": " ",
         "yaxis": "y"
        },
        {
         "alignmentgroup": "True",
         "hovertemplate": "color=Boulos, Master. Akar<br>x=%{x}<extra></extra>",
         "legendgroup": "Boulos, Master. Akar",
         "marker": {
          "color": "#636efa"
         },
         "name": "Boulos, Master. Akar",
         "notched": false,
         "offsetgroup": "Boulos, Master. Akar",
         "orientation": "h",
         "showlegend": true,
         "type": "box",
         "x": [
          6
         ],
         "x0": " ",
         "xaxis": "x",
         "y0": " ",
         "yaxis": "y"
        },
        {
         "alignmentgroup": "True",
         "hovertemplate": "color=Straus, Mr. Isidor<br>x=%{x}<extra></extra>",
         "legendgroup": "Straus, Mr. Isidor",
         "marker": {
          "color": "#EF553B"
         },
         "name": "Straus, Mr. Isidor",
         "notched": false,
         "offsetgroup": "Straus, Mr. Isidor",
         "orientation": "h",
         "showlegend": true,
         "type": "box",
         "x": [
          67
         ],
         "x0": " ",
         "xaxis": "x",
         "y0": " ",
         "yaxis": "y"
        },
        {
         "alignmentgroup": "True",
         "hovertemplate": "color=Case, Mr. Howard Brown<br>x=%{x}<extra></extra>",
         "legendgroup": "Case, Mr. Howard Brown",
         "marker": {
          "color": "#00cc96"
         },
         "name": "Case, Mr. Howard Brown",
         "notched": false,
         "offsetgroup": "Case, Mr. Howard Brown",
         "orientation": "h",
         "showlegend": true,
         "type": "box",
         "x": [
          49
         ],
         "x0": " ",
         "xaxis": "x",
         "y0": " ",
         "yaxis": "y"
        },
        {
         "alignmentgroup": "True",
         "hovertemplate": "color=Demetri, Mr. Marinko<br>x=%{x}<extra></extra>",
         "legendgroup": "Demetri, Mr. Marinko",
         "marker": {
          "color": "#ab63fa"
         },
         "name": "Demetri, Mr. Marinko",
         "notched": false,
         "offsetgroup": "Demetri, Mr. Marinko",
         "orientation": "h",
         "showlegend": true,
         "type": "box",
         "x": [
          30.272590361445783
         ],
         "x0": " ",
         "xaxis": "x",
         "y0": " ",
         "yaxis": "y"
        },
        {
         "alignmentgroup": "True",
         "hovertemplate": "color=Lamb, Mr. John Joseph<br>x=%{x}<extra></extra>",
         "legendgroup": "Lamb, Mr. John Joseph",
         "marker": {
          "color": "#FFA15A"
         },
         "name": "Lamb, Mr. John Joseph",
         "notched": false,
         "offsetgroup": "Lamb, Mr. John Joseph",
         "orientation": "h",
         "showlegend": true,
         "type": "box",
         "x": [
          30.272590361445783
         ],
         "x0": " ",
         "xaxis": "x",
         "y0": " ",
         "yaxis": "y"
        },
        {
         "alignmentgroup": "True",
         "hovertemplate": "color=Khalil, Mr. Betros<br>x=%{x}<extra></extra>",
         "legendgroup": "Khalil, Mr. Betros",
         "marker": {
          "color": "#19d3f3"
         },
         "name": "Khalil, Mr. Betros",
         "notched": false,
         "offsetgroup": "Khalil, Mr. Betros",
         "orientation": "h",
         "showlegend": true,
         "type": "box",
         "x": [
          30.272590361445783
         ],
         "x0": " ",
         "xaxis": "x",
         "y0": " ",
         "yaxis": "y"
        },
        {
         "alignmentgroup": "True",
         "hovertemplate": "color=Barry, Miss. Julia<br>x=%{x}<extra></extra>",
         "legendgroup": "Barry, Miss. Julia",
         "marker": {
          "color": "#FF6692"
         },
         "name": "Barry, Miss. Julia",
         "notched": false,
         "offsetgroup": "Barry, Miss. Julia",
         "orientation": "h",
         "showlegend": true,
         "type": "box",
         "x": [
          27
         ],
         "x0": " ",
         "xaxis": "x",
         "y0": " ",
         "yaxis": "y"
        },
        {
         "alignmentgroup": "True",
         "hovertemplate": "color=Badman, Miss. Emily Louisa<br>x=%{x}<extra></extra>",
         "legendgroup": "Badman, Miss. Emily Louisa",
         "marker": {
          "color": "#B6E880"
         },
         "name": "Badman, Miss. Emily Louisa",
         "notched": false,
         "offsetgroup": "Badman, Miss. Emily Louisa",
         "orientation": "h",
         "showlegend": true,
         "type": "box",
         "x": [
          18
         ],
         "x0": " ",
         "xaxis": "x",
         "y0": " ",
         "yaxis": "y"
        },
        {
         "alignmentgroup": "True",
         "hovertemplate": "color=O'Donoghue, Ms. Bridget<br>x=%{x}<extra></extra>",
         "legendgroup": "O'Donoghue, Ms. Bridget",
         "marker": {
          "color": "#FF97FF"
         },
         "name": "O'Donoghue, Ms. Bridget",
         "notched": false,
         "offsetgroup": "O'Donoghue, Ms. Bridget",
         "orientation": "h",
         "showlegend": true,
         "type": "box",
         "x": [
          30.272590361445783
         ],
         "x0": " ",
         "xaxis": "x",
         "y0": " ",
         "yaxis": "y"
        },
        {
         "alignmentgroup": "True",
         "hovertemplate": "color=Wells, Master. Ralph Lester<br>x=%{x}<extra></extra>",
         "legendgroup": "Wells, Master. Ralph Lester",
         "marker": {
          "color": "#FECB52"
         },
         "name": "Wells, Master. Ralph Lester",
         "notched": false,
         "offsetgroup": "Wells, Master. Ralph Lester",
         "orientation": "h",
         "showlegend": true,
         "type": "box",
         "x": [
          2
         ],
         "x0": " ",
         "xaxis": "x",
         "y0": " ",
         "yaxis": "y"
        },
        {
         "alignmentgroup": "True",
         "hovertemplate": "color=Dyker, Mrs. Adolf Fredrik (Anna Elisabeth Judith Andersson)<br>x=%{x}<extra></extra>",
         "legendgroup": "Dyker, Mrs. Adolf Fredrik (Anna Elisabeth Judith Andersson)",
         "marker": {
          "color": "#636efa"
         },
         "name": "Dyker, Mrs. Adolf Fredrik (Anna Elisabeth Judith Andersson)",
         "notched": false,
         "offsetgroup": "Dyker, Mrs. Adolf Fredrik (Anna Elisabeth Judith Andersson)",
         "orientation": "h",
         "showlegend": true,
         "type": "box",
         "x": [
          22
         ],
         "x0": " ",
         "xaxis": "x",
         "y0": " ",
         "yaxis": "y"
        },
        {
         "alignmentgroup": "True",
         "hovertemplate": "color=Pedersen, Mr. Olaf<br>x=%{x}<extra></extra>",
         "legendgroup": "Pedersen, Mr. Olaf",
         "marker": {
          "color": "#EF553B"
         },
         "name": "Pedersen, Mr. Olaf",
         "notched": false,
         "offsetgroup": "Pedersen, Mr. Olaf",
         "orientation": "h",
         "showlegend": true,
         "type": "box",
         "x": [
          30.272590361445783
         ],
         "x0": " ",
         "xaxis": "x",
         "y0": " ",
         "yaxis": "y"
        },
        {
         "alignmentgroup": "True",
         "hovertemplate": "color=Davidson, Mrs. Thornton (Orian Hays)<br>x=%{x}<extra></extra>",
         "legendgroup": "Davidson, Mrs. Thornton (Orian Hays)",
         "marker": {
          "color": "#00cc96"
         },
         "name": "Davidson, Mrs. Thornton (Orian Hays)",
         "notched": false,
         "offsetgroup": "Davidson, Mrs. Thornton (Orian Hays)",
         "orientation": "h",
         "showlegend": true,
         "type": "box",
         "x": [
          27
         ],
         "x0": " ",
         "xaxis": "x",
         "y0": " ",
         "yaxis": "y"
        },
        {
         "alignmentgroup": "True",
         "hovertemplate": "color=Guest, Mr. Robert<br>x=%{x}<extra></extra>",
         "legendgroup": "Guest, Mr. Robert",
         "marker": {
          "color": "#ab63fa"
         },
         "name": "Guest, Mr. Robert",
         "notched": false,
         "offsetgroup": "Guest, Mr. Robert",
         "orientation": "h",
         "showlegend": true,
         "type": "box",
         "x": [
          30.272590361445783
         ],
         "x0": " ",
         "xaxis": "x",
         "y0": " ",
         "yaxis": "y"
        },
        {
         "alignmentgroup": "True",
         "hovertemplate": "color=Birnbaum, Mr. Jakob<br>x=%{x}<extra></extra>",
         "legendgroup": "Birnbaum, Mr. Jakob",
         "marker": {
          "color": "#FFA15A"
         },
         "name": "Birnbaum, Mr. Jakob",
         "notched": false,
         "offsetgroup": "Birnbaum, Mr. Jakob",
         "orientation": "h",
         "showlegend": true,
         "type": "box",
         "x": [
          25
         ],
         "x0": " ",
         "xaxis": "x",
         "y0": " ",
         "yaxis": "y"
        },
        {
         "alignmentgroup": "True",
         "hovertemplate": "color=Tenglin, Mr. Gunnar Isidor<br>x=%{x}<extra></extra>",
         "legendgroup": "Tenglin, Mr. Gunnar Isidor",
         "marker": {
          "color": "#19d3f3"
         },
         "name": "Tenglin, Mr. Gunnar Isidor",
         "notched": false,
         "offsetgroup": "Tenglin, Mr. Gunnar Isidor",
         "orientation": "h",
         "showlegend": true,
         "type": "box",
         "x": [
          25
         ],
         "x0": " ",
         "xaxis": "x",
         "y0": " ",
         "yaxis": "y"
        },
        {
         "alignmentgroup": "True",
         "hovertemplate": "color=Cavendish, Mrs. Tyrell William (Julia Florence Siegel)<br>x=%{x}<extra></extra>",
         "legendgroup": "Cavendish, Mrs. Tyrell William (Julia Florence Siegel)",
         "marker": {
          "color": "#FF6692"
         },
         "name": "Cavendish, Mrs. Tyrell William (Julia Florence Siegel)",
         "notched": false,
         "offsetgroup": "Cavendish, Mrs. Tyrell William (Julia Florence Siegel)",
         "orientation": "h",
         "showlegend": true,
         "type": "box",
         "x": [
          76
         ],
         "x0": " ",
         "xaxis": "x",
         "y0": " ",
         "yaxis": "y"
        },
        {
         "alignmentgroup": "True",
         "hovertemplate": "color=Makinen, Mr. Kalle Edvard<br>x=%{x}<extra></extra>",
         "legendgroup": "Makinen, Mr. Kalle Edvard",
         "marker": {
          "color": "#B6E880"
         },
         "name": "Makinen, Mr. Kalle Edvard",
         "notched": false,
         "offsetgroup": "Makinen, Mr. Kalle Edvard",
         "orientation": "h",
         "showlegend": true,
         "type": "box",
         "x": [
          29
         ],
         "x0": " ",
         "xaxis": "x",
         "y0": " ",
         "yaxis": "y"
        },
        {
         "alignmentgroup": "True",
         "hovertemplate": "color=Braf, Miss. Elin Ester Maria<br>x=%{x}<extra></extra>",
         "legendgroup": "Braf, Miss. Elin Ester Maria",
         "marker": {
          "color": "#FF97FF"
         },
         "name": "Braf, Miss. Elin Ester Maria",
         "notched": false,
         "offsetgroup": "Braf, Miss. Elin Ester Maria",
         "orientation": "h",
         "showlegend": true,
         "type": "box",
         "x": [
          20
         ],
         "x0": " ",
         "xaxis": "x",
         "y0": " ",
         "yaxis": "y"
        },
        {
         "alignmentgroup": "True",
         "hovertemplate": "color=Nancarrow, Mr. William Henry<br>x=%{x}<extra></extra>",
         "legendgroup": "Nancarrow, Mr. William Henry",
         "marker": {
          "color": "#FECB52"
         },
         "name": "Nancarrow, Mr. William Henry",
         "notched": false,
         "offsetgroup": "Nancarrow, Mr. William Henry",
         "orientation": "h",
         "showlegend": true,
         "type": "box",
         "x": [
          33
         ],
         "x0": " ",
         "xaxis": "x",
         "y0": " ",
         "yaxis": "y"
        },
        {
         "alignmentgroup": "True",
         "hovertemplate": "color=Stengel, Mrs. Charles Emil Henry (Annie May Morris)<br>x=%{x}<extra></extra>",
         "legendgroup": "Stengel, Mrs. Charles Emil Henry (Annie May Morris)",
         "marker": {
          "color": "#636efa"
         },
         "name": "Stengel, Mrs. Charles Emil Henry (Annie May Morris)",
         "notched": false,
         "offsetgroup": "Stengel, Mrs. Charles Emil Henry (Annie May Morris)",
         "orientation": "h",
         "showlegend": true,
         "type": "box",
         "x": [
          43
         ],
         "x0": " ",
         "xaxis": "x",
         "y0": " ",
         "yaxis": "y"
        },
        {
         "alignmentgroup": "True",
         "hovertemplate": "color=Weisz, Mr. Leopold<br>x=%{x}<extra></extra>",
         "legendgroup": "Weisz, Mr. Leopold",
         "marker": {
          "color": "#EF553B"
         },
         "name": "Weisz, Mr. Leopold",
         "notched": false,
         "offsetgroup": "Weisz, Mr. Leopold",
         "orientation": "h",
         "showlegend": true,
         "type": "box",
         "x": [
          27
         ],
         "x0": " ",
         "xaxis": "x",
         "y0": " ",
         "yaxis": "y"
        },
        {
         "alignmentgroup": "True",
         "hovertemplate": "color=Foley, Mr. William<br>x=%{x}<extra></extra>",
         "legendgroup": "Foley, Mr. William",
         "marker": {
          "color": "#00cc96"
         },
         "name": "Foley, Mr. William",
         "notched": false,
         "offsetgroup": "Foley, Mr. William",
         "orientation": "h",
         "showlegend": true,
         "type": "box",
         "x": [
          30.272590361445783
         ],
         "x0": " ",
         "xaxis": "x",
         "y0": " ",
         "yaxis": "y"
        },
        {
         "alignmentgroup": "True",
         "hovertemplate": "color=Johansson Palmquist, Mr. Oskar Leander<br>x=%{x}<extra></extra>",
         "legendgroup": "Johansson Palmquist, Mr. Oskar Leander",
         "marker": {
          "color": "#ab63fa"
         },
         "name": "Johansson Palmquist, Mr. Oskar Leander",
         "notched": false,
         "offsetgroup": "Johansson Palmquist, Mr. Oskar Leander",
         "orientation": "h",
         "showlegend": true,
         "type": "box",
         "x": [
          26
         ],
         "x0": " ",
         "xaxis": "x",
         "y0": " ",
         "yaxis": "y"
        },
        {
         "alignmentgroup": "True",
         "hovertemplate": "color=Thomas, Mrs. Alexander (Thamine Thelma\")\"<br>x=%{x}<extra></extra>",
         "legendgroup": "Thomas, Mrs. Alexander (Thamine Thelma\")\"",
         "marker": {
          "color": "#FFA15A"
         },
         "name": "Thomas, Mrs. Alexander (Thamine Thelma\")\"",
         "notched": false,
         "offsetgroup": "Thomas, Mrs. Alexander (Thamine Thelma\")\"",
         "orientation": "h",
         "showlegend": true,
         "type": "box",
         "x": [
          16
         ],
         "x0": " ",
         "xaxis": "x",
         "y0": " ",
         "yaxis": "y"
        },
        {
         "alignmentgroup": "True",
         "hovertemplate": "color=Holthen, Mr. Johan Martin<br>x=%{x}<extra></extra>",
         "legendgroup": "Holthen, Mr. Johan Martin",
         "marker": {
          "color": "#19d3f3"
         },
         "name": "Holthen, Mr. Johan Martin",
         "notched": false,
         "offsetgroup": "Holthen, Mr. Johan Martin",
         "orientation": "h",
         "showlegend": true,
         "type": "box",
         "x": [
          28
         ],
         "x0": " ",
         "xaxis": "x",
         "y0": " ",
         "yaxis": "y"
        },
        {
         "alignmentgroup": "True",
         "hovertemplate": "color=Buckley, Mr. Daniel<br>x=%{x}<extra></extra>",
         "legendgroup": "Buckley, Mr. Daniel",
         "marker": {
          "color": "#FF6692"
         },
         "name": "Buckley, Mr. Daniel",
         "notched": false,
         "offsetgroup": "Buckley, Mr. Daniel",
         "orientation": "h",
         "showlegend": true,
         "type": "box",
         "x": [
          21
         ],
         "x0": " ",
         "xaxis": "x",
         "y0": " ",
         "yaxis": "y"
        },
        {
         "alignmentgroup": "True",
         "hovertemplate": "color=Ryan, Mr. Edward<br>x=%{x}<extra></extra>",
         "legendgroup": "Ryan, Mr. Edward",
         "marker": {
          "color": "#B6E880"
         },
         "name": "Ryan, Mr. Edward",
         "notched": false,
         "offsetgroup": "Ryan, Mr. Edward",
         "orientation": "h",
         "showlegend": true,
         "type": "box",
         "x": [
          30.272590361445783
         ],
         "x0": " ",
         "xaxis": "x",
         "y0": " ",
         "yaxis": "y"
        },
        {
         "alignmentgroup": "True",
         "hovertemplate": "color=Willer, Mr. Aaron (Abi Weller\")\"<br>x=%{x}<extra></extra>",
         "legendgroup": "Willer, Mr. Aaron (Abi Weller\")\"",
         "marker": {
          "color": "#FF97FF"
         },
         "name": "Willer, Mr. Aaron (Abi Weller\")\"",
         "notched": false,
         "offsetgroup": "Willer, Mr. Aaron (Abi Weller\")\"",
         "orientation": "h",
         "showlegend": true,
         "type": "box",
         "x": [
          30.272590361445783
         ],
         "x0": " ",
         "xaxis": "x",
         "y0": " ",
         "yaxis": "y"
        },
        {
         "alignmentgroup": "True",
         "hovertemplate": "color=Swane, Mr. George<br>x=%{x}<extra></extra>",
         "legendgroup": "Swane, Mr. George",
         "marker": {
          "color": "#FECB52"
         },
         "name": "Swane, Mr. George",
         "notched": false,
         "offsetgroup": "Swane, Mr. George",
         "orientation": "h",
         "showlegend": true,
         "type": "box",
         "x": [
          18.5
         ],
         "x0": " ",
         "xaxis": "x",
         "y0": " ",
         "yaxis": "y"
        },
        {
         "alignmentgroup": "True",
         "hovertemplate": "color=Stanton, Mr. Samuel Ward<br>x=%{x}<extra></extra>",
         "legendgroup": "Stanton, Mr. Samuel Ward",
         "marker": {
          "color": "#636efa"
         },
         "name": "Stanton, Mr. Samuel Ward",
         "notched": false,
         "offsetgroup": "Stanton, Mr. Samuel Ward",
         "orientation": "h",
         "showlegend": true,
         "type": "box",
         "x": [
          41
         ],
         "x0": " ",
         "xaxis": "x",
         "y0": " ",
         "yaxis": "y"
        },
        {
         "alignmentgroup": "True",
         "hovertemplate": "color=Shine, Miss. Ellen Natalia<br>x=%{x}<extra></extra>",
         "legendgroup": "Shine, Miss. Ellen Natalia",
         "marker": {
          "color": "#EF553B"
         },
         "name": "Shine, Miss. Ellen Natalia",
         "notched": false,
         "offsetgroup": "Shine, Miss. Ellen Natalia",
         "orientation": "h",
         "showlegend": true,
         "type": "box",
         "x": [
          30.272590361445783
         ],
         "x0": " ",
         "xaxis": "x",
         "y0": " ",
         "yaxis": "y"
        },
        {
         "alignmentgroup": "True",
         "hovertemplate": "color=Evans, Miss. Edith Corse<br>x=%{x}<extra></extra>",
         "legendgroup": "Evans, Miss. Edith Corse",
         "marker": {
          "color": "#00cc96"
         },
         "name": "Evans, Miss. Edith Corse",
         "notched": false,
         "offsetgroup": "Evans, Miss. Edith Corse",
         "orientation": "h",
         "showlegend": true,
         "type": "box",
         "x": [
          36
         ],
         "x0": " ",
         "xaxis": "x",
         "y0": " ",
         "yaxis": "y"
        },
        {
         "alignmentgroup": "True",
         "hovertemplate": "color=Buckley, Miss. Katherine<br>x=%{x}<extra></extra>",
         "legendgroup": "Buckley, Miss. Katherine",
         "marker": {
          "color": "#ab63fa"
         },
         "name": "Buckley, Miss. Katherine",
         "notched": false,
         "offsetgroup": "Buckley, Miss. Katherine",
         "orientation": "h",
         "showlegend": true,
         "type": "box",
         "x": [
          18.5
         ],
         "x0": " ",
         "xaxis": "x",
         "y0": " ",
         "yaxis": "y"
        },
        {
         "alignmentgroup": "True",
         "hovertemplate": "color=Straus, Mrs. Isidor (Rosalie Ida Blun)<br>x=%{x}<extra></extra>",
         "legendgroup": "Straus, Mrs. Isidor (Rosalie Ida Blun)",
         "marker": {
          "color": "#FFA15A"
         },
         "name": "Straus, Mrs. Isidor (Rosalie Ida Blun)",
         "notched": false,
         "offsetgroup": "Straus, Mrs. Isidor (Rosalie Ida Blun)",
         "orientation": "h",
         "showlegend": true,
         "type": "box",
         "x": [
          63
         ],
         "x0": " ",
         "xaxis": "x",
         "y0": " ",
         "yaxis": "y"
        },
        {
         "alignmentgroup": "True",
         "hovertemplate": "color=Chronopoulos, Mr. Demetrios<br>x=%{x}<extra></extra>",
         "legendgroup": "Chronopoulos, Mr. Demetrios",
         "marker": {
          "color": "#19d3f3"
         },
         "name": "Chronopoulos, Mr. Demetrios",
         "notched": false,
         "offsetgroup": "Chronopoulos, Mr. Demetrios",
         "orientation": "h",
         "showlegend": true,
         "type": "box",
         "x": [
          18
         ],
         "x0": " ",
         "xaxis": "x",
         "y0": " ",
         "yaxis": "y"
        },
        {
         "alignmentgroup": "True",
         "hovertemplate": "color=Thomas, Mr. John<br>x=%{x}<extra></extra>",
         "legendgroup": "Thomas, Mr. John",
         "marker": {
          "color": "#FF6692"
         },
         "name": "Thomas, Mr. John",
         "notched": false,
         "offsetgroup": "Thomas, Mr. John",
         "orientation": "h",
         "showlegend": true,
         "type": "box",
         "x": [
          30.272590361445783
         ],
         "x0": " ",
         "xaxis": "x",
         "y0": " ",
         "yaxis": "y"
        },
        {
         "alignmentgroup": "True",
         "hovertemplate": "color=Sandstrom, Miss. Beatrice Irene<br>x=%{x}<extra></extra>",
         "legendgroup": "Sandstrom, Miss. Beatrice Irene",
         "marker": {
          "color": "#B6E880"
         },
         "name": "Sandstrom, Miss. Beatrice Irene",
         "notched": false,
         "offsetgroup": "Sandstrom, Miss. Beatrice Irene",
         "orientation": "h",
         "showlegend": true,
         "type": "box",
         "x": [
          1
         ],
         "x0": " ",
         "xaxis": "x",
         "y0": " ",
         "yaxis": "y"
        },
        {
         "alignmentgroup": "True",
         "hovertemplate": "color=Beattie, Mr. Thomson<br>x=%{x}<extra></extra>",
         "legendgroup": "Beattie, Mr. Thomson",
         "marker": {
          "color": "#FF97FF"
         },
         "name": "Beattie, Mr. Thomson",
         "notched": false,
         "offsetgroup": "Beattie, Mr. Thomson",
         "orientation": "h",
         "showlegend": true,
         "type": "box",
         "x": [
          36
         ],
         "x0": " ",
         "xaxis": "x",
         "y0": " ",
         "yaxis": "y"
        },
        {
         "alignmentgroup": "True",
         "hovertemplate": "color=Chapman, Mrs. John Henry (Sara Elizabeth Lawry)<br>x=%{x}<extra></extra>",
         "legendgroup": "Chapman, Mrs. John Henry (Sara Elizabeth Lawry)",
         "marker": {
          "color": "#FECB52"
         },
         "name": "Chapman, Mrs. John Henry (Sara Elizabeth Lawry)",
         "notched": false,
         "offsetgroup": "Chapman, Mrs. John Henry (Sara Elizabeth Lawry)",
         "orientation": "h",
         "showlegend": true,
         "type": "box",
         "x": [
          29
         ],
         "x0": " ",
         "xaxis": "x",
         "y0": " ",
         "yaxis": "y"
        },
        {
         "alignmentgroup": "True",
         "hovertemplate": "color=Watt, Miss. Bertha J<br>x=%{x}<extra></extra>",
         "legendgroup": "Watt, Miss. Bertha J",
         "marker": {
          "color": "#636efa"
         },
         "name": "Watt, Miss. Bertha J",
         "notched": false,
         "offsetgroup": "Watt, Miss. Bertha J",
         "orientation": "h",
         "showlegend": true,
         "type": "box",
         "x": [
          12
         ],
         "x0": " ",
         "xaxis": "x",
         "y0": " ",
         "yaxis": "y"
        },
        {
         "alignmentgroup": "True",
         "hovertemplate": "color=Kiernan, Mr. John<br>x=%{x}<extra></extra>",
         "legendgroup": "Kiernan, Mr. John",
         "marker": {
          "color": "#EF553B"
         },
         "name": "Kiernan, Mr. John",
         "notched": false,
         "offsetgroup": "Kiernan, Mr. John",
         "orientation": "h",
         "showlegend": true,
         "type": "box",
         "x": [
          30.272590361445783
         ],
         "x0": " ",
         "xaxis": "x",
         "y0": " ",
         "yaxis": "y"
        },
        {
         "alignmentgroup": "True",
         "hovertemplate": "color=Schabert, Mrs. Paul (Emma Mock)<br>x=%{x}<extra></extra>",
         "legendgroup": "Schabert, Mrs. Paul (Emma Mock)",
         "marker": {
          "color": "#00cc96"
         },
         "name": "Schabert, Mrs. Paul (Emma Mock)",
         "notched": false,
         "offsetgroup": "Schabert, Mrs. Paul (Emma Mock)",
         "orientation": "h",
         "showlegend": true,
         "type": "box",
         "x": [
          35
         ],
         "x0": " ",
         "xaxis": "x",
         "y0": " ",
         "yaxis": "y"
        },
        {
         "alignmentgroup": "True",
         "hovertemplate": "color=Carver, Mr. Alfred John<br>x=%{x}<extra></extra>",
         "legendgroup": "Carver, Mr. Alfred John",
         "marker": {
          "color": "#ab63fa"
         },
         "name": "Carver, Mr. Alfred John",
         "notched": false,
         "offsetgroup": "Carver, Mr. Alfred John",
         "orientation": "h",
         "showlegend": true,
         "type": "box",
         "x": [
          28
         ],
         "x0": " ",
         "xaxis": "x",
         "y0": " ",
         "yaxis": "y"
        },
        {
         "alignmentgroup": "True",
         "hovertemplate": "color=Kennedy, Mr. John<br>x=%{x}<extra></extra>",
         "legendgroup": "Kennedy, Mr. John",
         "marker": {
          "color": "#FFA15A"
         },
         "name": "Kennedy, Mr. John",
         "notched": false,
         "offsetgroup": "Kennedy, Mr. John",
         "orientation": "h",
         "showlegend": true,
         "type": "box",
         "x": [
          30.272590361445783
         ],
         "x0": " ",
         "xaxis": "x",
         "y0": " ",
         "yaxis": "y"
        },
        {
         "alignmentgroup": "True",
         "hovertemplate": "color=Cribb, Miss. Laura Alice<br>x=%{x}<extra></extra>",
         "legendgroup": "Cribb, Miss. Laura Alice",
         "marker": {
          "color": "#19d3f3"
         },
         "name": "Cribb, Miss. Laura Alice",
         "notched": false,
         "offsetgroup": "Cribb, Miss. Laura Alice",
         "orientation": "h",
         "showlegend": true,
         "type": "box",
         "x": [
          17
         ],
         "x0": " ",
         "xaxis": "x",
         "y0": " ",
         "yaxis": "y"
        },
        {
         "alignmentgroup": "True",
         "hovertemplate": "color=Brobeck, Mr. Karl Rudolf<br>x=%{x}<extra></extra>",
         "legendgroup": "Brobeck, Mr. Karl Rudolf",
         "marker": {
          "color": "#FF6692"
         },
         "name": "Brobeck, Mr. Karl Rudolf",
         "notched": false,
         "offsetgroup": "Brobeck, Mr. Karl Rudolf",
         "orientation": "h",
         "showlegend": true,
         "type": "box",
         "x": [
          22
         ],
         "x0": " ",
         "xaxis": "x",
         "y0": " ",
         "yaxis": "y"
        },
        {
         "alignmentgroup": "True",
         "hovertemplate": "color=McCoy, Miss. Alicia<br>x=%{x}<extra></extra>",
         "legendgroup": "McCoy, Miss. Alicia",
         "marker": {
          "color": "#B6E880"
         },
         "name": "McCoy, Miss. Alicia",
         "notched": false,
         "offsetgroup": "McCoy, Miss. Alicia",
         "orientation": "h",
         "showlegend": true,
         "type": "box",
         "x": [
          30.272590361445783
         ],
         "x0": " ",
         "xaxis": "x",
         "y0": " ",
         "yaxis": "y"
        },
        {
         "alignmentgroup": "True",
         "hovertemplate": "color=Bowenur, Mr. Solomon<br>x=%{x}<extra></extra>",
         "legendgroup": "Bowenur, Mr. Solomon",
         "marker": {
          "color": "#FF97FF"
         },
         "name": "Bowenur, Mr. Solomon",
         "notched": false,
         "offsetgroup": "Bowenur, Mr. Solomon",
         "orientation": "h",
         "showlegend": true,
         "type": "box",
         "x": [
          42
         ],
         "x0": " ",
         "xaxis": "x",
         "y0": " ",
         "yaxis": "y"
        },
        {
         "alignmentgroup": "True",
         "hovertemplate": "color=Petersen, Mr. Marius<br>x=%{x}<extra></extra>",
         "legendgroup": "Petersen, Mr. Marius",
         "marker": {
          "color": "#FECB52"
         },
         "name": "Petersen, Mr. Marius",
         "notched": false,
         "offsetgroup": "Petersen, Mr. Marius",
         "orientation": "h",
         "showlegend": true,
         "type": "box",
         "x": [
          24
         ],
         "x0": " ",
         "xaxis": "x",
         "y0": " ",
         "yaxis": "y"
        },
        {
         "alignmentgroup": "True",
         "hovertemplate": "color=Spinner, Mr. Henry John<br>x=%{x}<extra></extra>",
         "legendgroup": "Spinner, Mr. Henry John",
         "marker": {
          "color": "#636efa"
         },
         "name": "Spinner, Mr. Henry John",
         "notched": false,
         "offsetgroup": "Spinner, Mr. Henry John",
         "orientation": "h",
         "showlegend": true,
         "type": "box",
         "x": [
          32
         ],
         "x0": " ",
         "xaxis": "x",
         "y0": " ",
         "yaxis": "y"
        },
        {
         "alignmentgroup": "True",
         "hovertemplate": "color=Gracie, Col. Archibald IV<br>x=%{x}<extra></extra>",
         "legendgroup": "Gracie, Col. Archibald IV",
         "marker": {
          "color": "#EF553B"
         },
         "name": "Gracie, Col. Archibald IV",
         "notched": false,
         "offsetgroup": "Gracie, Col. Archibald IV",
         "orientation": "h",
         "showlegend": true,
         "type": "box",
         "x": [
          53
         ],
         "x0": " ",
         "xaxis": "x",
         "y0": " ",
         "yaxis": "y"
        },
        {
         "alignmentgroup": "True",
         "hovertemplate": "color=Lefebre, Mrs. Frank (Frances)<br>x=%{x}<extra></extra>",
         "legendgroup": "Lefebre, Mrs. Frank (Frances)",
         "marker": {
          "color": "#00cc96"
         },
         "name": "Lefebre, Mrs. Frank (Frances)",
         "notched": false,
         "offsetgroup": "Lefebre, Mrs. Frank (Frances)",
         "orientation": "h",
         "showlegend": true,
         "type": "box",
         "x": [
          30.272590361445783
         ],
         "x0": " ",
         "xaxis": "x",
         "y0": " ",
         "yaxis": "y"
        },
        {
         "alignmentgroup": "True",
         "hovertemplate": "color=Thomas, Mr. Charles P<br>x=%{x}<extra></extra>",
         "legendgroup": "Thomas, Mr. Charles P",
         "marker": {
          "color": "#ab63fa"
         },
         "name": "Thomas, Mr. Charles P",
         "notched": false,
         "offsetgroup": "Thomas, Mr. Charles P",
         "orientation": "h",
         "showlegend": true,
         "type": "box",
         "x": [
          30.272590361445783
         ],
         "x0": " ",
         "xaxis": "x",
         "y0": " ",
         "yaxis": "y"
        },
        {
         "alignmentgroup": "True",
         "hovertemplate": "color=Dintcheff, Mr. Valtcho<br>x=%{x}<extra></extra>",
         "legendgroup": "Dintcheff, Mr. Valtcho",
         "marker": {
          "color": "#FFA15A"
         },
         "name": "Dintcheff, Mr. Valtcho",
         "notched": false,
         "offsetgroup": "Dintcheff, Mr. Valtcho",
         "orientation": "h",
         "showlegend": true,
         "type": "box",
         "x": [
          43
         ],
         "x0": " ",
         "xaxis": "x",
         "y0": " ",
         "yaxis": "y"
        },
        {
         "alignmentgroup": "True",
         "hovertemplate": "color=Carlsson, Mr. Carl Robert<br>x=%{x}<extra></extra>",
         "legendgroup": "Carlsson, Mr. Carl Robert",
         "marker": {
          "color": "#19d3f3"
         },
         "name": "Carlsson, Mr. Carl Robert",
         "notched": false,
         "offsetgroup": "Carlsson, Mr. Carl Robert",
         "orientation": "h",
         "showlegend": true,
         "type": "box",
         "x": [
          24
         ],
         "x0": " ",
         "xaxis": "x",
         "y0": " ",
         "yaxis": "y"
        },
        {
         "alignmentgroup": "True",
         "hovertemplate": "color=Zakarian, Mr. Mapriededer<br>x=%{x}<extra></extra>",
         "legendgroup": "Zakarian, Mr. Mapriededer",
         "marker": {
          "color": "#FF6692"
         },
         "name": "Zakarian, Mr. Mapriededer",
         "notched": false,
         "offsetgroup": "Zakarian, Mr. Mapriededer",
         "orientation": "h",
         "showlegend": true,
         "type": "box",
         "x": [
          26.5
         ],
         "x0": " ",
         "xaxis": "x",
         "y0": " ",
         "yaxis": "y"
        },
        {
         "alignmentgroup": "True",
         "hovertemplate": "color=Schmidt, Mr. August<br>x=%{x}<extra></extra>",
         "legendgroup": "Schmidt, Mr. August",
         "marker": {
          "color": "#B6E880"
         },
         "name": "Schmidt, Mr. August",
         "notched": false,
         "offsetgroup": "Schmidt, Mr. August",
         "orientation": "h",
         "showlegend": true,
         "type": "box",
         "x": [
          26
         ],
         "x0": " ",
         "xaxis": "x",
         "y0": " ",
         "yaxis": "y"
        },
        {
         "alignmentgroup": "True",
         "hovertemplate": "color=Drapkin, Miss. Jennie<br>x=%{x}<extra></extra>",
         "legendgroup": "Drapkin, Miss. Jennie",
         "marker": {
          "color": "#FF97FF"
         },
         "name": "Drapkin, Miss. Jennie",
         "notched": false,
         "offsetgroup": "Drapkin, Miss. Jennie",
         "orientation": "h",
         "showlegend": true,
         "type": "box",
         "x": [
          23
         ],
         "x0": " ",
         "xaxis": "x",
         "y0": " ",
         "yaxis": "y"
        },
        {
         "alignmentgroup": "True",
         "hovertemplate": "color=Goodwin, Mr. Charles Frederick<br>x=%{x}<extra></extra>",
         "legendgroup": "Goodwin, Mr. Charles Frederick",
         "marker": {
          "color": "#FECB52"
         },
         "name": "Goodwin, Mr. Charles Frederick",
         "notched": false,
         "offsetgroup": "Goodwin, Mr. Charles Frederick",
         "orientation": "h",
         "showlegend": true,
         "type": "box",
         "x": [
          40
         ],
         "x0": " ",
         "xaxis": "x",
         "y0": " ",
         "yaxis": "y"
        },
        {
         "alignmentgroup": "True",
         "hovertemplate": "color=Goodwin, Miss. Jessie Allis<br>x=%{x}<extra></extra>",
         "legendgroup": "Goodwin, Miss. Jessie Allis",
         "marker": {
          "color": "#636efa"
         },
         "name": "Goodwin, Miss. Jessie Allis",
         "notched": false,
         "offsetgroup": "Goodwin, Miss. Jessie Allis",
         "orientation": "h",
         "showlegend": true,
         "type": "box",
         "x": [
          10
         ],
         "x0": " ",
         "xaxis": "x",
         "y0": " ",
         "yaxis": "y"
        },
        {
         "alignmentgroup": "True",
         "hovertemplate": "color=Daniels, Miss. Sarah<br>x=%{x}<extra></extra>",
         "legendgroup": "Daniels, Miss. Sarah",
         "marker": {
          "color": "#EF553B"
         },
         "name": "Daniels, Miss. Sarah",
         "notched": false,
         "offsetgroup": "Daniels, Miss. Sarah",
         "orientation": "h",
         "showlegend": true,
         "type": "box",
         "x": [
          33
         ],
         "x0": " ",
         "xaxis": "x",
         "y0": " ",
         "yaxis": "y"
        },
        {
         "alignmentgroup": "True",
         "hovertemplate": "color=Ryerson, Mr. Arthur Larned<br>x=%{x}<extra></extra>",
         "legendgroup": "Ryerson, Mr. Arthur Larned",
         "marker": {
          "color": "#00cc96"
         },
         "name": "Ryerson, Mr. Arthur Larned",
         "notched": false,
         "offsetgroup": "Ryerson, Mr. Arthur Larned",
         "orientation": "h",
         "showlegend": true,
         "type": "box",
         "x": [
          61
         ],
         "x0": " ",
         "xaxis": "x",
         "y0": " ",
         "yaxis": "y"
        },
        {
         "alignmentgroup": "True",
         "hovertemplate": "color=Beauchamp, Mr. Henry James<br>x=%{x}<extra></extra>",
         "legendgroup": "Beauchamp, Mr. Henry James",
         "marker": {
          "color": "#ab63fa"
         },
         "name": "Beauchamp, Mr. Henry James",
         "notched": false,
         "offsetgroup": "Beauchamp, Mr. Henry James",
         "orientation": "h",
         "showlegend": true,
         "type": "box",
         "x": [
          28
         ],
         "x0": " ",
         "xaxis": "x",
         "y0": " ",
         "yaxis": "y"
        },
        {
         "alignmentgroup": "True",
         "hovertemplate": "color=Lindeberg-Lind, Mr. Erik Gustaf (Mr Edward Lingrey\")\"<br>x=%{x}<extra></extra>",
         "legendgroup": "Lindeberg-Lind, Mr. Erik Gustaf (Mr Edward Lingrey\")\"",
         "marker": {
          "color": "#FFA15A"
         },
         "name": "Lindeberg-Lind, Mr. Erik Gustaf (Mr Edward Lingrey\")\"",
         "notched": false,
         "offsetgroup": "Lindeberg-Lind, Mr. Erik Gustaf (Mr Edward Lingrey\")\"",
         "orientation": "h",
         "showlegend": true,
         "type": "box",
         "x": [
          42
         ],
         "x0": " ",
         "xaxis": "x",
         "y0": " ",
         "yaxis": "y"
        },
        {
         "alignmentgroup": "True",
         "hovertemplate": "color=Vander Planke, Mr. Julius<br>x=%{x}<extra></extra>",
         "legendgroup": "Vander Planke, Mr. Julius",
         "marker": {
          "color": "#19d3f3"
         },
         "name": "Vander Planke, Mr. Julius",
         "notched": false,
         "offsetgroup": "Vander Planke, Mr. Julius",
         "orientation": "h",
         "showlegend": true,
         "type": "box",
         "x": [
          31
         ],
         "x0": " ",
         "xaxis": "x",
         "y0": " ",
         "yaxis": "y"
        },
        {
         "alignmentgroup": "True",
         "hovertemplate": "color=Hilliard, Mr. Herbert Henry<br>x=%{x}<extra></extra>",
         "legendgroup": "Hilliard, Mr. Herbert Henry",
         "marker": {
          "color": "#FF6692"
         },
         "name": "Hilliard, Mr. Herbert Henry",
         "notched": false,
         "offsetgroup": "Hilliard, Mr. Herbert Henry",
         "orientation": "h",
         "showlegend": true,
         "type": "box",
         "x": [
          30.272590361445783
         ],
         "x0": " ",
         "xaxis": "x",
         "y0": " ",
         "yaxis": "y"
        },
        {
         "alignmentgroup": "True",
         "hovertemplate": "color=Davies, Mr. Evan<br>x=%{x}<extra></extra>",
         "legendgroup": "Davies, Mr. Evan",
         "marker": {
          "color": "#B6E880"
         },
         "name": "Davies, Mr. Evan",
         "notched": false,
         "offsetgroup": "Davies, Mr. Evan",
         "orientation": "h",
         "showlegend": true,
         "type": "box",
         "x": [
          22
         ],
         "x0": " ",
         "xaxis": "x",
         "y0": " ",
         "yaxis": "y"
        },
        {
         "alignmentgroup": "True",
         "hovertemplate": "color=Crafton, Mr. John Bertram<br>x=%{x}<extra></extra>",
         "legendgroup": "Crafton, Mr. John Bertram",
         "marker": {
          "color": "#FF97FF"
         },
         "name": "Crafton, Mr. John Bertram",
         "notched": false,
         "offsetgroup": "Crafton, Mr. John Bertram",
         "orientation": "h",
         "showlegend": true,
         "type": "box",
         "x": [
          30.272590361445783
         ],
         "x0": " ",
         "xaxis": "x",
         "y0": " ",
         "yaxis": "y"
        },
        {
         "alignmentgroup": "True",
         "hovertemplate": "color=Lahtinen, Rev. William<br>x=%{x}<extra></extra>",
         "legendgroup": "Lahtinen, Rev. William",
         "marker": {
          "color": "#FECB52"
         },
         "name": "Lahtinen, Rev. William",
         "notched": false,
         "offsetgroup": "Lahtinen, Rev. William",
         "orientation": "h",
         "showlegend": true,
         "type": "box",
         "x": [
          30
         ],
         "x0": " ",
         "xaxis": "x",
         "y0": " ",
         "yaxis": "y"
        },
        {
         "alignmentgroup": "True",
         "hovertemplate": "color=Earnshaw, Mrs. Boulton (Olive Potter)<br>x=%{x}<extra></extra>",
         "legendgroup": "Earnshaw, Mrs. Boulton (Olive Potter)",
         "marker": {
          "color": "#636efa"
         },
         "name": "Earnshaw, Mrs. Boulton (Olive Potter)",
         "notched": false,
         "offsetgroup": "Earnshaw, Mrs. Boulton (Olive Potter)",
         "orientation": "h",
         "showlegend": true,
         "type": "box",
         "x": [
          23
         ],
         "x0": " ",
         "xaxis": "x",
         "y0": " ",
         "yaxis": "y"
        },
        {
         "alignmentgroup": "True",
         "hovertemplate": "color=Matinoff, Mr. Nicola<br>x=%{x}<extra></extra>",
         "legendgroup": "Matinoff, Mr. Nicola",
         "marker": {
          "color": "#EF553B"
         },
         "name": "Matinoff, Mr. Nicola",
         "notched": false,
         "offsetgroup": "Matinoff, Mr. Nicola",
         "orientation": "h",
         "showlegend": true,
         "type": "box",
         "x": [
          30.272590361445783
         ],
         "x0": " ",
         "xaxis": "x",
         "y0": " ",
         "yaxis": "y"
        },
        {
         "alignmentgroup": "True",
         "hovertemplate": "color=Storey, Mr. Thomas<br>x=%{x}<extra></extra>",
         "legendgroup": "Storey, Mr. Thomas",
         "marker": {
          "color": "#00cc96"
         },
         "name": "Storey, Mr. Thomas",
         "notched": false,
         "offsetgroup": "Storey, Mr. Thomas",
         "orientation": "h",
         "showlegend": true,
         "type": "box",
         "x": [
          60.5
         ],
         "x0": " ",
         "xaxis": "x",
         "y0": " ",
         "yaxis": "y"
        },
        {
         "alignmentgroup": "True",
         "hovertemplate": "color=Klasen, Mrs. (Hulda Kristina Eugenia Lofqvist)<br>x=%{x}<extra></extra>",
         "legendgroup": "Klasen, Mrs. (Hulda Kristina Eugenia Lofqvist)",
         "marker": {
          "color": "#ab63fa"
         },
         "name": "Klasen, Mrs. (Hulda Kristina Eugenia Lofqvist)",
         "notched": false,
         "offsetgroup": "Klasen, Mrs. (Hulda Kristina Eugenia Lofqvist)",
         "orientation": "h",
         "showlegend": true,
         "type": "box",
         "x": [
          36
         ],
         "x0": " ",
         "xaxis": "x",
         "y0": " ",
         "yaxis": "y"
        },
        {
         "alignmentgroup": "True",
         "hovertemplate": "color=Asplund, Master. Filip Oscar<br>x=%{x}<extra></extra>",
         "legendgroup": "Asplund, Master. Filip Oscar",
         "marker": {
          "color": "#FFA15A"
         },
         "name": "Asplund, Master. Filip Oscar",
         "notched": false,
         "offsetgroup": "Asplund, Master. Filip Oscar",
         "orientation": "h",
         "showlegend": true,
         "type": "box",
         "x": [
          13
         ],
         "x0": " ",
         "xaxis": "x",
         "y0": " ",
         "yaxis": "y"
        },
        {
         "alignmentgroup": "True",
         "hovertemplate": "color=Duquemin, Mr. Joseph<br>x=%{x}<extra></extra>",
         "legendgroup": "Duquemin, Mr. Joseph",
         "marker": {
          "color": "#19d3f3"
         },
         "name": "Duquemin, Mr. Joseph",
         "notched": false,
         "offsetgroup": "Duquemin, Mr. Joseph",
         "orientation": "h",
         "showlegend": true,
         "type": "box",
         "x": [
          24
         ],
         "x0": " ",
         "xaxis": "x",
         "y0": " ",
         "yaxis": "y"
        },
        {
         "alignmentgroup": "True",
         "hovertemplate": "color=Bird, Miss. Ellen<br>x=%{x}<extra></extra>",
         "legendgroup": "Bird, Miss. Ellen",
         "marker": {
          "color": "#FF6692"
         },
         "name": "Bird, Miss. Ellen",
         "notched": false,
         "offsetgroup": "Bird, Miss. Ellen",
         "orientation": "h",
         "showlegend": true,
         "type": "box",
         "x": [
          29
         ],
         "x0": " ",
         "xaxis": "x",
         "y0": " ",
         "yaxis": "y"
        },
        {
         "alignmentgroup": "True",
         "hovertemplate": "color=Lundin, Miss. Olga Elida<br>x=%{x}<extra></extra>",
         "legendgroup": "Lundin, Miss. Olga Elida",
         "marker": {
          "color": "#B6E880"
         },
         "name": "Lundin, Miss. Olga Elida",
         "notched": false,
         "offsetgroup": "Lundin, Miss. Olga Elida",
         "orientation": "h",
         "showlegend": true,
         "type": "box",
         "x": [
          23
         ],
         "x0": " ",
         "xaxis": "x",
         "y0": " ",
         "yaxis": "y"
        },
        {
         "alignmentgroup": "True",
         "hovertemplate": "color=Borebank, Mr. John James<br>x=%{x}<extra></extra>",
         "legendgroup": "Borebank, Mr. John James",
         "marker": {
          "color": "#FF97FF"
         },
         "name": "Borebank, Mr. John James",
         "notched": false,
         "offsetgroup": "Borebank, Mr. John James",
         "orientation": "h",
         "showlegend": true,
         "type": "box",
         "x": [
          42
         ],
         "x0": " ",
         "xaxis": "x",
         "y0": " ",
         "yaxis": "y"
        },
        {
         "alignmentgroup": "True",
         "hovertemplate": "color=Peacock, Mrs. Benjamin (Edith Nile)<br>x=%{x}<extra></extra>",
         "legendgroup": "Peacock, Mrs. Benjamin (Edith Nile)",
         "marker": {
          "color": "#FECB52"
         },
         "name": "Peacock, Mrs. Benjamin (Edith Nile)",
         "notched": false,
         "offsetgroup": "Peacock, Mrs. Benjamin (Edith Nile)",
         "orientation": "h",
         "showlegend": true,
         "type": "box",
         "x": [
          26
         ],
         "x0": " ",
         "xaxis": "x",
         "y0": " ",
         "yaxis": "y"
        },
        {
         "alignmentgroup": "True",
         "hovertemplate": "color=Smyth, Miss. Julia<br>x=%{x}<extra></extra>",
         "legendgroup": "Smyth, Miss. Julia",
         "marker": {
          "color": "#636efa"
         },
         "name": "Smyth, Miss. Julia",
         "notched": false,
         "offsetgroup": "Smyth, Miss. Julia",
         "orientation": "h",
         "showlegend": true,
         "type": "box",
         "x": [
          30.272590361445783
         ],
         "x0": " ",
         "xaxis": "x",
         "y0": " ",
         "yaxis": "y"
        },
        {
         "alignmentgroup": "True",
         "hovertemplate": "color=Touma, Master. Georges Youssef<br>x=%{x}<extra></extra>",
         "legendgroup": "Touma, Master. Georges Youssef",
         "marker": {
          "color": "#EF553B"
         },
         "name": "Touma, Master. Georges Youssef",
         "notched": false,
         "offsetgroup": "Touma, Master. Georges Youssef",
         "orientation": "h",
         "showlegend": true,
         "type": "box",
         "x": [
          7
         ],
         "x0": " ",
         "xaxis": "x",
         "y0": " ",
         "yaxis": "y"
        },
        {
         "alignmentgroup": "True",
         "hovertemplate": "color=Wright, Miss. Marion<br>x=%{x}<extra></extra>",
         "legendgroup": "Wright, Miss. Marion",
         "marker": {
          "color": "#00cc96"
         },
         "name": "Wright, Miss. Marion",
         "notched": false,
         "offsetgroup": "Wright, Miss. Marion",
         "orientation": "h",
         "showlegend": true,
         "type": "box",
         "x": [
          26
         ],
         "x0": " ",
         "xaxis": "x",
         "y0": " ",
         "yaxis": "y"
        },
        {
         "alignmentgroup": "True",
         "hovertemplate": "color=Pearce, Mr. Ernest<br>x=%{x}<extra></extra>",
         "legendgroup": "Pearce, Mr. Ernest",
         "marker": {
          "color": "#ab63fa"
         },
         "name": "Pearce, Mr. Ernest",
         "notched": false,
         "offsetgroup": "Pearce, Mr. Ernest",
         "orientation": "h",
         "showlegend": true,
         "type": "box",
         "x": [
          30.272590361445783
         ],
         "x0": " ",
         "xaxis": "x",
         "y0": " ",
         "yaxis": "y"
        },
        {
         "alignmentgroup": "True",
         "hovertemplate": "color=Peruschitz, Rev. Joseph Maria<br>x=%{x}<extra></extra>",
         "legendgroup": "Peruschitz, Rev. Joseph Maria",
         "marker": {
          "color": "#FFA15A"
         },
         "name": "Peruschitz, Rev. Joseph Maria",
         "notched": false,
         "offsetgroup": "Peruschitz, Rev. Joseph Maria",
         "orientation": "h",
         "showlegend": true,
         "type": "box",
         "x": [
          41
         ],
         "x0": " ",
         "xaxis": "x",
         "y0": " ",
         "yaxis": "y"
        },
        {
         "alignmentgroup": "True",
         "hovertemplate": "color=Kink-Heilmann, Mrs. Anton (Luise Heilmann)<br>x=%{x}<extra></extra>",
         "legendgroup": "Kink-Heilmann, Mrs. Anton (Luise Heilmann)",
         "marker": {
          "color": "#19d3f3"
         },
         "name": "Kink-Heilmann, Mrs. Anton (Luise Heilmann)",
         "notched": false,
         "offsetgroup": "Kink-Heilmann, Mrs. Anton (Luise Heilmann)",
         "orientation": "h",
         "showlegend": true,
         "type": "box",
         "x": [
          26
         ],
         "x0": " ",
         "xaxis": "x",
         "y0": " ",
         "yaxis": "y"
        },
        {
         "alignmentgroup": "True",
         "hovertemplate": "color=Brandeis, Mr. Emil<br>x=%{x}<extra></extra>",
         "legendgroup": "Brandeis, Mr. Emil",
         "marker": {
          "color": "#FF6692"
         },
         "name": "Brandeis, Mr. Emil",
         "notched": false,
         "offsetgroup": "Brandeis, Mr. Emil",
         "orientation": "h",
         "showlegend": true,
         "type": "box",
         "x": [
          48
         ],
         "x0": " ",
         "xaxis": "x",
         "y0": " ",
         "yaxis": "y"
        },
        {
         "alignmentgroup": "True",
         "hovertemplate": "color=Ford, Mr. Edward Watson<br>x=%{x}<extra></extra>",
         "legendgroup": "Ford, Mr. Edward Watson",
         "marker": {
          "color": "#B6E880"
         },
         "name": "Ford, Mr. Edward Watson",
         "notched": false,
         "offsetgroup": "Ford, Mr. Edward Watson",
         "orientation": "h",
         "showlegend": true,
         "type": "box",
         "x": [
          18
         ],
         "x0": " ",
         "xaxis": "x",
         "y0": " ",
         "yaxis": "y"
        },
        {
         "alignmentgroup": "True",
         "hovertemplate": "color=Cassebeer, Mrs. Henry Arthur Jr (Eleanor Genevieve Fosdick)<br>x=%{x}<extra></extra>",
         "legendgroup": "Cassebeer, Mrs. Henry Arthur Jr (Eleanor Genevieve Fosdick)",
         "marker": {
          "color": "#FF97FF"
         },
         "name": "Cassebeer, Mrs. Henry Arthur Jr (Eleanor Genevieve Fosdick)",
         "notched": false,
         "offsetgroup": "Cassebeer, Mrs. Henry Arthur Jr (Eleanor Genevieve Fosdick)",
         "orientation": "h",
         "showlegend": true,
         "type": "box",
         "x": [
          30.272590361445783
         ],
         "x0": " ",
         "xaxis": "x",
         "y0": " ",
         "yaxis": "y"
        },
        {
         "alignmentgroup": "True",
         "hovertemplate": "color=Hellstrom, Miss. Hilda Maria<br>x=%{x}<extra></extra>",
         "legendgroup": "Hellstrom, Miss. Hilda Maria",
         "marker": {
          "color": "#FECB52"
         },
         "name": "Hellstrom, Miss. Hilda Maria",
         "notched": false,
         "offsetgroup": "Hellstrom, Miss. Hilda Maria",
         "orientation": "h",
         "showlegend": true,
         "type": "box",
         "x": [
          22
         ],
         "x0": " ",
         "xaxis": "x",
         "y0": " ",
         "yaxis": "y"
        },
        {
         "alignmentgroup": "True",
         "hovertemplate": "color=Lithman, Mr. Simon<br>x=%{x}<extra></extra>",
         "legendgroup": "Lithman, Mr. Simon",
         "marker": {
          "color": "#636efa"
         },
         "name": "Lithman, Mr. Simon",
         "notched": false,
         "offsetgroup": "Lithman, Mr. Simon",
         "orientation": "h",
         "showlegend": true,
         "type": "box",
         "x": [
          30.272590361445783
         ],
         "x0": " ",
         "xaxis": "x",
         "y0": " ",
         "yaxis": "y"
        },
        {
         "alignmentgroup": "True",
         "hovertemplate": "color=Zakarian, Mr. Ortin<br>x=%{x}<extra></extra>",
         "legendgroup": "Zakarian, Mr. Ortin",
         "marker": {
          "color": "#EF553B"
         },
         "name": "Zakarian, Mr. Ortin",
         "notched": false,
         "offsetgroup": "Zakarian, Mr. Ortin",
         "orientation": "h",
         "showlegend": true,
         "type": "box",
         "x": [
          27
         ],
         "x0": " ",
         "xaxis": "x",
         "y0": " ",
         "yaxis": "y"
        },
        {
         "alignmentgroup": "True",
         "hovertemplate": "color=Dyker, Mr. Adolf Fredrik<br>x=%{x}<extra></extra>",
         "legendgroup": "Dyker, Mr. Adolf Fredrik",
         "marker": {
          "color": "#00cc96"
         },
         "name": "Dyker, Mr. Adolf Fredrik",
         "notched": false,
         "offsetgroup": "Dyker, Mr. Adolf Fredrik",
         "orientation": "h",
         "showlegend": true,
         "type": "box",
         "x": [
          23
         ],
         "x0": " ",
         "xaxis": "x",
         "y0": " ",
         "yaxis": "y"
        },
        {
         "alignmentgroup": "True",
         "hovertemplate": "color=Torfa, Mr. Assad<br>x=%{x}<extra></extra>",
         "legendgroup": "Torfa, Mr. Assad",
         "marker": {
          "color": "#ab63fa"
         },
         "name": "Torfa, Mr. Assad",
         "notched": false,
         "offsetgroup": "Torfa, Mr. Assad",
         "orientation": "h",
         "showlegend": true,
         "type": "box",
         "x": [
          30.272590361445783
         ],
         "x0": " ",
         "xaxis": "x",
         "y0": " ",
         "yaxis": "y"
        },
        {
         "alignmentgroup": "True",
         "hovertemplate": "color=Asplund, Mr. Carl Oscar Vilhelm Gustafsson<br>x=%{x}<extra></extra>",
         "legendgroup": "Asplund, Mr. Carl Oscar Vilhelm Gustafsson",
         "marker": {
          "color": "#FFA15A"
         },
         "name": "Asplund, Mr. Carl Oscar Vilhelm Gustafsson",
         "notched": false,
         "offsetgroup": "Asplund, Mr. Carl Oscar Vilhelm Gustafsson",
         "orientation": "h",
         "showlegend": true,
         "type": "box",
         "x": [
          40
         ],
         "x0": " ",
         "xaxis": "x",
         "y0": " ",
         "yaxis": "y"
        },
        {
         "alignmentgroup": "True",
         "hovertemplate": "color=Brown, Miss. Edith Eileen<br>x=%{x}<extra></extra>",
         "legendgroup": "Brown, Miss. Edith Eileen",
         "marker": {
          "color": "#19d3f3"
         },
         "name": "Brown, Miss. Edith Eileen",
         "notched": false,
         "offsetgroup": "Brown, Miss. Edith Eileen",
         "orientation": "h",
         "showlegend": true,
         "type": "box",
         "x": [
          15
         ],
         "x0": " ",
         "xaxis": "x",
         "y0": " ",
         "yaxis": "y"
        },
        {
         "alignmentgroup": "True",
         "hovertemplate": "color=Sincock, Miss. Maude<br>x=%{x}<extra></extra>",
         "legendgroup": "Sincock, Miss. Maude",
         "marker": {
          "color": "#FF6692"
         },
         "name": "Sincock, Miss. Maude",
         "notched": false,
         "offsetgroup": "Sincock, Miss. Maude",
         "orientation": "h",
         "showlegend": true,
         "type": "box",
         "x": [
          20
         ],
         "x0": " ",
         "xaxis": "x",
         "y0": " ",
         "yaxis": "y"
        },
        {
         "alignmentgroup": "True",
         "hovertemplate": "color=Stengel, Mr. Charles Emil Henry<br>x=%{x}<extra></extra>",
         "legendgroup": "Stengel, Mr. Charles Emil Henry",
         "marker": {
          "color": "#B6E880"
         },
         "name": "Stengel, Mr. Charles Emil Henry",
         "notched": false,
         "offsetgroup": "Stengel, Mr. Charles Emil Henry",
         "orientation": "h",
         "showlegend": true,
         "type": "box",
         "x": [
          54
         ],
         "x0": " ",
         "xaxis": "x",
         "y0": " ",
         "yaxis": "y"
        },
        {
         "alignmentgroup": "True",
         "hovertemplate": "color=Becker, Mrs. Allen Oliver (Nellie E Baumgardner)<br>x=%{x}<extra></extra>",
         "legendgroup": "Becker, Mrs. Allen Oliver (Nellie E Baumgardner)",
         "marker": {
          "color": "#FF97FF"
         },
         "name": "Becker, Mrs. Allen Oliver (Nellie E Baumgardner)",
         "notched": false,
         "offsetgroup": "Becker, Mrs. Allen Oliver (Nellie E Baumgardner)",
         "orientation": "h",
         "showlegend": true,
         "type": "box",
         "x": [
          36
         ],
         "x0": " ",
         "xaxis": "x",
         "y0": " ",
         "yaxis": "y"
        },
        {
         "alignmentgroup": "True",
         "hovertemplate": "color=Compton, Mrs. Alexander Taylor (Mary Eliza Ingersoll)<br>x=%{x}<extra></extra>",
         "legendgroup": "Compton, Mrs. Alexander Taylor (Mary Eliza Ingersoll)",
         "marker": {
          "color": "#FECB52"
         },
         "name": "Compton, Mrs. Alexander Taylor (Mary Eliza Ingersoll)",
         "notched": false,
         "offsetgroup": "Compton, Mrs. Alexander Taylor (Mary Eliza Ingersoll)",
         "orientation": "h",
         "showlegend": true,
         "type": "box",
         "x": [
          64
         ],
         "x0": " ",
         "xaxis": "x",
         "y0": " ",
         "yaxis": "y"
        },
        {
         "alignmentgroup": "True",
         "hovertemplate": "color=McCrie, Mr. James Matthew<br>x=%{x}<extra></extra>",
         "legendgroup": "McCrie, Mr. James Matthew",
         "marker": {
          "color": "#636efa"
         },
         "name": "McCrie, Mr. James Matthew",
         "notched": false,
         "offsetgroup": "McCrie, Mr. James Matthew",
         "orientation": "h",
         "showlegend": true,
         "type": "box",
         "x": [
          30
         ],
         "x0": " ",
         "xaxis": "x",
         "y0": " ",
         "yaxis": "y"
        },
        {
         "alignmentgroup": "True",
         "hovertemplate": "color=Compton, Mr. Alexander Taylor Jr<br>x=%{x}<extra></extra>",
         "legendgroup": "Compton, Mr. Alexander Taylor Jr",
         "marker": {
          "color": "#EF553B"
         },
         "name": "Compton, Mr. Alexander Taylor Jr",
         "notched": false,
         "offsetgroup": "Compton, Mr. Alexander Taylor Jr",
         "orientation": "h",
         "showlegend": true,
         "type": "box",
         "x": [
          37
         ],
         "x0": " ",
         "xaxis": "x",
         "y0": " ",
         "yaxis": "y"
        },
        {
         "alignmentgroup": "True",
         "hovertemplate": "color=Marvin, Mrs. Daniel Warner (Mary Graham Carmichael Farquarson)<br>x=%{x}<extra></extra>",
         "legendgroup": "Marvin, Mrs. Daniel Warner (Mary Graham Carmichael Farquarson)",
         "marker": {
          "color": "#00cc96"
         },
         "name": "Marvin, Mrs. Daniel Warner (Mary Graham Carmichael Farquarson)",
         "notched": false,
         "offsetgroup": "Marvin, Mrs. Daniel Warner (Mary Graham Carmichael Farquarson)",
         "orientation": "h",
         "showlegend": true,
         "type": "box",
         "x": [
          18
         ],
         "x0": " ",
         "xaxis": "x",
         "y0": " ",
         "yaxis": "y"
        },
        {
         "alignmentgroup": "True",
         "hovertemplate": "color=Lane, Mr. Patrick<br>x=%{x}<extra></extra>",
         "legendgroup": "Lane, Mr. Patrick",
         "marker": {
          "color": "#ab63fa"
         },
         "name": "Lane, Mr. Patrick",
         "notched": false,
         "offsetgroup": "Lane, Mr. Patrick",
         "orientation": "h",
         "showlegend": true,
         "type": "box",
         "x": [
          30.272590361445783
         ],
         "x0": " ",
         "xaxis": "x",
         "y0": " ",
         "yaxis": "y"
        },
        {
         "alignmentgroup": "True",
         "hovertemplate": "color=Douglas, Mrs. Frederick Charles (Mary Helene Baxter)<br>x=%{x}<extra></extra>",
         "legendgroup": "Douglas, Mrs. Frederick Charles (Mary Helene Baxter)",
         "marker": {
          "color": "#FFA15A"
         },
         "name": "Douglas, Mrs. Frederick Charles (Mary Helene Baxter)",
         "notched": false,
         "offsetgroup": "Douglas, Mrs. Frederick Charles (Mary Helene Baxter)",
         "orientation": "h",
         "showlegend": true,
         "type": "box",
         "x": [
          27
         ],
         "x0": " ",
         "xaxis": "x",
         "y0": " ",
         "yaxis": "y"
        },
        {
         "alignmentgroup": "True",
         "hovertemplate": "color=Maybery, Mr. Frank Hubert<br>x=%{x}<extra></extra>",
         "legendgroup": "Maybery, Mr. Frank Hubert",
         "marker": {
          "color": "#19d3f3"
         },
         "name": "Maybery, Mr. Frank Hubert",
         "notched": false,
         "offsetgroup": "Maybery, Mr. Frank Hubert",
         "orientation": "h",
         "showlegend": true,
         "type": "box",
         "x": [
          40
         ],
         "x0": " ",
         "xaxis": "x",
         "y0": " ",
         "yaxis": "y"
        },
        {
         "alignmentgroup": "True",
         "hovertemplate": "color=Phillips, Miss. Alice Frances Louisa<br>x=%{x}<extra></extra>",
         "legendgroup": "Phillips, Miss. Alice Frances Louisa",
         "marker": {
          "color": "#FF6692"
         },
         "name": "Phillips, Miss. Alice Frances Louisa",
         "notched": false,
         "offsetgroup": "Phillips, Miss. Alice Frances Louisa",
         "orientation": "h",
         "showlegend": true,
         "type": "box",
         "x": [
          21
         ],
         "x0": " ",
         "xaxis": "x",
         "y0": " ",
         "yaxis": "y"
        },
        {
         "alignmentgroup": "True",
         "hovertemplate": "color=Davies, Mr. Joseph<br>x=%{x}<extra></extra>",
         "legendgroup": "Davies, Mr. Joseph",
         "marker": {
          "color": "#B6E880"
         },
         "name": "Davies, Mr. Joseph",
         "notched": false,
         "offsetgroup": "Davies, Mr. Joseph",
         "orientation": "h",
         "showlegend": true,
         "type": "box",
         "x": [
          17
         ],
         "x0": " ",
         "xaxis": "x",
         "y0": " ",
         "yaxis": "y"
        },
        {
         "alignmentgroup": "True",
         "hovertemplate": "color=Sage, Miss. Ada<br>x=%{x}<extra></extra>",
         "legendgroup": "Sage, Miss. Ada",
         "marker": {
          "color": "#FF97FF"
         },
         "name": "Sage, Miss. Ada",
         "notched": false,
         "offsetgroup": "Sage, Miss. Ada",
         "orientation": "h",
         "showlegend": true,
         "type": "box",
         "x": [
          30.272590361445783
         ],
         "x0": " ",
         "xaxis": "x",
         "y0": " ",
         "yaxis": "y"
        },
        {
         "alignmentgroup": "True",
         "hovertemplate": "color=Veal, Mr. James<br>x=%{x}<extra></extra>",
         "legendgroup": "Veal, Mr. James",
         "marker": {
          "color": "#FECB52"
         },
         "name": "Veal, Mr. James",
         "notched": false,
         "offsetgroup": "Veal, Mr. James",
         "orientation": "h",
         "showlegend": true,
         "type": "box",
         "x": [
          40
         ],
         "x0": " ",
         "xaxis": "x",
         "y0": " ",
         "yaxis": "y"
        },
        {
         "alignmentgroup": "True",
         "hovertemplate": "color=Angle, Mr. William A<br>x=%{x}<extra></extra>",
         "legendgroup": "Angle, Mr. William A",
         "marker": {
          "color": "#636efa"
         },
         "name": "Angle, Mr. William A",
         "notched": false,
         "offsetgroup": "Angle, Mr. William A",
         "orientation": "h",
         "showlegend": true,
         "type": "box",
         "x": [
          34
         ],
         "x0": " ",
         "xaxis": "x",
         "y0": " ",
         "yaxis": "y"
        },
        {
         "alignmentgroup": "True",
         "hovertemplate": "color=Salomon, Mr. Abraham L<br>x=%{x}<extra></extra>",
         "legendgroup": "Salomon, Mr. Abraham L",
         "marker": {
          "color": "#EF553B"
         },
         "name": "Salomon, Mr. Abraham L",
         "notched": false,
         "offsetgroup": "Salomon, Mr. Abraham L",
         "orientation": "h",
         "showlegend": true,
         "type": "box",
         "x": [
          30.272590361445783
         ],
         "x0": " ",
         "xaxis": "x",
         "y0": " ",
         "yaxis": "y"
        },
        {
         "alignmentgroup": "True",
         "hovertemplate": "color=van Billiard, Master. Walter John<br>x=%{x}<extra></extra>",
         "legendgroup": "van Billiard, Master. Walter John",
         "marker": {
          "color": "#00cc96"
         },
         "name": "van Billiard, Master. Walter John",
         "notched": false,
         "offsetgroup": "van Billiard, Master. Walter John",
         "orientation": "h",
         "showlegend": true,
         "type": "box",
         "x": [
          11.5
         ],
         "x0": " ",
         "xaxis": "x",
         "y0": " ",
         "yaxis": "y"
        },
        {
         "alignmentgroup": "True",
         "hovertemplate": "color=Lingane, Mr. John<br>x=%{x}<extra></extra>",
         "legendgroup": "Lingane, Mr. John",
         "marker": {
          "color": "#ab63fa"
         },
         "name": "Lingane, Mr. John",
         "notched": false,
         "offsetgroup": "Lingane, Mr. John",
         "orientation": "h",
         "showlegend": true,
         "type": "box",
         "x": [
          61
         ],
         "x0": " ",
         "xaxis": "x",
         "y0": " ",
         "yaxis": "y"
        },
        {
         "alignmentgroup": "True",
         "hovertemplate": "color=Drew, Master. Marshall Brines<br>x=%{x}<extra></extra>",
         "legendgroup": "Drew, Master. Marshall Brines",
         "marker": {
          "color": "#FFA15A"
         },
         "name": "Drew, Master. Marshall Brines",
         "notched": false,
         "offsetgroup": "Drew, Master. Marshall Brines",
         "orientation": "h",
         "showlegend": true,
         "type": "box",
         "x": [
          8
         ],
         "x0": " ",
         "xaxis": "x",
         "y0": " ",
         "yaxis": "y"
        },
        {
         "alignmentgroup": "True",
         "hovertemplate": "color=Karlsson, Mr. Julius Konrad Eugen<br>x=%{x}<extra></extra>",
         "legendgroup": "Karlsson, Mr. Julius Konrad Eugen",
         "marker": {
          "color": "#19d3f3"
         },
         "name": "Karlsson, Mr. Julius Konrad Eugen",
         "notched": false,
         "offsetgroup": "Karlsson, Mr. Julius Konrad Eugen",
         "orientation": "h",
         "showlegend": true,
         "type": "box",
         "x": [
          33
         ],
         "x0": " ",
         "xaxis": "x",
         "y0": " ",
         "yaxis": "y"
        },
        {
         "alignmentgroup": "True",
         "hovertemplate": "color=Spedden, Master. Robert Douglas<br>x=%{x}<extra></extra>",
         "legendgroup": "Spedden, Master. Robert Douglas",
         "marker": {
          "color": "#FF6692"
         },
         "name": "Spedden, Master. Robert Douglas",
         "notched": false,
         "offsetgroup": "Spedden, Master. Robert Douglas",
         "orientation": "h",
         "showlegend": true,
         "type": "box",
         "x": [
          6
         ],
         "x0": " ",
         "xaxis": "x",
         "y0": " ",
         "yaxis": "y"
        },
        {
         "alignmentgroup": "True",
         "hovertemplate": "color=Nilsson, Miss. Berta Olivia<br>x=%{x}<extra></extra>",
         "legendgroup": "Nilsson, Miss. Berta Olivia",
         "marker": {
          "color": "#B6E880"
         },
         "name": "Nilsson, Miss. Berta Olivia",
         "notched": false,
         "offsetgroup": "Nilsson, Miss. Berta Olivia",
         "orientation": "h",
         "showlegend": true,
         "type": "box",
         "x": [
          18
         ],
         "x0": " ",
         "xaxis": "x",
         "y0": " ",
         "yaxis": "y"
        },
        {
         "alignmentgroup": "True",
         "hovertemplate": "color=Baimbrigge, Mr. Charles Robert<br>x=%{x}<extra></extra>",
         "legendgroup": "Baimbrigge, Mr. Charles Robert",
         "marker": {
          "color": "#FF97FF"
         },
         "name": "Baimbrigge, Mr. Charles Robert",
         "notched": false,
         "offsetgroup": "Baimbrigge, Mr. Charles Robert",
         "orientation": "h",
         "showlegend": true,
         "type": "box",
         "x": [
          23
         ],
         "x0": " ",
         "xaxis": "x",
         "y0": " ",
         "yaxis": "y"
        },
        {
         "alignmentgroup": "True",
         "hovertemplate": "color=Rasmussen, Mrs. (Lena Jacobsen Solvang)<br>x=%{x}<extra></extra>",
         "legendgroup": "Rasmussen, Mrs. (Lena Jacobsen Solvang)",
         "marker": {
          "color": "#FECB52"
         },
         "name": "Rasmussen, Mrs. (Lena Jacobsen Solvang)",
         "notched": false,
         "offsetgroup": "Rasmussen, Mrs. (Lena Jacobsen Solvang)",
         "orientation": "h",
         "showlegend": true,
         "type": "box",
         "x": [
          30.272590361445783
         ],
         "x0": " ",
         "xaxis": "x",
         "y0": " ",
         "yaxis": "y"
        },
        {
         "alignmentgroup": "True",
         "hovertemplate": "color=Murphy, Miss. Nora<br>x=%{x}<extra></extra>",
         "legendgroup": "Murphy, Miss. Nora",
         "marker": {
          "color": "#636efa"
         },
         "name": "Murphy, Miss. Nora",
         "notched": false,
         "offsetgroup": "Murphy, Miss. Nora",
         "orientation": "h",
         "showlegend": true,
         "type": "box",
         "x": [
          30.272590361445783
         ],
         "x0": " ",
         "xaxis": "x",
         "y0": " ",
         "yaxis": "y"
        },
        {
         "alignmentgroup": "True",
         "hovertemplate": "color=Danbom, Master. Gilbert Sigvard Emanuel<br>x=%{x}<extra></extra>",
         "legendgroup": "Danbom, Master. Gilbert Sigvard Emanuel",
         "marker": {
          "color": "#EF553B"
         },
         "name": "Danbom, Master. Gilbert Sigvard Emanuel",
         "notched": false,
         "offsetgroup": "Danbom, Master. Gilbert Sigvard Emanuel",
         "orientation": "h",
         "showlegend": true,
         "type": "box",
         "x": [
          0.33
         ],
         "x0": " ",
         "xaxis": "x",
         "y0": " ",
         "yaxis": "y"
        },
        {
         "alignmentgroup": "True",
         "hovertemplate": "color=Astor, Col. John Jacob<br>x=%{x}<extra></extra>",
         "legendgroup": "Astor, Col. John Jacob",
         "marker": {
          "color": "#00cc96"
         },
         "name": "Astor, Col. John Jacob",
         "notched": false,
         "offsetgroup": "Astor, Col. John Jacob",
         "orientation": "h",
         "showlegend": true,
         "type": "box",
         "x": [
          47
         ],
         "x0": " ",
         "xaxis": "x",
         "y0": " ",
         "yaxis": "y"
        },
        {
         "alignmentgroup": "True",
         "hovertemplate": "color=Quick, Miss. Winifred Vera<br>x=%{x}<extra></extra>",
         "legendgroup": "Quick, Miss. Winifred Vera",
         "marker": {
          "color": "#ab63fa"
         },
         "name": "Quick, Miss. Winifred Vera",
         "notched": false,
         "offsetgroup": "Quick, Miss. Winifred Vera",
         "orientation": "h",
         "showlegend": true,
         "type": "box",
         "x": [
          8
         ],
         "x0": " ",
         "xaxis": "x",
         "y0": " ",
         "yaxis": "y"
        },
        {
         "alignmentgroup": "True",
         "hovertemplate": "color=Andrew, Mr. Frank Thomas<br>x=%{x}<extra></extra>",
         "legendgroup": "Andrew, Mr. Frank Thomas",
         "marker": {
          "color": "#FFA15A"
         },
         "name": "Andrew, Mr. Frank Thomas",
         "notched": false,
         "offsetgroup": "Andrew, Mr. Frank Thomas",
         "orientation": "h",
         "showlegend": true,
         "type": "box",
         "x": [
          25
         ],
         "x0": " ",
         "xaxis": "x",
         "y0": " ",
         "yaxis": "y"
        },
        {
         "alignmentgroup": "True",
         "hovertemplate": "color=Omont, Mr. Alfred Fernand<br>x=%{x}<extra></extra>",
         "legendgroup": "Omont, Mr. Alfred Fernand",
         "marker": {
          "color": "#19d3f3"
         },
         "name": "Omont, Mr. Alfred Fernand",
         "notched": false,
         "offsetgroup": "Omont, Mr. Alfred Fernand",
         "orientation": "h",
         "showlegend": true,
         "type": "box",
         "x": [
          30.272590361445783
         ],
         "x0": " ",
         "xaxis": "x",
         "y0": " ",
         "yaxis": "y"
        },
        {
         "alignmentgroup": "True",
         "hovertemplate": "color=McGowan, Miss. Katherine<br>x=%{x}<extra></extra>",
         "legendgroup": "McGowan, Miss. Katherine",
         "marker": {
          "color": "#FF6692"
         },
         "name": "McGowan, Miss. Katherine",
         "notched": false,
         "offsetgroup": "McGowan, Miss. Katherine",
         "orientation": "h",
         "showlegend": true,
         "type": "box",
         "x": [
          35
         ],
         "x0": " ",
         "xaxis": "x",
         "y0": " ",
         "yaxis": "y"
        },
        {
         "alignmentgroup": "True",
         "hovertemplate": "color=Collett, Mr. Sidney C Stuart<br>x=%{x}<extra></extra>",
         "legendgroup": "Collett, Mr. Sidney C Stuart",
         "marker": {
          "color": "#B6E880"
         },
         "name": "Collett, Mr. Sidney C Stuart",
         "notched": false,
         "offsetgroup": "Collett, Mr. Sidney C Stuart",
         "orientation": "h",
         "showlegend": true,
         "type": "box",
         "x": [
          24
         ],
         "x0": " ",
         "xaxis": "x",
         "y0": " ",
         "yaxis": "y"
        },
        {
         "alignmentgroup": "True",
         "hovertemplate": "color=Rosenbaum, Miss. Edith Louise<br>x=%{x}<extra></extra>",
         "legendgroup": "Rosenbaum, Miss. Edith Louise",
         "marker": {
          "color": "#FF97FF"
         },
         "name": "Rosenbaum, Miss. Edith Louise",
         "notched": false,
         "offsetgroup": "Rosenbaum, Miss. Edith Louise",
         "orientation": "h",
         "showlegend": true,
         "type": "box",
         "x": [
          33
         ],
         "x0": " ",
         "xaxis": "x",
         "y0": " ",
         "yaxis": "y"
        },
        {
         "alignmentgroup": "True",
         "hovertemplate": "color=Delalic, Mr. Redjo<br>x=%{x}<extra></extra>",
         "legendgroup": "Delalic, Mr. Redjo",
         "marker": {
          "color": "#FECB52"
         },
         "name": "Delalic, Mr. Redjo",
         "notched": false,
         "offsetgroup": "Delalic, Mr. Redjo",
         "orientation": "h",
         "showlegend": true,
         "type": "box",
         "x": [
          25
         ],
         "x0": " ",
         "xaxis": "x",
         "y0": " ",
         "yaxis": "y"
        },
        {
         "alignmentgroup": "True",
         "hovertemplate": "color=Andersen, Mr. Albert Karvin<br>x=%{x}<extra></extra>",
         "legendgroup": "Andersen, Mr. Albert Karvin",
         "marker": {
          "color": "#636efa"
         },
         "name": "Andersen, Mr. Albert Karvin",
         "notched": false,
         "offsetgroup": "Andersen, Mr. Albert Karvin",
         "orientation": "h",
         "showlegend": true,
         "type": "box",
         "x": [
          32
         ],
         "x0": " ",
         "xaxis": "x",
         "y0": " ",
         "yaxis": "y"
        },
        {
         "alignmentgroup": "True",
         "hovertemplate": "color=Finoli, Mr. Luigi<br>x=%{x}<extra></extra>",
         "legendgroup": "Finoli, Mr. Luigi",
         "marker": {
          "color": "#EF553B"
         },
         "name": "Finoli, Mr. Luigi",
         "notched": false,
         "offsetgroup": "Finoli, Mr. Luigi",
         "orientation": "h",
         "showlegend": true,
         "type": "box",
         "x": [
          30.272590361445783
         ],
         "x0": " ",
         "xaxis": "x",
         "y0": " ",
         "yaxis": "y"
        },
        {
         "alignmentgroup": "True",
         "hovertemplate": "color=Deacon, Mr. Percy William<br>x=%{x}<extra></extra>",
         "legendgroup": "Deacon, Mr. Percy William",
         "marker": {
          "color": "#00cc96"
         },
         "name": "Deacon, Mr. Percy William",
         "notched": false,
         "offsetgroup": "Deacon, Mr. Percy William",
         "orientation": "h",
         "showlegend": true,
         "type": "box",
         "x": [
          17
         ],
         "x0": " ",
         "xaxis": "x",
         "y0": " ",
         "yaxis": "y"
        },
        {
         "alignmentgroup": "True",
         "hovertemplate": "color=Howard, Mrs. Benjamin (Ellen Truelove Arman)<br>x=%{x}<extra></extra>",
         "legendgroup": "Howard, Mrs. Benjamin (Ellen Truelove Arman)",
         "marker": {
          "color": "#ab63fa"
         },
         "name": "Howard, Mrs. Benjamin (Ellen Truelove Arman)",
         "notched": false,
         "offsetgroup": "Howard, Mrs. Benjamin (Ellen Truelove Arman)",
         "orientation": "h",
         "showlegend": true,
         "type": "box",
         "x": [
          60
         ],
         "x0": " ",
         "xaxis": "x",
         "y0": " ",
         "yaxis": "y"
        },
        {
         "alignmentgroup": "True",
         "hovertemplate": "color=Andersson, Miss. Ida Augusta Margareta<br>x=%{x}<extra></extra>",
         "legendgroup": "Andersson, Miss. Ida Augusta Margareta",
         "marker": {
          "color": "#FFA15A"
         },
         "name": "Andersson, Miss. Ida Augusta Margareta",
         "notched": false,
         "offsetgroup": "Andersson, Miss. Ida Augusta Margareta",
         "orientation": "h",
         "showlegend": true,
         "type": "box",
         "x": [
          38
         ],
         "x0": " ",
         "xaxis": "x",
         "y0": " ",
         "yaxis": "y"
        },
        {
         "alignmentgroup": "True",
         "hovertemplate": "color=Head, Mr. Christopher<br>x=%{x}<extra></extra>",
         "legendgroup": "Head, Mr. Christopher",
         "marker": {
          "color": "#19d3f3"
         },
         "name": "Head, Mr. Christopher",
         "notched": false,
         "offsetgroup": "Head, Mr. Christopher",
         "orientation": "h",
         "showlegend": true,
         "type": "box",
         "x": [
          42
         ],
         "x0": " ",
         "xaxis": "x",
         "y0": " ",
         "yaxis": "y"
        },
        {
         "alignmentgroup": "True",
         "hovertemplate": "color=Mahon, Miss. Bridget Delia<br>x=%{x}<extra></extra>",
         "legendgroup": "Mahon, Miss. Bridget Delia",
         "marker": {
          "color": "#FF6692"
         },
         "name": "Mahon, Miss. Bridget Delia",
         "notched": false,
         "offsetgroup": "Mahon, Miss. Bridget Delia",
         "orientation": "h",
         "showlegend": true,
         "type": "box",
         "x": [
          30.272590361445783
         ],
         "x0": " ",
         "xaxis": "x",
         "y0": " ",
         "yaxis": "y"
        },
        {
         "alignmentgroup": "True",
         "hovertemplate": "color=Wick, Mr. George Dennick<br>x=%{x}<extra></extra>",
         "legendgroup": "Wick, Mr. George Dennick",
         "marker": {
          "color": "#B6E880"
         },
         "name": "Wick, Mr. George Dennick",
         "notched": false,
         "offsetgroup": "Wick, Mr. George Dennick",
         "orientation": "h",
         "showlegend": true,
         "type": "box",
         "x": [
          57
         ],
         "x0": " ",
         "xaxis": "x",
         "y0": " ",
         "yaxis": "y"
        },
        {
         "alignmentgroup": "True",
         "hovertemplate": "color=Widener, Mrs. George Dunton (Eleanor Elkins)<br>x=%{x}<extra></extra>",
         "legendgroup": "Widener, Mrs. George Dunton (Eleanor Elkins)",
         "marker": {
          "color": "#FF97FF"
         },
         "name": "Widener, Mrs. George Dunton (Eleanor Elkins)",
         "notched": false,
         "offsetgroup": "Widener, Mrs. George Dunton (Eleanor Elkins)",
         "orientation": "h",
         "showlegend": true,
         "type": "box",
         "x": [
          50
         ],
         "x0": " ",
         "xaxis": "x",
         "y0": " ",
         "yaxis": "y"
        },
        {
         "alignmentgroup": "True",
         "hovertemplate": "color=Thomson, Mr. Alexander Morrison<br>x=%{x}<extra></extra>",
         "legendgroup": "Thomson, Mr. Alexander Morrison",
         "marker": {
          "color": "#FECB52"
         },
         "name": "Thomson, Mr. Alexander Morrison",
         "notched": false,
         "offsetgroup": "Thomson, Mr. Alexander Morrison",
         "orientation": "h",
         "showlegend": true,
         "type": "box",
         "x": [
          30.272590361445783
         ],
         "x0": " ",
         "xaxis": "x",
         "y0": " ",
         "yaxis": "y"
        },
        {
         "alignmentgroup": "True",
         "hovertemplate": "color=Duran y More, Miss. Florentina<br>x=%{x}<extra></extra>",
         "legendgroup": "Duran y More, Miss. Florentina",
         "marker": {
          "color": "#636efa"
         },
         "name": "Duran y More, Miss. Florentina",
         "notched": false,
         "offsetgroup": "Duran y More, Miss. Florentina",
         "orientation": "h",
         "showlegend": true,
         "type": "box",
         "x": [
          30
         ],
         "x0": " ",
         "xaxis": "x",
         "y0": " ",
         "yaxis": "y"
        },
        {
         "alignmentgroup": "True",
         "hovertemplate": "color=Reynolds, Mr. Harold J<br>x=%{x}<extra></extra>",
         "legendgroup": "Reynolds, Mr. Harold J",
         "marker": {
          "color": "#EF553B"
         },
         "name": "Reynolds, Mr. Harold J",
         "notched": false,
         "offsetgroup": "Reynolds, Mr. Harold J",
         "orientation": "h",
         "showlegend": true,
         "type": "box",
         "x": [
          21
         ],
         "x0": " ",
         "xaxis": "x",
         "y0": " ",
         "yaxis": "y"
        },
        {
         "alignmentgroup": "True",
         "hovertemplate": "color=Cook, Mrs. (Selena Rogers)<br>x=%{x}<extra></extra>",
         "legendgroup": "Cook, Mrs. (Selena Rogers)",
         "marker": {
          "color": "#00cc96"
         },
         "name": "Cook, Mrs. (Selena Rogers)",
         "notched": false,
         "offsetgroup": "Cook, Mrs. (Selena Rogers)",
         "orientation": "h",
         "showlegend": true,
         "type": "box",
         "x": [
          22
         ],
         "x0": " ",
         "xaxis": "x",
         "y0": " ",
         "yaxis": "y"
        },
        {
         "alignmentgroup": "True",
         "hovertemplate": "color=Karlsson, Mr. Einar Gervasius<br>x=%{x}<extra></extra>",
         "legendgroup": "Karlsson, Mr. Einar Gervasius",
         "marker": {
          "color": "#ab63fa"
         },
         "name": "Karlsson, Mr. Einar Gervasius",
         "notched": false,
         "offsetgroup": "Karlsson, Mr. Einar Gervasius",
         "orientation": "h",
         "showlegend": true,
         "type": "box",
         "x": [
          21
         ],
         "x0": " ",
         "xaxis": "x",
         "y0": " ",
         "yaxis": "y"
        },
        {
         "alignmentgroup": "True",
         "hovertemplate": "color=Candee, Mrs. Edward (Helen Churchill Hungerford)<br>x=%{x}<extra></extra>",
         "legendgroup": "Candee, Mrs. Edward (Helen Churchill Hungerford)",
         "marker": {
          "color": "#FFA15A"
         },
         "name": "Candee, Mrs. Edward (Helen Churchill Hungerford)",
         "notched": false,
         "offsetgroup": "Candee, Mrs. Edward (Helen Churchill Hungerford)",
         "orientation": "h",
         "showlegend": true,
         "type": "box",
         "x": [
          53
         ],
         "x0": " ",
         "xaxis": "x",
         "y0": " ",
         "yaxis": "y"
        },
        {
         "alignmentgroup": "True",
         "hovertemplate": "color=Moubarek, Mrs. George (Omine Amenia\" Alexander)\"<br>x=%{x}<extra></extra>",
         "legendgroup": "Moubarek, Mrs. George (Omine Amenia\" Alexander)\"",
         "marker": {
          "color": "#19d3f3"
         },
         "name": "Moubarek, Mrs. George (Omine Amenia\" Alexander)\"",
         "notched": false,
         "offsetgroup": "Moubarek, Mrs. George (Omine Amenia\" Alexander)\"",
         "orientation": "h",
         "showlegend": true,
         "type": "box",
         "x": [
          30.272590361445783
         ],
         "x0": " ",
         "xaxis": "x",
         "y0": " ",
         "yaxis": "y"
        },
        {
         "alignmentgroup": "True",
         "hovertemplate": "color=Asplund, Mr. Johan Charles<br>x=%{x}<extra></extra>",
         "legendgroup": "Asplund, Mr. Johan Charles",
         "marker": {
          "color": "#FF6692"
         },
         "name": "Asplund, Mr. Johan Charles",
         "notched": false,
         "offsetgroup": "Asplund, Mr. Johan Charles",
         "orientation": "h",
         "showlegend": true,
         "type": "box",
         "x": [
          23
         ],
         "x0": " ",
         "xaxis": "x",
         "y0": " ",
         "yaxis": "y"
        },
        {
         "alignmentgroup": "True",
         "hovertemplate": "color=McNeill, Miss. Bridget<br>x=%{x}<extra></extra>",
         "legendgroup": "McNeill, Miss. Bridget",
         "marker": {
          "color": "#B6E880"
         },
         "name": "McNeill, Miss. Bridget",
         "notched": false,
         "offsetgroup": "McNeill, Miss. Bridget",
         "orientation": "h",
         "showlegend": true,
         "type": "box",
         "x": [
          30.272590361445783
         ],
         "x0": " ",
         "xaxis": "x",
         "y0": " ",
         "yaxis": "y"
        },
        {
         "alignmentgroup": "True",
         "hovertemplate": "color=Everett, Mr. Thomas James<br>x=%{x}<extra></extra>",
         "legendgroup": "Everett, Mr. Thomas James",
         "marker": {
          "color": "#FF97FF"
         },
         "name": "Everett, Mr. Thomas James",
         "notched": false,
         "offsetgroup": "Everett, Mr. Thomas James",
         "orientation": "h",
         "showlegend": true,
         "type": "box",
         "x": [
          40.5
         ],
         "x0": " ",
         "xaxis": "x",
         "y0": " ",
         "yaxis": "y"
        },
        {
         "alignmentgroup": "True",
         "hovertemplate": "color=Hocking, Mr. Samuel James Metcalfe<br>x=%{x}<extra></extra>",
         "legendgroup": "Hocking, Mr. Samuel James Metcalfe",
         "marker": {
          "color": "#FECB52"
         },
         "name": "Hocking, Mr. Samuel James Metcalfe",
         "notched": false,
         "offsetgroup": "Hocking, Mr. Samuel James Metcalfe",
         "orientation": "h",
         "showlegend": true,
         "type": "box",
         "x": [
          36
         ],
         "x0": " ",
         "xaxis": "x",
         "y0": " ",
         "yaxis": "y"
        },
        {
         "alignmentgroup": "True",
         "hovertemplate": "color=Sweet, Mr. George Frederick<br>x=%{x}<extra></extra>",
         "legendgroup": "Sweet, Mr. George Frederick",
         "marker": {
          "color": "#636efa"
         },
         "name": "Sweet, Mr. George Frederick",
         "notched": false,
         "offsetgroup": "Sweet, Mr. George Frederick",
         "orientation": "h",
         "showlegend": true,
         "type": "box",
         "x": [
          14
         ],
         "x0": " ",
         "xaxis": "x",
         "y0": " ",
         "yaxis": "y"
        },
        {
         "alignmentgroup": "True",
         "hovertemplate": "color=Willard, Miss. Constance<br>x=%{x}<extra></extra>",
         "legendgroup": "Willard, Miss. Constance",
         "marker": {
          "color": "#EF553B"
         },
         "name": "Willard, Miss. Constance",
         "notched": false,
         "offsetgroup": "Willard, Miss. Constance",
         "orientation": "h",
         "showlegend": true,
         "type": "box",
         "x": [
          21
         ],
         "x0": " ",
         "xaxis": "x",
         "y0": " ",
         "yaxis": "y"
        },
        {
         "alignmentgroup": "True",
         "hovertemplate": "color=Wiklund, Mr. Karl Johan<br>x=%{x}<extra></extra>",
         "legendgroup": "Wiklund, Mr. Karl Johan",
         "marker": {
          "color": "#00cc96"
         },
         "name": "Wiklund, Mr. Karl Johan",
         "notched": false,
         "offsetgroup": "Wiklund, Mr. Karl Johan",
         "orientation": "h",
         "showlegend": true,
         "type": "box",
         "x": [
          21
         ],
         "x0": " ",
         "xaxis": "x",
         "y0": " ",
         "yaxis": "y"
        },
        {
         "alignmentgroup": "True",
         "hovertemplate": "color=Linehan, Mr. Michael<br>x=%{x}<extra></extra>",
         "legendgroup": "Linehan, Mr. Michael",
         "marker": {
          "color": "#ab63fa"
         },
         "name": "Linehan, Mr. Michael",
         "notched": false,
         "offsetgroup": "Linehan, Mr. Michael",
         "orientation": "h",
         "showlegend": true,
         "type": "box",
         "x": [
          30.272590361445783
         ],
         "x0": " ",
         "xaxis": "x",
         "y0": " ",
         "yaxis": "y"
        },
        {
         "alignmentgroup": "True",
         "hovertemplate": "color=Cumings, Mr. John Bradley<br>x=%{x}<extra></extra>",
         "legendgroup": "Cumings, Mr. John Bradley",
         "marker": {
          "color": "#FFA15A"
         },
         "name": "Cumings, Mr. John Bradley",
         "notched": false,
         "offsetgroup": "Cumings, Mr. John Bradley",
         "orientation": "h",
         "showlegend": true,
         "type": "box",
         "x": [
          39
         ],
         "x0": " ",
         "xaxis": "x",
         "y0": " ",
         "yaxis": "y"
        },
        {
         "alignmentgroup": "True",
         "hovertemplate": "color=Vendel, Mr. Olof Edvin<br>x=%{x}<extra></extra>",
         "legendgroup": "Vendel, Mr. Olof Edvin",
         "marker": {
          "color": "#19d3f3"
         },
         "name": "Vendel, Mr. Olof Edvin",
         "notched": false,
         "offsetgroup": "Vendel, Mr. Olof Edvin",
         "orientation": "h",
         "showlegend": true,
         "type": "box",
         "x": [
          20
         ],
         "x0": " ",
         "xaxis": "x",
         "y0": " ",
         "yaxis": "y"
        },
        {
         "alignmentgroup": "True",
         "hovertemplate": "color=Warren, Mr. Frank Manley<br>x=%{x}<extra></extra>",
         "legendgroup": "Warren, Mr. Frank Manley",
         "marker": {
          "color": "#FF6692"
         },
         "name": "Warren, Mr. Frank Manley",
         "notched": false,
         "offsetgroup": "Warren, Mr. Frank Manley",
         "orientation": "h",
         "showlegend": true,
         "type": "box",
         "x": [
          64
         ],
         "x0": " ",
         "xaxis": "x",
         "y0": " ",
         "yaxis": "y"
        },
        {
         "alignmentgroup": "True",
         "hovertemplate": "color=Baccos, Mr. Raffull<br>x=%{x}<extra></extra>",
         "legendgroup": "Baccos, Mr. Raffull",
         "marker": {
          "color": "#B6E880"
         },
         "name": "Baccos, Mr. Raffull",
         "notched": false,
         "offsetgroup": "Baccos, Mr. Raffull",
         "orientation": "h",
         "showlegend": true,
         "type": "box",
         "x": [
          20
         ],
         "x0": " ",
         "xaxis": "x",
         "y0": " ",
         "yaxis": "y"
        },
        {
         "alignmentgroup": "True",
         "hovertemplate": "color=Hiltunen, Miss. Marta<br>x=%{x}<extra></extra>",
         "legendgroup": "Hiltunen, Miss. Marta",
         "marker": {
          "color": "#FF97FF"
         },
         "name": "Hiltunen, Miss. Marta",
         "notched": false,
         "offsetgroup": "Hiltunen, Miss. Marta",
         "orientation": "h",
         "showlegend": true,
         "type": "box",
         "x": [
          18
         ],
         "x0": " ",
         "xaxis": "x",
         "y0": " ",
         "yaxis": "y"
        },
        {
         "alignmentgroup": "True",
         "hovertemplate": "color=Douglas, Mrs. Walter Donald (Mahala Dutton)<br>x=%{x}<extra></extra>",
         "legendgroup": "Douglas, Mrs. Walter Donald (Mahala Dutton)",
         "marker": {
          "color": "#FECB52"
         },
         "name": "Douglas, Mrs. Walter Donald (Mahala Dutton)",
         "notched": false,
         "offsetgroup": "Douglas, Mrs. Walter Donald (Mahala Dutton)",
         "orientation": "h",
         "showlegend": true,
         "type": "box",
         "x": [
          48
         ],
         "x0": " ",
         "xaxis": "x",
         "y0": " ",
         "yaxis": "y"
        },
        {
         "alignmentgroup": "True",
         "hovertemplate": "color=Lindstrom, Mrs. Carl Johan (Sigrid Posse)<br>x=%{x}<extra></extra>",
         "legendgroup": "Lindstrom, Mrs. Carl Johan (Sigrid Posse)",
         "marker": {
          "color": "#636efa"
         },
         "name": "Lindstrom, Mrs. Carl Johan (Sigrid Posse)",
         "notched": false,
         "offsetgroup": "Lindstrom, Mrs. Carl Johan (Sigrid Posse)",
         "orientation": "h",
         "showlegend": true,
         "type": "box",
         "x": [
          55
         ],
         "x0": " ",
         "xaxis": "x",
         "y0": " ",
         "yaxis": "y"
        },
        {
         "alignmentgroup": "True",
         "hovertemplate": "color=Christy, Mrs. (Alice Frances)<br>x=%{x}<extra></extra>",
         "legendgroup": "Christy, Mrs. (Alice Frances)",
         "marker": {
          "color": "#EF553B"
         },
         "name": "Christy, Mrs. (Alice Frances)",
         "notched": false,
         "offsetgroup": "Christy, Mrs. (Alice Frances)",
         "orientation": "h",
         "showlegend": true,
         "type": "box",
         "x": [
          45
         ],
         "x0": " ",
         "xaxis": "x",
         "y0": " ",
         "yaxis": "y"
        },
        {
         "alignmentgroup": "True",
         "hovertemplate": "color=Spedden, Mr. Frederic Oakley<br>x=%{x}<extra></extra>",
         "legendgroup": "Spedden, Mr. Frederic Oakley",
         "marker": {
          "color": "#00cc96"
         },
         "name": "Spedden, Mr. Frederic Oakley",
         "notched": false,
         "offsetgroup": "Spedden, Mr. Frederic Oakley",
         "orientation": "h",
         "showlegend": true,
         "type": "box",
         "x": [
          45
         ],
         "x0": " ",
         "xaxis": "x",
         "y0": " ",
         "yaxis": "y"
        },
        {
         "alignmentgroup": "True",
         "hovertemplate": "color=Hyman, Mr. Abraham<br>x=%{x}<extra></extra>",
         "legendgroup": "Hyman, Mr. Abraham",
         "marker": {
          "color": "#ab63fa"
         },
         "name": "Hyman, Mr. Abraham",
         "notched": false,
         "offsetgroup": "Hyman, Mr. Abraham",
         "orientation": "h",
         "showlegend": true,
         "type": "box",
         "x": [
          30.272590361445783
         ],
         "x0": " ",
         "xaxis": "x",
         "y0": " ",
         "yaxis": "y"
        },
        {
         "alignmentgroup": "True",
         "hovertemplate": "color=Johnston, Master. William Arthur Willie\"\"<br>x=%{x}<extra></extra>",
         "legendgroup": "Johnston, Master. William Arthur Willie\"\"",
         "marker": {
          "color": "#FFA15A"
         },
         "name": "Johnston, Master. William Arthur Willie\"\"",
         "notched": false,
         "offsetgroup": "Johnston, Master. William Arthur Willie\"\"",
         "orientation": "h",
         "showlegend": true,
         "type": "box",
         "x": [
          30.272590361445783
         ],
         "x0": " ",
         "xaxis": "x",
         "y0": " ",
         "yaxis": "y"
        },
        {
         "alignmentgroup": "True",
         "hovertemplate": "color=Kenyon, Mr. Frederick R<br>x=%{x}<extra></extra>",
         "legendgroup": "Kenyon, Mr. Frederick R",
         "marker": {
          "color": "#19d3f3"
         },
         "name": "Kenyon, Mr. Frederick R",
         "notched": false,
         "offsetgroup": "Kenyon, Mr. Frederick R",
         "orientation": "h",
         "showlegend": true,
         "type": "box",
         "x": [
          41
         ],
         "x0": " ",
         "xaxis": "x",
         "y0": " ",
         "yaxis": "y"
        },
        {
         "alignmentgroup": "True",
         "hovertemplate": "color=Karnes, Mrs. J Frank (Claire Bennett)<br>x=%{x}<extra></extra>",
         "legendgroup": "Karnes, Mrs. J Frank (Claire Bennett)",
         "marker": {
          "color": "#FF6692"
         },
         "name": "Karnes, Mrs. J Frank (Claire Bennett)",
         "notched": false,
         "offsetgroup": "Karnes, Mrs. J Frank (Claire Bennett)",
         "orientation": "h",
         "showlegend": true,
         "type": "box",
         "x": [
          22
         ],
         "x0": " ",
         "xaxis": "x",
         "y0": " ",
         "yaxis": "y"
        },
        {
         "alignmentgroup": "True",
         "hovertemplate": "color=Drew, Mr. James Vivian<br>x=%{x}<extra></extra>",
         "legendgroup": "Drew, Mr. James Vivian",
         "marker": {
          "color": "#B6E880"
         },
         "name": "Drew, Mr. James Vivian",
         "notched": false,
         "offsetgroup": "Drew, Mr. James Vivian",
         "orientation": "h",
         "showlegend": true,
         "type": "box",
         "x": [
          42
         ],
         "x0": " ",
         "xaxis": "x",
         "y0": " ",
         "yaxis": "y"
        },
        {
         "alignmentgroup": "True",
         "hovertemplate": "color=Hold, Mrs. Stephen (Annie Margaret Hill)<br>x=%{x}<extra></extra>",
         "legendgroup": "Hold, Mrs. Stephen (Annie Margaret Hill)",
         "marker": {
          "color": "#FF97FF"
         },
         "name": "Hold, Mrs. Stephen (Annie Margaret Hill)",
         "notched": false,
         "offsetgroup": "Hold, Mrs. Stephen (Annie Margaret Hill)",
         "orientation": "h",
         "showlegend": true,
         "type": "box",
         "x": [
          29
         ],
         "x0": " ",
         "xaxis": "x",
         "y0": " ",
         "yaxis": "y"
        },
        {
         "alignmentgroup": "True",
         "hovertemplate": "color=Khalil, Mrs. Betros (Zahie Maria\" Elias)\"<br>x=%{x}<extra></extra>",
         "legendgroup": "Khalil, Mrs. Betros (Zahie Maria\" Elias)\"",
         "marker": {
          "color": "#FECB52"
         },
         "name": "Khalil, Mrs. Betros (Zahie Maria\" Elias)\"",
         "notched": false,
         "offsetgroup": "Khalil, Mrs. Betros (Zahie Maria\" Elias)\"",
         "orientation": "h",
         "showlegend": true,
         "type": "box",
         "x": [
          30.272590361445783
         ],
         "x0": " ",
         "xaxis": "x",
         "y0": " ",
         "yaxis": "y"
        },
        {
         "alignmentgroup": "True",
         "hovertemplate": "color=West, Miss. Barbara J<br>x=%{x}<extra></extra>",
         "legendgroup": "West, Miss. Barbara J",
         "marker": {
          "color": "#636efa"
         },
         "name": "West, Miss. Barbara J",
         "notched": false,
         "offsetgroup": "West, Miss. Barbara J",
         "orientation": "h",
         "showlegend": true,
         "type": "box",
         "x": [
          0.92
         ],
         "x0": " ",
         "xaxis": "x",
         "y0": " ",
         "yaxis": "y"
        },
        {
         "alignmentgroup": "True",
         "hovertemplate": "color=Abrahamsson, Mr. Abraham August Johannes<br>x=%{x}<extra></extra>",
         "legendgroup": "Abrahamsson, Mr. Abraham August Johannes",
         "marker": {
          "color": "#EF553B"
         },
         "name": "Abrahamsson, Mr. Abraham August Johannes",
         "notched": false,
         "offsetgroup": "Abrahamsson, Mr. Abraham August Johannes",
         "orientation": "h",
         "showlegend": true,
         "type": "box",
         "x": [
          20
         ],
         "x0": " ",
         "xaxis": "x",
         "y0": " ",
         "yaxis": "y"
        },
        {
         "alignmentgroup": "True",
         "hovertemplate": "color=Clark, Mr. Walter Miller<br>x=%{x}<extra></extra>",
         "legendgroup": "Clark, Mr. Walter Miller",
         "marker": {
          "color": "#00cc96"
         },
         "name": "Clark, Mr. Walter Miller",
         "notched": false,
         "offsetgroup": "Clark, Mr. Walter Miller",
         "orientation": "h",
         "showlegend": true,
         "type": "box",
         "x": [
          27
         ],
         "x0": " ",
         "xaxis": "x",
         "y0": " ",
         "yaxis": "y"
        },
        {
         "alignmentgroup": "True",
         "hovertemplate": "color=Salander, Mr. Karl Johan<br>x=%{x}<extra></extra>",
         "legendgroup": "Salander, Mr. Karl Johan",
         "marker": {
          "color": "#ab63fa"
         },
         "name": "Salander, Mr. Karl Johan",
         "notched": false,
         "offsetgroup": "Salander, Mr. Karl Johan",
         "orientation": "h",
         "showlegend": true,
         "type": "box",
         "x": [
          24
         ],
         "x0": " ",
         "xaxis": "x",
         "y0": " ",
         "yaxis": "y"
        },
        {
         "alignmentgroup": "True",
         "hovertemplate": "color=Wenzel, Mr. Linhart<br>x=%{x}<extra></extra>",
         "legendgroup": "Wenzel, Mr. Linhart",
         "marker": {
          "color": "#FFA15A"
         },
         "name": "Wenzel, Mr. Linhart",
         "notched": false,
         "offsetgroup": "Wenzel, Mr. Linhart",
         "orientation": "h",
         "showlegend": true,
         "type": "box",
         "x": [
          32.5
         ],
         "x0": " ",
         "xaxis": "x",
         "y0": " ",
         "yaxis": "y"
        },
        {
         "alignmentgroup": "True",
         "hovertemplate": "color=MacKay, Mr. George William<br>x=%{x}<extra></extra>",
         "legendgroup": "MacKay, Mr. George William",
         "marker": {
          "color": "#19d3f3"
         },
         "name": "MacKay, Mr. George William",
         "notched": false,
         "offsetgroup": "MacKay, Mr. George William",
         "orientation": "h",
         "showlegend": true,
         "type": "box",
         "x": [
          30.272590361445783
         ],
         "x0": " ",
         "xaxis": "x",
         "y0": " ",
         "yaxis": "y"
        },
        {
         "alignmentgroup": "True",
         "hovertemplate": "color=Mahon, Mr. John<br>x=%{x}<extra></extra>",
         "legendgroup": "Mahon, Mr. John",
         "marker": {
          "color": "#FF6692"
         },
         "name": "Mahon, Mr. John",
         "notched": false,
         "offsetgroup": "Mahon, Mr. John",
         "orientation": "h",
         "showlegend": true,
         "type": "box",
         "x": [
          30.272590361445783
         ],
         "x0": " ",
         "xaxis": "x",
         "y0": " ",
         "yaxis": "y"
        },
        {
         "alignmentgroup": "True",
         "hovertemplate": "color=Niklasson, Mr. Samuel<br>x=%{x}<extra></extra>",
         "legendgroup": "Niklasson, Mr. Samuel",
         "marker": {
          "color": "#B6E880"
         },
         "name": "Niklasson, Mr. Samuel",
         "notched": false,
         "offsetgroup": "Niklasson, Mr. Samuel",
         "orientation": "h",
         "showlegend": true,
         "type": "box",
         "x": [
          28
         ],
         "x0": " ",
         "xaxis": "x",
         "y0": " ",
         "yaxis": "y"
        },
        {
         "alignmentgroup": "True",
         "hovertemplate": "color=Bentham, Miss. Lilian W<br>x=%{x}<extra></extra>",
         "legendgroup": "Bentham, Miss. Lilian W",
         "marker": {
          "color": "#FF97FF"
         },
         "name": "Bentham, Miss. Lilian W",
         "notched": false,
         "offsetgroup": "Bentham, Miss. Lilian W",
         "orientation": "h",
         "showlegend": true,
         "type": "box",
         "x": [
          19
         ],
         "x0": " ",
         "xaxis": "x",
         "y0": " ",
         "yaxis": "y"
        },
        {
         "alignmentgroup": "True",
         "hovertemplate": "color=Midtsjo, Mr. Karl Albert<br>x=%{x}<extra></extra>",
         "legendgroup": "Midtsjo, Mr. Karl Albert",
         "marker": {
          "color": "#FECB52"
         },
         "name": "Midtsjo, Mr. Karl Albert",
         "notched": false,
         "offsetgroup": "Midtsjo, Mr. Karl Albert",
         "orientation": "h",
         "showlegend": true,
         "type": "box",
         "x": [
          21
         ],
         "x0": " ",
         "xaxis": "x",
         "y0": " ",
         "yaxis": "y"
        },
        {
         "alignmentgroup": "True",
         "hovertemplate": "color=de Messemaeker, Mr. Guillaume Joseph<br>x=%{x}<extra></extra>",
         "legendgroup": "de Messemaeker, Mr. Guillaume Joseph",
         "marker": {
          "color": "#636efa"
         },
         "name": "de Messemaeker, Mr. Guillaume Joseph",
         "notched": false,
         "offsetgroup": "de Messemaeker, Mr. Guillaume Joseph",
         "orientation": "h",
         "showlegend": true,
         "type": "box",
         "x": [
          36.5
         ],
         "x0": " ",
         "xaxis": "x",
         "y0": " ",
         "yaxis": "y"
        },
        {
         "alignmentgroup": "True",
         "hovertemplate": "color=Nilsson, Mr. August Ferdinand<br>x=%{x}<extra></extra>",
         "legendgroup": "Nilsson, Mr. August Ferdinand",
         "marker": {
          "color": "#EF553B"
         },
         "name": "Nilsson, Mr. August Ferdinand",
         "notched": false,
         "offsetgroup": "Nilsson, Mr. August Ferdinand",
         "orientation": "h",
         "showlegend": true,
         "type": "box",
         "x": [
          21
         ],
         "x0": " ",
         "xaxis": "x",
         "y0": " ",
         "yaxis": "y"
        },
        {
         "alignmentgroup": "True",
         "hovertemplate": "color=Wells, Mrs. Arthur Henry (Addie\" Dart Trevaskis)\"<br>x=%{x}<extra></extra>",
         "legendgroup": "Wells, Mrs. Arthur Henry (Addie\" Dart Trevaskis)\"",
         "marker": {
          "color": "#00cc96"
         },
         "name": "Wells, Mrs. Arthur Henry (Addie\" Dart Trevaskis)\"",
         "notched": false,
         "offsetgroup": "Wells, Mrs. Arthur Henry (Addie\" Dart Trevaskis)\"",
         "orientation": "h",
         "showlegend": true,
         "type": "box",
         "x": [
          29
         ],
         "x0": " ",
         "xaxis": "x",
         "y0": " ",
         "yaxis": "y"
        },
        {
         "alignmentgroup": "True",
         "hovertemplate": "color=Klasen, Miss. Gertrud Emilia<br>x=%{x}<extra></extra>",
         "legendgroup": "Klasen, Miss. Gertrud Emilia",
         "marker": {
          "color": "#ab63fa"
         },
         "name": "Klasen, Miss. Gertrud Emilia",
         "notched": false,
         "offsetgroup": "Klasen, Miss. Gertrud Emilia",
         "orientation": "h",
         "showlegend": true,
         "type": "box",
         "x": [
          1
         ],
         "x0": " ",
         "xaxis": "x",
         "y0": " ",
         "yaxis": "y"
        },
        {
         "alignmentgroup": "True",
         "hovertemplate": "color=Portaluppi, Mr. Emilio Ilario Giuseppe<br>x=%{x}<extra></extra>",
         "legendgroup": "Portaluppi, Mr. Emilio Ilario Giuseppe",
         "marker": {
          "color": "#FFA15A"
         },
         "name": "Portaluppi, Mr. Emilio Ilario Giuseppe",
         "notched": false,
         "offsetgroup": "Portaluppi, Mr. Emilio Ilario Giuseppe",
         "orientation": "h",
         "showlegend": true,
         "type": "box",
         "x": [
          30
         ],
         "x0": " ",
         "xaxis": "x",
         "y0": " ",
         "yaxis": "y"
        },
        {
         "alignmentgroup": "True",
         "hovertemplate": "color=Lyntakoff, Mr. Stanko<br>x=%{x}<extra></extra>",
         "legendgroup": "Lyntakoff, Mr. Stanko",
         "marker": {
          "color": "#19d3f3"
         },
         "name": "Lyntakoff, Mr. Stanko",
         "notched": false,
         "offsetgroup": "Lyntakoff, Mr. Stanko",
         "orientation": "h",
         "showlegend": true,
         "type": "box",
         "x": [
          30.272590361445783
         ],
         "x0": " ",
         "xaxis": "x",
         "y0": " ",
         "yaxis": "y"
        },
        {
         "alignmentgroup": "True",
         "hovertemplate": "color=Chisholm, Mr. Roderick Robert Crispin<br>x=%{x}<extra></extra>",
         "legendgroup": "Chisholm, Mr. Roderick Robert Crispin",
         "marker": {
          "color": "#FF6692"
         },
         "name": "Chisholm, Mr. Roderick Robert Crispin",
         "notched": false,
         "offsetgroup": "Chisholm, Mr. Roderick Robert Crispin",
         "orientation": "h",
         "showlegend": true,
         "type": "box",
         "x": [
          30.272590361445783
         ],
         "x0": " ",
         "xaxis": "x",
         "y0": " ",
         "yaxis": "y"
        },
        {
         "alignmentgroup": "True",
         "hovertemplate": "color=Warren, Mr. Charles William<br>x=%{x}<extra></extra>",
         "legendgroup": "Warren, Mr. Charles William",
         "marker": {
          "color": "#B6E880"
         },
         "name": "Warren, Mr. Charles William",
         "notched": false,
         "offsetgroup": "Warren, Mr. Charles William",
         "orientation": "h",
         "showlegend": true,
         "type": "box",
         "x": [
          30.272590361445783
         ],
         "x0": " ",
         "xaxis": "x",
         "y0": " ",
         "yaxis": "y"
        },
        {
         "alignmentgroup": "True",
         "hovertemplate": "color=Howard, Miss. May Elizabeth<br>x=%{x}<extra></extra>",
         "legendgroup": "Howard, Miss. May Elizabeth",
         "marker": {
          "color": "#FF97FF"
         },
         "name": "Howard, Miss. May Elizabeth",
         "notched": false,
         "offsetgroup": "Howard, Miss. May Elizabeth",
         "orientation": "h",
         "showlegend": true,
         "type": "box",
         "x": [
          30.272590361445783
         ],
         "x0": " ",
         "xaxis": "x",
         "y0": " ",
         "yaxis": "y"
        },
        {
         "alignmentgroup": "True",
         "hovertemplate": "color=Pokrnic, Mr. Mate<br>x=%{x}<extra></extra>",
         "legendgroup": "Pokrnic, Mr. Mate",
         "marker": {
          "color": "#FECB52"
         },
         "name": "Pokrnic, Mr. Mate",
         "notched": false,
         "offsetgroup": "Pokrnic, Mr. Mate",
         "orientation": "h",
         "showlegend": true,
         "type": "box",
         "x": [
          17
         ],
         "x0": " ",
         "xaxis": "x",
         "y0": " ",
         "yaxis": "y"
        },
        {
         "alignmentgroup": "True",
         "hovertemplate": "color=McCaffry, Mr. Thomas Francis<br>x=%{x}<extra></extra>",
         "legendgroup": "McCaffry, Mr. Thomas Francis",
         "marker": {
          "color": "#636efa"
         },
         "name": "McCaffry, Mr. Thomas Francis",
         "notched": false,
         "offsetgroup": "McCaffry, Mr. Thomas Francis",
         "orientation": "h",
         "showlegend": true,
         "type": "box",
         "x": [
          46
         ],
         "x0": " ",
         "xaxis": "x",
         "y0": " ",
         "yaxis": "y"
        },
        {
         "alignmentgroup": "True",
         "hovertemplate": "color=Fox, Mr. Patrick<br>x=%{x}<extra></extra>",
         "legendgroup": "Fox, Mr. Patrick",
         "marker": {
          "color": "#EF553B"
         },
         "name": "Fox, Mr. Patrick",
         "notched": false,
         "offsetgroup": "Fox, Mr. Patrick",
         "orientation": "h",
         "showlegend": true,
         "type": "box",
         "x": [
          30.272590361445783
         ],
         "x0": " ",
         "xaxis": "x",
         "y0": " ",
         "yaxis": "y"
        },
        {
         "alignmentgroup": "True",
         "hovertemplate": "color=Clark, Mrs. Walter Miller (Virginia McDowell)<br>x=%{x}<extra></extra>",
         "legendgroup": "Clark, Mrs. Walter Miller (Virginia McDowell)",
         "marker": {
          "color": "#00cc96"
         },
         "name": "Clark, Mrs. Walter Miller (Virginia McDowell)",
         "notched": false,
         "offsetgroup": "Clark, Mrs. Walter Miller (Virginia McDowell)",
         "orientation": "h",
         "showlegend": true,
         "type": "box",
         "x": [
          26
         ],
         "x0": " ",
         "xaxis": "x",
         "y0": " ",
         "yaxis": "y"
        },
        {
         "alignmentgroup": "True",
         "hovertemplate": "color=Lennon, Miss. Mary<br>x=%{x}<extra></extra>",
         "legendgroup": "Lennon, Miss. Mary",
         "marker": {
          "color": "#ab63fa"
         },
         "name": "Lennon, Miss. Mary",
         "notched": false,
         "offsetgroup": "Lennon, Miss. Mary",
         "orientation": "h",
         "showlegend": true,
         "type": "box",
         "x": [
          30.272590361445783
         ],
         "x0": " ",
         "xaxis": "x",
         "y0": " ",
         "yaxis": "y"
        },
        {
         "alignmentgroup": "True",
         "hovertemplate": "color=Saade, Mr. Jean Nassr<br>x=%{x}<extra></extra>",
         "legendgroup": "Saade, Mr. Jean Nassr",
         "marker": {
          "color": "#FFA15A"
         },
         "name": "Saade, Mr. Jean Nassr",
         "notched": false,
         "offsetgroup": "Saade, Mr. Jean Nassr",
         "orientation": "h",
         "showlegend": true,
         "type": "box",
         "x": [
          30.272590361445783
         ],
         "x0": " ",
         "xaxis": "x",
         "y0": " ",
         "yaxis": "y"
        },
        {
         "alignmentgroup": "True",
         "hovertemplate": "color=Bryhl, Miss. Dagmar Jenny Ingeborg <br>x=%{x}<extra></extra>",
         "legendgroup": "Bryhl, Miss. Dagmar Jenny Ingeborg ",
         "marker": {
          "color": "#19d3f3"
         },
         "name": "Bryhl, Miss. Dagmar Jenny Ingeborg ",
         "notched": false,
         "offsetgroup": "Bryhl, Miss. Dagmar Jenny Ingeborg ",
         "orientation": "h",
         "showlegend": true,
         "type": "box",
         "x": [
          20
         ],
         "x0": " ",
         "xaxis": "x",
         "y0": " ",
         "yaxis": "y"
        },
        {
         "alignmentgroup": "True",
         "hovertemplate": "color=Parker, Mr. Clifford Richard<br>x=%{x}<extra></extra>",
         "legendgroup": "Parker, Mr. Clifford Richard",
         "marker": {
          "color": "#FF6692"
         },
         "name": "Parker, Mr. Clifford Richard",
         "notched": false,
         "offsetgroup": "Parker, Mr. Clifford Richard",
         "orientation": "h",
         "showlegend": true,
         "type": "box",
         "x": [
          28
         ],
         "x0": " ",
         "xaxis": "x",
         "y0": " ",
         "yaxis": "y"
        },
        {
         "alignmentgroup": "True",
         "hovertemplate": "color=Faunthorpe, Mr. Harry<br>x=%{x}<extra></extra>",
         "legendgroup": "Faunthorpe, Mr. Harry",
         "marker": {
          "color": "#B6E880"
         },
         "name": "Faunthorpe, Mr. Harry",
         "notched": false,
         "offsetgroup": "Faunthorpe, Mr. Harry",
         "orientation": "h",
         "showlegend": true,
         "type": "box",
         "x": [
          40
         ],
         "x0": " ",
         "xaxis": "x",
         "y0": " ",
         "yaxis": "y"
        },
        {
         "alignmentgroup": "True",
         "hovertemplate": "color=Ware, Mr. John James<br>x=%{x}<extra></extra>",
         "legendgroup": "Ware, Mr. John James",
         "marker": {
          "color": "#FF97FF"
         },
         "name": "Ware, Mr. John James",
         "notched": false,
         "offsetgroup": "Ware, Mr. John James",
         "orientation": "h",
         "showlegend": true,
         "type": "box",
         "x": [
          30
         ],
         "x0": " ",
         "xaxis": "x",
         "y0": " ",
         "yaxis": "y"
        },
        {
         "alignmentgroup": "True",
         "hovertemplate": "color=Oxenham, Mr. Percy Thomas<br>x=%{x}<extra></extra>",
         "legendgroup": "Oxenham, Mr. Percy Thomas",
         "marker": {
          "color": "#FECB52"
         },
         "name": "Oxenham, Mr. Percy Thomas",
         "notched": false,
         "offsetgroup": "Oxenham, Mr. Percy Thomas",
         "orientation": "h",
         "showlegend": true,
         "type": "box",
         "x": [
          22
         ],
         "x0": " ",
         "xaxis": "x",
         "y0": " ",
         "yaxis": "y"
        },
        {
         "alignmentgroup": "True",
         "hovertemplate": "color=Oreskovic, Miss. Jelka<br>x=%{x}<extra></extra>",
         "legendgroup": "Oreskovic, Miss. Jelka",
         "marker": {
          "color": "#636efa"
         },
         "name": "Oreskovic, Miss. Jelka",
         "notched": false,
         "offsetgroup": "Oreskovic, Miss. Jelka",
         "orientation": "h",
         "showlegend": true,
         "type": "box",
         "x": [
          23
         ],
         "x0": " ",
         "xaxis": "x",
         "y0": " ",
         "yaxis": "y"
        },
        {
         "alignmentgroup": "True",
         "hovertemplate": "color=Peacock, Master. Alfred Edward<br>x=%{x}<extra></extra>",
         "legendgroup": "Peacock, Master. Alfred Edward",
         "marker": {
          "color": "#EF553B"
         },
         "name": "Peacock, Master. Alfred Edward",
         "notched": false,
         "offsetgroup": "Peacock, Master. Alfred Edward",
         "orientation": "h",
         "showlegend": true,
         "type": "box",
         "x": [
          0.75
         ],
         "x0": " ",
         "xaxis": "x",
         "y0": " ",
         "yaxis": "y"
        },
        {
         "alignmentgroup": "True",
         "hovertemplate": "color=Fleming, Miss. Honora<br>x=%{x}<extra></extra>",
         "legendgroup": "Fleming, Miss. Honora",
         "marker": {
          "color": "#00cc96"
         },
         "name": "Fleming, Miss. Honora",
         "notched": false,
         "offsetgroup": "Fleming, Miss. Honora",
         "orientation": "h",
         "showlegend": true,
         "type": "box",
         "x": [
          30.272590361445783
         ],
         "x0": " ",
         "xaxis": "x",
         "y0": " ",
         "yaxis": "y"
        },
        {
         "alignmentgroup": "True",
         "hovertemplate": "color=Touma, Miss. Maria Youssef<br>x=%{x}<extra></extra>",
         "legendgroup": "Touma, Miss. Maria Youssef",
         "marker": {
          "color": "#ab63fa"
         },
         "name": "Touma, Miss. Maria Youssef",
         "notched": false,
         "offsetgroup": "Touma, Miss. Maria Youssef",
         "orientation": "h",
         "showlegend": true,
         "type": "box",
         "x": [
          9
         ],
         "x0": " ",
         "xaxis": "x",
         "y0": " ",
         "yaxis": "y"
        },
        {
         "alignmentgroup": "True",
         "hovertemplate": "color=Rosblom, Miss. Salli Helena<br>x=%{x}<extra></extra>",
         "legendgroup": "Rosblom, Miss. Salli Helena",
         "marker": {
          "color": "#FFA15A"
         },
         "name": "Rosblom, Miss. Salli Helena",
         "notched": false,
         "offsetgroup": "Rosblom, Miss. Salli Helena",
         "orientation": "h",
         "showlegend": true,
         "type": "box",
         "x": [
          2
         ],
         "x0": " ",
         "xaxis": "x",
         "y0": " ",
         "yaxis": "y"
        },
        {
         "alignmentgroup": "True",
         "hovertemplate": "color=Dennis, Mr. William<br>x=%{x}<extra></extra>",
         "legendgroup": "Dennis, Mr. William",
         "marker": {
          "color": "#19d3f3"
         },
         "name": "Dennis, Mr. William",
         "notched": false,
         "offsetgroup": "Dennis, Mr. William",
         "orientation": "h",
         "showlegend": true,
         "type": "box",
         "x": [
          36
         ],
         "x0": " ",
         "xaxis": "x",
         "y0": " ",
         "yaxis": "y"
        },
        {
         "alignmentgroup": "True",
         "hovertemplate": "color=Franklin, Mr. Charles (Charles Fardon)<br>x=%{x}<extra></extra>",
         "legendgroup": "Franklin, Mr. Charles (Charles Fardon)",
         "marker": {
          "color": "#FF6692"
         },
         "name": "Franklin, Mr. Charles (Charles Fardon)",
         "notched": false,
         "offsetgroup": "Franklin, Mr. Charles (Charles Fardon)",
         "orientation": "h",
         "showlegend": true,
         "type": "box",
         "x": [
          30.272590361445783
         ],
         "x0": " ",
         "xaxis": "x",
         "y0": " ",
         "yaxis": "y"
        },
        {
         "alignmentgroup": "True",
         "hovertemplate": "color=Snyder, Mr. John Pillsbury<br>x=%{x}<extra></extra>",
         "legendgroup": "Snyder, Mr. John Pillsbury",
         "marker": {
          "color": "#B6E880"
         },
         "name": "Snyder, Mr. John Pillsbury",
         "notched": false,
         "offsetgroup": "Snyder, Mr. John Pillsbury",
         "orientation": "h",
         "showlegend": true,
         "type": "box",
         "x": [
          24
         ],
         "x0": " ",
         "xaxis": "x",
         "y0": " ",
         "yaxis": "y"
        },
        {
         "alignmentgroup": "True",
         "hovertemplate": "color=Mardirosian, Mr. Sarkis<br>x=%{x}<extra></extra>",
         "legendgroup": "Mardirosian, Mr. Sarkis",
         "marker": {
          "color": "#FF97FF"
         },
         "name": "Mardirosian, Mr. Sarkis",
         "notched": false,
         "offsetgroup": "Mardirosian, Mr. Sarkis",
         "orientation": "h",
         "showlegend": true,
         "type": "box",
         "x": [
          30.272590361445783
         ],
         "x0": " ",
         "xaxis": "x",
         "y0": " ",
         "yaxis": "y"
        },
        {
         "alignmentgroup": "True",
         "hovertemplate": "color=Ford, Mr. Arthur<br>x=%{x}<extra></extra>",
         "legendgroup": "Ford, Mr. Arthur",
         "marker": {
          "color": "#FECB52"
         },
         "name": "Ford, Mr. Arthur",
         "notched": false,
         "offsetgroup": "Ford, Mr. Arthur",
         "orientation": "h",
         "showlegend": true,
         "type": "box",
         "x": [
          30.272590361445783
         ],
         "x0": " ",
         "xaxis": "x",
         "y0": " ",
         "yaxis": "y"
        },
        {
         "alignmentgroup": "True",
         "hovertemplate": "color=Rheims, Mr. George Alexander Lucien<br>x=%{x}<extra></extra>",
         "legendgroup": "Rheims, Mr. George Alexander Lucien",
         "marker": {
          "color": "#636efa"
         },
         "name": "Rheims, Mr. George Alexander Lucien",
         "notched": false,
         "offsetgroup": "Rheims, Mr. George Alexander Lucien",
         "orientation": "h",
         "showlegend": true,
         "type": "box",
         "x": [
          30.272590361445783
         ],
         "x0": " ",
         "xaxis": "x",
         "y0": " ",
         "yaxis": "y"
        },
        {
         "alignmentgroup": "True",
         "hovertemplate": "color=Daly, Miss. Margaret Marcella Maggie\"\"<br>x=%{x}<extra></extra>",
         "legendgroup": "Daly, Miss. Margaret Marcella Maggie\"\"",
         "marker": {
          "color": "#EF553B"
         },
         "name": "Daly, Miss. Margaret Marcella Maggie\"\"",
         "notched": false,
         "offsetgroup": "Daly, Miss. Margaret Marcella Maggie\"\"",
         "orientation": "h",
         "showlegend": true,
         "type": "box",
         "x": [
          30
         ],
         "x0": " ",
         "xaxis": "x",
         "y0": " ",
         "yaxis": "y"
        },
        {
         "alignmentgroup": "True",
         "hovertemplate": "color=Nasr, Mr. Mustafa<br>x=%{x}<extra></extra>",
         "legendgroup": "Nasr, Mr. Mustafa",
         "marker": {
          "color": "#00cc96"
         },
         "name": "Nasr, Mr. Mustafa",
         "notched": false,
         "offsetgroup": "Nasr, Mr. Mustafa",
         "orientation": "h",
         "showlegend": true,
         "type": "box",
         "x": [
          30.272590361445783
         ],
         "x0": " ",
         "xaxis": "x",
         "y0": " ",
         "yaxis": "y"
        },
        {
         "alignmentgroup": "True",
         "hovertemplate": "color=Dodge, Dr. Washington<br>x=%{x}<extra></extra>",
         "legendgroup": "Dodge, Dr. Washington",
         "marker": {
          "color": "#ab63fa"
         },
         "name": "Dodge, Dr. Washington",
         "notched": false,
         "offsetgroup": "Dodge, Dr. Washington",
         "orientation": "h",
         "showlegend": true,
         "type": "box",
         "x": [
          53
         ],
         "x0": " ",
         "xaxis": "x",
         "y0": " ",
         "yaxis": "y"
        },
        {
         "alignmentgroup": "True",
         "hovertemplate": "color=Wittevrongel, Mr. Camille<br>x=%{x}<extra></extra>",
         "legendgroup": "Wittevrongel, Mr. Camille",
         "marker": {
          "color": "#FFA15A"
         },
         "name": "Wittevrongel, Mr. Camille",
         "notched": false,
         "offsetgroup": "Wittevrongel, Mr. Camille",
         "orientation": "h",
         "showlegend": true,
         "type": "box",
         "x": [
          36
         ],
         "x0": " ",
         "xaxis": "x",
         "y0": " ",
         "yaxis": "y"
        },
        {
         "alignmentgroup": "True",
         "hovertemplate": "color=Angheloff, Mr. Minko<br>x=%{x}<extra></extra>",
         "legendgroup": "Angheloff, Mr. Minko",
         "marker": {
          "color": "#19d3f3"
         },
         "name": "Angheloff, Mr. Minko",
         "notched": false,
         "offsetgroup": "Angheloff, Mr. Minko",
         "orientation": "h",
         "showlegend": true,
         "type": "box",
         "x": [
          26
         ],
         "x0": " ",
         "xaxis": "x",
         "y0": " ",
         "yaxis": "y"
        },
        {
         "alignmentgroup": "True",
         "hovertemplate": "color=Laroche, Miss. Louise<br>x=%{x}<extra></extra>",
         "legendgroup": "Laroche, Miss. Louise",
         "marker": {
          "color": "#FF6692"
         },
         "name": "Laroche, Miss. Louise",
         "notched": false,
         "offsetgroup": "Laroche, Miss. Louise",
         "orientation": "h",
         "showlegend": true,
         "type": "box",
         "x": [
          1
         ],
         "x0": " ",
         "xaxis": "x",
         "y0": " ",
         "yaxis": "y"
        },
        {
         "alignmentgroup": "True",
         "hovertemplate": "color=Samaan, Mr. Hanna<br>x=%{x}<extra></extra>",
         "legendgroup": "Samaan, Mr. Hanna",
         "marker": {
          "color": "#B6E880"
         },
         "name": "Samaan, Mr. Hanna",
         "notched": false,
         "offsetgroup": "Samaan, Mr. Hanna",
         "orientation": "h",
         "showlegend": true,
         "type": "box",
         "x": [
          30.272590361445783
         ],
         "x0": " ",
         "xaxis": "x",
         "y0": " ",
         "yaxis": "y"
        },
        {
         "alignmentgroup": "True",
         "hovertemplate": "color=Loring, Mr. Joseph Holland<br>x=%{x}<extra></extra>",
         "legendgroup": "Loring, Mr. Joseph Holland",
         "marker": {
          "color": "#FF97FF"
         },
         "name": "Loring, Mr. Joseph Holland",
         "notched": false,
         "offsetgroup": "Loring, Mr. Joseph Holland",
         "orientation": "h",
         "showlegend": true,
         "type": "box",
         "x": [
          30
         ],
         "x0": " ",
         "xaxis": "x",
         "y0": " ",
         "yaxis": "y"
        },
        {
         "alignmentgroup": "True",
         "hovertemplate": "color=Johansson, Mr. Nils<br>x=%{x}<extra></extra>",
         "legendgroup": "Johansson, Mr. Nils",
         "marker": {
          "color": "#FECB52"
         },
         "name": "Johansson, Mr. Nils",
         "notched": false,
         "offsetgroup": "Johansson, Mr. Nils",
         "orientation": "h",
         "showlegend": true,
         "type": "box",
         "x": [
          29
         ],
         "x0": " ",
         "xaxis": "x",
         "y0": " ",
         "yaxis": "y"
        },
        {
         "alignmentgroup": "True",
         "hovertemplate": "color=Olsson, Mr. Oscar Wilhelm<br>x=%{x}<extra></extra>",
         "legendgroup": "Olsson, Mr. Oscar Wilhelm",
         "marker": {
          "color": "#636efa"
         },
         "name": "Olsson, Mr. Oscar Wilhelm",
         "notched": false,
         "offsetgroup": "Olsson, Mr. Oscar Wilhelm",
         "orientation": "h",
         "showlegend": true,
         "type": "box",
         "x": [
          32
         ],
         "x0": " ",
         "xaxis": "x",
         "y0": " ",
         "yaxis": "y"
        },
        {
         "alignmentgroup": "True",
         "hovertemplate": "color=Malachard, Mr. Noel<br>x=%{x}<extra></extra>",
         "legendgroup": "Malachard, Mr. Noel",
         "marker": {
          "color": "#EF553B"
         },
         "name": "Malachard, Mr. Noel",
         "notched": false,
         "offsetgroup": "Malachard, Mr. Noel",
         "orientation": "h",
         "showlegend": true,
         "type": "box",
         "x": [
          30.272590361445783
         ],
         "x0": " ",
         "xaxis": "x",
         "y0": " ",
         "yaxis": "y"
        },
        {
         "alignmentgroup": "True",
         "hovertemplate": "color=Phillips, Mr. Escott Robert<br>x=%{x}<extra></extra>",
         "legendgroup": "Phillips, Mr. Escott Robert",
         "marker": {
          "color": "#00cc96"
         },
         "name": "Phillips, Mr. Escott Robert",
         "notched": false,
         "offsetgroup": "Phillips, Mr. Escott Robert",
         "orientation": "h",
         "showlegend": true,
         "type": "box",
         "x": [
          43
         ],
         "x0": " ",
         "xaxis": "x",
         "y0": " ",
         "yaxis": "y"
        },
        {
         "alignmentgroup": "True",
         "hovertemplate": "color=Pokrnic, Mr. Tome<br>x=%{x}<extra></extra>",
         "legendgroup": "Pokrnic, Mr. Tome",
         "marker": {
          "color": "#ab63fa"
         },
         "name": "Pokrnic, Mr. Tome",
         "notched": false,
         "offsetgroup": "Pokrnic, Mr. Tome",
         "orientation": "h",
         "showlegend": true,
         "type": "box",
         "x": [
          24
         ],
         "x0": " ",
         "xaxis": "x",
         "y0": " ",
         "yaxis": "y"
        },
        {
         "alignmentgroup": "True",
         "hovertemplate": "color=McCarthy, Miss. Catherine Katie\"\"<br>x=%{x}<extra></extra>",
         "legendgroup": "McCarthy, Miss. Catherine Katie\"\"",
         "marker": {
          "color": "#FFA15A"
         },
         "name": "McCarthy, Miss. Catherine Katie\"\"",
         "notched": false,
         "offsetgroup": "McCarthy, Miss. Catherine Katie\"\"",
         "orientation": "h",
         "showlegend": true,
         "type": "box",
         "x": [
          30.272590361445783
         ],
         "x0": " ",
         "xaxis": "x",
         "y0": " ",
         "yaxis": "y"
        },
        {
         "alignmentgroup": "True",
         "hovertemplate": "color=Crosby, Mrs. Edward Gifford (Catherine Elizabeth Halstead)<br>x=%{x}<extra></extra>",
         "legendgroup": "Crosby, Mrs. Edward Gifford (Catherine Elizabeth Halstead)",
         "marker": {
          "color": "#19d3f3"
         },
         "name": "Crosby, Mrs. Edward Gifford (Catherine Elizabeth Halstead)",
         "notched": false,
         "offsetgroup": "Crosby, Mrs. Edward Gifford (Catherine Elizabeth Halstead)",
         "orientation": "h",
         "showlegend": true,
         "type": "box",
         "x": [
          64
         ],
         "x0": " ",
         "xaxis": "x",
         "y0": " ",
         "yaxis": "y"
        },
        {
         "alignmentgroup": "True",
         "hovertemplate": "color=Allison, Mr. Hudson Joshua Creighton<br>x=%{x}<extra></extra>",
         "legendgroup": "Allison, Mr. Hudson Joshua Creighton",
         "marker": {
          "color": "#FF6692"
         },
         "name": "Allison, Mr. Hudson Joshua Creighton",
         "notched": false,
         "offsetgroup": "Allison, Mr. Hudson Joshua Creighton",
         "orientation": "h",
         "showlegend": true,
         "type": "box",
         "x": [
          30
         ],
         "x0": " ",
         "xaxis": "x",
         "y0": " ",
         "yaxis": "y"
        },
        {
         "alignmentgroup": "True",
         "hovertemplate": "color=Aks, Master. Philip Frank<br>x=%{x}<extra></extra>",
         "legendgroup": "Aks, Master. Philip Frank",
         "marker": {
          "color": "#B6E880"
         },
         "name": "Aks, Master. Philip Frank",
         "notched": false,
         "offsetgroup": "Aks, Master. Philip Frank",
         "orientation": "h",
         "showlegend": true,
         "type": "box",
         "x": [
          0.83
         ],
         "x0": " ",
         "xaxis": "x",
         "y0": " ",
         "yaxis": "y"
        },
        {
         "alignmentgroup": "True",
         "hovertemplate": "color=Hays, Mr. Charles Melville<br>x=%{x}<extra></extra>",
         "legendgroup": "Hays, Mr. Charles Melville",
         "marker": {
          "color": "#FF97FF"
         },
         "name": "Hays, Mr. Charles Melville",
         "notched": false,
         "offsetgroup": "Hays, Mr. Charles Melville",
         "orientation": "h",
         "showlegend": true,
         "type": "box",
         "x": [
          55
         ],
         "x0": " ",
         "xaxis": "x",
         "y0": " ",
         "yaxis": "y"
        },
        {
         "alignmentgroup": "True",
         "hovertemplate": "color=Hansen, Mrs. Claus Peter (Jennie L Howard)<br>x=%{x}<extra></extra>",
         "legendgroup": "Hansen, Mrs. Claus Peter (Jennie L Howard)",
         "marker": {
          "color": "#FECB52"
         },
         "name": "Hansen, Mrs. Claus Peter (Jennie L Howard)",
         "notched": false,
         "offsetgroup": "Hansen, Mrs. Claus Peter (Jennie L Howard)",
         "orientation": "h",
         "showlegend": true,
         "type": "box",
         "x": [
          45
         ],
         "x0": " ",
         "xaxis": "x",
         "y0": " ",
         "yaxis": "y"
        },
        {
         "alignmentgroup": "True",
         "hovertemplate": "color=Cacic, Mr. Jego Grga<br>x=%{x}<extra></extra>",
         "legendgroup": "Cacic, Mr. Jego Grga",
         "marker": {
          "color": "#636efa"
         },
         "name": "Cacic, Mr. Jego Grga",
         "notched": false,
         "offsetgroup": "Cacic, Mr. Jego Grga",
         "orientation": "h",
         "showlegend": true,
         "type": "box",
         "x": [
          18
         ],
         "x0": " ",
         "xaxis": "x",
         "y0": " ",
         "yaxis": "y"
        },
        {
         "alignmentgroup": "True",
         "hovertemplate": "color=Vartanian, Mr. David<br>x=%{x}<extra></extra>",
         "legendgroup": "Vartanian, Mr. David",
         "marker": {
          "color": "#EF553B"
         },
         "name": "Vartanian, Mr. David",
         "notched": false,
         "offsetgroup": "Vartanian, Mr. David",
         "orientation": "h",
         "showlegend": true,
         "type": "box",
         "x": [
          22
         ],
         "x0": " ",
         "xaxis": "x",
         "y0": " ",
         "yaxis": "y"
        },
        {
         "alignmentgroup": "True",
         "hovertemplate": "color=Sadowitz, Mr. Harry<br>x=%{x}<extra></extra>",
         "legendgroup": "Sadowitz, Mr. Harry",
         "marker": {
          "color": "#00cc96"
         },
         "name": "Sadowitz, Mr. Harry",
         "notched": false,
         "offsetgroup": "Sadowitz, Mr. Harry",
         "orientation": "h",
         "showlegend": true,
         "type": "box",
         "x": [
          30.272590361445783
         ],
         "x0": " ",
         "xaxis": "x",
         "y0": " ",
         "yaxis": "y"
        },
        {
         "alignmentgroup": "True",
         "hovertemplate": "color=Carr, Miss. Jeannie<br>x=%{x}<extra></extra>",
         "legendgroup": "Carr, Miss. Jeannie",
         "marker": {
          "color": "#ab63fa"
         },
         "name": "Carr, Miss. Jeannie",
         "notched": false,
         "offsetgroup": "Carr, Miss. Jeannie",
         "orientation": "h",
         "showlegend": true,
         "type": "box",
         "x": [
          37
         ],
         "x0": " ",
         "xaxis": "x",
         "y0": " ",
         "yaxis": "y"
        },
        {
         "alignmentgroup": "True",
         "hovertemplate": "color=White, Mrs. John Stuart (Ella Holmes)<br>x=%{x}<extra></extra>",
         "legendgroup": "White, Mrs. John Stuart (Ella Holmes)",
         "marker": {
          "color": "#FFA15A"
         },
         "name": "White, Mrs. John Stuart (Ella Holmes)",
         "notched": false,
         "offsetgroup": "White, Mrs. John Stuart (Ella Holmes)",
         "orientation": "h",
         "showlegend": true,
         "type": "box",
         "x": [
          55
         ],
         "x0": " ",
         "xaxis": "x",
         "y0": " ",
         "yaxis": "y"
        },
        {
         "alignmentgroup": "True",
         "hovertemplate": "color=Hagardon, Miss. Kate<br>x=%{x}<extra></extra>",
         "legendgroup": "Hagardon, Miss. Kate",
         "marker": {
          "color": "#19d3f3"
         },
         "name": "Hagardon, Miss. Kate",
         "notched": false,
         "offsetgroup": "Hagardon, Miss. Kate",
         "orientation": "h",
         "showlegend": true,
         "type": "box",
         "x": [
          17
         ],
         "x0": " ",
         "xaxis": "x",
         "y0": " ",
         "yaxis": "y"
        },
        {
         "alignmentgroup": "True",
         "hovertemplate": "color=Spencer, Mr. William Augustus<br>x=%{x}<extra></extra>",
         "legendgroup": "Spencer, Mr. William Augustus",
         "marker": {
          "color": "#FF6692"
         },
         "name": "Spencer, Mr. William Augustus",
         "notched": false,
         "offsetgroup": "Spencer, Mr. William Augustus",
         "orientation": "h",
         "showlegend": true,
         "type": "box",
         "x": [
          57
         ],
         "x0": " ",
         "xaxis": "x",
         "y0": " ",
         "yaxis": "y"
        },
        {
         "alignmentgroup": "True",
         "hovertemplate": "color=Rogers, Mr. Reginald Harry<br>x=%{x}<extra></extra>",
         "legendgroup": "Rogers, Mr. Reginald Harry",
         "marker": {
          "color": "#B6E880"
         },
         "name": "Rogers, Mr. Reginald Harry",
         "notched": false,
         "offsetgroup": "Rogers, Mr. Reginald Harry",
         "orientation": "h",
         "showlegend": true,
         "type": "box",
         "x": [
          19
         ],
         "x0": " ",
         "xaxis": "x",
         "y0": " ",
         "yaxis": "y"
        },
        {
         "alignmentgroup": "True",
         "hovertemplate": "color=Jonsson, Mr. Nils Hilding<br>x=%{x}<extra></extra>",
         "legendgroup": "Jonsson, Mr. Nils Hilding",
         "marker": {
          "color": "#FF97FF"
         },
         "name": "Jonsson, Mr. Nils Hilding",
         "notched": false,
         "offsetgroup": "Jonsson, Mr. Nils Hilding",
         "orientation": "h",
         "showlegend": true,
         "type": "box",
         "x": [
          27
         ],
         "x0": " ",
         "xaxis": "x",
         "y0": " ",
         "yaxis": "y"
        },
        {
         "alignmentgroup": "True",
         "hovertemplate": "color=Jefferys, Mr. Ernest Wilfred<br>x=%{x}<extra></extra>",
         "legendgroup": "Jefferys, Mr. Ernest Wilfred",
         "marker": {
          "color": "#FECB52"
         },
         "name": "Jefferys, Mr. Ernest Wilfred",
         "notched": false,
         "offsetgroup": "Jefferys, Mr. Ernest Wilfred",
         "orientation": "h",
         "showlegend": true,
         "type": "box",
         "x": [
          22
         ],
         "x0": " ",
         "xaxis": "x",
         "y0": " ",
         "yaxis": "y"
        },
        {
         "alignmentgroup": "True",
         "hovertemplate": "color=Andersson, Mr. Johan Samuel<br>x=%{x}<extra></extra>",
         "legendgroup": "Andersson, Mr. Johan Samuel",
         "marker": {
          "color": "#636efa"
         },
         "name": "Andersson, Mr. Johan Samuel",
         "notched": false,
         "offsetgroup": "Andersson, Mr. Johan Samuel",
         "orientation": "h",
         "showlegend": true,
         "type": "box",
         "x": [
          26
         ],
         "x0": " ",
         "xaxis": "x",
         "y0": " ",
         "yaxis": "y"
        },
        {
         "alignmentgroup": "True",
         "hovertemplate": "color=Krekorian, Mr. Neshan<br>x=%{x}<extra></extra>",
         "legendgroup": "Krekorian, Mr. Neshan",
         "marker": {
          "color": "#EF553B"
         },
         "name": "Krekorian, Mr. Neshan",
         "notched": false,
         "offsetgroup": "Krekorian, Mr. Neshan",
         "orientation": "h",
         "showlegend": true,
         "type": "box",
         "x": [
          25
         ],
         "x0": " ",
         "xaxis": "x",
         "y0": " ",
         "yaxis": "y"
        },
        {
         "alignmentgroup": "True",
         "hovertemplate": "color=Nesson, Mr. Israel<br>x=%{x}<extra></extra>",
         "legendgroup": "Nesson, Mr. Israel",
         "marker": {
          "color": "#00cc96"
         },
         "name": "Nesson, Mr. Israel",
         "notched": false,
         "offsetgroup": "Nesson, Mr. Israel",
         "orientation": "h",
         "showlegend": true,
         "type": "box",
         "x": [
          26
         ],
         "x0": " ",
         "xaxis": "x",
         "y0": " ",
         "yaxis": "y"
        },
        {
         "alignmentgroup": "True",
         "hovertemplate": "color=Rowe, Mr. Alfred G<br>x=%{x}<extra></extra>",
         "legendgroup": "Rowe, Mr. Alfred G",
         "marker": {
          "color": "#ab63fa"
         },
         "name": "Rowe, Mr. Alfred G",
         "notched": false,
         "offsetgroup": "Rowe, Mr. Alfred G",
         "orientation": "h",
         "showlegend": true,
         "type": "box",
         "x": [
          33
         ],
         "x0": " ",
         "xaxis": "x",
         "y0": " ",
         "yaxis": "y"
        },
        {
         "alignmentgroup": "True",
         "hovertemplate": "color=Kreuchen, Miss. Emilie<br>x=%{x}<extra></extra>",
         "legendgroup": "Kreuchen, Miss. Emilie",
         "marker": {
          "color": "#FFA15A"
         },
         "name": "Kreuchen, Miss. Emilie",
         "notched": false,
         "offsetgroup": "Kreuchen, Miss. Emilie",
         "orientation": "h",
         "showlegend": true,
         "type": "box",
         "x": [
          39
         ],
         "x0": " ",
         "xaxis": "x",
         "y0": " ",
         "yaxis": "y"
        },
        {
         "alignmentgroup": "True",
         "hovertemplate": "color=Assam, Mr. Ali<br>x=%{x}<extra></extra>",
         "legendgroup": "Assam, Mr. Ali",
         "marker": {
          "color": "#19d3f3"
         },
         "name": "Assam, Mr. Ali",
         "notched": false,
         "offsetgroup": "Assam, Mr. Ali",
         "orientation": "h",
         "showlegend": true,
         "type": "box",
         "x": [
          23
         ],
         "x0": " ",
         "xaxis": "x",
         "y0": " ",
         "yaxis": "y"
        },
        {
         "alignmentgroup": "True",
         "hovertemplate": "color=Becker, Miss. Ruth Elizabeth<br>x=%{x}<extra></extra>",
         "legendgroup": "Becker, Miss. Ruth Elizabeth",
         "marker": {
          "color": "#FF6692"
         },
         "name": "Becker, Miss. Ruth Elizabeth",
         "notched": false,
         "offsetgroup": "Becker, Miss. Ruth Elizabeth",
         "orientation": "h",
         "showlegend": true,
         "type": "box",
         "x": [
          12
         ],
         "x0": " ",
         "xaxis": "x",
         "y0": " ",
         "yaxis": "y"
        },
        {
         "alignmentgroup": "True",
         "hovertemplate": "color=Rosenshine, Mr. George (Mr George Thorne\")\"<br>x=%{x}<extra></extra>",
         "legendgroup": "Rosenshine, Mr. George (Mr George Thorne\")\"",
         "marker": {
          "color": "#B6E880"
         },
         "name": "Rosenshine, Mr. George (Mr George Thorne\")\"",
         "notched": false,
         "offsetgroup": "Rosenshine, Mr. George (Mr George Thorne\")\"",
         "orientation": "h",
         "showlegend": true,
         "type": "box",
         "x": [
          46
         ],
         "x0": " ",
         "xaxis": "x",
         "y0": " ",
         "yaxis": "y"
        },
        {
         "alignmentgroup": "True",
         "hovertemplate": "color=Clarke, Mr. Charles Valentine<br>x=%{x}<extra></extra>",
         "legendgroup": "Clarke, Mr. Charles Valentine",
         "marker": {
          "color": "#FF97FF"
         },
         "name": "Clarke, Mr. Charles Valentine",
         "notched": false,
         "offsetgroup": "Clarke, Mr. Charles Valentine",
         "orientation": "h",
         "showlegend": true,
         "type": "box",
         "x": [
          29
         ],
         "x0": " ",
         "xaxis": "x",
         "y0": " ",
         "yaxis": "y"
        },
        {
         "alignmentgroup": "True",
         "hovertemplate": "color=Enander, Mr. Ingvar<br>x=%{x}<extra></extra>",
         "legendgroup": "Enander, Mr. Ingvar",
         "marker": {
          "color": "#FECB52"
         },
         "name": "Enander, Mr. Ingvar",
         "notched": false,
         "offsetgroup": "Enander, Mr. Ingvar",
         "orientation": "h",
         "showlegend": true,
         "type": "box",
         "x": [
          21
         ],
         "x0": " ",
         "xaxis": "x",
         "y0": " ",
         "yaxis": "y"
        },
        {
         "alignmentgroup": "True",
         "hovertemplate": "color=Davies, Mrs. John Morgan (Elizabeth Agnes Mary White) <br>x=%{x}<extra></extra>",
         "legendgroup": "Davies, Mrs. John Morgan (Elizabeth Agnes Mary White) ",
         "marker": {
          "color": "#636efa"
         },
         "name": "Davies, Mrs. John Morgan (Elizabeth Agnes Mary White) ",
         "notched": false,
         "offsetgroup": "Davies, Mrs. John Morgan (Elizabeth Agnes Mary White) ",
         "orientation": "h",
         "showlegend": true,
         "type": "box",
         "x": [
          48
         ],
         "x0": " ",
         "xaxis": "x",
         "y0": " ",
         "yaxis": "y"
        },
        {
         "alignmentgroup": "True",
         "hovertemplate": "color=Dulles, Mr. William Crothers<br>x=%{x}<extra></extra>",
         "legendgroup": "Dulles, Mr. William Crothers",
         "marker": {
          "color": "#EF553B"
         },
         "name": "Dulles, Mr. William Crothers",
         "notched": false,
         "offsetgroup": "Dulles, Mr. William Crothers",
         "orientation": "h",
         "showlegend": true,
         "type": "box",
         "x": [
          39
         ],
         "x0": " ",
         "xaxis": "x",
         "y0": " ",
         "yaxis": "y"
        },
        {
         "alignmentgroup": "True",
         "hovertemplate": "color=Thomas, Mr. Tannous<br>x=%{x}<extra></extra>",
         "legendgroup": "Thomas, Mr. Tannous",
         "marker": {
          "color": "#00cc96"
         },
         "name": "Thomas, Mr. Tannous",
         "notched": false,
         "offsetgroup": "Thomas, Mr. Tannous",
         "orientation": "h",
         "showlegend": true,
         "type": "box",
         "x": [
          30.272590361445783
         ],
         "x0": " ",
         "xaxis": "x",
         "y0": " ",
         "yaxis": "y"
        },
        {
         "alignmentgroup": "True",
         "hovertemplate": "color=Nakid, Mrs. Said (Waika Mary\" Mowad)\"<br>x=%{x}<extra></extra>",
         "legendgroup": "Nakid, Mrs. Said (Waika Mary\" Mowad)\"",
         "marker": {
          "color": "#ab63fa"
         },
         "name": "Nakid, Mrs. Said (Waika Mary\" Mowad)\"",
         "notched": false,
         "offsetgroup": "Nakid, Mrs. Said (Waika Mary\" Mowad)\"",
         "orientation": "h",
         "showlegend": true,
         "type": "box",
         "x": [
          19
         ],
         "x0": " ",
         "xaxis": "x",
         "y0": " ",
         "yaxis": "y"
        },
        {
         "alignmentgroup": "True",
         "hovertemplate": "color=Cor, Mr. Ivan<br>x=%{x}<extra></extra>",
         "legendgroup": "Cor, Mr. Ivan",
         "marker": {
          "color": "#FFA15A"
         },
         "name": "Cor, Mr. Ivan",
         "notched": false,
         "offsetgroup": "Cor, Mr. Ivan",
         "orientation": "h",
         "showlegend": true,
         "type": "box",
         "x": [
          27
         ],
         "x0": " ",
         "xaxis": "x",
         "y0": " ",
         "yaxis": "y"
        },
        {
         "alignmentgroup": "True",
         "hovertemplate": "color=Maguire, Mr. John Edward<br>x=%{x}<extra></extra>",
         "legendgroup": "Maguire, Mr. John Edward",
         "marker": {
          "color": "#19d3f3"
         },
         "name": "Maguire, Mr. John Edward",
         "notched": false,
         "offsetgroup": "Maguire, Mr. John Edward",
         "orientation": "h",
         "showlegend": true,
         "type": "box",
         "x": [
          30
         ],
         "x0": " ",
         "xaxis": "x",
         "y0": " ",
         "yaxis": "y"
        },
        {
         "alignmentgroup": "True",
         "hovertemplate": "color=de Brito, Mr. Jose Joaquim<br>x=%{x}<extra></extra>",
         "legendgroup": "de Brito, Mr. Jose Joaquim",
         "marker": {
          "color": "#FF6692"
         },
         "name": "de Brito, Mr. Jose Joaquim",
         "notched": false,
         "offsetgroup": "de Brito, Mr. Jose Joaquim",
         "orientation": "h",
         "showlegend": true,
         "type": "box",
         "x": [
          32
         ],
         "x0": " ",
         "xaxis": "x",
         "y0": " ",
         "yaxis": "y"
        },
        {
         "alignmentgroup": "True",
         "hovertemplate": "color=Elias, Mr. Joseph<br>x=%{x}<extra></extra>",
         "legendgroup": "Elias, Mr. Joseph",
         "marker": {
          "color": "#B6E880"
         },
         "name": "Elias, Mr. Joseph",
         "notched": false,
         "offsetgroup": "Elias, Mr. Joseph",
         "orientation": "h",
         "showlegend": true,
         "type": "box",
         "x": [
          39
         ],
         "x0": " ",
         "xaxis": "x",
         "y0": " ",
         "yaxis": "y"
        },
        {
         "alignmentgroup": "True",
         "hovertemplate": "color=Denbury, Mr. Herbert<br>x=%{x}<extra></extra>",
         "legendgroup": "Denbury, Mr. Herbert",
         "marker": {
          "color": "#FF97FF"
         },
         "name": "Denbury, Mr. Herbert",
         "notched": false,
         "offsetgroup": "Denbury, Mr. Herbert",
         "orientation": "h",
         "showlegend": true,
         "type": "box",
         "x": [
          25
         ],
         "x0": " ",
         "xaxis": "x",
         "y0": " ",
         "yaxis": "y"
        },
        {
         "alignmentgroup": "True",
         "hovertemplate": "color=Betros, Master. Seman<br>x=%{x}<extra></extra>",
         "legendgroup": "Betros, Master. Seman",
         "marker": {
          "color": "#FECB52"
         },
         "name": "Betros, Master. Seman",
         "notched": false,
         "offsetgroup": "Betros, Master. Seman",
         "orientation": "h",
         "showlegend": true,
         "type": "box",
         "x": [
          30.272590361445783
         ],
         "x0": " ",
         "xaxis": "x",
         "y0": " ",
         "yaxis": "y"
        },
        {
         "alignmentgroup": "True",
         "hovertemplate": "color=Fillbrook, Mr. Joseph Charles<br>x=%{x}<extra></extra>",
         "legendgroup": "Fillbrook, Mr. Joseph Charles",
         "marker": {
          "color": "#636efa"
         },
         "name": "Fillbrook, Mr. Joseph Charles",
         "notched": false,
         "offsetgroup": "Fillbrook, Mr. Joseph Charles",
         "orientation": "h",
         "showlegend": true,
         "type": "box",
         "x": [
          18
         ],
         "x0": " ",
         "xaxis": "x",
         "y0": " ",
         "yaxis": "y"
        },
        {
         "alignmentgroup": "True",
         "hovertemplate": "color=Lundstrom, Mr. Thure Edvin<br>x=%{x}<extra></extra>",
         "legendgroup": "Lundstrom, Mr. Thure Edvin",
         "marker": {
          "color": "#EF553B"
         },
         "name": "Lundstrom, Mr. Thure Edvin",
         "notched": false,
         "offsetgroup": "Lundstrom, Mr. Thure Edvin",
         "orientation": "h",
         "showlegend": true,
         "type": "box",
         "x": [
          32
         ],
         "x0": " ",
         "xaxis": "x",
         "y0": " ",
         "yaxis": "y"
        },
        {
         "alignmentgroup": "True",
         "hovertemplate": "color=Sage, Mr. John George<br>x=%{x}<extra></extra>",
         "legendgroup": "Sage, Mr. John George",
         "marker": {
          "color": "#00cc96"
         },
         "name": "Sage, Mr. John George",
         "notched": false,
         "offsetgroup": "Sage, Mr. John George",
         "orientation": "h",
         "showlegend": true,
         "type": "box",
         "x": [
          30.272590361445783
         ],
         "x0": " ",
         "xaxis": "x",
         "y0": " ",
         "yaxis": "y"
        },
        {
         "alignmentgroup": "True",
         "hovertemplate": "color=Cardeza, Mrs. James Warburton Martinez (Charlotte Wardle Drake)<br>x=%{x}<extra></extra>",
         "legendgroup": "Cardeza, Mrs. James Warburton Martinez (Charlotte Wardle Drake)",
         "marker": {
          "color": "#ab63fa"
         },
         "name": "Cardeza, Mrs. James Warburton Martinez (Charlotte Wardle Drake)",
         "notched": false,
         "offsetgroup": "Cardeza, Mrs. James Warburton Martinez (Charlotte Wardle Drake)",
         "orientation": "h",
         "showlegend": true,
         "type": "box",
         "x": [
          58
         ],
         "x0": " ",
         "xaxis": "x",
         "y0": " ",
         "yaxis": "y"
        },
        {
         "alignmentgroup": "True",
         "hovertemplate": "color=van Billiard, Master. James William<br>x=%{x}<extra></extra>",
         "legendgroup": "van Billiard, Master. James William",
         "marker": {
          "color": "#FFA15A"
         },
         "name": "van Billiard, Master. James William",
         "notched": false,
         "offsetgroup": "van Billiard, Master. James William",
         "orientation": "h",
         "showlegend": true,
         "type": "box",
         "x": [
          30.272590361445783
         ],
         "x0": " ",
         "xaxis": "x",
         "y0": " ",
         "yaxis": "y"
        },
        {
         "alignmentgroup": "True",
         "hovertemplate": "color=Abelseth, Miss. Karen Marie<br>x=%{x}<extra></extra>",
         "legendgroup": "Abelseth, Miss. Karen Marie",
         "marker": {
          "color": "#19d3f3"
         },
         "name": "Abelseth, Miss. Karen Marie",
         "notched": false,
         "offsetgroup": "Abelseth, Miss. Karen Marie",
         "orientation": "h",
         "showlegend": true,
         "type": "box",
         "x": [
          16
         ],
         "x0": " ",
         "xaxis": "x",
         "y0": " ",
         "yaxis": "y"
        },
        {
         "alignmentgroup": "True",
         "hovertemplate": "color=Botsford, Mr. William Hull<br>x=%{x}<extra></extra>",
         "legendgroup": "Botsford, Mr. William Hull",
         "marker": {
          "color": "#FF6692"
         },
         "name": "Botsford, Mr. William Hull",
         "notched": false,
         "offsetgroup": "Botsford, Mr. William Hull",
         "orientation": "h",
         "showlegend": true,
         "type": "box",
         "x": [
          26
         ],
         "x0": " ",
         "xaxis": "x",
         "y0": " ",
         "yaxis": "y"
        },
        {
         "alignmentgroup": "True",
         "hovertemplate": "color=Whabee, Mrs. George Joseph (Shawneene Abi-Saab)<br>x=%{x}<extra></extra>",
         "legendgroup": "Whabee, Mrs. George Joseph (Shawneene Abi-Saab)",
         "marker": {
          "color": "#B6E880"
         },
         "name": "Whabee, Mrs. George Joseph (Shawneene Abi-Saab)",
         "notched": false,
         "offsetgroup": "Whabee, Mrs. George Joseph (Shawneene Abi-Saab)",
         "orientation": "h",
         "showlegend": true,
         "type": "box",
         "x": [
          38
         ],
         "x0": " ",
         "xaxis": "x",
         "y0": " ",
         "yaxis": "y"
        },
        {
         "alignmentgroup": "True",
         "hovertemplate": "color=Giles, Mr. Ralph<br>x=%{x}<extra></extra>",
         "legendgroup": "Giles, Mr. Ralph",
         "marker": {
          "color": "#FF97FF"
         },
         "name": "Giles, Mr. Ralph",
         "notched": false,
         "offsetgroup": "Giles, Mr. Ralph",
         "orientation": "h",
         "showlegend": true,
         "type": "box",
         "x": [
          24
         ],
         "x0": " ",
         "xaxis": "x",
         "y0": " ",
         "yaxis": "y"
        },
        {
         "alignmentgroup": "True",
         "hovertemplate": "color=Walcroft, Miss. Nellie<br>x=%{x}<extra></extra>",
         "legendgroup": "Walcroft, Miss. Nellie",
         "marker": {
          "color": "#FECB52"
         },
         "name": "Walcroft, Miss. Nellie",
         "notched": false,
         "offsetgroup": "Walcroft, Miss. Nellie",
         "orientation": "h",
         "showlegend": true,
         "type": "box",
         "x": [
          31
         ],
         "x0": " ",
         "xaxis": "x",
         "y0": " ",
         "yaxis": "y"
        },
        {
         "alignmentgroup": "True",
         "hovertemplate": "color=Greenfield, Mrs. Leo David (Blanche Strouse)<br>x=%{x}<extra></extra>",
         "legendgroup": "Greenfield, Mrs. Leo David (Blanche Strouse)",
         "marker": {
          "color": "#636efa"
         },
         "name": "Greenfield, Mrs. Leo David (Blanche Strouse)",
         "notched": false,
         "offsetgroup": "Greenfield, Mrs. Leo David (Blanche Strouse)",
         "orientation": "h",
         "showlegend": true,
         "type": "box",
         "x": [
          45
         ],
         "x0": " ",
         "xaxis": "x",
         "y0": " ",
         "yaxis": "y"
        },
        {
         "alignmentgroup": "True",
         "hovertemplate": "color=Stokes, Mr. Philip Joseph<br>x=%{x}<extra></extra>",
         "legendgroup": "Stokes, Mr. Philip Joseph",
         "marker": {
          "color": "#EF553B"
         },
         "name": "Stokes, Mr. Philip Joseph",
         "notched": false,
         "offsetgroup": "Stokes, Mr. Philip Joseph",
         "orientation": "h",
         "showlegend": true,
         "type": "box",
         "x": [
          25
         ],
         "x0": " ",
         "xaxis": "x",
         "y0": " ",
         "yaxis": "y"
        },
        {
         "alignmentgroup": "True",
         "hovertemplate": "color=Dibden, Mr. William<br>x=%{x}<extra></extra>",
         "legendgroup": "Dibden, Mr. William",
         "marker": {
          "color": "#00cc96"
         },
         "name": "Dibden, Mr. William",
         "notched": false,
         "offsetgroup": "Dibden, Mr. William",
         "orientation": "h",
         "showlegend": true,
         "type": "box",
         "x": [
          18
         ],
         "x0": " ",
         "xaxis": "x",
         "y0": " ",
         "yaxis": "y"
        },
        {
         "alignmentgroup": "True",
         "hovertemplate": "color=Herman, Mr. Samuel<br>x=%{x}<extra></extra>",
         "legendgroup": "Herman, Mr. Samuel",
         "marker": {
          "color": "#ab63fa"
         },
         "name": "Herman, Mr. Samuel",
         "notched": false,
         "offsetgroup": "Herman, Mr. Samuel",
         "orientation": "h",
         "showlegend": true,
         "type": "box",
         "x": [
          49
         ],
         "x0": " ",
         "xaxis": "x",
         "y0": " ",
         "yaxis": "y"
        },
        {
         "alignmentgroup": "True",
         "hovertemplate": "color=Dean, Miss. Elizabeth Gladys Millvina\"\"<br>x=%{x}<extra></extra>",
         "legendgroup": "Dean, Miss. Elizabeth Gladys Millvina\"\"",
         "marker": {
          "color": "#FFA15A"
         },
         "name": "Dean, Miss. Elizabeth Gladys Millvina\"\"",
         "notched": false,
         "offsetgroup": "Dean, Miss. Elizabeth Gladys Millvina\"\"",
         "orientation": "h",
         "showlegend": true,
         "type": "box",
         "x": [
          0.17
         ],
         "x0": " ",
         "xaxis": "x",
         "y0": " ",
         "yaxis": "y"
        },
        {
         "alignmentgroup": "True",
         "hovertemplate": "color=Julian, Mr. Henry Forbes<br>x=%{x}<extra></extra>",
         "legendgroup": "Julian, Mr. Henry Forbes",
         "marker": {
          "color": "#19d3f3"
         },
         "name": "Julian, Mr. Henry Forbes",
         "notched": false,
         "offsetgroup": "Julian, Mr. Henry Forbes",
         "orientation": "h",
         "showlegend": true,
         "type": "box",
         "x": [
          50
         ],
         "x0": " ",
         "xaxis": "x",
         "y0": " ",
         "yaxis": "y"
        },
        {
         "alignmentgroup": "True",
         "hovertemplate": "color=Brown, Mrs. John Murray (Caroline Lane Lamson)<br>x=%{x}<extra></extra>",
         "legendgroup": "Brown, Mrs. John Murray (Caroline Lane Lamson)",
         "marker": {
          "color": "#FF6692"
         },
         "name": "Brown, Mrs. John Murray (Caroline Lane Lamson)",
         "notched": false,
         "offsetgroup": "Brown, Mrs. John Murray (Caroline Lane Lamson)",
         "orientation": "h",
         "showlegend": true,
         "type": "box",
         "x": [
          59
         ],
         "x0": " ",
         "xaxis": "x",
         "y0": " ",
         "yaxis": "y"
        },
        {
         "alignmentgroup": "True",
         "hovertemplate": "color=Lockyer, Mr. Edward<br>x=%{x}<extra></extra>",
         "legendgroup": "Lockyer, Mr. Edward",
         "marker": {
          "color": "#B6E880"
         },
         "name": "Lockyer, Mr. Edward",
         "notched": false,
         "offsetgroup": "Lockyer, Mr. Edward",
         "orientation": "h",
         "showlegend": true,
         "type": "box",
         "x": [
          30.272590361445783
         ],
         "x0": " ",
         "xaxis": "x",
         "y0": " ",
         "yaxis": "y"
        },
        {
         "alignmentgroup": "True",
         "hovertemplate": "color=O'Keefe, Mr. Patrick<br>x=%{x}<extra></extra>",
         "legendgroup": "O'Keefe, Mr. Patrick",
         "marker": {
          "color": "#FF97FF"
         },
         "name": "O'Keefe, Mr. Patrick",
         "notched": false,
         "offsetgroup": "O'Keefe, Mr. Patrick",
         "orientation": "h",
         "showlegend": true,
         "type": "box",
         "x": [
          30.272590361445783
         ],
         "x0": " ",
         "xaxis": "x",
         "y0": " ",
         "yaxis": "y"
        },
        {
         "alignmentgroup": "True",
         "hovertemplate": "color=Lindell, Mrs. Edvard Bengtsson (Elin Gerda Persson)<br>x=%{x}<extra></extra>",
         "legendgroup": "Lindell, Mrs. Edvard Bengtsson (Elin Gerda Persson)",
         "marker": {
          "color": "#FECB52"
         },
         "name": "Lindell, Mrs. Edvard Bengtsson (Elin Gerda Persson)",
         "notched": false,
         "offsetgroup": "Lindell, Mrs. Edvard Bengtsson (Elin Gerda Persson)",
         "orientation": "h",
         "showlegend": true,
         "type": "box",
         "x": [
          30
         ],
         "x0": " ",
         "xaxis": "x",
         "y0": " ",
         "yaxis": "y"
        },
        {
         "alignmentgroup": "True",
         "hovertemplate": "color=Sage, Master. William Henry<br>x=%{x}<extra></extra>",
         "legendgroup": "Sage, Master. William Henry",
         "marker": {
          "color": "#636efa"
         },
         "name": "Sage, Master. William Henry",
         "notched": false,
         "offsetgroup": "Sage, Master. William Henry",
         "orientation": "h",
         "showlegend": true,
         "type": "box",
         "x": [
          14.5
         ],
         "x0": " ",
         "xaxis": "x",
         "y0": " ",
         "yaxis": "y"
        },
        {
         "alignmentgroup": "True",
         "hovertemplate": "color=Mallet, Mrs. Albert (Antoinette Magnin)<br>x=%{x}<extra></extra>",
         "legendgroup": "Mallet, Mrs. Albert (Antoinette Magnin)",
         "marker": {
          "color": "#EF553B"
         },
         "name": "Mallet, Mrs. Albert (Antoinette Magnin)",
         "notched": false,
         "offsetgroup": "Mallet, Mrs. Albert (Antoinette Magnin)",
         "orientation": "h",
         "showlegend": true,
         "type": "box",
         "x": [
          24
         ],
         "x0": " ",
         "xaxis": "x",
         "y0": " ",
         "yaxis": "y"
        },
        {
         "alignmentgroup": "True",
         "hovertemplate": "color=Ware, Mrs. John James (Florence Louise Long)<br>x=%{x}<extra></extra>",
         "legendgroup": "Ware, Mrs. John James (Florence Louise Long)",
         "marker": {
          "color": "#00cc96"
         },
         "name": "Ware, Mrs. John James (Florence Louise Long)",
         "notched": false,
         "offsetgroup": "Ware, Mrs. John James (Florence Louise Long)",
         "orientation": "h",
         "showlegend": true,
         "type": "box",
         "x": [
          31
         ],
         "x0": " ",
         "xaxis": "x",
         "y0": " ",
         "yaxis": "y"
        },
        {
         "alignmentgroup": "True",
         "hovertemplate": "color=Strilic, Mr. Ivan<br>x=%{x}<extra></extra>",
         "legendgroup": "Strilic, Mr. Ivan",
         "marker": {
          "color": "#ab63fa"
         },
         "name": "Strilic, Mr. Ivan",
         "notched": false,
         "offsetgroup": "Strilic, Mr. Ivan",
         "orientation": "h",
         "showlegend": true,
         "type": "box",
         "x": [
          27
         ],
         "x0": " ",
         "xaxis": "x",
         "y0": " ",
         "yaxis": "y"
        },
        {
         "alignmentgroup": "True",
         "hovertemplate": "color=Harder, Mrs. George Achilles (Dorothy Annan)<br>x=%{x}<extra></extra>",
         "legendgroup": "Harder, Mrs. George Achilles (Dorothy Annan)",
         "marker": {
          "color": "#FFA15A"
         },
         "name": "Harder, Mrs. George Achilles (Dorothy Annan)",
         "notched": false,
         "offsetgroup": "Harder, Mrs. George Achilles (Dorothy Annan)",
         "orientation": "h",
         "showlegend": true,
         "type": "box",
         "x": [
          25
         ],
         "x0": " ",
         "xaxis": "x",
         "y0": " ",
         "yaxis": "y"
        },
        {
         "alignmentgroup": "True",
         "hovertemplate": "color=Sage, Mrs. John (Annie Bullen)<br>x=%{x}<extra></extra>",
         "legendgroup": "Sage, Mrs. John (Annie Bullen)",
         "marker": {
          "color": "#19d3f3"
         },
         "name": "Sage, Mrs. John (Annie Bullen)",
         "notched": false,
         "offsetgroup": "Sage, Mrs. John (Annie Bullen)",
         "orientation": "h",
         "showlegend": true,
         "type": "box",
         "x": [
          30.272590361445783
         ],
         "x0": " ",
         "xaxis": "x",
         "y0": " ",
         "yaxis": "y"
        },
        {
         "alignmentgroup": "True",
         "hovertemplate": "color=Caram, Mr. Joseph<br>x=%{x}<extra></extra>",
         "legendgroup": "Caram, Mr. Joseph",
         "marker": {
          "color": "#FF6692"
         },
         "name": "Caram, Mr. Joseph",
         "notched": false,
         "offsetgroup": "Caram, Mr. Joseph",
         "orientation": "h",
         "showlegend": true,
         "type": "box",
         "x": [
          30.272590361445783
         ],
         "x0": " ",
         "xaxis": "x",
         "y0": " ",
         "yaxis": "y"
        },
        {
         "alignmentgroup": "True",
         "hovertemplate": "color=Riihivouri, Miss. Susanna Juhantytar Sanni\"\"<br>x=%{x}<extra></extra>",
         "legendgroup": "Riihivouri, Miss. Susanna Juhantytar Sanni\"\"",
         "marker": {
          "color": "#B6E880"
         },
         "name": "Riihivouri, Miss. Susanna Juhantytar Sanni\"\"",
         "notched": false,
         "offsetgroup": "Riihivouri, Miss. Susanna Juhantytar Sanni\"\"",
         "orientation": "h",
         "showlegend": true,
         "type": "box",
         "x": [
          22
         ],
         "x0": " ",
         "xaxis": "x",
         "y0": " ",
         "yaxis": "y"
        },
        {
         "alignmentgroup": "True",
         "hovertemplate": "color=Gibson, Mrs. Leonard (Pauline C Boeson)<br>x=%{x}<extra></extra>",
         "legendgroup": "Gibson, Mrs. Leonard (Pauline C Boeson)",
         "marker": {
          "color": "#FF97FF"
         },
         "name": "Gibson, Mrs. Leonard (Pauline C Boeson)",
         "notched": false,
         "offsetgroup": "Gibson, Mrs. Leonard (Pauline C Boeson)",
         "orientation": "h",
         "showlegend": true,
         "type": "box",
         "x": [
          45
         ],
         "x0": " ",
         "xaxis": "x",
         "y0": " ",
         "yaxis": "y"
        },
        {
         "alignmentgroup": "True",
         "hovertemplate": "color=Pallas y Castello, Mr. Emilio<br>x=%{x}<extra></extra>",
         "legendgroup": "Pallas y Castello, Mr. Emilio",
         "marker": {
          "color": "#FECB52"
         },
         "name": "Pallas y Castello, Mr. Emilio",
         "notched": false,
         "offsetgroup": "Pallas y Castello, Mr. Emilio",
         "orientation": "h",
         "showlegend": true,
         "type": "box",
         "x": [
          29
         ],
         "x0": " ",
         "xaxis": "x",
         "y0": " ",
         "yaxis": "y"
        },
        {
         "alignmentgroup": "True",
         "hovertemplate": "color=Giles, Mr. Edgar<br>x=%{x}<extra></extra>",
         "legendgroup": "Giles, Mr. Edgar",
         "marker": {
          "color": "#636efa"
         },
         "name": "Giles, Mr. Edgar",
         "notched": false,
         "offsetgroup": "Giles, Mr. Edgar",
         "orientation": "h",
         "showlegend": true,
         "type": "box",
         "x": [
          21
         ],
         "x0": " ",
         "xaxis": "x",
         "y0": " ",
         "yaxis": "y"
        },
        {
         "alignmentgroup": "True",
         "hovertemplate": "color=Wilson, Miss. Helen Alice<br>x=%{x}<extra></extra>",
         "legendgroup": "Wilson, Miss. Helen Alice",
         "marker": {
          "color": "#EF553B"
         },
         "name": "Wilson, Miss. Helen Alice",
         "notched": false,
         "offsetgroup": "Wilson, Miss. Helen Alice",
         "orientation": "h",
         "showlegend": true,
         "type": "box",
         "x": [
          31
         ],
         "x0": " ",
         "xaxis": "x",
         "y0": " ",
         "yaxis": "y"
        },
        {
         "alignmentgroup": "True",
         "hovertemplate": "color=Ismay, Mr. Joseph Bruce<br>x=%{x}<extra></extra>",
         "legendgroup": "Ismay, Mr. Joseph Bruce",
         "marker": {
          "color": "#00cc96"
         },
         "name": "Ismay, Mr. Joseph Bruce",
         "notched": false,
         "offsetgroup": "Ismay, Mr. Joseph Bruce",
         "orientation": "h",
         "showlegend": true,
         "type": "box",
         "x": [
          49
         ],
         "x0": " ",
         "xaxis": "x",
         "y0": " ",
         "yaxis": "y"
        },
        {
         "alignmentgroup": "True",
         "hovertemplate": "color=Harbeck, Mr. William H<br>x=%{x}<extra></extra>",
         "legendgroup": "Harbeck, Mr. William H",
         "marker": {
          "color": "#ab63fa"
         },
         "name": "Harbeck, Mr. William H",
         "notched": false,
         "offsetgroup": "Harbeck, Mr. William H",
         "orientation": "h",
         "showlegend": true,
         "type": "box",
         "x": [
          44
         ],
         "x0": " ",
         "xaxis": "x",
         "y0": " ",
         "yaxis": "y"
        },
        {
         "alignmentgroup": "True",
         "hovertemplate": "color=Dodge, Mrs. Washington (Ruth Vidaver)<br>x=%{x}<extra></extra>",
         "legendgroup": "Dodge, Mrs. Washington (Ruth Vidaver)",
         "marker": {
          "color": "#FFA15A"
         },
         "name": "Dodge, Mrs. Washington (Ruth Vidaver)",
         "notched": false,
         "offsetgroup": "Dodge, Mrs. Washington (Ruth Vidaver)",
         "orientation": "h",
         "showlegend": true,
         "type": "box",
         "x": [
          54
         ],
         "x0": " ",
         "xaxis": "x",
         "y0": " ",
         "yaxis": "y"
        },
        {
         "alignmentgroup": "True",
         "hovertemplate": "color=Bowen, Miss. Grace Scott<br>x=%{x}<extra></extra>",
         "legendgroup": "Bowen, Miss. Grace Scott",
         "marker": {
          "color": "#19d3f3"
         },
         "name": "Bowen, Miss. Grace Scott",
         "notched": false,
         "offsetgroup": "Bowen, Miss. Grace Scott",
         "orientation": "h",
         "showlegend": true,
         "type": "box",
         "x": [
          45
         ],
         "x0": " ",
         "xaxis": "x",
         "y0": " ",
         "yaxis": "y"
        },
        {
         "alignmentgroup": "True",
         "hovertemplate": "color=Kink, Miss. Maria<br>x=%{x}<extra></extra>",
         "legendgroup": "Kink, Miss. Maria",
         "marker": {
          "color": "#FF6692"
         },
         "name": "Kink, Miss. Maria",
         "notched": false,
         "offsetgroup": "Kink, Miss. Maria",
         "orientation": "h",
         "showlegend": true,
         "type": "box",
         "x": [
          22
         ],
         "x0": " ",
         "xaxis": "x",
         "y0": " ",
         "yaxis": "y"
        },
        {
         "alignmentgroup": "True",
         "hovertemplate": "color=Cotterill, Mr. Henry Harry\"\"<br>x=%{x}<extra></extra>",
         "legendgroup": "Cotterill, Mr. Henry Harry\"\"",
         "marker": {
          "color": "#B6E880"
         },
         "name": "Cotterill, Mr. Henry Harry\"\"",
         "notched": false,
         "offsetgroup": "Cotterill, Mr. Henry Harry\"\"",
         "orientation": "h",
         "showlegend": true,
         "type": "box",
         "x": [
          21
         ],
         "x0": " ",
         "xaxis": "x",
         "y0": " ",
         "yaxis": "y"
        },
        {
         "alignmentgroup": "True",
         "hovertemplate": "color=Hipkins, Mr. William Edward<br>x=%{x}<extra></extra>",
         "legendgroup": "Hipkins, Mr. William Edward",
         "marker": {
          "color": "#FF97FF"
         },
         "name": "Hipkins, Mr. William Edward",
         "notched": false,
         "offsetgroup": "Hipkins, Mr. William Edward",
         "orientation": "h",
         "showlegend": true,
         "type": "box",
         "x": [
          55
         ],
         "x0": " ",
         "xaxis": "x",
         "y0": " ",
         "yaxis": "y"
        },
        {
         "alignmentgroup": "True",
         "hovertemplate": "color=Asplund, Master. Carl Edgar<br>x=%{x}<extra></extra>",
         "legendgroup": "Asplund, Master. Carl Edgar",
         "marker": {
          "color": "#FECB52"
         },
         "name": "Asplund, Master. Carl Edgar",
         "notched": false,
         "offsetgroup": "Asplund, Master. Carl Edgar",
         "orientation": "h",
         "showlegend": true,
         "type": "box",
         "x": [
          5
         ],
         "x0": " ",
         "xaxis": "x",
         "y0": " ",
         "yaxis": "y"
        },
        {
         "alignmentgroup": "True",
         "hovertemplate": "color=O'Connor, Mr. Patrick<br>x=%{x}<extra></extra>",
         "legendgroup": "O'Connor, Mr. Patrick",
         "marker": {
          "color": "#636efa"
         },
         "name": "O'Connor, Mr. Patrick",
         "notched": false,
         "offsetgroup": "O'Connor, Mr. Patrick",
         "orientation": "h",
         "showlegend": true,
         "type": "box",
         "x": [
          30.272590361445783
         ],
         "x0": " ",
         "xaxis": "x",
         "y0": " ",
         "yaxis": "y"
        },
        {
         "alignmentgroup": "True",
         "hovertemplate": "color=Foley, Mr. Joseph<br>x=%{x}<extra></extra>",
         "legendgroup": "Foley, Mr. Joseph",
         "marker": {
          "color": "#EF553B"
         },
         "name": "Foley, Mr. Joseph",
         "notched": false,
         "offsetgroup": "Foley, Mr. Joseph",
         "orientation": "h",
         "showlegend": true,
         "type": "box",
         "x": [
          26
         ],
         "x0": " ",
         "xaxis": "x",
         "y0": " ",
         "yaxis": "y"
        },
        {
         "alignmentgroup": "True",
         "hovertemplate": "color=Risien, Mrs. Samuel (Emma)<br>x=%{x}<extra></extra>",
         "legendgroup": "Risien, Mrs. Samuel (Emma)",
         "marker": {
          "color": "#00cc96"
         },
         "name": "Risien, Mrs. Samuel (Emma)",
         "notched": false,
         "offsetgroup": "Risien, Mrs. Samuel (Emma)",
         "orientation": "h",
         "showlegend": true,
         "type": "box",
         "x": [
          30.272590361445783
         ],
         "x0": " ",
         "xaxis": "x",
         "y0": " ",
         "yaxis": "y"
        },
        {
         "alignmentgroup": "True",
         "hovertemplate": "color=McNamee, Mrs. Neal (Eileen O'Leary)<br>x=%{x}<extra></extra>",
         "legendgroup": "McNamee, Mrs. Neal (Eileen O'Leary)",
         "marker": {
          "color": "#ab63fa"
         },
         "name": "McNamee, Mrs. Neal (Eileen O'Leary)",
         "notched": false,
         "offsetgroup": "McNamee, Mrs. Neal (Eileen O'Leary)",
         "orientation": "h",
         "showlegend": true,
         "type": "box",
         "x": [
          19
         ],
         "x0": " ",
         "xaxis": "x",
         "y0": " ",
         "yaxis": "y"
        },
        {
         "alignmentgroup": "True",
         "hovertemplate": "color=Wheeler, Mr. Edwin Frederick\"\"<br>x=%{x}<extra></extra>",
         "legendgroup": "Wheeler, Mr. Edwin Frederick\"\"",
         "marker": {
          "color": "#FFA15A"
         },
         "name": "Wheeler, Mr. Edwin Frederick\"\"",
         "notched": false,
         "offsetgroup": "Wheeler, Mr. Edwin Frederick\"\"",
         "orientation": "h",
         "showlegend": true,
         "type": "box",
         "x": [
          30.272590361445783
         ],
         "x0": " ",
         "xaxis": "x",
         "y0": " ",
         "yaxis": "y"
        },
        {
         "alignmentgroup": "True",
         "hovertemplate": "color=Herman, Miss. Kate<br>x=%{x}<extra></extra>",
         "legendgroup": "Herman, Miss. Kate",
         "marker": {
          "color": "#19d3f3"
         },
         "name": "Herman, Miss. Kate",
         "notched": false,
         "offsetgroup": "Herman, Miss. Kate",
         "orientation": "h",
         "showlegend": true,
         "type": "box",
         "x": [
          24
         ],
         "x0": " ",
         "xaxis": "x",
         "y0": " ",
         "yaxis": "y"
        },
        {
         "alignmentgroup": "True",
         "hovertemplate": "color=Aronsson, Mr. Ernst Axel Algot<br>x=%{x}<extra></extra>",
         "legendgroup": "Aronsson, Mr. Ernst Axel Algot",
         "marker": {
          "color": "#FF6692"
         },
         "name": "Aronsson, Mr. Ernst Axel Algot",
         "notched": false,
         "offsetgroup": "Aronsson, Mr. Ernst Axel Algot",
         "orientation": "h",
         "showlegend": true,
         "type": "box",
         "x": [
          24
         ],
         "x0": " ",
         "xaxis": "x",
         "y0": " ",
         "yaxis": "y"
        },
        {
         "alignmentgroup": "True",
         "hovertemplate": "color=Ashby, Mr. John<br>x=%{x}<extra></extra>",
         "legendgroup": "Ashby, Mr. John",
         "marker": {
          "color": "#B6E880"
         },
         "name": "Ashby, Mr. John",
         "notched": false,
         "offsetgroup": "Ashby, Mr. John",
         "orientation": "h",
         "showlegend": true,
         "type": "box",
         "x": [
          57
         ],
         "x0": " ",
         "xaxis": "x",
         "y0": " ",
         "yaxis": "y"
        },
        {
         "alignmentgroup": "True",
         "hovertemplate": "color=Canavan, Mr. Patrick<br>x=%{x}<extra></extra>",
         "legendgroup": "Canavan, Mr. Patrick",
         "marker": {
          "color": "#FF97FF"
         },
         "name": "Canavan, Mr. Patrick",
         "notched": false,
         "offsetgroup": "Canavan, Mr. Patrick",
         "orientation": "h",
         "showlegend": true,
         "type": "box",
         "x": [
          21
         ],
         "x0": " ",
         "xaxis": "x",
         "y0": " ",
         "yaxis": "y"
        },
        {
         "alignmentgroup": "True",
         "hovertemplate": "color=Palsson, Master. Paul Folke<br>x=%{x}<extra></extra>",
         "legendgroup": "Palsson, Master. Paul Folke",
         "marker": {
          "color": "#FECB52"
         },
         "name": "Palsson, Master. Paul Folke",
         "notched": false,
         "offsetgroup": "Palsson, Master. Paul Folke",
         "orientation": "h",
         "showlegend": true,
         "type": "box",
         "x": [
          6
         ],
         "x0": " ",
         "xaxis": "x",
         "y0": " ",
         "yaxis": "y"
        },
        {
         "alignmentgroup": "True",
         "hovertemplate": "color=Payne, Mr. Vivian Ponsonby<br>x=%{x}<extra></extra>",
         "legendgroup": "Payne, Mr. Vivian Ponsonby",
         "marker": {
          "color": "#636efa"
         },
         "name": "Payne, Mr. Vivian Ponsonby",
         "notched": false,
         "offsetgroup": "Payne, Mr. Vivian Ponsonby",
         "orientation": "h",
         "showlegend": true,
         "type": "box",
         "x": [
          23
         ],
         "x0": " ",
         "xaxis": "x",
         "y0": " ",
         "yaxis": "y"
        },
        {
         "alignmentgroup": "True",
         "hovertemplate": "color=Lines, Mrs. Ernest H (Elizabeth Lindsey James)<br>x=%{x}<extra></extra>",
         "legendgroup": "Lines, Mrs. Ernest H (Elizabeth Lindsey James)",
         "marker": {
          "color": "#EF553B"
         },
         "name": "Lines, Mrs. Ernest H (Elizabeth Lindsey James)",
         "notched": false,
         "offsetgroup": "Lines, Mrs. Ernest H (Elizabeth Lindsey James)",
         "orientation": "h",
         "showlegend": true,
         "type": "box",
         "x": [
          51
         ],
         "x0": " ",
         "xaxis": "x",
         "y0": " ",
         "yaxis": "y"
        },
        {
         "alignmentgroup": "True",
         "hovertemplate": "color=Abbott, Master. Eugene Joseph<br>x=%{x}<extra></extra>",
         "legendgroup": "Abbott, Master. Eugene Joseph",
         "marker": {
          "color": "#00cc96"
         },
         "name": "Abbott, Master. Eugene Joseph",
         "notched": false,
         "offsetgroup": "Abbott, Master. Eugene Joseph",
         "orientation": "h",
         "showlegend": true,
         "type": "box",
         "x": [
          13
         ],
         "x0": " ",
         "xaxis": "x",
         "y0": " ",
         "yaxis": "y"
        },
        {
         "alignmentgroup": "True",
         "hovertemplate": "color=Gilbert, Mr. William<br>x=%{x}<extra></extra>",
         "legendgroup": "Gilbert, Mr. William",
         "marker": {
          "color": "#ab63fa"
         },
         "name": "Gilbert, Mr. William",
         "notched": false,
         "offsetgroup": "Gilbert, Mr. William",
         "orientation": "h",
         "showlegend": true,
         "type": "box",
         "x": [
          47
         ],
         "x0": " ",
         "xaxis": "x",
         "y0": " ",
         "yaxis": "y"
        },
        {
         "alignmentgroup": "True",
         "hovertemplate": "color=Kink-Heilmann, Mr. Anton<br>x=%{x}<extra></extra>",
         "legendgroup": "Kink-Heilmann, Mr. Anton",
         "marker": {
          "color": "#FFA15A"
         },
         "name": "Kink-Heilmann, Mr. Anton",
         "notched": false,
         "offsetgroup": "Kink-Heilmann, Mr. Anton",
         "orientation": "h",
         "showlegend": true,
         "type": "box",
         "x": [
          29
         ],
         "x0": " ",
         "xaxis": "x",
         "y0": " ",
         "yaxis": "y"
        },
        {
         "alignmentgroup": "True",
         "hovertemplate": "color=Smith, Mrs. Lucien Philip (Mary Eloise Hughes)<br>x=%{x}<extra></extra>",
         "legendgroup": "Smith, Mrs. Lucien Philip (Mary Eloise Hughes)",
         "marker": {
          "color": "#19d3f3"
         },
         "name": "Smith, Mrs. Lucien Philip (Mary Eloise Hughes)",
         "notched": false,
         "offsetgroup": "Smith, Mrs. Lucien Philip (Mary Eloise Hughes)",
         "orientation": "h",
         "showlegend": true,
         "type": "box",
         "x": [
          18
         ],
         "x0": " ",
         "xaxis": "x",
         "y0": " ",
         "yaxis": "y"
        },
        {
         "alignmentgroup": "True",
         "hovertemplate": "color=Colbert, Mr. Patrick<br>x=%{x}<extra></extra>",
         "legendgroup": "Colbert, Mr. Patrick",
         "marker": {
          "color": "#FF6692"
         },
         "name": "Colbert, Mr. Patrick",
         "notched": false,
         "offsetgroup": "Colbert, Mr. Patrick",
         "orientation": "h",
         "showlegend": true,
         "type": "box",
         "x": [
          24
         ],
         "x0": " ",
         "xaxis": "x",
         "y0": " ",
         "yaxis": "y"
        },
        {
         "alignmentgroup": "True",
         "hovertemplate": "color=Frolicher-Stehli, Mrs. Maxmillian (Margaretha Emerentia Stehli)<br>x=%{x}<extra></extra>",
         "legendgroup": "Frolicher-Stehli, Mrs. Maxmillian (Margaretha Emerentia Stehli)",
         "marker": {
          "color": "#B6E880"
         },
         "name": "Frolicher-Stehli, Mrs. Maxmillian (Margaretha Emerentia Stehli)",
         "notched": false,
         "offsetgroup": "Frolicher-Stehli, Mrs. Maxmillian (Margaretha Emerentia Stehli)",
         "orientation": "h",
         "showlegend": true,
         "type": "box",
         "x": [
          48
         ],
         "x0": " ",
         "xaxis": "x",
         "y0": " ",
         "yaxis": "y"
        },
        {
         "alignmentgroup": "True",
         "hovertemplate": "color=Larsson-Rondberg, Mr. Edvard A<br>x=%{x}<extra></extra>",
         "legendgroup": "Larsson-Rondberg, Mr. Edvard A",
         "marker": {
          "color": "#FF97FF"
         },
         "name": "Larsson-Rondberg, Mr. Edvard A",
         "notched": false,
         "offsetgroup": "Larsson-Rondberg, Mr. Edvard A",
         "orientation": "h",
         "showlegend": true,
         "type": "box",
         "x": [
          22
         ],
         "x0": " ",
         "xaxis": "x",
         "y0": " ",
         "yaxis": "y"
        },
        {
         "alignmentgroup": "True",
         "hovertemplate": "color=Conlon, Mr. Thomas Henry<br>x=%{x}<extra></extra>",
         "legendgroup": "Conlon, Mr. Thomas Henry",
         "marker": {
          "color": "#FECB52"
         },
         "name": "Conlon, Mr. Thomas Henry",
         "notched": false,
         "offsetgroup": "Conlon, Mr. Thomas Henry",
         "orientation": "h",
         "showlegend": true,
         "type": "box",
         "x": [
          31
         ],
         "x0": " ",
         "xaxis": "x",
         "y0": " ",
         "yaxis": "y"
        },
        {
         "alignmentgroup": "True",
         "hovertemplate": "color=Bonnell, Miss. Caroline<br>x=%{x}<extra></extra>",
         "legendgroup": "Bonnell, Miss. Caroline",
         "marker": {
          "color": "#636efa"
         },
         "name": "Bonnell, Miss. Caroline",
         "notched": false,
         "offsetgroup": "Bonnell, Miss. Caroline",
         "orientation": "h",
         "showlegend": true,
         "type": "box",
         "x": [
          30
         ],
         "x0": " ",
         "xaxis": "x",
         "y0": " ",
         "yaxis": "y"
        },
        {
         "alignmentgroup": "True",
         "hovertemplate": "color=Gale, Mr. Harry<br>x=%{x}<extra></extra>",
         "legendgroup": "Gale, Mr. Harry",
         "marker": {
          "color": "#EF553B"
         },
         "name": "Gale, Mr. Harry",
         "notched": false,
         "offsetgroup": "Gale, Mr. Harry",
         "orientation": "h",
         "showlegend": true,
         "type": "box",
         "x": [
          38
         ],
         "x0": " ",
         "xaxis": "x",
         "y0": " ",
         "yaxis": "y"
        },
        {
         "alignmentgroup": "True",
         "hovertemplate": "color=Gibson, Miss. Dorothy Winifred<br>x=%{x}<extra></extra>",
         "legendgroup": "Gibson, Miss. Dorothy Winifred",
         "marker": {
          "color": "#00cc96"
         },
         "name": "Gibson, Miss. Dorothy Winifred",
         "notched": false,
         "offsetgroup": "Gibson, Miss. Dorothy Winifred",
         "orientation": "h",
         "showlegend": true,
         "type": "box",
         "x": [
          22
         ],
         "x0": " ",
         "xaxis": "x",
         "y0": " ",
         "yaxis": "y"
        },
        {
         "alignmentgroup": "True",
         "hovertemplate": "color=Carrau, Mr. Jose Pedro<br>x=%{x}<extra></extra>",
         "legendgroup": "Carrau, Mr. Jose Pedro",
         "marker": {
          "color": "#ab63fa"
         },
         "name": "Carrau, Mr. Jose Pedro",
         "notched": false,
         "offsetgroup": "Carrau, Mr. Jose Pedro",
         "orientation": "h",
         "showlegend": true,
         "type": "box",
         "x": [
          17
         ],
         "x0": " ",
         "xaxis": "x",
         "y0": " ",
         "yaxis": "y"
        },
        {
         "alignmentgroup": "True",
         "hovertemplate": "color=Frauenthal, Mr. Isaac Gerald<br>x=%{x}<extra></extra>",
         "legendgroup": "Frauenthal, Mr. Isaac Gerald",
         "marker": {
          "color": "#FFA15A"
         },
         "name": "Frauenthal, Mr. Isaac Gerald",
         "notched": false,
         "offsetgroup": "Frauenthal, Mr. Isaac Gerald",
         "orientation": "h",
         "showlegend": true,
         "type": "box",
         "x": [
          43
         ],
         "x0": " ",
         "xaxis": "x",
         "y0": " ",
         "yaxis": "y"
        },
        {
         "alignmentgroup": "True",
         "hovertemplate": "color=Nourney, Mr. Alfred (Baron von Drachstedt\")\"<br>x=%{x}<extra></extra>",
         "legendgroup": "Nourney, Mr. Alfred (Baron von Drachstedt\")\"",
         "marker": {
          "color": "#19d3f3"
         },
         "name": "Nourney, Mr. Alfred (Baron von Drachstedt\")\"",
         "notched": false,
         "offsetgroup": "Nourney, Mr. Alfred (Baron von Drachstedt\")\"",
         "orientation": "h",
         "showlegend": true,
         "type": "box",
         "x": [
          20
         ],
         "x0": " ",
         "xaxis": "x",
         "y0": " ",
         "yaxis": "y"
        },
        {
         "alignmentgroup": "True",
         "hovertemplate": "color=Ware, Mr. William Jeffery<br>x=%{x}<extra></extra>",
         "legendgroup": "Ware, Mr. William Jeffery",
         "marker": {
          "color": "#FF6692"
         },
         "name": "Ware, Mr. William Jeffery",
         "notched": false,
         "offsetgroup": "Ware, Mr. William Jeffery",
         "orientation": "h",
         "showlegend": true,
         "type": "box",
         "x": [
          23
         ],
         "x0": " ",
         "xaxis": "x",
         "y0": " ",
         "yaxis": "y"
        },
        {
         "alignmentgroup": "True",
         "hovertemplate": "color=Widener, Mr. George Dunton<br>x=%{x}<extra></extra>",
         "legendgroup": "Widener, Mr. George Dunton",
         "marker": {
          "color": "#B6E880"
         },
         "name": "Widener, Mr. George Dunton",
         "notched": false,
         "offsetgroup": "Widener, Mr. George Dunton",
         "orientation": "h",
         "showlegend": true,
         "type": "box",
         "x": [
          50
         ],
         "x0": " ",
         "xaxis": "x",
         "y0": " ",
         "yaxis": "y"
        },
        {
         "alignmentgroup": "True",
         "hovertemplate": "color=Riordan, Miss. Johanna Hannah\"\"<br>x=%{x}<extra></extra>",
         "legendgroup": "Riordan, Miss. Johanna Hannah\"\"",
         "marker": {
          "color": "#FF97FF"
         },
         "name": "Riordan, Miss. Johanna Hannah\"\"",
         "notched": false,
         "offsetgroup": "Riordan, Miss. Johanna Hannah\"\"",
         "orientation": "h",
         "showlegend": true,
         "type": "box",
         "x": [
          30.272590361445783
         ],
         "x0": " ",
         "xaxis": "x",
         "y0": " ",
         "yaxis": "y"
        },
        {
         "alignmentgroup": "True",
         "hovertemplate": "color=Peacock, Miss. Treasteall<br>x=%{x}<extra></extra>",
         "legendgroup": "Peacock, Miss. Treasteall",
         "marker": {
          "color": "#FECB52"
         },
         "name": "Peacock, Miss. Treasteall",
         "notched": false,
         "offsetgroup": "Peacock, Miss. Treasteall",
         "orientation": "h",
         "showlegend": true,
         "type": "box",
         "x": [
          3
         ],
         "x0": " ",
         "xaxis": "x",
         "y0": " ",
         "yaxis": "y"
        },
        {
         "alignmentgroup": "True",
         "hovertemplate": "color=Naughton, Miss. Hannah<br>x=%{x}<extra></extra>",
         "legendgroup": "Naughton, Miss. Hannah",
         "marker": {
          "color": "#636efa"
         },
         "name": "Naughton, Miss. Hannah",
         "notched": false,
         "offsetgroup": "Naughton, Miss. Hannah",
         "orientation": "h",
         "showlegend": true,
         "type": "box",
         "x": [
          30.272590361445783
         ],
         "x0": " ",
         "xaxis": "x",
         "y0": " ",
         "yaxis": "y"
        },
        {
         "alignmentgroup": "True",
         "hovertemplate": "color=Minahan, Mrs. William Edward (Lillian E Thorpe)<br>x=%{x}<extra></extra>",
         "legendgroup": "Minahan, Mrs. William Edward (Lillian E Thorpe)",
         "marker": {
          "color": "#EF553B"
         },
         "name": "Minahan, Mrs. William Edward (Lillian E Thorpe)",
         "notched": false,
         "offsetgroup": "Minahan, Mrs. William Edward (Lillian E Thorpe)",
         "orientation": "h",
         "showlegend": true,
         "type": "box",
         "x": [
          37
         ],
         "x0": " ",
         "xaxis": "x",
         "y0": " ",
         "yaxis": "y"
        },
        {
         "alignmentgroup": "True",
         "hovertemplate": "color=Henriksson, Miss. Jenny Lovisa<br>x=%{x}<extra></extra>",
         "legendgroup": "Henriksson, Miss. Jenny Lovisa",
         "marker": {
          "color": "#00cc96"
         },
         "name": "Henriksson, Miss. Jenny Lovisa",
         "notched": false,
         "offsetgroup": "Henriksson, Miss. Jenny Lovisa",
         "orientation": "h",
         "showlegend": true,
         "type": "box",
         "x": [
          28
         ],
         "x0": " ",
         "xaxis": "x",
         "y0": " ",
         "yaxis": "y"
        },
        {
         "alignmentgroup": "True",
         "hovertemplate": "color=Spector, Mr. Woolf<br>x=%{x}<extra></extra>",
         "legendgroup": "Spector, Mr. Woolf",
         "marker": {
          "color": "#ab63fa"
         },
         "name": "Spector, Mr. Woolf",
         "notched": false,
         "offsetgroup": "Spector, Mr. Woolf",
         "orientation": "h",
         "showlegend": true,
         "type": "box",
         "x": [
          30.272590361445783
         ],
         "x0": " ",
         "xaxis": "x",
         "y0": " ",
         "yaxis": "y"
        },
        {
         "alignmentgroup": "True",
         "hovertemplate": "color=Oliva y Ocana, Dona. Fermina<br>x=%{x}<extra></extra>",
         "legendgroup": "Oliva y Ocana, Dona. Fermina",
         "marker": {
          "color": "#FFA15A"
         },
         "name": "Oliva y Ocana, Dona. Fermina",
         "notched": false,
         "offsetgroup": "Oliva y Ocana, Dona. Fermina",
         "orientation": "h",
         "showlegend": true,
         "type": "box",
         "x": [
          39
         ],
         "x0": " ",
         "xaxis": "x",
         "y0": " ",
         "yaxis": "y"
        },
        {
         "alignmentgroup": "True",
         "hovertemplate": "color=Saether, Mr. Simon Sivertsen<br>x=%{x}<extra></extra>",
         "legendgroup": "Saether, Mr. Simon Sivertsen",
         "marker": {
          "color": "#19d3f3"
         },
         "name": "Saether, Mr. Simon Sivertsen",
         "notched": false,
         "offsetgroup": "Saether, Mr. Simon Sivertsen",
         "orientation": "h",
         "showlegend": true,
         "type": "box",
         "x": [
          38.5
         ],
         "x0": " ",
         "xaxis": "x",
         "y0": " ",
         "yaxis": "y"
        },
        {
         "alignmentgroup": "True",
         "hovertemplate": "color=Ware, Mr. Frederick<br>x=%{x}<extra></extra>",
         "legendgroup": "Ware, Mr. Frederick",
         "marker": {
          "color": "#FF6692"
         },
         "name": "Ware, Mr. Frederick",
         "notched": false,
         "offsetgroup": "Ware, Mr. Frederick",
         "orientation": "h",
         "showlegend": true,
         "type": "box",
         "x": [
          30.272590361445783
         ],
         "x0": " ",
         "xaxis": "x",
         "y0": " ",
         "yaxis": "y"
        },
        {
         "alignmentgroup": "True",
         "hovertemplate": "color=Peter, Master. Michael J<br>x=%{x}<extra></extra>",
         "legendgroup": "Peter, Master. Michael J",
         "marker": {
          "color": "#B6E880"
         },
         "name": "Peter, Master. Michael J",
         "notched": false,
         "offsetgroup": "Peter, Master. Michael J",
         "orientation": "h",
         "showlegend": true,
         "type": "box",
         "x": [
          30.272590361445783
         ],
         "x0": " ",
         "xaxis": "x",
         "y0": " ",
         "yaxis": "y"
        }
       ],
       "layout": {
        "boxmode": "group",
        "legend": {
         "title": {
          "text": "color"
         },
         "tracegroupgap": 0
        },
        "margin": {
         "t": 60
        },
        "template": {
         "data": {
          "bar": [
           {
            "error_x": {
             "color": "#2a3f5f"
            },
            "error_y": {
             "color": "#2a3f5f"
            },
            "marker": {
             "line": {
              "color": "#E5ECF6",
              "width": 0.5
             },
             "pattern": {
              "fillmode": "overlay",
              "size": 10,
              "solidity": 0.2
             }
            },
            "type": "bar"
           }
          ],
          "barpolar": [
           {
            "marker": {
             "line": {
              "color": "#E5ECF6",
              "width": 0.5
             },
             "pattern": {
              "fillmode": "overlay",
              "size": 10,
              "solidity": 0.2
             }
            },
            "type": "barpolar"
           }
          ],
          "carpet": [
           {
            "aaxis": {
             "endlinecolor": "#2a3f5f",
             "gridcolor": "white",
             "linecolor": "white",
             "minorgridcolor": "white",
             "startlinecolor": "#2a3f5f"
            },
            "baxis": {
             "endlinecolor": "#2a3f5f",
             "gridcolor": "white",
             "linecolor": "white",
             "minorgridcolor": "white",
             "startlinecolor": "#2a3f5f"
            },
            "type": "carpet"
           }
          ],
          "choropleth": [
           {
            "colorbar": {
             "outlinewidth": 0,
             "ticks": ""
            },
            "type": "choropleth"
           }
          ],
          "contour": [
           {
            "colorbar": {
             "outlinewidth": 0,
             "ticks": ""
            },
            "colorscale": [
             [
              0,
              "#0d0887"
             ],
             [
              0.1111111111111111,
              "#46039f"
             ],
             [
              0.2222222222222222,
              "#7201a8"
             ],
             [
              0.3333333333333333,
              "#9c179e"
             ],
             [
              0.4444444444444444,
              "#bd3786"
             ],
             [
              0.5555555555555556,
              "#d8576b"
             ],
             [
              0.6666666666666666,
              "#ed7953"
             ],
             [
              0.7777777777777778,
              "#fb9f3a"
             ],
             [
              0.8888888888888888,
              "#fdca26"
             ],
             [
              1,
              "#f0f921"
             ]
            ],
            "type": "contour"
           }
          ],
          "contourcarpet": [
           {
            "colorbar": {
             "outlinewidth": 0,
             "ticks": ""
            },
            "type": "contourcarpet"
           }
          ],
          "heatmap": [
           {
            "colorbar": {
             "outlinewidth": 0,
             "ticks": ""
            },
            "colorscale": [
             [
              0,
              "#0d0887"
             ],
             [
              0.1111111111111111,
              "#46039f"
             ],
             [
              0.2222222222222222,
              "#7201a8"
             ],
             [
              0.3333333333333333,
              "#9c179e"
             ],
             [
              0.4444444444444444,
              "#bd3786"
             ],
             [
              0.5555555555555556,
              "#d8576b"
             ],
             [
              0.6666666666666666,
              "#ed7953"
             ],
             [
              0.7777777777777778,
              "#fb9f3a"
             ],
             [
              0.8888888888888888,
              "#fdca26"
             ],
             [
              1,
              "#f0f921"
             ]
            ],
            "type": "heatmap"
           }
          ],
          "heatmapgl": [
           {
            "colorbar": {
             "outlinewidth": 0,
             "ticks": ""
            },
            "colorscale": [
             [
              0,
              "#0d0887"
             ],
             [
              0.1111111111111111,
              "#46039f"
             ],
             [
              0.2222222222222222,
              "#7201a8"
             ],
             [
              0.3333333333333333,
              "#9c179e"
             ],
             [
              0.4444444444444444,
              "#bd3786"
             ],
             [
              0.5555555555555556,
              "#d8576b"
             ],
             [
              0.6666666666666666,
              "#ed7953"
             ],
             [
              0.7777777777777778,
              "#fb9f3a"
             ],
             [
              0.8888888888888888,
              "#fdca26"
             ],
             [
              1,
              "#f0f921"
             ]
            ],
            "type": "heatmapgl"
           }
          ],
          "histogram": [
           {
            "marker": {
             "pattern": {
              "fillmode": "overlay",
              "size": 10,
              "solidity": 0.2
             }
            },
            "type": "histogram"
           }
          ],
          "histogram2d": [
           {
            "colorbar": {
             "outlinewidth": 0,
             "ticks": ""
            },
            "colorscale": [
             [
              0,
              "#0d0887"
             ],
             [
              0.1111111111111111,
              "#46039f"
             ],
             [
              0.2222222222222222,
              "#7201a8"
             ],
             [
              0.3333333333333333,
              "#9c179e"
             ],
             [
              0.4444444444444444,
              "#bd3786"
             ],
             [
              0.5555555555555556,
              "#d8576b"
             ],
             [
              0.6666666666666666,
              "#ed7953"
             ],
             [
              0.7777777777777778,
              "#fb9f3a"
             ],
             [
              0.8888888888888888,
              "#fdca26"
             ],
             [
              1,
              "#f0f921"
             ]
            ],
            "type": "histogram2d"
           }
          ],
          "histogram2dcontour": [
           {
            "colorbar": {
             "outlinewidth": 0,
             "ticks": ""
            },
            "colorscale": [
             [
              0,
              "#0d0887"
             ],
             [
              0.1111111111111111,
              "#46039f"
             ],
             [
              0.2222222222222222,
              "#7201a8"
             ],
             [
              0.3333333333333333,
              "#9c179e"
             ],
             [
              0.4444444444444444,
              "#bd3786"
             ],
             [
              0.5555555555555556,
              "#d8576b"
             ],
             [
              0.6666666666666666,
              "#ed7953"
             ],
             [
              0.7777777777777778,
              "#fb9f3a"
             ],
             [
              0.8888888888888888,
              "#fdca26"
             ],
             [
              1,
              "#f0f921"
             ]
            ],
            "type": "histogram2dcontour"
           }
          ],
          "mesh3d": [
           {
            "colorbar": {
             "outlinewidth": 0,
             "ticks": ""
            },
            "type": "mesh3d"
           }
          ],
          "parcoords": [
           {
            "line": {
             "colorbar": {
              "outlinewidth": 0,
              "ticks": ""
             }
            },
            "type": "parcoords"
           }
          ],
          "pie": [
           {
            "automargin": true,
            "type": "pie"
           }
          ],
          "scatter": [
           {
            "fillpattern": {
             "fillmode": "overlay",
             "size": 10,
             "solidity": 0.2
            },
            "type": "scatter"
           }
          ],
          "scatter3d": [
           {
            "line": {
             "colorbar": {
              "outlinewidth": 0,
              "ticks": ""
             }
            },
            "marker": {
             "colorbar": {
              "outlinewidth": 0,
              "ticks": ""
             }
            },
            "type": "scatter3d"
           }
          ],
          "scattercarpet": [
           {
            "marker": {
             "colorbar": {
              "outlinewidth": 0,
              "ticks": ""
             }
            },
            "type": "scattercarpet"
           }
          ],
          "scattergeo": [
           {
            "marker": {
             "colorbar": {
              "outlinewidth": 0,
              "ticks": ""
             }
            },
            "type": "scattergeo"
           }
          ],
          "scattergl": [
           {
            "marker": {
             "colorbar": {
              "outlinewidth": 0,
              "ticks": ""
             }
            },
            "type": "scattergl"
           }
          ],
          "scattermapbox": [
           {
            "marker": {
             "colorbar": {
              "outlinewidth": 0,
              "ticks": ""
             }
            },
            "type": "scattermapbox"
           }
          ],
          "scatterpolar": [
           {
            "marker": {
             "colorbar": {
              "outlinewidth": 0,
              "ticks": ""
             }
            },
            "type": "scatterpolar"
           }
          ],
          "scatterpolargl": [
           {
            "marker": {
             "colorbar": {
              "outlinewidth": 0,
              "ticks": ""
             }
            },
            "type": "scatterpolargl"
           }
          ],
          "scatterternary": [
           {
            "marker": {
             "colorbar": {
              "outlinewidth": 0,
              "ticks": ""
             }
            },
            "type": "scatterternary"
           }
          ],
          "surface": [
           {
            "colorbar": {
             "outlinewidth": 0,
             "ticks": ""
            },
            "colorscale": [
             [
              0,
              "#0d0887"
             ],
             [
              0.1111111111111111,
              "#46039f"
             ],
             [
              0.2222222222222222,
              "#7201a8"
             ],
             [
              0.3333333333333333,
              "#9c179e"
             ],
             [
              0.4444444444444444,
              "#bd3786"
             ],
             [
              0.5555555555555556,
              "#d8576b"
             ],
             [
              0.6666666666666666,
              "#ed7953"
             ],
             [
              0.7777777777777778,
              "#fb9f3a"
             ],
             [
              0.8888888888888888,
              "#fdca26"
             ],
             [
              1,
              "#f0f921"
             ]
            ],
            "type": "surface"
           }
          ],
          "table": [
           {
            "cells": {
             "fill": {
              "color": "#EBF0F8"
             },
             "line": {
              "color": "white"
             }
            },
            "header": {
             "fill": {
              "color": "#C8D4E3"
             },
             "line": {
              "color": "white"
             }
            },
            "type": "table"
           }
          ]
         },
         "layout": {
          "annotationdefaults": {
           "arrowcolor": "#2a3f5f",
           "arrowhead": 0,
           "arrowwidth": 1
          },
          "autotypenumbers": "strict",
          "coloraxis": {
           "colorbar": {
            "outlinewidth": 0,
            "ticks": ""
           }
          },
          "colorscale": {
           "diverging": [
            [
             0,
             "#8e0152"
            ],
            [
             0.1,
             "#c51b7d"
            ],
            [
             0.2,
             "#de77ae"
            ],
            [
             0.3,
             "#f1b6da"
            ],
            [
             0.4,
             "#fde0ef"
            ],
            [
             0.5,
             "#f7f7f7"
            ],
            [
             0.6,
             "#e6f5d0"
            ],
            [
             0.7,
             "#b8e186"
            ],
            [
             0.8,
             "#7fbc41"
            ],
            [
             0.9,
             "#4d9221"
            ],
            [
             1,
             "#276419"
            ]
           ],
           "sequential": [
            [
             0,
             "#0d0887"
            ],
            [
             0.1111111111111111,
             "#46039f"
            ],
            [
             0.2222222222222222,
             "#7201a8"
            ],
            [
             0.3333333333333333,
             "#9c179e"
            ],
            [
             0.4444444444444444,
             "#bd3786"
            ],
            [
             0.5555555555555556,
             "#d8576b"
            ],
            [
             0.6666666666666666,
             "#ed7953"
            ],
            [
             0.7777777777777778,
             "#fb9f3a"
            ],
            [
             0.8888888888888888,
             "#fdca26"
            ],
            [
             1,
             "#f0f921"
            ]
           ],
           "sequentialminus": [
            [
             0,
             "#0d0887"
            ],
            [
             0.1111111111111111,
             "#46039f"
            ],
            [
             0.2222222222222222,
             "#7201a8"
            ],
            [
             0.3333333333333333,
             "#9c179e"
            ],
            [
             0.4444444444444444,
             "#bd3786"
            ],
            [
             0.5555555555555556,
             "#d8576b"
            ],
            [
             0.6666666666666666,
             "#ed7953"
            ],
            [
             0.7777777777777778,
             "#fb9f3a"
            ],
            [
             0.8888888888888888,
             "#fdca26"
            ],
            [
             1,
             "#f0f921"
            ]
           ]
          },
          "colorway": [
           "#636efa",
           "#EF553B",
           "#00cc96",
           "#ab63fa",
           "#FFA15A",
           "#19d3f3",
           "#FF6692",
           "#B6E880",
           "#FF97FF",
           "#FECB52"
          ],
          "font": {
           "color": "#2a3f5f"
          },
          "geo": {
           "bgcolor": "white",
           "lakecolor": "white",
           "landcolor": "#E5ECF6",
           "showlakes": true,
           "showland": true,
           "subunitcolor": "white"
          },
          "hoverlabel": {
           "align": "left"
          },
          "hovermode": "closest",
          "mapbox": {
           "style": "light"
          },
          "paper_bgcolor": "white",
          "plot_bgcolor": "#E5ECF6",
          "polar": {
           "angularaxis": {
            "gridcolor": "white",
            "linecolor": "white",
            "ticks": ""
           },
           "bgcolor": "#E5ECF6",
           "radialaxis": {
            "gridcolor": "white",
            "linecolor": "white",
            "ticks": ""
           }
          },
          "scene": {
           "xaxis": {
            "backgroundcolor": "#E5ECF6",
            "gridcolor": "white",
            "gridwidth": 2,
            "linecolor": "white",
            "showbackground": true,
            "ticks": "",
            "zerolinecolor": "white"
           },
           "yaxis": {
            "backgroundcolor": "#E5ECF6",
            "gridcolor": "white",
            "gridwidth": 2,
            "linecolor": "white",
            "showbackground": true,
            "ticks": "",
            "zerolinecolor": "white"
           },
           "zaxis": {
            "backgroundcolor": "#E5ECF6",
            "gridcolor": "white",
            "gridwidth": 2,
            "linecolor": "white",
            "showbackground": true,
            "ticks": "",
            "zerolinecolor": "white"
           }
          },
          "shapedefaults": {
           "line": {
            "color": "#2a3f5f"
           }
          },
          "ternary": {
           "aaxis": {
            "gridcolor": "white",
            "linecolor": "white",
            "ticks": ""
           },
           "baxis": {
            "gridcolor": "white",
            "linecolor": "white",
            "ticks": ""
           },
           "bgcolor": "#E5ECF6",
           "caxis": {
            "gridcolor": "white",
            "linecolor": "white",
            "ticks": ""
           }
          },
          "title": {
           "x": 0.05
          },
          "xaxis": {
           "automargin": true,
           "gridcolor": "white",
           "linecolor": "white",
           "ticks": "",
           "title": {
            "standoff": 15
           },
           "zerolinecolor": "white",
           "zerolinewidth": 2
          },
          "yaxis": {
           "automargin": true,
           "gridcolor": "white",
           "linecolor": "white",
           "ticks": "",
           "title": {
            "standoff": 15
           },
           "zerolinecolor": "white",
           "zerolinewidth": 2
          }
         }
        },
        "xaxis": {
         "anchor": "y",
         "domain": [
          0,
          1
         ],
         "title": {
          "text": "x"
         }
        },
        "yaxis": {
         "anchor": "x",
         "domain": [
          0,
          1
         ]
        }
       }
      },
      "text/html": [
       "<div>                            <div id=\"5d6d31fb-233d-436b-8e3a-60340b828514\" class=\"plotly-graph-div\" style=\"height:525px; width:100%;\"></div>            <script type=\"text/javascript\">                require([\"plotly\"], function(Plotly) {                    window.PLOTLYENV=window.PLOTLYENV || {};                                    if (document.getElementById(\"5d6d31fb-233d-436b-8e3a-60340b828514\")) {                    Plotly.newPlot(                        \"5d6d31fb-233d-436b-8e3a-60340b828514\",                        [{\"alignmentgroup\":\"True\",\"hovertemplate\":\"color=Kelly, Mr. James\\u003cbr\\u003ex=%{x}\\u003cextra\\u003e\\u003c\\u002fextra\\u003e\",\"legendgroup\":\"Kelly, Mr. James\",\"marker\":{\"color\":\"#636efa\"},\"name\":\"Kelly, Mr. James\",\"notched\":false,\"offsetgroup\":\"Kelly, Mr. James\",\"orientation\":\"h\",\"showlegend\":true,\"x\":[34.5],\"x0\":\" \",\"xaxis\":\"x\",\"y0\":\" \",\"yaxis\":\"y\",\"type\":\"box\"},{\"alignmentgroup\":\"True\",\"hovertemplate\":\"color=Wilkes, Mrs. James (Ellen Needs)\\u003cbr\\u003ex=%{x}\\u003cextra\\u003e\\u003c\\u002fextra\\u003e\",\"legendgroup\":\"Wilkes, Mrs. James (Ellen Needs)\",\"marker\":{\"color\":\"#EF553B\"},\"name\":\"Wilkes, Mrs. James (Ellen Needs)\",\"notched\":false,\"offsetgroup\":\"Wilkes, Mrs. James (Ellen Needs)\",\"orientation\":\"h\",\"showlegend\":true,\"x\":[47.0],\"x0\":\" \",\"xaxis\":\"x\",\"y0\":\" \",\"yaxis\":\"y\",\"type\":\"box\"},{\"alignmentgroup\":\"True\",\"hovertemplate\":\"color=Myles, Mr. Thomas Francis\\u003cbr\\u003ex=%{x}\\u003cextra\\u003e\\u003c\\u002fextra\\u003e\",\"legendgroup\":\"Myles, Mr. Thomas Francis\",\"marker\":{\"color\":\"#00cc96\"},\"name\":\"Myles, Mr. Thomas Francis\",\"notched\":false,\"offsetgroup\":\"Myles, Mr. Thomas Francis\",\"orientation\":\"h\",\"showlegend\":true,\"x\":[62.0],\"x0\":\" \",\"xaxis\":\"x\",\"y0\":\" \",\"yaxis\":\"y\",\"type\":\"box\"},{\"alignmentgroup\":\"True\",\"hovertemplate\":\"color=Wirz, Mr. Albert\\u003cbr\\u003ex=%{x}\\u003cextra\\u003e\\u003c\\u002fextra\\u003e\",\"legendgroup\":\"Wirz, Mr. Albert\",\"marker\":{\"color\":\"#ab63fa\"},\"name\":\"Wirz, Mr. Albert\",\"notched\":false,\"offsetgroup\":\"Wirz, Mr. Albert\",\"orientation\":\"h\",\"showlegend\":true,\"x\":[27.0],\"x0\":\" \",\"xaxis\":\"x\",\"y0\":\" \",\"yaxis\":\"y\",\"type\":\"box\"},{\"alignmentgroup\":\"True\",\"hovertemplate\":\"color=Hirvonen, Mrs. Alexander (Helga E Lindqvist)\\u003cbr\\u003ex=%{x}\\u003cextra\\u003e\\u003c\\u002fextra\\u003e\",\"legendgroup\":\"Hirvonen, Mrs. Alexander (Helga E Lindqvist)\",\"marker\":{\"color\":\"#FFA15A\"},\"name\":\"Hirvonen, Mrs. Alexander (Helga E Lindqvist)\",\"notched\":false,\"offsetgroup\":\"Hirvonen, Mrs. Alexander (Helga E Lindqvist)\",\"orientation\":\"h\",\"showlegend\":true,\"x\":[22.0],\"x0\":\" \",\"xaxis\":\"x\",\"y0\":\" \",\"yaxis\":\"y\",\"type\":\"box\"},{\"alignmentgroup\":\"True\",\"hovertemplate\":\"color=Svensson, Mr. Johan Cervin\\u003cbr\\u003ex=%{x}\\u003cextra\\u003e\\u003c\\u002fextra\\u003e\",\"legendgroup\":\"Svensson, Mr. Johan Cervin\",\"marker\":{\"color\":\"#19d3f3\"},\"name\":\"Svensson, Mr. Johan Cervin\",\"notched\":false,\"offsetgroup\":\"Svensson, Mr. Johan Cervin\",\"orientation\":\"h\",\"showlegend\":true,\"x\":[14.0],\"x0\":\" \",\"xaxis\":\"x\",\"y0\":\" \",\"yaxis\":\"y\",\"type\":\"box\"},{\"alignmentgroup\":\"True\",\"hovertemplate\":\"color=Connolly, Miss. Kate\\u003cbr\\u003ex=%{x}\\u003cextra\\u003e\\u003c\\u002fextra\\u003e\",\"legendgroup\":\"Connolly, Miss. Kate\",\"marker\":{\"color\":\"#FF6692\"},\"name\":\"Connolly, Miss. Kate\",\"notched\":false,\"offsetgroup\":\"Connolly, Miss. Kate\",\"orientation\":\"h\",\"showlegend\":true,\"x\":[30.0],\"x0\":\" \",\"xaxis\":\"x\",\"y0\":\" \",\"yaxis\":\"y\",\"type\":\"box\"},{\"alignmentgroup\":\"True\",\"hovertemplate\":\"color=Caldwell, Mr. Albert Francis\\u003cbr\\u003ex=%{x}\\u003cextra\\u003e\\u003c\\u002fextra\\u003e\",\"legendgroup\":\"Caldwell, Mr. Albert Francis\",\"marker\":{\"color\":\"#B6E880\"},\"name\":\"Caldwell, Mr. Albert Francis\",\"notched\":false,\"offsetgroup\":\"Caldwell, Mr. Albert Francis\",\"orientation\":\"h\",\"showlegend\":true,\"x\":[26.0],\"x0\":\" \",\"xaxis\":\"x\",\"y0\":\" \",\"yaxis\":\"y\",\"type\":\"box\"},{\"alignmentgroup\":\"True\",\"hovertemplate\":\"color=Abrahim, Mrs. Joseph (Sophie Halaut Easu)\\u003cbr\\u003ex=%{x}\\u003cextra\\u003e\\u003c\\u002fextra\\u003e\",\"legendgroup\":\"Abrahim, Mrs. Joseph (Sophie Halaut Easu)\",\"marker\":{\"color\":\"#FF97FF\"},\"name\":\"Abrahim, Mrs. Joseph (Sophie Halaut Easu)\",\"notched\":false,\"offsetgroup\":\"Abrahim, Mrs. Joseph (Sophie Halaut Easu)\",\"orientation\":\"h\",\"showlegend\":true,\"x\":[18.0],\"x0\":\" \",\"xaxis\":\"x\",\"y0\":\" \",\"yaxis\":\"y\",\"type\":\"box\"},{\"alignmentgroup\":\"True\",\"hovertemplate\":\"color=Davies, Mr. John Samuel\\u003cbr\\u003ex=%{x}\\u003cextra\\u003e\\u003c\\u002fextra\\u003e\",\"legendgroup\":\"Davies, Mr. John Samuel\",\"marker\":{\"color\":\"#FECB52\"},\"name\":\"Davies, Mr. John Samuel\",\"notched\":false,\"offsetgroup\":\"Davies, Mr. John Samuel\",\"orientation\":\"h\",\"showlegend\":true,\"x\":[21.0],\"x0\":\" \",\"xaxis\":\"x\",\"y0\":\" \",\"yaxis\":\"y\",\"type\":\"box\"},{\"alignmentgroup\":\"True\",\"hovertemplate\":\"color=Ilieff, Mr. Ylio\\u003cbr\\u003ex=%{x}\\u003cextra\\u003e\\u003c\\u002fextra\\u003e\",\"legendgroup\":\"Ilieff, Mr. Ylio\",\"marker\":{\"color\":\"#636efa\"},\"name\":\"Ilieff, Mr. Ylio\",\"notched\":false,\"offsetgroup\":\"Ilieff, Mr. Ylio\",\"orientation\":\"h\",\"showlegend\":true,\"x\":[30.272590361445783],\"x0\":\" \",\"xaxis\":\"x\",\"y0\":\" \",\"yaxis\":\"y\",\"type\":\"box\"},{\"alignmentgroup\":\"True\",\"hovertemplate\":\"color=Jones, Mr. Charles Cresson\\u003cbr\\u003ex=%{x}\\u003cextra\\u003e\\u003c\\u002fextra\\u003e\",\"legendgroup\":\"Jones, Mr. Charles Cresson\",\"marker\":{\"color\":\"#EF553B\"},\"name\":\"Jones, Mr. Charles Cresson\",\"notched\":false,\"offsetgroup\":\"Jones, Mr. Charles Cresson\",\"orientation\":\"h\",\"showlegend\":true,\"x\":[46.0],\"x0\":\" \",\"xaxis\":\"x\",\"y0\":\" \",\"yaxis\":\"y\",\"type\":\"box\"},{\"alignmentgroup\":\"True\",\"hovertemplate\":\"color=Snyder, Mrs. John Pillsbury (Nelle Stevenson)\\u003cbr\\u003ex=%{x}\\u003cextra\\u003e\\u003c\\u002fextra\\u003e\",\"legendgroup\":\"Snyder, Mrs. John Pillsbury (Nelle Stevenson)\",\"marker\":{\"color\":\"#00cc96\"},\"name\":\"Snyder, Mrs. John Pillsbury (Nelle Stevenson)\",\"notched\":false,\"offsetgroup\":\"Snyder, Mrs. John Pillsbury (Nelle Stevenson)\",\"orientation\":\"h\",\"showlegend\":true,\"x\":[23.0],\"x0\":\" \",\"xaxis\":\"x\",\"y0\":\" \",\"yaxis\":\"y\",\"type\":\"box\"},{\"alignmentgroup\":\"True\",\"hovertemplate\":\"color=Howard, Mr. Benjamin\\u003cbr\\u003ex=%{x}\\u003cextra\\u003e\\u003c\\u002fextra\\u003e\",\"legendgroup\":\"Howard, Mr. Benjamin\",\"marker\":{\"color\":\"#ab63fa\"},\"name\":\"Howard, Mr. Benjamin\",\"notched\":false,\"offsetgroup\":\"Howard, Mr. Benjamin\",\"orientation\":\"h\",\"showlegend\":true,\"x\":[63.0],\"x0\":\" \",\"xaxis\":\"x\",\"y0\":\" \",\"yaxis\":\"y\",\"type\":\"box\"},{\"alignmentgroup\":\"True\",\"hovertemplate\":\"color=Chaffee, Mrs. Herbert Fuller (Carrie Constance Toogood)\\u003cbr\\u003ex=%{x}\\u003cextra\\u003e\\u003c\\u002fextra\\u003e\",\"legendgroup\":\"Chaffee, Mrs. Herbert Fuller (Carrie Constance Toogood)\",\"marker\":{\"color\":\"#FFA15A\"},\"name\":\"Chaffee, Mrs. Herbert Fuller (Carrie Constance Toogood)\",\"notched\":false,\"offsetgroup\":\"Chaffee, Mrs. Herbert Fuller (Carrie Constance Toogood)\",\"orientation\":\"h\",\"showlegend\":true,\"x\":[47.0],\"x0\":\" \",\"xaxis\":\"x\",\"y0\":\" \",\"yaxis\":\"y\",\"type\":\"box\"},{\"alignmentgroup\":\"True\",\"hovertemplate\":\"color=del Carlo, Mrs. Sebastiano (Argenia Genovesi)\\u003cbr\\u003ex=%{x}\\u003cextra\\u003e\\u003c\\u002fextra\\u003e\",\"legendgroup\":\"del Carlo, Mrs. Sebastiano (Argenia Genovesi)\",\"marker\":{\"color\":\"#19d3f3\"},\"name\":\"del Carlo, Mrs. Sebastiano (Argenia Genovesi)\",\"notched\":false,\"offsetgroup\":\"del Carlo, Mrs. Sebastiano (Argenia Genovesi)\",\"orientation\":\"h\",\"showlegend\":true,\"x\":[24.0],\"x0\":\" \",\"xaxis\":\"x\",\"y0\":\" \",\"yaxis\":\"y\",\"type\":\"box\"},{\"alignmentgroup\":\"True\",\"hovertemplate\":\"color=Keane, Mr. Daniel\\u003cbr\\u003ex=%{x}\\u003cextra\\u003e\\u003c\\u002fextra\\u003e\",\"legendgroup\":\"Keane, Mr. Daniel\",\"marker\":{\"color\":\"#FF6692\"},\"name\":\"Keane, Mr. Daniel\",\"notched\":false,\"offsetgroup\":\"Keane, Mr. Daniel\",\"orientation\":\"h\",\"showlegend\":true,\"x\":[35.0],\"x0\":\" \",\"xaxis\":\"x\",\"y0\":\" \",\"yaxis\":\"y\",\"type\":\"box\"},{\"alignmentgroup\":\"True\",\"hovertemplate\":\"color=Assaf, Mr. Gerios\\u003cbr\\u003ex=%{x}\\u003cextra\\u003e\\u003c\\u002fextra\\u003e\",\"legendgroup\":\"Assaf, Mr. Gerios\",\"marker\":{\"color\":\"#B6E880\"},\"name\":\"Assaf, Mr. Gerios\",\"notched\":false,\"offsetgroup\":\"Assaf, Mr. Gerios\",\"orientation\":\"h\",\"showlegend\":true,\"x\":[21.0],\"x0\":\" \",\"xaxis\":\"x\",\"y0\":\" \",\"yaxis\":\"y\",\"type\":\"box\"},{\"alignmentgroup\":\"True\",\"hovertemplate\":\"color=Ilmakangas, Miss. Ida Livija\\u003cbr\\u003ex=%{x}\\u003cextra\\u003e\\u003c\\u002fextra\\u003e\",\"legendgroup\":\"Ilmakangas, Miss. Ida Livija\",\"marker\":{\"color\":\"#FF97FF\"},\"name\":\"Ilmakangas, Miss. Ida Livija\",\"notched\":false,\"offsetgroup\":\"Ilmakangas, Miss. Ida Livija\",\"orientation\":\"h\",\"showlegend\":true,\"x\":[27.0],\"x0\":\" \",\"xaxis\":\"x\",\"y0\":\" \",\"yaxis\":\"y\",\"type\":\"box\"},{\"alignmentgroup\":\"True\",\"hovertemplate\":\"color=Assaf Khalil, Mrs. Mariana (Miriam\\\")\\\"\\u003cbr\\u003ex=%{x}\\u003cextra\\u003e\\u003c\\u002fextra\\u003e\",\"legendgroup\":\"Assaf Khalil, Mrs. Mariana (Miriam\\\")\\\"\",\"marker\":{\"color\":\"#FECB52\"},\"name\":\"Assaf Khalil, Mrs. Mariana (Miriam\\\")\\\"\",\"notched\":false,\"offsetgroup\":\"Assaf Khalil, Mrs. Mariana (Miriam\\\")\\\"\",\"orientation\":\"h\",\"showlegend\":true,\"x\":[45.0],\"x0\":\" \",\"xaxis\":\"x\",\"y0\":\" \",\"yaxis\":\"y\",\"type\":\"box\"},{\"alignmentgroup\":\"True\",\"hovertemplate\":\"color=Rothschild, Mr. Martin\\u003cbr\\u003ex=%{x}\\u003cextra\\u003e\\u003c\\u002fextra\\u003e\",\"legendgroup\":\"Rothschild, Mr. Martin\",\"marker\":{\"color\":\"#636efa\"},\"name\":\"Rothschild, Mr. Martin\",\"notched\":false,\"offsetgroup\":\"Rothschild, Mr. Martin\",\"orientation\":\"h\",\"showlegend\":true,\"x\":[55.0],\"x0\":\" \",\"xaxis\":\"x\",\"y0\":\" \",\"yaxis\":\"y\",\"type\":\"box\"},{\"alignmentgroup\":\"True\",\"hovertemplate\":\"color=Olsen, Master. Artur Karl\\u003cbr\\u003ex=%{x}\\u003cextra\\u003e\\u003c\\u002fextra\\u003e\",\"legendgroup\":\"Olsen, Master. Artur Karl\",\"marker\":{\"color\":\"#EF553B\"},\"name\":\"Olsen, Master. Artur Karl\",\"notched\":false,\"offsetgroup\":\"Olsen, Master. Artur Karl\",\"orientation\":\"h\",\"showlegend\":true,\"x\":[9.0],\"x0\":\" \",\"xaxis\":\"x\",\"y0\":\" \",\"yaxis\":\"y\",\"type\":\"box\"},{\"alignmentgroup\":\"True\",\"hovertemplate\":\"color=Flegenheim, Mrs. Alfred (Antoinette)\\u003cbr\\u003ex=%{x}\\u003cextra\\u003e\\u003c\\u002fextra\\u003e\",\"legendgroup\":\"Flegenheim, Mrs. Alfred (Antoinette)\",\"marker\":{\"color\":\"#00cc96\"},\"name\":\"Flegenheim, Mrs. Alfred (Antoinette)\",\"notched\":false,\"offsetgroup\":\"Flegenheim, Mrs. Alfred (Antoinette)\",\"orientation\":\"h\",\"showlegend\":true,\"x\":[30.272590361445783],\"x0\":\" \",\"xaxis\":\"x\",\"y0\":\" \",\"yaxis\":\"y\",\"type\":\"box\"},{\"alignmentgroup\":\"True\",\"hovertemplate\":\"color=Williams, Mr. Richard Norris II\\u003cbr\\u003ex=%{x}\\u003cextra\\u003e\\u003c\\u002fextra\\u003e\",\"legendgroup\":\"Williams, Mr. Richard Norris II\",\"marker\":{\"color\":\"#ab63fa\"},\"name\":\"Williams, Mr. Richard Norris II\",\"notched\":false,\"offsetgroup\":\"Williams, Mr. Richard Norris II\",\"orientation\":\"h\",\"showlegend\":true,\"x\":[21.0],\"x0\":\" \",\"xaxis\":\"x\",\"y0\":\" \",\"yaxis\":\"y\",\"type\":\"box\"},{\"alignmentgroup\":\"True\",\"hovertemplate\":\"color=Ryerson, Mrs. Arthur Larned (Emily Maria Borie)\\u003cbr\\u003ex=%{x}\\u003cextra\\u003e\\u003c\\u002fextra\\u003e\",\"legendgroup\":\"Ryerson, Mrs. Arthur Larned (Emily Maria Borie)\",\"marker\":{\"color\":\"#FFA15A\"},\"name\":\"Ryerson, Mrs. Arthur Larned (Emily Maria Borie)\",\"notched\":false,\"offsetgroup\":\"Ryerson, Mrs. Arthur Larned (Emily Maria Borie)\",\"orientation\":\"h\",\"showlegend\":true,\"x\":[48.0],\"x0\":\" \",\"xaxis\":\"x\",\"y0\":\" \",\"yaxis\":\"y\",\"type\":\"box\"},{\"alignmentgroup\":\"True\",\"hovertemplate\":\"color=Robins, Mr. Alexander A\\u003cbr\\u003ex=%{x}\\u003cextra\\u003e\\u003c\\u002fextra\\u003e\",\"legendgroup\":\"Robins, Mr. Alexander A\",\"marker\":{\"color\":\"#19d3f3\"},\"name\":\"Robins, Mr. Alexander A\",\"notched\":false,\"offsetgroup\":\"Robins, Mr. Alexander A\",\"orientation\":\"h\",\"showlegend\":true,\"x\":[50.0],\"x0\":\" \",\"xaxis\":\"x\",\"y0\":\" \",\"yaxis\":\"y\",\"type\":\"box\"},{\"alignmentgroup\":\"True\",\"hovertemplate\":\"color=Ostby, Miss. Helene Ragnhild\\u003cbr\\u003ex=%{x}\\u003cextra\\u003e\\u003c\\u002fextra\\u003e\",\"legendgroup\":\"Ostby, Miss. Helene Ragnhild\",\"marker\":{\"color\":\"#FF6692\"},\"name\":\"Ostby, Miss. Helene Ragnhild\",\"notched\":false,\"offsetgroup\":\"Ostby, Miss. Helene Ragnhild\",\"orientation\":\"h\",\"showlegend\":true,\"x\":[22.0],\"x0\":\" \",\"xaxis\":\"x\",\"y0\":\" \",\"yaxis\":\"y\",\"type\":\"box\"},{\"alignmentgroup\":\"True\",\"hovertemplate\":\"color=Daher, Mr. Shedid\\u003cbr\\u003ex=%{x}\\u003cextra\\u003e\\u003c\\u002fextra\\u003e\",\"legendgroup\":\"Daher, Mr. Shedid\",\"marker\":{\"color\":\"#B6E880\"},\"name\":\"Daher, Mr. Shedid\",\"notched\":false,\"offsetgroup\":\"Daher, Mr. Shedid\",\"orientation\":\"h\",\"showlegend\":true,\"x\":[22.5],\"x0\":\" \",\"xaxis\":\"x\",\"y0\":\" \",\"yaxis\":\"y\",\"type\":\"box\"},{\"alignmentgroup\":\"True\",\"hovertemplate\":\"color=Brady, Mr. John Bertram\\u003cbr\\u003ex=%{x}\\u003cextra\\u003e\\u003c\\u002fextra\\u003e\",\"legendgroup\":\"Brady, Mr. John Bertram\",\"marker\":{\"color\":\"#FF97FF\"},\"name\":\"Brady, Mr. John Bertram\",\"notched\":false,\"offsetgroup\":\"Brady, Mr. John Bertram\",\"orientation\":\"h\",\"showlegend\":true,\"x\":[41.0],\"x0\":\" \",\"xaxis\":\"x\",\"y0\":\" \",\"yaxis\":\"y\",\"type\":\"box\"},{\"alignmentgroup\":\"True\",\"hovertemplate\":\"color=Samaan, Mr. Elias\\u003cbr\\u003ex=%{x}\\u003cextra\\u003e\\u003c\\u002fextra\\u003e\",\"legendgroup\":\"Samaan, Mr. Elias\",\"marker\":{\"color\":\"#FECB52\"},\"name\":\"Samaan, Mr. Elias\",\"notched\":false,\"offsetgroup\":\"Samaan, Mr. Elias\",\"orientation\":\"h\",\"showlegend\":true,\"x\":[30.272590361445783],\"x0\":\" \",\"xaxis\":\"x\",\"y0\":\" \",\"yaxis\":\"y\",\"type\":\"box\"},{\"alignmentgroup\":\"True\",\"hovertemplate\":\"color=Louch, Mr. Charles Alexander\\u003cbr\\u003ex=%{x}\\u003cextra\\u003e\\u003c\\u002fextra\\u003e\",\"legendgroup\":\"Louch, Mr. Charles Alexander\",\"marker\":{\"color\":\"#636efa\"},\"name\":\"Louch, Mr. Charles Alexander\",\"notched\":false,\"offsetgroup\":\"Louch, Mr. Charles Alexander\",\"orientation\":\"h\",\"showlegend\":true,\"x\":[50.0],\"x0\":\" \",\"xaxis\":\"x\",\"y0\":\" \",\"yaxis\":\"y\",\"type\":\"box\"},{\"alignmentgroup\":\"True\",\"hovertemplate\":\"color=Jefferys, Mr. Clifford Thomas\\u003cbr\\u003ex=%{x}\\u003cextra\\u003e\\u003c\\u002fextra\\u003e\",\"legendgroup\":\"Jefferys, Mr. Clifford Thomas\",\"marker\":{\"color\":\"#EF553B\"},\"name\":\"Jefferys, Mr. Clifford Thomas\",\"notched\":false,\"offsetgroup\":\"Jefferys, Mr. Clifford Thomas\",\"orientation\":\"h\",\"showlegend\":true,\"x\":[24.0],\"x0\":\" \",\"xaxis\":\"x\",\"y0\":\" \",\"yaxis\":\"y\",\"type\":\"box\"},{\"alignmentgroup\":\"True\",\"hovertemplate\":\"color=Dean, Mrs. Bertram (Eva Georgetta Light)\\u003cbr\\u003ex=%{x}\\u003cextra\\u003e\\u003c\\u002fextra\\u003e\",\"legendgroup\":\"Dean, Mrs. Bertram (Eva Georgetta Light)\",\"marker\":{\"color\":\"#00cc96\"},\"name\":\"Dean, Mrs. Bertram (Eva Georgetta Light)\",\"notched\":false,\"offsetgroup\":\"Dean, Mrs. Bertram (Eva Georgetta Light)\",\"orientation\":\"h\",\"showlegend\":true,\"x\":[33.0],\"x0\":\" \",\"xaxis\":\"x\",\"y0\":\" \",\"yaxis\":\"y\",\"type\":\"box\"},{\"alignmentgroup\":\"True\",\"hovertemplate\":\"color=Johnston, Mrs. Andrew G (Elizabeth Lily\\\" Watson)\\\"\\u003cbr\\u003ex=%{x}\\u003cextra\\u003e\\u003c\\u002fextra\\u003e\",\"legendgroup\":\"Johnston, Mrs. Andrew G (Elizabeth Lily\\\" Watson)\\\"\",\"marker\":{\"color\":\"#ab63fa\"},\"name\":\"Johnston, Mrs. Andrew G (Elizabeth Lily\\\" Watson)\\\"\",\"notched\":false,\"offsetgroup\":\"Johnston, Mrs. Andrew G (Elizabeth Lily\\\" Watson)\\\"\",\"orientation\":\"h\",\"showlegend\":true,\"x\":[30.272590361445783],\"x0\":\" \",\"xaxis\":\"x\",\"y0\":\" \",\"yaxis\":\"y\",\"type\":\"box\"},{\"alignmentgroup\":\"True\",\"hovertemplate\":\"color=Mock, Mr. Philipp Edmund\\u003cbr\\u003ex=%{x}\\u003cextra\\u003e\\u003c\\u002fextra\\u003e\",\"legendgroup\":\"Mock, Mr. Philipp Edmund\",\"marker\":{\"color\":\"#FFA15A\"},\"name\":\"Mock, Mr. Philipp Edmund\",\"notched\":false,\"offsetgroup\":\"Mock, Mr. Philipp Edmund\",\"orientation\":\"h\",\"showlegend\":true,\"x\":[30.0],\"x0\":\" \",\"xaxis\":\"x\",\"y0\":\" \",\"yaxis\":\"y\",\"type\":\"box\"},{\"alignmentgroup\":\"True\",\"hovertemplate\":\"color=Katavelas, Mr. Vassilios (Catavelas Vassilios\\\")\\\"\\u003cbr\\u003ex=%{x}\\u003cextra\\u003e\\u003c\\u002fextra\\u003e\",\"legendgroup\":\"Katavelas, Mr. Vassilios (Catavelas Vassilios\\\")\\\"\",\"marker\":{\"color\":\"#19d3f3\"},\"name\":\"Katavelas, Mr. Vassilios (Catavelas Vassilios\\\")\\\"\",\"notched\":false,\"offsetgroup\":\"Katavelas, Mr. Vassilios (Catavelas Vassilios\\\")\\\"\",\"orientation\":\"h\",\"showlegend\":true,\"x\":[18.5],\"x0\":\" \",\"xaxis\":\"x\",\"y0\":\" \",\"yaxis\":\"y\",\"type\":\"box\"},{\"alignmentgroup\":\"True\",\"hovertemplate\":\"color=Roth, Miss. Sarah A\\u003cbr\\u003ex=%{x}\\u003cextra\\u003e\\u003c\\u002fextra\\u003e\",\"legendgroup\":\"Roth, Miss. Sarah A\",\"marker\":{\"color\":\"#FF6692\"},\"name\":\"Roth, Miss. Sarah A\",\"notched\":false,\"offsetgroup\":\"Roth, Miss. Sarah A\",\"orientation\":\"h\",\"showlegend\":true,\"x\":[30.272590361445783],\"x0\":\" \",\"xaxis\":\"x\",\"y0\":\" \",\"yaxis\":\"y\",\"type\":\"box\"},{\"alignmentgroup\":\"True\",\"hovertemplate\":\"color=Cacic, Miss. Manda\\u003cbr\\u003ex=%{x}\\u003cextra\\u003e\\u003c\\u002fextra\\u003e\",\"legendgroup\":\"Cacic, Miss. Manda\",\"marker\":{\"color\":\"#B6E880\"},\"name\":\"Cacic, Miss. Manda\",\"notched\":false,\"offsetgroup\":\"Cacic, Miss. Manda\",\"orientation\":\"h\",\"showlegend\":true,\"x\":[21.0],\"x0\":\" \",\"xaxis\":\"x\",\"y0\":\" \",\"yaxis\":\"y\",\"type\":\"box\"},{\"alignmentgroup\":\"True\",\"hovertemplate\":\"color=Sap, Mr. Julius\\u003cbr\\u003ex=%{x}\\u003cextra\\u003e\\u003c\\u002fextra\\u003e\",\"legendgroup\":\"Sap, Mr. Julius\",\"marker\":{\"color\":\"#FF97FF\"},\"name\":\"Sap, Mr. Julius\",\"notched\":false,\"offsetgroup\":\"Sap, Mr. Julius\",\"orientation\":\"h\",\"showlegend\":true,\"x\":[25.0],\"x0\":\" \",\"xaxis\":\"x\",\"y0\":\" \",\"yaxis\":\"y\",\"type\":\"box\"},{\"alignmentgroup\":\"True\",\"hovertemplate\":\"color=Hee, Mr. Ling\\u003cbr\\u003ex=%{x}\\u003cextra\\u003e\\u003c\\u002fextra\\u003e\",\"legendgroup\":\"Hee, Mr. Ling\",\"marker\":{\"color\":\"#FECB52\"},\"name\":\"Hee, Mr. Ling\",\"notched\":false,\"offsetgroup\":\"Hee, Mr. Ling\",\"orientation\":\"h\",\"showlegend\":true,\"x\":[30.272590361445783],\"x0\":\" \",\"xaxis\":\"x\",\"y0\":\" \",\"yaxis\":\"y\",\"type\":\"box\"},{\"alignmentgroup\":\"True\",\"hovertemplate\":\"color=Karun, Mr. Franz\\u003cbr\\u003ex=%{x}\\u003cextra\\u003e\\u003c\\u002fextra\\u003e\",\"legendgroup\":\"Karun, Mr. Franz\",\"marker\":{\"color\":\"#636efa\"},\"name\":\"Karun, Mr. Franz\",\"notched\":false,\"offsetgroup\":\"Karun, Mr. Franz\",\"orientation\":\"h\",\"showlegend\":true,\"x\":[39.0],\"x0\":\" \",\"xaxis\":\"x\",\"y0\":\" \",\"yaxis\":\"y\",\"type\":\"box\"},{\"alignmentgroup\":\"True\",\"hovertemplate\":\"color=Franklin, Mr. Thomas Parham\\u003cbr\\u003ex=%{x}\\u003cextra\\u003e\\u003c\\u002fextra\\u003e\",\"legendgroup\":\"Franklin, Mr. Thomas Parham\",\"marker\":{\"color\":\"#EF553B\"},\"name\":\"Franklin, Mr. Thomas Parham\",\"notched\":false,\"offsetgroup\":\"Franklin, Mr. Thomas Parham\",\"orientation\":\"h\",\"showlegend\":true,\"x\":[30.272590361445783],\"x0\":\" \",\"xaxis\":\"x\",\"y0\":\" \",\"yaxis\":\"y\",\"type\":\"box\"},{\"alignmentgroup\":\"True\",\"hovertemplate\":\"color=Goldsmith, Mr. Nathan\\u003cbr\\u003ex=%{x}\\u003cextra\\u003e\\u003c\\u002fextra\\u003e\",\"legendgroup\":\"Goldsmith, Mr. Nathan\",\"marker\":{\"color\":\"#00cc96\"},\"name\":\"Goldsmith, Mr. Nathan\",\"notched\":false,\"offsetgroup\":\"Goldsmith, Mr. Nathan\",\"orientation\":\"h\",\"showlegend\":true,\"x\":[41.0],\"x0\":\" \",\"xaxis\":\"x\",\"y0\":\" \",\"yaxis\":\"y\",\"type\":\"box\"},{\"alignmentgroup\":\"True\",\"hovertemplate\":\"color=Corbett, Mrs. Walter H (Irene Colvin)\\u003cbr\\u003ex=%{x}\\u003cextra\\u003e\\u003c\\u002fextra\\u003e\",\"legendgroup\":\"Corbett, Mrs. Walter H (Irene Colvin)\",\"marker\":{\"color\":\"#ab63fa\"},\"name\":\"Corbett, Mrs. Walter H (Irene Colvin)\",\"notched\":false,\"offsetgroup\":\"Corbett, Mrs. Walter H (Irene Colvin)\",\"orientation\":\"h\",\"showlegend\":true,\"x\":[30.0],\"x0\":\" \",\"xaxis\":\"x\",\"y0\":\" \",\"yaxis\":\"y\",\"type\":\"box\"},{\"alignmentgroup\":\"True\",\"hovertemplate\":\"color=Kimball, Mrs. Edwin Nelson Jr (Gertrude Parsons)\\u003cbr\\u003ex=%{x}\\u003cextra\\u003e\\u003c\\u002fextra\\u003e\",\"legendgroup\":\"Kimball, Mrs. Edwin Nelson Jr (Gertrude Parsons)\",\"marker\":{\"color\":\"#FFA15A\"},\"name\":\"Kimball, Mrs. Edwin Nelson Jr (Gertrude Parsons)\",\"notched\":false,\"offsetgroup\":\"Kimball, Mrs. Edwin Nelson Jr (Gertrude Parsons)\",\"orientation\":\"h\",\"showlegend\":true,\"x\":[45.0],\"x0\":\" \",\"xaxis\":\"x\",\"y0\":\" \",\"yaxis\":\"y\",\"type\":\"box\"},{\"alignmentgroup\":\"True\",\"hovertemplate\":\"color=Peltomaki, Mr. Nikolai Johannes\\u003cbr\\u003ex=%{x}\\u003cextra\\u003e\\u003c\\u002fextra\\u003e\",\"legendgroup\":\"Peltomaki, Mr. Nikolai Johannes\",\"marker\":{\"color\":\"#19d3f3\"},\"name\":\"Peltomaki, Mr. Nikolai Johannes\",\"notched\":false,\"offsetgroup\":\"Peltomaki, Mr. Nikolai Johannes\",\"orientation\":\"h\",\"showlegend\":true,\"x\":[25.0],\"x0\":\" \",\"xaxis\":\"x\",\"y0\":\" \",\"yaxis\":\"y\",\"type\":\"box\"},{\"alignmentgroup\":\"True\",\"hovertemplate\":\"color=Chevre, Mr. Paul Romaine\\u003cbr\\u003ex=%{x}\\u003cextra\\u003e\\u003c\\u002fextra\\u003e\",\"legendgroup\":\"Chevre, Mr. Paul Romaine\",\"marker\":{\"color\":\"#FF6692\"},\"name\":\"Chevre, Mr. Paul Romaine\",\"notched\":false,\"offsetgroup\":\"Chevre, Mr. Paul Romaine\",\"orientation\":\"h\",\"showlegend\":true,\"x\":[45.0],\"x0\":\" \",\"xaxis\":\"x\",\"y0\":\" \",\"yaxis\":\"y\",\"type\":\"box\"},{\"alignmentgroup\":\"True\",\"hovertemplate\":\"color=Shaughnessy, Mr. Patrick\\u003cbr\\u003ex=%{x}\\u003cextra\\u003e\\u003c\\u002fextra\\u003e\",\"legendgroup\":\"Shaughnessy, Mr. Patrick\",\"marker\":{\"color\":\"#B6E880\"},\"name\":\"Shaughnessy, Mr. Patrick\",\"notched\":false,\"offsetgroup\":\"Shaughnessy, Mr. Patrick\",\"orientation\":\"h\",\"showlegend\":true,\"x\":[30.272590361445783],\"x0\":\" \",\"xaxis\":\"x\",\"y0\":\" \",\"yaxis\":\"y\",\"type\":\"box\"},{\"alignmentgroup\":\"True\",\"hovertemplate\":\"color=Bucknell, Mrs. William Robert (Emma Eliza Ward)\\u003cbr\\u003ex=%{x}\\u003cextra\\u003e\\u003c\\u002fextra\\u003e\",\"legendgroup\":\"Bucknell, Mrs. William Robert (Emma Eliza Ward)\",\"marker\":{\"color\":\"#FF97FF\"},\"name\":\"Bucknell, Mrs. William Robert (Emma Eliza Ward)\",\"notched\":false,\"offsetgroup\":\"Bucknell, Mrs. William Robert (Emma Eliza Ward)\",\"orientation\":\"h\",\"showlegend\":true,\"x\":[60.0],\"x0\":\" \",\"xaxis\":\"x\",\"y0\":\" \",\"yaxis\":\"y\",\"type\":\"box\"},{\"alignmentgroup\":\"True\",\"hovertemplate\":\"color=Coutts, Mrs. William (Winnie Minnie\\\" Treanor)\\\"\\u003cbr\\u003ex=%{x}\\u003cextra\\u003e\\u003c\\u002fextra\\u003e\",\"legendgroup\":\"Coutts, Mrs. William (Winnie Minnie\\\" Treanor)\\\"\",\"marker\":{\"color\":\"#FECB52\"},\"name\":\"Coutts, Mrs. William (Winnie Minnie\\\" Treanor)\\\"\",\"notched\":false,\"offsetgroup\":\"Coutts, Mrs. William (Winnie Minnie\\\" Treanor)\\\"\",\"orientation\":\"h\",\"showlegend\":true,\"x\":[36.0],\"x0\":\" \",\"xaxis\":\"x\",\"y0\":\" \",\"yaxis\":\"y\",\"type\":\"box\"},{\"alignmentgroup\":\"True\",\"hovertemplate\":\"color=Smith, Mr. Lucien Philip\\u003cbr\\u003ex=%{x}\\u003cextra\\u003e\\u003c\\u002fextra\\u003e\",\"legendgroup\":\"Smith, Mr. Lucien Philip\",\"marker\":{\"color\":\"#636efa\"},\"name\":\"Smith, Mr. Lucien Philip\",\"notched\":false,\"offsetgroup\":\"Smith, Mr. Lucien Philip\",\"orientation\":\"h\",\"showlegend\":true,\"x\":[24.0],\"x0\":\" \",\"xaxis\":\"x\",\"y0\":\" \",\"yaxis\":\"y\",\"type\":\"box\"},{\"alignmentgroup\":\"True\",\"hovertemplate\":\"color=Pulbaum, Mr. Franz\\u003cbr\\u003ex=%{x}\\u003cextra\\u003e\\u003c\\u002fextra\\u003e\",\"legendgroup\":\"Pulbaum, Mr. Franz\",\"marker\":{\"color\":\"#EF553B\"},\"name\":\"Pulbaum, Mr. Franz\",\"notched\":false,\"offsetgroup\":\"Pulbaum, Mr. Franz\",\"orientation\":\"h\",\"showlegend\":true,\"x\":[27.0],\"x0\":\" \",\"xaxis\":\"x\",\"y0\":\" \",\"yaxis\":\"y\",\"type\":\"box\"},{\"alignmentgroup\":\"True\",\"hovertemplate\":\"color=Hocking, Miss. Ellen Nellie\\\"\\\"\\u003cbr\\u003ex=%{x}\\u003cextra\\u003e\\u003c\\u002fextra\\u003e\",\"legendgroup\":\"Hocking, Miss. Ellen Nellie\\\"\\\"\",\"marker\":{\"color\":\"#00cc96\"},\"name\":\"Hocking, Miss. Ellen Nellie\\\"\\\"\",\"notched\":false,\"offsetgroup\":\"Hocking, Miss. Ellen Nellie\\\"\\\"\",\"orientation\":\"h\",\"showlegend\":true,\"x\":[20.0],\"x0\":\" \",\"xaxis\":\"x\",\"y0\":\" \",\"yaxis\":\"y\",\"type\":\"box\"},{\"alignmentgroup\":\"True\",\"hovertemplate\":\"color=Fortune, Miss. Ethel Flora\\u003cbr\\u003ex=%{x}\\u003cextra\\u003e\\u003c\\u002fextra\\u003e\",\"legendgroup\":\"Fortune, Miss. Ethel Flora\",\"marker\":{\"color\":\"#ab63fa\"},\"name\":\"Fortune, Miss. Ethel Flora\",\"notched\":false,\"offsetgroup\":\"Fortune, Miss. Ethel Flora\",\"orientation\":\"h\",\"showlegend\":true,\"x\":[28.0],\"x0\":\" \",\"xaxis\":\"x\",\"y0\":\" \",\"yaxis\":\"y\",\"type\":\"box\"},{\"alignmentgroup\":\"True\",\"hovertemplate\":\"color=Mangiavacchi, Mr. Serafino Emilio\\u003cbr\\u003ex=%{x}\\u003cextra\\u003e\\u003c\\u002fextra\\u003e\",\"legendgroup\":\"Mangiavacchi, Mr. Serafino Emilio\",\"marker\":{\"color\":\"#FFA15A\"},\"name\":\"Mangiavacchi, Mr. Serafino Emilio\",\"notched\":false,\"offsetgroup\":\"Mangiavacchi, Mr. Serafino Emilio\",\"orientation\":\"h\",\"showlegend\":true,\"x\":[30.272590361445783],\"x0\":\" \",\"xaxis\":\"x\",\"y0\":\" \",\"yaxis\":\"y\",\"type\":\"box\"},{\"alignmentgroup\":\"True\",\"hovertemplate\":\"color=Rice, Master. Albert\\u003cbr\\u003ex=%{x}\\u003cextra\\u003e\\u003c\\u002fextra\\u003e\",\"legendgroup\":\"Rice, Master. Albert\",\"marker\":{\"color\":\"#19d3f3\"},\"name\":\"Rice, Master. Albert\",\"notched\":false,\"offsetgroup\":\"Rice, Master. Albert\",\"orientation\":\"h\",\"showlegend\":true,\"x\":[10.0],\"x0\":\" \",\"xaxis\":\"x\",\"y0\":\" \",\"yaxis\":\"y\",\"type\":\"box\"},{\"alignmentgroup\":\"True\",\"hovertemplate\":\"color=Cor, Mr. Bartol\\u003cbr\\u003ex=%{x}\\u003cextra\\u003e\\u003c\\u002fextra\\u003e\",\"legendgroup\":\"Cor, Mr. Bartol\",\"marker\":{\"color\":\"#FF6692\"},\"name\":\"Cor, Mr. Bartol\",\"notched\":false,\"offsetgroup\":\"Cor, Mr. Bartol\",\"orientation\":\"h\",\"showlegend\":true,\"x\":[35.0],\"x0\":\" \",\"xaxis\":\"x\",\"y0\":\" \",\"yaxis\":\"y\",\"type\":\"box\"},{\"alignmentgroup\":\"True\",\"hovertemplate\":\"color=Abelseth, Mr. Olaus Jorgensen\\u003cbr\\u003ex=%{x}\\u003cextra\\u003e\\u003c\\u002fextra\\u003e\",\"legendgroup\":\"Abelseth, Mr. Olaus Jorgensen\",\"marker\":{\"color\":\"#B6E880\"},\"name\":\"Abelseth, Mr. Olaus Jorgensen\",\"notched\":false,\"offsetgroup\":\"Abelseth, Mr. Olaus Jorgensen\",\"orientation\":\"h\",\"showlegend\":true,\"x\":[25.0],\"x0\":\" \",\"xaxis\":\"x\",\"y0\":\" \",\"yaxis\":\"y\",\"type\":\"box\"},{\"alignmentgroup\":\"True\",\"hovertemplate\":\"color=Davison, Mr. Thomas Henry\\u003cbr\\u003ex=%{x}\\u003cextra\\u003e\\u003c\\u002fextra\\u003e\",\"legendgroup\":\"Davison, Mr. Thomas Henry\",\"marker\":{\"color\":\"#FF97FF\"},\"name\":\"Davison, Mr. Thomas Henry\",\"notched\":false,\"offsetgroup\":\"Davison, Mr. Thomas Henry\",\"orientation\":\"h\",\"showlegend\":true,\"x\":[30.272590361445783],\"x0\":\" \",\"xaxis\":\"x\",\"y0\":\" \",\"yaxis\":\"y\",\"type\":\"box\"},{\"alignmentgroup\":\"True\",\"hovertemplate\":\"color=Chaudanson, Miss. Victorine\\u003cbr\\u003ex=%{x}\\u003cextra\\u003e\\u003c\\u002fextra\\u003e\",\"legendgroup\":\"Chaudanson, Miss. Victorine\",\"marker\":{\"color\":\"#FECB52\"},\"name\":\"Chaudanson, Miss. Victorine\",\"notched\":false,\"offsetgroup\":\"Chaudanson, Miss. Victorine\",\"orientation\":\"h\",\"showlegend\":true,\"x\":[36.0],\"x0\":\" \",\"xaxis\":\"x\",\"y0\":\" \",\"yaxis\":\"y\",\"type\":\"box\"},{\"alignmentgroup\":\"True\",\"hovertemplate\":\"color=Dika, Mr. Mirko\\u003cbr\\u003ex=%{x}\\u003cextra\\u003e\\u003c\\u002fextra\\u003e\",\"legendgroup\":\"Dika, Mr. Mirko\",\"marker\":{\"color\":\"#636efa\"},\"name\":\"Dika, Mr. Mirko\",\"notched\":false,\"offsetgroup\":\"Dika, Mr. Mirko\",\"orientation\":\"h\",\"showlegend\":true,\"x\":[17.0],\"x0\":\" \",\"xaxis\":\"x\",\"y0\":\" \",\"yaxis\":\"y\",\"type\":\"box\"},{\"alignmentgroup\":\"True\",\"hovertemplate\":\"color=McCrae, Mr. Arthur Gordon\\u003cbr\\u003ex=%{x}\\u003cextra\\u003e\\u003c\\u002fextra\\u003e\",\"legendgroup\":\"McCrae, Mr. Arthur Gordon\",\"marker\":{\"color\":\"#EF553B\"},\"name\":\"McCrae, Mr. Arthur Gordon\",\"notched\":false,\"offsetgroup\":\"McCrae, Mr. Arthur Gordon\",\"orientation\":\"h\",\"showlegend\":true,\"x\":[32.0],\"x0\":\" \",\"xaxis\":\"x\",\"y0\":\" \",\"yaxis\":\"y\",\"type\":\"box\"},{\"alignmentgroup\":\"True\",\"hovertemplate\":\"color=Bjorklund, Mr. Ernst Herbert\\u003cbr\\u003ex=%{x}\\u003cextra\\u003e\\u003c\\u002fextra\\u003e\",\"legendgroup\":\"Bjorklund, Mr. Ernst Herbert\",\"marker\":{\"color\":\"#00cc96\"},\"name\":\"Bjorklund, Mr. Ernst Herbert\",\"notched\":false,\"offsetgroup\":\"Bjorklund, Mr. Ernst Herbert\",\"orientation\":\"h\",\"showlegend\":true,\"x\":[18.0],\"x0\":\" \",\"xaxis\":\"x\",\"y0\":\" \",\"yaxis\":\"y\",\"type\":\"box\"},{\"alignmentgroup\":\"True\",\"hovertemplate\":\"color=Bradley, Miss. Bridget Delia\\u003cbr\\u003ex=%{x}\\u003cextra\\u003e\\u003c\\u002fextra\\u003e\",\"legendgroup\":\"Bradley, Miss. Bridget Delia\",\"marker\":{\"color\":\"#ab63fa\"},\"name\":\"Bradley, Miss. Bridget Delia\",\"notched\":false,\"offsetgroup\":\"Bradley, Miss. Bridget Delia\",\"orientation\":\"h\",\"showlegend\":true,\"x\":[22.0],\"x0\":\" \",\"xaxis\":\"x\",\"y0\":\" \",\"yaxis\":\"y\",\"type\":\"box\"},{\"alignmentgroup\":\"True\",\"hovertemplate\":\"color=Ryerson, Master. John Borie\\u003cbr\\u003ex=%{x}\\u003cextra\\u003e\\u003c\\u002fextra\\u003e\",\"legendgroup\":\"Ryerson, Master. John Borie\",\"marker\":{\"color\":\"#FFA15A\"},\"name\":\"Ryerson, Master. John Borie\",\"notched\":false,\"offsetgroup\":\"Ryerson, Master. John Borie\",\"orientation\":\"h\",\"showlegend\":true,\"x\":[13.0],\"x0\":\" \",\"xaxis\":\"x\",\"y0\":\" \",\"yaxis\":\"y\",\"type\":\"box\"},{\"alignmentgroup\":\"True\",\"hovertemplate\":\"color=Corey, Mrs. Percy C (Mary Phyllis Elizabeth Miller)\\u003cbr\\u003ex=%{x}\\u003cextra\\u003e\\u003c\\u002fextra\\u003e\",\"legendgroup\":\"Corey, Mrs. Percy C (Mary Phyllis Elizabeth Miller)\",\"marker\":{\"color\":\"#19d3f3\"},\"name\":\"Corey, Mrs. Percy C (Mary Phyllis Elizabeth Miller)\",\"notched\":false,\"offsetgroup\":\"Corey, Mrs. Percy C (Mary Phyllis Elizabeth Miller)\",\"orientation\":\"h\",\"showlegend\":true,\"x\":[30.272590361445783],\"x0\":\" \",\"xaxis\":\"x\",\"y0\":\" \",\"yaxis\":\"y\",\"type\":\"box\"},{\"alignmentgroup\":\"True\",\"hovertemplate\":\"color=Burns, Miss. Mary Delia\\u003cbr\\u003ex=%{x}\\u003cextra\\u003e\\u003c\\u002fextra\\u003e\",\"legendgroup\":\"Burns, Miss. Mary Delia\",\"marker\":{\"color\":\"#FF6692\"},\"name\":\"Burns, Miss. Mary Delia\",\"notched\":false,\"offsetgroup\":\"Burns, Miss. Mary Delia\",\"orientation\":\"h\",\"showlegend\":true,\"x\":[18.0],\"x0\":\" \",\"xaxis\":\"x\",\"y0\":\" \",\"yaxis\":\"y\",\"type\":\"box\"},{\"alignmentgroup\":\"True\",\"hovertemplate\":\"color=Moore, Mr. Clarence Bloomfield\\u003cbr\\u003ex=%{x}\\u003cextra\\u003e\\u003c\\u002fextra\\u003e\",\"legendgroup\":\"Moore, Mr. Clarence Bloomfield\",\"marker\":{\"color\":\"#B6E880\"},\"name\":\"Moore, Mr. Clarence Bloomfield\",\"notched\":false,\"offsetgroup\":\"Moore, Mr. Clarence Bloomfield\",\"orientation\":\"h\",\"showlegend\":true,\"x\":[47.0],\"x0\":\" \",\"xaxis\":\"x\",\"y0\":\" \",\"yaxis\":\"y\",\"type\":\"box\"},{\"alignmentgroup\":\"True\",\"hovertemplate\":\"color=Tucker, Mr. Gilbert Milligan Jr\\u003cbr\\u003ex=%{x}\\u003cextra\\u003e\\u003c\\u002fextra\\u003e\",\"legendgroup\":\"Tucker, Mr. Gilbert Milligan Jr\",\"marker\":{\"color\":\"#FF97FF\"},\"name\":\"Tucker, Mr. Gilbert Milligan Jr\",\"notched\":false,\"offsetgroup\":\"Tucker, Mr. Gilbert Milligan Jr\",\"orientation\":\"h\",\"showlegend\":true,\"x\":[31.0],\"x0\":\" \",\"xaxis\":\"x\",\"y0\":\" \",\"yaxis\":\"y\",\"type\":\"box\"},{\"alignmentgroup\":\"True\",\"hovertemplate\":\"color=Fortune, Mrs. Mark (Mary McDougald)\\u003cbr\\u003ex=%{x}\\u003cextra\\u003e\\u003c\\u002fextra\\u003e\",\"legendgroup\":\"Fortune, Mrs. Mark (Mary McDougald)\",\"marker\":{\"color\":\"#FECB52\"},\"name\":\"Fortune, Mrs. Mark (Mary McDougald)\",\"notched\":false,\"offsetgroup\":\"Fortune, Mrs. Mark (Mary McDougald)\",\"orientation\":\"h\",\"showlegend\":true,\"x\":[60.0],\"x0\":\" \",\"xaxis\":\"x\",\"y0\":\" \",\"yaxis\":\"y\",\"type\":\"box\"},{\"alignmentgroup\":\"True\",\"hovertemplate\":\"color=Mulvihill, Miss. Bertha E\\u003cbr\\u003ex=%{x}\\u003cextra\\u003e\\u003c\\u002fextra\\u003e\",\"legendgroup\":\"Mulvihill, Miss. Bertha E\",\"marker\":{\"color\":\"#636efa\"},\"name\":\"Mulvihill, Miss. Bertha E\",\"notched\":false,\"offsetgroup\":\"Mulvihill, Miss. Bertha E\",\"orientation\":\"h\",\"showlegend\":true,\"x\":[24.0],\"x0\":\" \",\"xaxis\":\"x\",\"y0\":\" \",\"yaxis\":\"y\",\"type\":\"box\"},{\"alignmentgroup\":\"True\",\"hovertemplate\":\"color=Minkoff, Mr. Lazar\\u003cbr\\u003ex=%{x}\\u003cextra\\u003e\\u003c\\u002fextra\\u003e\",\"legendgroup\":\"Minkoff, Mr. Lazar\",\"marker\":{\"color\":\"#EF553B\"},\"name\":\"Minkoff, Mr. Lazar\",\"notched\":false,\"offsetgroup\":\"Minkoff, Mr. Lazar\",\"orientation\":\"h\",\"showlegend\":true,\"x\":[21.0],\"x0\":\" \",\"xaxis\":\"x\",\"y0\":\" \",\"yaxis\":\"y\",\"type\":\"box\"},{\"alignmentgroup\":\"True\",\"hovertemplate\":\"color=Nieminen, Miss. Manta Josefina\\u003cbr\\u003ex=%{x}\\u003cextra\\u003e\\u003c\\u002fextra\\u003e\",\"legendgroup\":\"Nieminen, Miss. Manta Josefina\",\"marker\":{\"color\":\"#00cc96\"},\"name\":\"Nieminen, Miss. Manta Josefina\",\"notched\":false,\"offsetgroup\":\"Nieminen, Miss. Manta Josefina\",\"orientation\":\"h\",\"showlegend\":true,\"x\":[29.0],\"x0\":\" \",\"xaxis\":\"x\",\"y0\":\" \",\"yaxis\":\"y\",\"type\":\"box\"},{\"alignmentgroup\":\"True\",\"hovertemplate\":\"color=Ovies y Rodriguez, Mr. Servando\\u003cbr\\u003ex=%{x}\\u003cextra\\u003e\\u003c\\u002fextra\\u003e\",\"legendgroup\":\"Ovies y Rodriguez, Mr. Servando\",\"marker\":{\"color\":\"#ab63fa\"},\"name\":\"Ovies y Rodriguez, Mr. Servando\",\"notched\":false,\"offsetgroup\":\"Ovies y Rodriguez, Mr. Servando\",\"orientation\":\"h\",\"showlegend\":true,\"x\":[28.5],\"x0\":\" \",\"xaxis\":\"x\",\"y0\":\" \",\"yaxis\":\"y\",\"type\":\"box\"},{\"alignmentgroup\":\"True\",\"hovertemplate\":\"color=Geiger, Miss. Amalie\\u003cbr\\u003ex=%{x}\\u003cextra\\u003e\\u003c\\u002fextra\\u003e\",\"legendgroup\":\"Geiger, Miss. Amalie\",\"marker\":{\"color\":\"#FFA15A\"},\"name\":\"Geiger, Miss. Amalie\",\"notched\":false,\"offsetgroup\":\"Geiger, Miss. Amalie\",\"orientation\":\"h\",\"showlegend\":true,\"x\":[35.0],\"x0\":\" \",\"xaxis\":\"x\",\"y0\":\" \",\"yaxis\":\"y\",\"type\":\"box\"},{\"alignmentgroup\":\"True\",\"hovertemplate\":\"color=Keeping, Mr. Edwin\\u003cbr\\u003ex=%{x}\\u003cextra\\u003e\\u003c\\u002fextra\\u003e\",\"legendgroup\":\"Keeping, Mr. Edwin\",\"marker\":{\"color\":\"#19d3f3\"},\"name\":\"Keeping, Mr. Edwin\",\"notched\":false,\"offsetgroup\":\"Keeping, Mr. Edwin\",\"orientation\":\"h\",\"showlegend\":true,\"x\":[32.5],\"x0\":\" \",\"xaxis\":\"x\",\"y0\":\" \",\"yaxis\":\"y\",\"type\":\"box\"},{\"alignmentgroup\":\"True\",\"hovertemplate\":\"color=Miles, Mr. Frank\\u003cbr\\u003ex=%{x}\\u003cextra\\u003e\\u003c\\u002fextra\\u003e\",\"legendgroup\":\"Miles, Mr. Frank\",\"marker\":{\"color\":\"#FF6692\"},\"name\":\"Miles, Mr. Frank\",\"notched\":false,\"offsetgroup\":\"Miles, Mr. Frank\",\"orientation\":\"h\",\"showlegend\":true,\"x\":[30.272590361445783],\"x0\":\" \",\"xaxis\":\"x\",\"y0\":\" \",\"yaxis\":\"y\",\"type\":\"box\"},{\"alignmentgroup\":\"True\",\"hovertemplate\":\"color=Cornell, Mrs. Robert Clifford (Malvina Helen Lamson)\\u003cbr\\u003ex=%{x}\\u003cextra\\u003e\\u003c\\u002fextra\\u003e\",\"legendgroup\":\"Cornell, Mrs. Robert Clifford (Malvina Helen Lamson)\",\"marker\":{\"color\":\"#B6E880\"},\"name\":\"Cornell, Mrs. Robert Clifford (Malvina Helen Lamson)\",\"notched\":false,\"offsetgroup\":\"Cornell, Mrs. Robert Clifford (Malvina Helen Lamson)\",\"orientation\":\"h\",\"showlegend\":true,\"x\":[55.0],\"x0\":\" \",\"xaxis\":\"x\",\"y0\":\" \",\"yaxis\":\"y\",\"type\":\"box\"},{\"alignmentgroup\":\"True\",\"hovertemplate\":\"color=Aldworth, Mr. Charles Augustus\\u003cbr\\u003ex=%{x}\\u003cextra\\u003e\\u003c\\u002fextra\\u003e\",\"legendgroup\":\"Aldworth, Mr. Charles Augustus\",\"marker\":{\"color\":\"#FF97FF\"},\"name\":\"Aldworth, Mr. Charles Augustus\",\"notched\":false,\"offsetgroup\":\"Aldworth, Mr. Charles Augustus\",\"orientation\":\"h\",\"showlegend\":true,\"x\":[30.0],\"x0\":\" \",\"xaxis\":\"x\",\"y0\":\" \",\"yaxis\":\"y\",\"type\":\"box\"},{\"alignmentgroup\":\"True\",\"hovertemplate\":\"color=Doyle, Miss. Elizabeth\\u003cbr\\u003ex=%{x}\\u003cextra\\u003e\\u003c\\u002fextra\\u003e\",\"legendgroup\":\"Doyle, Miss. Elizabeth\",\"marker\":{\"color\":\"#FECB52\"},\"name\":\"Doyle, Miss. Elizabeth\",\"notched\":false,\"offsetgroup\":\"Doyle, Miss. Elizabeth\",\"orientation\":\"h\",\"showlegend\":true,\"x\":[24.0],\"x0\":\" \",\"xaxis\":\"x\",\"y0\":\" \",\"yaxis\":\"y\",\"type\":\"box\"},{\"alignmentgroup\":\"True\",\"hovertemplate\":\"color=Boulos, Master. Akar\\u003cbr\\u003ex=%{x}\\u003cextra\\u003e\\u003c\\u002fextra\\u003e\",\"legendgroup\":\"Boulos, Master. Akar\",\"marker\":{\"color\":\"#636efa\"},\"name\":\"Boulos, Master. Akar\",\"notched\":false,\"offsetgroup\":\"Boulos, Master. Akar\",\"orientation\":\"h\",\"showlegend\":true,\"x\":[6.0],\"x0\":\" \",\"xaxis\":\"x\",\"y0\":\" \",\"yaxis\":\"y\",\"type\":\"box\"},{\"alignmentgroup\":\"True\",\"hovertemplate\":\"color=Straus, Mr. Isidor\\u003cbr\\u003ex=%{x}\\u003cextra\\u003e\\u003c\\u002fextra\\u003e\",\"legendgroup\":\"Straus, Mr. Isidor\",\"marker\":{\"color\":\"#EF553B\"},\"name\":\"Straus, Mr. Isidor\",\"notched\":false,\"offsetgroup\":\"Straus, Mr. Isidor\",\"orientation\":\"h\",\"showlegend\":true,\"x\":[67.0],\"x0\":\" \",\"xaxis\":\"x\",\"y0\":\" \",\"yaxis\":\"y\",\"type\":\"box\"},{\"alignmentgroup\":\"True\",\"hovertemplate\":\"color=Case, Mr. Howard Brown\\u003cbr\\u003ex=%{x}\\u003cextra\\u003e\\u003c\\u002fextra\\u003e\",\"legendgroup\":\"Case, Mr. Howard Brown\",\"marker\":{\"color\":\"#00cc96\"},\"name\":\"Case, Mr. Howard Brown\",\"notched\":false,\"offsetgroup\":\"Case, Mr. Howard Brown\",\"orientation\":\"h\",\"showlegend\":true,\"x\":[49.0],\"x0\":\" \",\"xaxis\":\"x\",\"y0\":\" \",\"yaxis\":\"y\",\"type\":\"box\"},{\"alignmentgroup\":\"True\",\"hovertemplate\":\"color=Demetri, Mr. Marinko\\u003cbr\\u003ex=%{x}\\u003cextra\\u003e\\u003c\\u002fextra\\u003e\",\"legendgroup\":\"Demetri, Mr. Marinko\",\"marker\":{\"color\":\"#ab63fa\"},\"name\":\"Demetri, Mr. Marinko\",\"notched\":false,\"offsetgroup\":\"Demetri, Mr. Marinko\",\"orientation\":\"h\",\"showlegend\":true,\"x\":[30.272590361445783],\"x0\":\" \",\"xaxis\":\"x\",\"y0\":\" \",\"yaxis\":\"y\",\"type\":\"box\"},{\"alignmentgroup\":\"True\",\"hovertemplate\":\"color=Lamb, Mr. John Joseph\\u003cbr\\u003ex=%{x}\\u003cextra\\u003e\\u003c\\u002fextra\\u003e\",\"legendgroup\":\"Lamb, Mr. John Joseph\",\"marker\":{\"color\":\"#FFA15A\"},\"name\":\"Lamb, Mr. John Joseph\",\"notched\":false,\"offsetgroup\":\"Lamb, Mr. John Joseph\",\"orientation\":\"h\",\"showlegend\":true,\"x\":[30.272590361445783],\"x0\":\" \",\"xaxis\":\"x\",\"y0\":\" \",\"yaxis\":\"y\",\"type\":\"box\"},{\"alignmentgroup\":\"True\",\"hovertemplate\":\"color=Khalil, Mr. Betros\\u003cbr\\u003ex=%{x}\\u003cextra\\u003e\\u003c\\u002fextra\\u003e\",\"legendgroup\":\"Khalil, Mr. Betros\",\"marker\":{\"color\":\"#19d3f3\"},\"name\":\"Khalil, Mr. Betros\",\"notched\":false,\"offsetgroup\":\"Khalil, Mr. Betros\",\"orientation\":\"h\",\"showlegend\":true,\"x\":[30.272590361445783],\"x0\":\" \",\"xaxis\":\"x\",\"y0\":\" \",\"yaxis\":\"y\",\"type\":\"box\"},{\"alignmentgroup\":\"True\",\"hovertemplate\":\"color=Barry, Miss. Julia\\u003cbr\\u003ex=%{x}\\u003cextra\\u003e\\u003c\\u002fextra\\u003e\",\"legendgroup\":\"Barry, Miss. Julia\",\"marker\":{\"color\":\"#FF6692\"},\"name\":\"Barry, Miss. Julia\",\"notched\":false,\"offsetgroup\":\"Barry, Miss. Julia\",\"orientation\":\"h\",\"showlegend\":true,\"x\":[27.0],\"x0\":\" \",\"xaxis\":\"x\",\"y0\":\" \",\"yaxis\":\"y\",\"type\":\"box\"},{\"alignmentgroup\":\"True\",\"hovertemplate\":\"color=Badman, Miss. Emily Louisa\\u003cbr\\u003ex=%{x}\\u003cextra\\u003e\\u003c\\u002fextra\\u003e\",\"legendgroup\":\"Badman, Miss. Emily Louisa\",\"marker\":{\"color\":\"#B6E880\"},\"name\":\"Badman, Miss. Emily Louisa\",\"notched\":false,\"offsetgroup\":\"Badman, Miss. Emily Louisa\",\"orientation\":\"h\",\"showlegend\":true,\"x\":[18.0],\"x0\":\" \",\"xaxis\":\"x\",\"y0\":\" \",\"yaxis\":\"y\",\"type\":\"box\"},{\"alignmentgroup\":\"True\",\"hovertemplate\":\"color=O'Donoghue, Ms. Bridget\\u003cbr\\u003ex=%{x}\\u003cextra\\u003e\\u003c\\u002fextra\\u003e\",\"legendgroup\":\"O'Donoghue, Ms. Bridget\",\"marker\":{\"color\":\"#FF97FF\"},\"name\":\"O'Donoghue, Ms. Bridget\",\"notched\":false,\"offsetgroup\":\"O'Donoghue, Ms. Bridget\",\"orientation\":\"h\",\"showlegend\":true,\"x\":[30.272590361445783],\"x0\":\" \",\"xaxis\":\"x\",\"y0\":\" \",\"yaxis\":\"y\",\"type\":\"box\"},{\"alignmentgroup\":\"True\",\"hovertemplate\":\"color=Wells, Master. Ralph Lester\\u003cbr\\u003ex=%{x}\\u003cextra\\u003e\\u003c\\u002fextra\\u003e\",\"legendgroup\":\"Wells, Master. Ralph Lester\",\"marker\":{\"color\":\"#FECB52\"},\"name\":\"Wells, Master. Ralph Lester\",\"notched\":false,\"offsetgroup\":\"Wells, Master. Ralph Lester\",\"orientation\":\"h\",\"showlegend\":true,\"x\":[2.0],\"x0\":\" \",\"xaxis\":\"x\",\"y0\":\" \",\"yaxis\":\"y\",\"type\":\"box\"},{\"alignmentgroup\":\"True\",\"hovertemplate\":\"color=Dyker, Mrs. Adolf Fredrik (Anna Elisabeth Judith Andersson)\\u003cbr\\u003ex=%{x}\\u003cextra\\u003e\\u003c\\u002fextra\\u003e\",\"legendgroup\":\"Dyker, Mrs. Adolf Fredrik (Anna Elisabeth Judith Andersson)\",\"marker\":{\"color\":\"#636efa\"},\"name\":\"Dyker, Mrs. Adolf Fredrik (Anna Elisabeth Judith Andersson)\",\"notched\":false,\"offsetgroup\":\"Dyker, Mrs. Adolf Fredrik (Anna Elisabeth Judith Andersson)\",\"orientation\":\"h\",\"showlegend\":true,\"x\":[22.0],\"x0\":\" \",\"xaxis\":\"x\",\"y0\":\" \",\"yaxis\":\"y\",\"type\":\"box\"},{\"alignmentgroup\":\"True\",\"hovertemplate\":\"color=Pedersen, Mr. Olaf\\u003cbr\\u003ex=%{x}\\u003cextra\\u003e\\u003c\\u002fextra\\u003e\",\"legendgroup\":\"Pedersen, Mr. Olaf\",\"marker\":{\"color\":\"#EF553B\"},\"name\":\"Pedersen, Mr. Olaf\",\"notched\":false,\"offsetgroup\":\"Pedersen, Mr. Olaf\",\"orientation\":\"h\",\"showlegend\":true,\"x\":[30.272590361445783],\"x0\":\" \",\"xaxis\":\"x\",\"y0\":\" \",\"yaxis\":\"y\",\"type\":\"box\"},{\"alignmentgroup\":\"True\",\"hovertemplate\":\"color=Davidson, Mrs. Thornton (Orian Hays)\\u003cbr\\u003ex=%{x}\\u003cextra\\u003e\\u003c\\u002fextra\\u003e\",\"legendgroup\":\"Davidson, Mrs. Thornton (Orian Hays)\",\"marker\":{\"color\":\"#00cc96\"},\"name\":\"Davidson, Mrs. Thornton (Orian Hays)\",\"notched\":false,\"offsetgroup\":\"Davidson, Mrs. Thornton (Orian Hays)\",\"orientation\":\"h\",\"showlegend\":true,\"x\":[27.0],\"x0\":\" \",\"xaxis\":\"x\",\"y0\":\" \",\"yaxis\":\"y\",\"type\":\"box\"},{\"alignmentgroup\":\"True\",\"hovertemplate\":\"color=Guest, Mr. Robert\\u003cbr\\u003ex=%{x}\\u003cextra\\u003e\\u003c\\u002fextra\\u003e\",\"legendgroup\":\"Guest, Mr. Robert\",\"marker\":{\"color\":\"#ab63fa\"},\"name\":\"Guest, Mr. Robert\",\"notched\":false,\"offsetgroup\":\"Guest, Mr. Robert\",\"orientation\":\"h\",\"showlegend\":true,\"x\":[30.272590361445783],\"x0\":\" \",\"xaxis\":\"x\",\"y0\":\" \",\"yaxis\":\"y\",\"type\":\"box\"},{\"alignmentgroup\":\"True\",\"hovertemplate\":\"color=Birnbaum, Mr. Jakob\\u003cbr\\u003ex=%{x}\\u003cextra\\u003e\\u003c\\u002fextra\\u003e\",\"legendgroup\":\"Birnbaum, Mr. Jakob\",\"marker\":{\"color\":\"#FFA15A\"},\"name\":\"Birnbaum, Mr. Jakob\",\"notched\":false,\"offsetgroup\":\"Birnbaum, Mr. Jakob\",\"orientation\":\"h\",\"showlegend\":true,\"x\":[25.0],\"x0\":\" \",\"xaxis\":\"x\",\"y0\":\" \",\"yaxis\":\"y\",\"type\":\"box\"},{\"alignmentgroup\":\"True\",\"hovertemplate\":\"color=Tenglin, Mr. Gunnar Isidor\\u003cbr\\u003ex=%{x}\\u003cextra\\u003e\\u003c\\u002fextra\\u003e\",\"legendgroup\":\"Tenglin, Mr. Gunnar Isidor\",\"marker\":{\"color\":\"#19d3f3\"},\"name\":\"Tenglin, Mr. Gunnar Isidor\",\"notched\":false,\"offsetgroup\":\"Tenglin, Mr. Gunnar Isidor\",\"orientation\":\"h\",\"showlegend\":true,\"x\":[25.0],\"x0\":\" \",\"xaxis\":\"x\",\"y0\":\" \",\"yaxis\":\"y\",\"type\":\"box\"},{\"alignmentgroup\":\"True\",\"hovertemplate\":\"color=Cavendish, Mrs. Tyrell William (Julia Florence Siegel)\\u003cbr\\u003ex=%{x}\\u003cextra\\u003e\\u003c\\u002fextra\\u003e\",\"legendgroup\":\"Cavendish, Mrs. Tyrell William (Julia Florence Siegel)\",\"marker\":{\"color\":\"#FF6692\"},\"name\":\"Cavendish, Mrs. Tyrell William (Julia Florence Siegel)\",\"notched\":false,\"offsetgroup\":\"Cavendish, Mrs. Tyrell William (Julia Florence Siegel)\",\"orientation\":\"h\",\"showlegend\":true,\"x\":[76.0],\"x0\":\" \",\"xaxis\":\"x\",\"y0\":\" \",\"yaxis\":\"y\",\"type\":\"box\"},{\"alignmentgroup\":\"True\",\"hovertemplate\":\"color=Makinen, Mr. Kalle Edvard\\u003cbr\\u003ex=%{x}\\u003cextra\\u003e\\u003c\\u002fextra\\u003e\",\"legendgroup\":\"Makinen, Mr. Kalle Edvard\",\"marker\":{\"color\":\"#B6E880\"},\"name\":\"Makinen, Mr. Kalle Edvard\",\"notched\":false,\"offsetgroup\":\"Makinen, Mr. Kalle Edvard\",\"orientation\":\"h\",\"showlegend\":true,\"x\":[29.0],\"x0\":\" \",\"xaxis\":\"x\",\"y0\":\" \",\"yaxis\":\"y\",\"type\":\"box\"},{\"alignmentgroup\":\"True\",\"hovertemplate\":\"color=Braf, Miss. Elin Ester Maria\\u003cbr\\u003ex=%{x}\\u003cextra\\u003e\\u003c\\u002fextra\\u003e\",\"legendgroup\":\"Braf, Miss. Elin Ester Maria\",\"marker\":{\"color\":\"#FF97FF\"},\"name\":\"Braf, Miss. Elin Ester Maria\",\"notched\":false,\"offsetgroup\":\"Braf, Miss. Elin Ester Maria\",\"orientation\":\"h\",\"showlegend\":true,\"x\":[20.0],\"x0\":\" \",\"xaxis\":\"x\",\"y0\":\" \",\"yaxis\":\"y\",\"type\":\"box\"},{\"alignmentgroup\":\"True\",\"hovertemplate\":\"color=Nancarrow, Mr. William Henry\\u003cbr\\u003ex=%{x}\\u003cextra\\u003e\\u003c\\u002fextra\\u003e\",\"legendgroup\":\"Nancarrow, Mr. William Henry\",\"marker\":{\"color\":\"#FECB52\"},\"name\":\"Nancarrow, Mr. William Henry\",\"notched\":false,\"offsetgroup\":\"Nancarrow, Mr. William Henry\",\"orientation\":\"h\",\"showlegend\":true,\"x\":[33.0],\"x0\":\" \",\"xaxis\":\"x\",\"y0\":\" \",\"yaxis\":\"y\",\"type\":\"box\"},{\"alignmentgroup\":\"True\",\"hovertemplate\":\"color=Stengel, Mrs. Charles Emil Henry (Annie May Morris)\\u003cbr\\u003ex=%{x}\\u003cextra\\u003e\\u003c\\u002fextra\\u003e\",\"legendgroup\":\"Stengel, Mrs. Charles Emil Henry (Annie May Morris)\",\"marker\":{\"color\":\"#636efa\"},\"name\":\"Stengel, Mrs. Charles Emil Henry (Annie May Morris)\",\"notched\":false,\"offsetgroup\":\"Stengel, Mrs. Charles Emil Henry (Annie May Morris)\",\"orientation\":\"h\",\"showlegend\":true,\"x\":[43.0],\"x0\":\" \",\"xaxis\":\"x\",\"y0\":\" \",\"yaxis\":\"y\",\"type\":\"box\"},{\"alignmentgroup\":\"True\",\"hovertemplate\":\"color=Weisz, Mr. Leopold\\u003cbr\\u003ex=%{x}\\u003cextra\\u003e\\u003c\\u002fextra\\u003e\",\"legendgroup\":\"Weisz, Mr. Leopold\",\"marker\":{\"color\":\"#EF553B\"},\"name\":\"Weisz, Mr. Leopold\",\"notched\":false,\"offsetgroup\":\"Weisz, Mr. Leopold\",\"orientation\":\"h\",\"showlegend\":true,\"x\":[27.0],\"x0\":\" \",\"xaxis\":\"x\",\"y0\":\" \",\"yaxis\":\"y\",\"type\":\"box\"},{\"alignmentgroup\":\"True\",\"hovertemplate\":\"color=Foley, Mr. William\\u003cbr\\u003ex=%{x}\\u003cextra\\u003e\\u003c\\u002fextra\\u003e\",\"legendgroup\":\"Foley, Mr. William\",\"marker\":{\"color\":\"#00cc96\"},\"name\":\"Foley, Mr. William\",\"notched\":false,\"offsetgroup\":\"Foley, Mr. William\",\"orientation\":\"h\",\"showlegend\":true,\"x\":[30.272590361445783],\"x0\":\" \",\"xaxis\":\"x\",\"y0\":\" \",\"yaxis\":\"y\",\"type\":\"box\"},{\"alignmentgroup\":\"True\",\"hovertemplate\":\"color=Johansson Palmquist, Mr. Oskar Leander\\u003cbr\\u003ex=%{x}\\u003cextra\\u003e\\u003c\\u002fextra\\u003e\",\"legendgroup\":\"Johansson Palmquist, Mr. Oskar Leander\",\"marker\":{\"color\":\"#ab63fa\"},\"name\":\"Johansson Palmquist, Mr. Oskar Leander\",\"notched\":false,\"offsetgroup\":\"Johansson Palmquist, Mr. Oskar Leander\",\"orientation\":\"h\",\"showlegend\":true,\"x\":[26.0],\"x0\":\" \",\"xaxis\":\"x\",\"y0\":\" \",\"yaxis\":\"y\",\"type\":\"box\"},{\"alignmentgroup\":\"True\",\"hovertemplate\":\"color=Thomas, Mrs. Alexander (Thamine Thelma\\\")\\\"\\u003cbr\\u003ex=%{x}\\u003cextra\\u003e\\u003c\\u002fextra\\u003e\",\"legendgroup\":\"Thomas, Mrs. Alexander (Thamine Thelma\\\")\\\"\",\"marker\":{\"color\":\"#FFA15A\"},\"name\":\"Thomas, Mrs. Alexander (Thamine Thelma\\\")\\\"\",\"notched\":false,\"offsetgroup\":\"Thomas, Mrs. Alexander (Thamine Thelma\\\")\\\"\",\"orientation\":\"h\",\"showlegend\":true,\"x\":[16.0],\"x0\":\" \",\"xaxis\":\"x\",\"y0\":\" \",\"yaxis\":\"y\",\"type\":\"box\"},{\"alignmentgroup\":\"True\",\"hovertemplate\":\"color=Holthen, Mr. Johan Martin\\u003cbr\\u003ex=%{x}\\u003cextra\\u003e\\u003c\\u002fextra\\u003e\",\"legendgroup\":\"Holthen, Mr. Johan Martin\",\"marker\":{\"color\":\"#19d3f3\"},\"name\":\"Holthen, Mr. Johan Martin\",\"notched\":false,\"offsetgroup\":\"Holthen, Mr. Johan Martin\",\"orientation\":\"h\",\"showlegend\":true,\"x\":[28.0],\"x0\":\" \",\"xaxis\":\"x\",\"y0\":\" \",\"yaxis\":\"y\",\"type\":\"box\"},{\"alignmentgroup\":\"True\",\"hovertemplate\":\"color=Buckley, Mr. Daniel\\u003cbr\\u003ex=%{x}\\u003cextra\\u003e\\u003c\\u002fextra\\u003e\",\"legendgroup\":\"Buckley, Mr. Daniel\",\"marker\":{\"color\":\"#FF6692\"},\"name\":\"Buckley, Mr. Daniel\",\"notched\":false,\"offsetgroup\":\"Buckley, Mr. Daniel\",\"orientation\":\"h\",\"showlegend\":true,\"x\":[21.0],\"x0\":\" \",\"xaxis\":\"x\",\"y0\":\" \",\"yaxis\":\"y\",\"type\":\"box\"},{\"alignmentgroup\":\"True\",\"hovertemplate\":\"color=Ryan, Mr. Edward\\u003cbr\\u003ex=%{x}\\u003cextra\\u003e\\u003c\\u002fextra\\u003e\",\"legendgroup\":\"Ryan, Mr. Edward\",\"marker\":{\"color\":\"#B6E880\"},\"name\":\"Ryan, Mr. Edward\",\"notched\":false,\"offsetgroup\":\"Ryan, Mr. Edward\",\"orientation\":\"h\",\"showlegend\":true,\"x\":[30.272590361445783],\"x0\":\" \",\"xaxis\":\"x\",\"y0\":\" \",\"yaxis\":\"y\",\"type\":\"box\"},{\"alignmentgroup\":\"True\",\"hovertemplate\":\"color=Willer, Mr. Aaron (Abi Weller\\\")\\\"\\u003cbr\\u003ex=%{x}\\u003cextra\\u003e\\u003c\\u002fextra\\u003e\",\"legendgroup\":\"Willer, Mr. Aaron (Abi Weller\\\")\\\"\",\"marker\":{\"color\":\"#FF97FF\"},\"name\":\"Willer, Mr. Aaron (Abi Weller\\\")\\\"\",\"notched\":false,\"offsetgroup\":\"Willer, Mr. Aaron (Abi Weller\\\")\\\"\",\"orientation\":\"h\",\"showlegend\":true,\"x\":[30.272590361445783],\"x0\":\" \",\"xaxis\":\"x\",\"y0\":\" \",\"yaxis\":\"y\",\"type\":\"box\"},{\"alignmentgroup\":\"True\",\"hovertemplate\":\"color=Swane, Mr. George\\u003cbr\\u003ex=%{x}\\u003cextra\\u003e\\u003c\\u002fextra\\u003e\",\"legendgroup\":\"Swane, Mr. George\",\"marker\":{\"color\":\"#FECB52\"},\"name\":\"Swane, Mr. George\",\"notched\":false,\"offsetgroup\":\"Swane, Mr. George\",\"orientation\":\"h\",\"showlegend\":true,\"x\":[18.5],\"x0\":\" \",\"xaxis\":\"x\",\"y0\":\" \",\"yaxis\":\"y\",\"type\":\"box\"},{\"alignmentgroup\":\"True\",\"hovertemplate\":\"color=Stanton, Mr. Samuel Ward\\u003cbr\\u003ex=%{x}\\u003cextra\\u003e\\u003c\\u002fextra\\u003e\",\"legendgroup\":\"Stanton, Mr. Samuel Ward\",\"marker\":{\"color\":\"#636efa\"},\"name\":\"Stanton, Mr. Samuel Ward\",\"notched\":false,\"offsetgroup\":\"Stanton, Mr. Samuel Ward\",\"orientation\":\"h\",\"showlegend\":true,\"x\":[41.0],\"x0\":\" \",\"xaxis\":\"x\",\"y0\":\" \",\"yaxis\":\"y\",\"type\":\"box\"},{\"alignmentgroup\":\"True\",\"hovertemplate\":\"color=Shine, Miss. Ellen Natalia\\u003cbr\\u003ex=%{x}\\u003cextra\\u003e\\u003c\\u002fextra\\u003e\",\"legendgroup\":\"Shine, Miss. Ellen Natalia\",\"marker\":{\"color\":\"#EF553B\"},\"name\":\"Shine, Miss. Ellen Natalia\",\"notched\":false,\"offsetgroup\":\"Shine, Miss. Ellen Natalia\",\"orientation\":\"h\",\"showlegend\":true,\"x\":[30.272590361445783],\"x0\":\" \",\"xaxis\":\"x\",\"y0\":\" \",\"yaxis\":\"y\",\"type\":\"box\"},{\"alignmentgroup\":\"True\",\"hovertemplate\":\"color=Evans, Miss. Edith Corse\\u003cbr\\u003ex=%{x}\\u003cextra\\u003e\\u003c\\u002fextra\\u003e\",\"legendgroup\":\"Evans, Miss. Edith Corse\",\"marker\":{\"color\":\"#00cc96\"},\"name\":\"Evans, Miss. Edith Corse\",\"notched\":false,\"offsetgroup\":\"Evans, Miss. Edith Corse\",\"orientation\":\"h\",\"showlegend\":true,\"x\":[36.0],\"x0\":\" \",\"xaxis\":\"x\",\"y0\":\" \",\"yaxis\":\"y\",\"type\":\"box\"},{\"alignmentgroup\":\"True\",\"hovertemplate\":\"color=Buckley, Miss. Katherine\\u003cbr\\u003ex=%{x}\\u003cextra\\u003e\\u003c\\u002fextra\\u003e\",\"legendgroup\":\"Buckley, Miss. Katherine\",\"marker\":{\"color\":\"#ab63fa\"},\"name\":\"Buckley, Miss. Katherine\",\"notched\":false,\"offsetgroup\":\"Buckley, Miss. Katherine\",\"orientation\":\"h\",\"showlegend\":true,\"x\":[18.5],\"x0\":\" \",\"xaxis\":\"x\",\"y0\":\" \",\"yaxis\":\"y\",\"type\":\"box\"},{\"alignmentgroup\":\"True\",\"hovertemplate\":\"color=Straus, Mrs. Isidor (Rosalie Ida Blun)\\u003cbr\\u003ex=%{x}\\u003cextra\\u003e\\u003c\\u002fextra\\u003e\",\"legendgroup\":\"Straus, Mrs. Isidor (Rosalie Ida Blun)\",\"marker\":{\"color\":\"#FFA15A\"},\"name\":\"Straus, Mrs. Isidor (Rosalie Ida Blun)\",\"notched\":false,\"offsetgroup\":\"Straus, Mrs. Isidor (Rosalie Ida Blun)\",\"orientation\":\"h\",\"showlegend\":true,\"x\":[63.0],\"x0\":\" \",\"xaxis\":\"x\",\"y0\":\" \",\"yaxis\":\"y\",\"type\":\"box\"},{\"alignmentgroup\":\"True\",\"hovertemplate\":\"color=Chronopoulos, Mr. Demetrios\\u003cbr\\u003ex=%{x}\\u003cextra\\u003e\\u003c\\u002fextra\\u003e\",\"legendgroup\":\"Chronopoulos, Mr. Demetrios\",\"marker\":{\"color\":\"#19d3f3\"},\"name\":\"Chronopoulos, Mr. Demetrios\",\"notched\":false,\"offsetgroup\":\"Chronopoulos, Mr. Demetrios\",\"orientation\":\"h\",\"showlegend\":true,\"x\":[18.0],\"x0\":\" \",\"xaxis\":\"x\",\"y0\":\" \",\"yaxis\":\"y\",\"type\":\"box\"},{\"alignmentgroup\":\"True\",\"hovertemplate\":\"color=Thomas, Mr. John\\u003cbr\\u003ex=%{x}\\u003cextra\\u003e\\u003c\\u002fextra\\u003e\",\"legendgroup\":\"Thomas, Mr. John\",\"marker\":{\"color\":\"#FF6692\"},\"name\":\"Thomas, Mr. John\",\"notched\":false,\"offsetgroup\":\"Thomas, Mr. John\",\"orientation\":\"h\",\"showlegend\":true,\"x\":[30.272590361445783],\"x0\":\" \",\"xaxis\":\"x\",\"y0\":\" \",\"yaxis\":\"y\",\"type\":\"box\"},{\"alignmentgroup\":\"True\",\"hovertemplate\":\"color=Sandstrom, Miss. Beatrice Irene\\u003cbr\\u003ex=%{x}\\u003cextra\\u003e\\u003c\\u002fextra\\u003e\",\"legendgroup\":\"Sandstrom, Miss. Beatrice Irene\",\"marker\":{\"color\":\"#B6E880\"},\"name\":\"Sandstrom, Miss. Beatrice Irene\",\"notched\":false,\"offsetgroup\":\"Sandstrom, Miss. Beatrice Irene\",\"orientation\":\"h\",\"showlegend\":true,\"x\":[1.0],\"x0\":\" \",\"xaxis\":\"x\",\"y0\":\" \",\"yaxis\":\"y\",\"type\":\"box\"},{\"alignmentgroup\":\"True\",\"hovertemplate\":\"color=Beattie, Mr. Thomson\\u003cbr\\u003ex=%{x}\\u003cextra\\u003e\\u003c\\u002fextra\\u003e\",\"legendgroup\":\"Beattie, Mr. Thomson\",\"marker\":{\"color\":\"#FF97FF\"},\"name\":\"Beattie, Mr. Thomson\",\"notched\":false,\"offsetgroup\":\"Beattie, Mr. Thomson\",\"orientation\":\"h\",\"showlegend\":true,\"x\":[36.0],\"x0\":\" \",\"xaxis\":\"x\",\"y0\":\" \",\"yaxis\":\"y\",\"type\":\"box\"},{\"alignmentgroup\":\"True\",\"hovertemplate\":\"color=Chapman, Mrs. John Henry (Sara Elizabeth Lawry)\\u003cbr\\u003ex=%{x}\\u003cextra\\u003e\\u003c\\u002fextra\\u003e\",\"legendgroup\":\"Chapman, Mrs. John Henry (Sara Elizabeth Lawry)\",\"marker\":{\"color\":\"#FECB52\"},\"name\":\"Chapman, Mrs. John Henry (Sara Elizabeth Lawry)\",\"notched\":false,\"offsetgroup\":\"Chapman, Mrs. John Henry (Sara Elizabeth Lawry)\",\"orientation\":\"h\",\"showlegend\":true,\"x\":[29.0],\"x0\":\" \",\"xaxis\":\"x\",\"y0\":\" \",\"yaxis\":\"y\",\"type\":\"box\"},{\"alignmentgroup\":\"True\",\"hovertemplate\":\"color=Watt, Miss. Bertha J\\u003cbr\\u003ex=%{x}\\u003cextra\\u003e\\u003c\\u002fextra\\u003e\",\"legendgroup\":\"Watt, Miss. Bertha J\",\"marker\":{\"color\":\"#636efa\"},\"name\":\"Watt, Miss. Bertha J\",\"notched\":false,\"offsetgroup\":\"Watt, Miss. Bertha J\",\"orientation\":\"h\",\"showlegend\":true,\"x\":[12.0],\"x0\":\" \",\"xaxis\":\"x\",\"y0\":\" \",\"yaxis\":\"y\",\"type\":\"box\"},{\"alignmentgroup\":\"True\",\"hovertemplate\":\"color=Kiernan, Mr. John\\u003cbr\\u003ex=%{x}\\u003cextra\\u003e\\u003c\\u002fextra\\u003e\",\"legendgroup\":\"Kiernan, Mr. John\",\"marker\":{\"color\":\"#EF553B\"},\"name\":\"Kiernan, Mr. John\",\"notched\":false,\"offsetgroup\":\"Kiernan, Mr. John\",\"orientation\":\"h\",\"showlegend\":true,\"x\":[30.272590361445783],\"x0\":\" \",\"xaxis\":\"x\",\"y0\":\" \",\"yaxis\":\"y\",\"type\":\"box\"},{\"alignmentgroup\":\"True\",\"hovertemplate\":\"color=Schabert, Mrs. Paul (Emma Mock)\\u003cbr\\u003ex=%{x}\\u003cextra\\u003e\\u003c\\u002fextra\\u003e\",\"legendgroup\":\"Schabert, Mrs. Paul (Emma Mock)\",\"marker\":{\"color\":\"#00cc96\"},\"name\":\"Schabert, Mrs. Paul (Emma Mock)\",\"notched\":false,\"offsetgroup\":\"Schabert, Mrs. Paul (Emma Mock)\",\"orientation\":\"h\",\"showlegend\":true,\"x\":[35.0],\"x0\":\" \",\"xaxis\":\"x\",\"y0\":\" \",\"yaxis\":\"y\",\"type\":\"box\"},{\"alignmentgroup\":\"True\",\"hovertemplate\":\"color=Carver, Mr. Alfred John\\u003cbr\\u003ex=%{x}\\u003cextra\\u003e\\u003c\\u002fextra\\u003e\",\"legendgroup\":\"Carver, Mr. Alfred John\",\"marker\":{\"color\":\"#ab63fa\"},\"name\":\"Carver, Mr. Alfred John\",\"notched\":false,\"offsetgroup\":\"Carver, Mr. Alfred John\",\"orientation\":\"h\",\"showlegend\":true,\"x\":[28.0],\"x0\":\" \",\"xaxis\":\"x\",\"y0\":\" \",\"yaxis\":\"y\",\"type\":\"box\"},{\"alignmentgroup\":\"True\",\"hovertemplate\":\"color=Kennedy, Mr. John\\u003cbr\\u003ex=%{x}\\u003cextra\\u003e\\u003c\\u002fextra\\u003e\",\"legendgroup\":\"Kennedy, Mr. John\",\"marker\":{\"color\":\"#FFA15A\"},\"name\":\"Kennedy, Mr. John\",\"notched\":false,\"offsetgroup\":\"Kennedy, Mr. John\",\"orientation\":\"h\",\"showlegend\":true,\"x\":[30.272590361445783],\"x0\":\" \",\"xaxis\":\"x\",\"y0\":\" \",\"yaxis\":\"y\",\"type\":\"box\"},{\"alignmentgroup\":\"True\",\"hovertemplate\":\"color=Cribb, Miss. Laura Alice\\u003cbr\\u003ex=%{x}\\u003cextra\\u003e\\u003c\\u002fextra\\u003e\",\"legendgroup\":\"Cribb, Miss. Laura Alice\",\"marker\":{\"color\":\"#19d3f3\"},\"name\":\"Cribb, Miss. Laura Alice\",\"notched\":false,\"offsetgroup\":\"Cribb, Miss. Laura Alice\",\"orientation\":\"h\",\"showlegend\":true,\"x\":[17.0],\"x0\":\" \",\"xaxis\":\"x\",\"y0\":\" \",\"yaxis\":\"y\",\"type\":\"box\"},{\"alignmentgroup\":\"True\",\"hovertemplate\":\"color=Brobeck, Mr. Karl Rudolf\\u003cbr\\u003ex=%{x}\\u003cextra\\u003e\\u003c\\u002fextra\\u003e\",\"legendgroup\":\"Brobeck, Mr. Karl Rudolf\",\"marker\":{\"color\":\"#FF6692\"},\"name\":\"Brobeck, Mr. Karl Rudolf\",\"notched\":false,\"offsetgroup\":\"Brobeck, Mr. Karl Rudolf\",\"orientation\":\"h\",\"showlegend\":true,\"x\":[22.0],\"x0\":\" \",\"xaxis\":\"x\",\"y0\":\" \",\"yaxis\":\"y\",\"type\":\"box\"},{\"alignmentgroup\":\"True\",\"hovertemplate\":\"color=McCoy, Miss. Alicia\\u003cbr\\u003ex=%{x}\\u003cextra\\u003e\\u003c\\u002fextra\\u003e\",\"legendgroup\":\"McCoy, Miss. Alicia\",\"marker\":{\"color\":\"#B6E880\"},\"name\":\"McCoy, Miss. Alicia\",\"notched\":false,\"offsetgroup\":\"McCoy, Miss. Alicia\",\"orientation\":\"h\",\"showlegend\":true,\"x\":[30.272590361445783],\"x0\":\" \",\"xaxis\":\"x\",\"y0\":\" \",\"yaxis\":\"y\",\"type\":\"box\"},{\"alignmentgroup\":\"True\",\"hovertemplate\":\"color=Bowenur, Mr. Solomon\\u003cbr\\u003ex=%{x}\\u003cextra\\u003e\\u003c\\u002fextra\\u003e\",\"legendgroup\":\"Bowenur, Mr. Solomon\",\"marker\":{\"color\":\"#FF97FF\"},\"name\":\"Bowenur, Mr. Solomon\",\"notched\":false,\"offsetgroup\":\"Bowenur, Mr. Solomon\",\"orientation\":\"h\",\"showlegend\":true,\"x\":[42.0],\"x0\":\" \",\"xaxis\":\"x\",\"y0\":\" \",\"yaxis\":\"y\",\"type\":\"box\"},{\"alignmentgroup\":\"True\",\"hovertemplate\":\"color=Petersen, Mr. Marius\\u003cbr\\u003ex=%{x}\\u003cextra\\u003e\\u003c\\u002fextra\\u003e\",\"legendgroup\":\"Petersen, Mr. Marius\",\"marker\":{\"color\":\"#FECB52\"},\"name\":\"Petersen, Mr. Marius\",\"notched\":false,\"offsetgroup\":\"Petersen, Mr. Marius\",\"orientation\":\"h\",\"showlegend\":true,\"x\":[24.0],\"x0\":\" \",\"xaxis\":\"x\",\"y0\":\" \",\"yaxis\":\"y\",\"type\":\"box\"},{\"alignmentgroup\":\"True\",\"hovertemplate\":\"color=Spinner, Mr. Henry John\\u003cbr\\u003ex=%{x}\\u003cextra\\u003e\\u003c\\u002fextra\\u003e\",\"legendgroup\":\"Spinner, Mr. Henry John\",\"marker\":{\"color\":\"#636efa\"},\"name\":\"Spinner, Mr. Henry John\",\"notched\":false,\"offsetgroup\":\"Spinner, Mr. Henry John\",\"orientation\":\"h\",\"showlegend\":true,\"x\":[32.0],\"x0\":\" \",\"xaxis\":\"x\",\"y0\":\" \",\"yaxis\":\"y\",\"type\":\"box\"},{\"alignmentgroup\":\"True\",\"hovertemplate\":\"color=Gracie, Col. Archibald IV\\u003cbr\\u003ex=%{x}\\u003cextra\\u003e\\u003c\\u002fextra\\u003e\",\"legendgroup\":\"Gracie, Col. Archibald IV\",\"marker\":{\"color\":\"#EF553B\"},\"name\":\"Gracie, Col. Archibald IV\",\"notched\":false,\"offsetgroup\":\"Gracie, Col. Archibald IV\",\"orientation\":\"h\",\"showlegend\":true,\"x\":[53.0],\"x0\":\" \",\"xaxis\":\"x\",\"y0\":\" \",\"yaxis\":\"y\",\"type\":\"box\"},{\"alignmentgroup\":\"True\",\"hovertemplate\":\"color=Lefebre, Mrs. Frank (Frances)\\u003cbr\\u003ex=%{x}\\u003cextra\\u003e\\u003c\\u002fextra\\u003e\",\"legendgroup\":\"Lefebre, Mrs. Frank (Frances)\",\"marker\":{\"color\":\"#00cc96\"},\"name\":\"Lefebre, Mrs. Frank (Frances)\",\"notched\":false,\"offsetgroup\":\"Lefebre, Mrs. Frank (Frances)\",\"orientation\":\"h\",\"showlegend\":true,\"x\":[30.272590361445783],\"x0\":\" \",\"xaxis\":\"x\",\"y0\":\" \",\"yaxis\":\"y\",\"type\":\"box\"},{\"alignmentgroup\":\"True\",\"hovertemplate\":\"color=Thomas, Mr. Charles P\\u003cbr\\u003ex=%{x}\\u003cextra\\u003e\\u003c\\u002fextra\\u003e\",\"legendgroup\":\"Thomas, Mr. Charles P\",\"marker\":{\"color\":\"#ab63fa\"},\"name\":\"Thomas, Mr. Charles P\",\"notched\":false,\"offsetgroup\":\"Thomas, Mr. Charles P\",\"orientation\":\"h\",\"showlegend\":true,\"x\":[30.272590361445783],\"x0\":\" \",\"xaxis\":\"x\",\"y0\":\" \",\"yaxis\":\"y\",\"type\":\"box\"},{\"alignmentgroup\":\"True\",\"hovertemplate\":\"color=Dintcheff, Mr. Valtcho\\u003cbr\\u003ex=%{x}\\u003cextra\\u003e\\u003c\\u002fextra\\u003e\",\"legendgroup\":\"Dintcheff, Mr. Valtcho\",\"marker\":{\"color\":\"#FFA15A\"},\"name\":\"Dintcheff, Mr. Valtcho\",\"notched\":false,\"offsetgroup\":\"Dintcheff, Mr. Valtcho\",\"orientation\":\"h\",\"showlegend\":true,\"x\":[43.0],\"x0\":\" \",\"xaxis\":\"x\",\"y0\":\" \",\"yaxis\":\"y\",\"type\":\"box\"},{\"alignmentgroup\":\"True\",\"hovertemplate\":\"color=Carlsson, Mr. Carl Robert\\u003cbr\\u003ex=%{x}\\u003cextra\\u003e\\u003c\\u002fextra\\u003e\",\"legendgroup\":\"Carlsson, Mr. Carl Robert\",\"marker\":{\"color\":\"#19d3f3\"},\"name\":\"Carlsson, Mr. Carl Robert\",\"notched\":false,\"offsetgroup\":\"Carlsson, Mr. Carl Robert\",\"orientation\":\"h\",\"showlegend\":true,\"x\":[24.0],\"x0\":\" \",\"xaxis\":\"x\",\"y0\":\" \",\"yaxis\":\"y\",\"type\":\"box\"},{\"alignmentgroup\":\"True\",\"hovertemplate\":\"color=Zakarian, Mr. Mapriededer\\u003cbr\\u003ex=%{x}\\u003cextra\\u003e\\u003c\\u002fextra\\u003e\",\"legendgroup\":\"Zakarian, Mr. Mapriededer\",\"marker\":{\"color\":\"#FF6692\"},\"name\":\"Zakarian, Mr. Mapriededer\",\"notched\":false,\"offsetgroup\":\"Zakarian, Mr. Mapriededer\",\"orientation\":\"h\",\"showlegend\":true,\"x\":[26.5],\"x0\":\" \",\"xaxis\":\"x\",\"y0\":\" \",\"yaxis\":\"y\",\"type\":\"box\"},{\"alignmentgroup\":\"True\",\"hovertemplate\":\"color=Schmidt, Mr. August\\u003cbr\\u003ex=%{x}\\u003cextra\\u003e\\u003c\\u002fextra\\u003e\",\"legendgroup\":\"Schmidt, Mr. August\",\"marker\":{\"color\":\"#B6E880\"},\"name\":\"Schmidt, Mr. August\",\"notched\":false,\"offsetgroup\":\"Schmidt, Mr. August\",\"orientation\":\"h\",\"showlegend\":true,\"x\":[26.0],\"x0\":\" \",\"xaxis\":\"x\",\"y0\":\" \",\"yaxis\":\"y\",\"type\":\"box\"},{\"alignmentgroup\":\"True\",\"hovertemplate\":\"color=Drapkin, Miss. Jennie\\u003cbr\\u003ex=%{x}\\u003cextra\\u003e\\u003c\\u002fextra\\u003e\",\"legendgroup\":\"Drapkin, Miss. Jennie\",\"marker\":{\"color\":\"#FF97FF\"},\"name\":\"Drapkin, Miss. Jennie\",\"notched\":false,\"offsetgroup\":\"Drapkin, Miss. Jennie\",\"orientation\":\"h\",\"showlegend\":true,\"x\":[23.0],\"x0\":\" \",\"xaxis\":\"x\",\"y0\":\" \",\"yaxis\":\"y\",\"type\":\"box\"},{\"alignmentgroup\":\"True\",\"hovertemplate\":\"color=Goodwin, Mr. Charles Frederick\\u003cbr\\u003ex=%{x}\\u003cextra\\u003e\\u003c\\u002fextra\\u003e\",\"legendgroup\":\"Goodwin, Mr. Charles Frederick\",\"marker\":{\"color\":\"#FECB52\"},\"name\":\"Goodwin, Mr. Charles Frederick\",\"notched\":false,\"offsetgroup\":\"Goodwin, Mr. Charles Frederick\",\"orientation\":\"h\",\"showlegend\":true,\"x\":[40.0],\"x0\":\" \",\"xaxis\":\"x\",\"y0\":\" \",\"yaxis\":\"y\",\"type\":\"box\"},{\"alignmentgroup\":\"True\",\"hovertemplate\":\"color=Goodwin, Miss. Jessie Allis\\u003cbr\\u003ex=%{x}\\u003cextra\\u003e\\u003c\\u002fextra\\u003e\",\"legendgroup\":\"Goodwin, Miss. Jessie Allis\",\"marker\":{\"color\":\"#636efa\"},\"name\":\"Goodwin, Miss. Jessie Allis\",\"notched\":false,\"offsetgroup\":\"Goodwin, Miss. Jessie Allis\",\"orientation\":\"h\",\"showlegend\":true,\"x\":[10.0],\"x0\":\" \",\"xaxis\":\"x\",\"y0\":\" \",\"yaxis\":\"y\",\"type\":\"box\"},{\"alignmentgroup\":\"True\",\"hovertemplate\":\"color=Daniels, Miss. Sarah\\u003cbr\\u003ex=%{x}\\u003cextra\\u003e\\u003c\\u002fextra\\u003e\",\"legendgroup\":\"Daniels, Miss. Sarah\",\"marker\":{\"color\":\"#EF553B\"},\"name\":\"Daniels, Miss. Sarah\",\"notched\":false,\"offsetgroup\":\"Daniels, Miss. Sarah\",\"orientation\":\"h\",\"showlegend\":true,\"x\":[33.0],\"x0\":\" \",\"xaxis\":\"x\",\"y0\":\" \",\"yaxis\":\"y\",\"type\":\"box\"},{\"alignmentgroup\":\"True\",\"hovertemplate\":\"color=Ryerson, Mr. Arthur Larned\\u003cbr\\u003ex=%{x}\\u003cextra\\u003e\\u003c\\u002fextra\\u003e\",\"legendgroup\":\"Ryerson, Mr. Arthur Larned\",\"marker\":{\"color\":\"#00cc96\"},\"name\":\"Ryerson, Mr. Arthur Larned\",\"notched\":false,\"offsetgroup\":\"Ryerson, Mr. Arthur Larned\",\"orientation\":\"h\",\"showlegend\":true,\"x\":[61.0],\"x0\":\" \",\"xaxis\":\"x\",\"y0\":\" \",\"yaxis\":\"y\",\"type\":\"box\"},{\"alignmentgroup\":\"True\",\"hovertemplate\":\"color=Beauchamp, Mr. Henry James\\u003cbr\\u003ex=%{x}\\u003cextra\\u003e\\u003c\\u002fextra\\u003e\",\"legendgroup\":\"Beauchamp, Mr. Henry James\",\"marker\":{\"color\":\"#ab63fa\"},\"name\":\"Beauchamp, Mr. Henry James\",\"notched\":false,\"offsetgroup\":\"Beauchamp, Mr. Henry James\",\"orientation\":\"h\",\"showlegend\":true,\"x\":[28.0],\"x0\":\" \",\"xaxis\":\"x\",\"y0\":\" \",\"yaxis\":\"y\",\"type\":\"box\"},{\"alignmentgroup\":\"True\",\"hovertemplate\":\"color=Lindeberg-Lind, Mr. Erik Gustaf (Mr Edward Lingrey\\\")\\\"\\u003cbr\\u003ex=%{x}\\u003cextra\\u003e\\u003c\\u002fextra\\u003e\",\"legendgroup\":\"Lindeberg-Lind, Mr. Erik Gustaf (Mr Edward Lingrey\\\")\\\"\",\"marker\":{\"color\":\"#FFA15A\"},\"name\":\"Lindeberg-Lind, Mr. Erik Gustaf (Mr Edward Lingrey\\\")\\\"\",\"notched\":false,\"offsetgroup\":\"Lindeberg-Lind, Mr. Erik Gustaf (Mr Edward Lingrey\\\")\\\"\",\"orientation\":\"h\",\"showlegend\":true,\"x\":[42.0],\"x0\":\" \",\"xaxis\":\"x\",\"y0\":\" \",\"yaxis\":\"y\",\"type\":\"box\"},{\"alignmentgroup\":\"True\",\"hovertemplate\":\"color=Vander Planke, Mr. Julius\\u003cbr\\u003ex=%{x}\\u003cextra\\u003e\\u003c\\u002fextra\\u003e\",\"legendgroup\":\"Vander Planke, Mr. Julius\",\"marker\":{\"color\":\"#19d3f3\"},\"name\":\"Vander Planke, Mr. Julius\",\"notched\":false,\"offsetgroup\":\"Vander Planke, Mr. Julius\",\"orientation\":\"h\",\"showlegend\":true,\"x\":[31.0],\"x0\":\" \",\"xaxis\":\"x\",\"y0\":\" \",\"yaxis\":\"y\",\"type\":\"box\"},{\"alignmentgroup\":\"True\",\"hovertemplate\":\"color=Hilliard, Mr. Herbert Henry\\u003cbr\\u003ex=%{x}\\u003cextra\\u003e\\u003c\\u002fextra\\u003e\",\"legendgroup\":\"Hilliard, Mr. Herbert Henry\",\"marker\":{\"color\":\"#FF6692\"},\"name\":\"Hilliard, Mr. Herbert Henry\",\"notched\":false,\"offsetgroup\":\"Hilliard, Mr. Herbert Henry\",\"orientation\":\"h\",\"showlegend\":true,\"x\":[30.272590361445783],\"x0\":\" \",\"xaxis\":\"x\",\"y0\":\" \",\"yaxis\":\"y\",\"type\":\"box\"},{\"alignmentgroup\":\"True\",\"hovertemplate\":\"color=Davies, Mr. Evan\\u003cbr\\u003ex=%{x}\\u003cextra\\u003e\\u003c\\u002fextra\\u003e\",\"legendgroup\":\"Davies, Mr. Evan\",\"marker\":{\"color\":\"#B6E880\"},\"name\":\"Davies, Mr. Evan\",\"notched\":false,\"offsetgroup\":\"Davies, Mr. Evan\",\"orientation\":\"h\",\"showlegend\":true,\"x\":[22.0],\"x0\":\" \",\"xaxis\":\"x\",\"y0\":\" \",\"yaxis\":\"y\",\"type\":\"box\"},{\"alignmentgroup\":\"True\",\"hovertemplate\":\"color=Crafton, Mr. John Bertram\\u003cbr\\u003ex=%{x}\\u003cextra\\u003e\\u003c\\u002fextra\\u003e\",\"legendgroup\":\"Crafton, Mr. John Bertram\",\"marker\":{\"color\":\"#FF97FF\"},\"name\":\"Crafton, Mr. John Bertram\",\"notched\":false,\"offsetgroup\":\"Crafton, Mr. John Bertram\",\"orientation\":\"h\",\"showlegend\":true,\"x\":[30.272590361445783],\"x0\":\" \",\"xaxis\":\"x\",\"y0\":\" \",\"yaxis\":\"y\",\"type\":\"box\"},{\"alignmentgroup\":\"True\",\"hovertemplate\":\"color=Lahtinen, Rev. William\\u003cbr\\u003ex=%{x}\\u003cextra\\u003e\\u003c\\u002fextra\\u003e\",\"legendgroup\":\"Lahtinen, Rev. William\",\"marker\":{\"color\":\"#FECB52\"},\"name\":\"Lahtinen, Rev. William\",\"notched\":false,\"offsetgroup\":\"Lahtinen, Rev. William\",\"orientation\":\"h\",\"showlegend\":true,\"x\":[30.0],\"x0\":\" \",\"xaxis\":\"x\",\"y0\":\" \",\"yaxis\":\"y\",\"type\":\"box\"},{\"alignmentgroup\":\"True\",\"hovertemplate\":\"color=Earnshaw, Mrs. Boulton (Olive Potter)\\u003cbr\\u003ex=%{x}\\u003cextra\\u003e\\u003c\\u002fextra\\u003e\",\"legendgroup\":\"Earnshaw, Mrs. Boulton (Olive Potter)\",\"marker\":{\"color\":\"#636efa\"},\"name\":\"Earnshaw, Mrs. Boulton (Olive Potter)\",\"notched\":false,\"offsetgroup\":\"Earnshaw, Mrs. Boulton (Olive Potter)\",\"orientation\":\"h\",\"showlegend\":true,\"x\":[23.0],\"x0\":\" \",\"xaxis\":\"x\",\"y0\":\" \",\"yaxis\":\"y\",\"type\":\"box\"},{\"alignmentgroup\":\"True\",\"hovertemplate\":\"color=Matinoff, Mr. Nicola\\u003cbr\\u003ex=%{x}\\u003cextra\\u003e\\u003c\\u002fextra\\u003e\",\"legendgroup\":\"Matinoff, Mr. Nicola\",\"marker\":{\"color\":\"#EF553B\"},\"name\":\"Matinoff, Mr. Nicola\",\"notched\":false,\"offsetgroup\":\"Matinoff, Mr. Nicola\",\"orientation\":\"h\",\"showlegend\":true,\"x\":[30.272590361445783],\"x0\":\" \",\"xaxis\":\"x\",\"y0\":\" \",\"yaxis\":\"y\",\"type\":\"box\"},{\"alignmentgroup\":\"True\",\"hovertemplate\":\"color=Storey, Mr. Thomas\\u003cbr\\u003ex=%{x}\\u003cextra\\u003e\\u003c\\u002fextra\\u003e\",\"legendgroup\":\"Storey, Mr. Thomas\",\"marker\":{\"color\":\"#00cc96\"},\"name\":\"Storey, Mr. Thomas\",\"notched\":false,\"offsetgroup\":\"Storey, Mr. Thomas\",\"orientation\":\"h\",\"showlegend\":true,\"x\":[60.5],\"x0\":\" \",\"xaxis\":\"x\",\"y0\":\" \",\"yaxis\":\"y\",\"type\":\"box\"},{\"alignmentgroup\":\"True\",\"hovertemplate\":\"color=Klasen, Mrs. (Hulda Kristina Eugenia Lofqvist)\\u003cbr\\u003ex=%{x}\\u003cextra\\u003e\\u003c\\u002fextra\\u003e\",\"legendgroup\":\"Klasen, Mrs. (Hulda Kristina Eugenia Lofqvist)\",\"marker\":{\"color\":\"#ab63fa\"},\"name\":\"Klasen, Mrs. (Hulda Kristina Eugenia Lofqvist)\",\"notched\":false,\"offsetgroup\":\"Klasen, Mrs. (Hulda Kristina Eugenia Lofqvist)\",\"orientation\":\"h\",\"showlegend\":true,\"x\":[36.0],\"x0\":\" \",\"xaxis\":\"x\",\"y0\":\" \",\"yaxis\":\"y\",\"type\":\"box\"},{\"alignmentgroup\":\"True\",\"hovertemplate\":\"color=Asplund, Master. Filip Oscar\\u003cbr\\u003ex=%{x}\\u003cextra\\u003e\\u003c\\u002fextra\\u003e\",\"legendgroup\":\"Asplund, Master. Filip Oscar\",\"marker\":{\"color\":\"#FFA15A\"},\"name\":\"Asplund, Master. Filip Oscar\",\"notched\":false,\"offsetgroup\":\"Asplund, Master. Filip Oscar\",\"orientation\":\"h\",\"showlegend\":true,\"x\":[13.0],\"x0\":\" \",\"xaxis\":\"x\",\"y0\":\" \",\"yaxis\":\"y\",\"type\":\"box\"},{\"alignmentgroup\":\"True\",\"hovertemplate\":\"color=Duquemin, Mr. Joseph\\u003cbr\\u003ex=%{x}\\u003cextra\\u003e\\u003c\\u002fextra\\u003e\",\"legendgroup\":\"Duquemin, Mr. Joseph\",\"marker\":{\"color\":\"#19d3f3\"},\"name\":\"Duquemin, Mr. Joseph\",\"notched\":false,\"offsetgroup\":\"Duquemin, Mr. Joseph\",\"orientation\":\"h\",\"showlegend\":true,\"x\":[24.0],\"x0\":\" \",\"xaxis\":\"x\",\"y0\":\" \",\"yaxis\":\"y\",\"type\":\"box\"},{\"alignmentgroup\":\"True\",\"hovertemplate\":\"color=Bird, Miss. Ellen\\u003cbr\\u003ex=%{x}\\u003cextra\\u003e\\u003c\\u002fextra\\u003e\",\"legendgroup\":\"Bird, Miss. Ellen\",\"marker\":{\"color\":\"#FF6692\"},\"name\":\"Bird, Miss. Ellen\",\"notched\":false,\"offsetgroup\":\"Bird, Miss. Ellen\",\"orientation\":\"h\",\"showlegend\":true,\"x\":[29.0],\"x0\":\" \",\"xaxis\":\"x\",\"y0\":\" \",\"yaxis\":\"y\",\"type\":\"box\"},{\"alignmentgroup\":\"True\",\"hovertemplate\":\"color=Lundin, Miss. Olga Elida\\u003cbr\\u003ex=%{x}\\u003cextra\\u003e\\u003c\\u002fextra\\u003e\",\"legendgroup\":\"Lundin, Miss. Olga Elida\",\"marker\":{\"color\":\"#B6E880\"},\"name\":\"Lundin, Miss. Olga Elida\",\"notched\":false,\"offsetgroup\":\"Lundin, Miss. Olga Elida\",\"orientation\":\"h\",\"showlegend\":true,\"x\":[23.0],\"x0\":\" \",\"xaxis\":\"x\",\"y0\":\" \",\"yaxis\":\"y\",\"type\":\"box\"},{\"alignmentgroup\":\"True\",\"hovertemplate\":\"color=Borebank, Mr. John James\\u003cbr\\u003ex=%{x}\\u003cextra\\u003e\\u003c\\u002fextra\\u003e\",\"legendgroup\":\"Borebank, Mr. John James\",\"marker\":{\"color\":\"#FF97FF\"},\"name\":\"Borebank, Mr. John James\",\"notched\":false,\"offsetgroup\":\"Borebank, Mr. John James\",\"orientation\":\"h\",\"showlegend\":true,\"x\":[42.0],\"x0\":\" \",\"xaxis\":\"x\",\"y0\":\" \",\"yaxis\":\"y\",\"type\":\"box\"},{\"alignmentgroup\":\"True\",\"hovertemplate\":\"color=Peacock, Mrs. Benjamin (Edith Nile)\\u003cbr\\u003ex=%{x}\\u003cextra\\u003e\\u003c\\u002fextra\\u003e\",\"legendgroup\":\"Peacock, Mrs. Benjamin (Edith Nile)\",\"marker\":{\"color\":\"#FECB52\"},\"name\":\"Peacock, Mrs. Benjamin (Edith Nile)\",\"notched\":false,\"offsetgroup\":\"Peacock, Mrs. Benjamin (Edith Nile)\",\"orientation\":\"h\",\"showlegend\":true,\"x\":[26.0],\"x0\":\" \",\"xaxis\":\"x\",\"y0\":\" \",\"yaxis\":\"y\",\"type\":\"box\"},{\"alignmentgroup\":\"True\",\"hovertemplate\":\"color=Smyth, Miss. Julia\\u003cbr\\u003ex=%{x}\\u003cextra\\u003e\\u003c\\u002fextra\\u003e\",\"legendgroup\":\"Smyth, Miss. Julia\",\"marker\":{\"color\":\"#636efa\"},\"name\":\"Smyth, Miss. Julia\",\"notched\":false,\"offsetgroup\":\"Smyth, Miss. Julia\",\"orientation\":\"h\",\"showlegend\":true,\"x\":[30.272590361445783],\"x0\":\" \",\"xaxis\":\"x\",\"y0\":\" \",\"yaxis\":\"y\",\"type\":\"box\"},{\"alignmentgroup\":\"True\",\"hovertemplate\":\"color=Touma, Master. Georges Youssef\\u003cbr\\u003ex=%{x}\\u003cextra\\u003e\\u003c\\u002fextra\\u003e\",\"legendgroup\":\"Touma, Master. Georges Youssef\",\"marker\":{\"color\":\"#EF553B\"},\"name\":\"Touma, Master. Georges Youssef\",\"notched\":false,\"offsetgroup\":\"Touma, Master. Georges Youssef\",\"orientation\":\"h\",\"showlegend\":true,\"x\":[7.0],\"x0\":\" \",\"xaxis\":\"x\",\"y0\":\" \",\"yaxis\":\"y\",\"type\":\"box\"},{\"alignmentgroup\":\"True\",\"hovertemplate\":\"color=Wright, Miss. Marion\\u003cbr\\u003ex=%{x}\\u003cextra\\u003e\\u003c\\u002fextra\\u003e\",\"legendgroup\":\"Wright, Miss. Marion\",\"marker\":{\"color\":\"#00cc96\"},\"name\":\"Wright, Miss. Marion\",\"notched\":false,\"offsetgroup\":\"Wright, Miss. Marion\",\"orientation\":\"h\",\"showlegend\":true,\"x\":[26.0],\"x0\":\" \",\"xaxis\":\"x\",\"y0\":\" \",\"yaxis\":\"y\",\"type\":\"box\"},{\"alignmentgroup\":\"True\",\"hovertemplate\":\"color=Pearce, Mr. Ernest\\u003cbr\\u003ex=%{x}\\u003cextra\\u003e\\u003c\\u002fextra\\u003e\",\"legendgroup\":\"Pearce, Mr. Ernest\",\"marker\":{\"color\":\"#ab63fa\"},\"name\":\"Pearce, Mr. Ernest\",\"notched\":false,\"offsetgroup\":\"Pearce, Mr. Ernest\",\"orientation\":\"h\",\"showlegend\":true,\"x\":[30.272590361445783],\"x0\":\" \",\"xaxis\":\"x\",\"y0\":\" \",\"yaxis\":\"y\",\"type\":\"box\"},{\"alignmentgroup\":\"True\",\"hovertemplate\":\"color=Peruschitz, Rev. Joseph Maria\\u003cbr\\u003ex=%{x}\\u003cextra\\u003e\\u003c\\u002fextra\\u003e\",\"legendgroup\":\"Peruschitz, Rev. Joseph Maria\",\"marker\":{\"color\":\"#FFA15A\"},\"name\":\"Peruschitz, Rev. Joseph Maria\",\"notched\":false,\"offsetgroup\":\"Peruschitz, Rev. Joseph Maria\",\"orientation\":\"h\",\"showlegend\":true,\"x\":[41.0],\"x0\":\" \",\"xaxis\":\"x\",\"y0\":\" \",\"yaxis\":\"y\",\"type\":\"box\"},{\"alignmentgroup\":\"True\",\"hovertemplate\":\"color=Kink-Heilmann, Mrs. Anton (Luise Heilmann)\\u003cbr\\u003ex=%{x}\\u003cextra\\u003e\\u003c\\u002fextra\\u003e\",\"legendgroup\":\"Kink-Heilmann, Mrs. Anton (Luise Heilmann)\",\"marker\":{\"color\":\"#19d3f3\"},\"name\":\"Kink-Heilmann, Mrs. Anton (Luise Heilmann)\",\"notched\":false,\"offsetgroup\":\"Kink-Heilmann, Mrs. Anton (Luise Heilmann)\",\"orientation\":\"h\",\"showlegend\":true,\"x\":[26.0],\"x0\":\" \",\"xaxis\":\"x\",\"y0\":\" \",\"yaxis\":\"y\",\"type\":\"box\"},{\"alignmentgroup\":\"True\",\"hovertemplate\":\"color=Brandeis, Mr. Emil\\u003cbr\\u003ex=%{x}\\u003cextra\\u003e\\u003c\\u002fextra\\u003e\",\"legendgroup\":\"Brandeis, Mr. Emil\",\"marker\":{\"color\":\"#FF6692\"},\"name\":\"Brandeis, Mr. Emil\",\"notched\":false,\"offsetgroup\":\"Brandeis, Mr. Emil\",\"orientation\":\"h\",\"showlegend\":true,\"x\":[48.0],\"x0\":\" \",\"xaxis\":\"x\",\"y0\":\" \",\"yaxis\":\"y\",\"type\":\"box\"},{\"alignmentgroup\":\"True\",\"hovertemplate\":\"color=Ford, Mr. Edward Watson\\u003cbr\\u003ex=%{x}\\u003cextra\\u003e\\u003c\\u002fextra\\u003e\",\"legendgroup\":\"Ford, Mr. Edward Watson\",\"marker\":{\"color\":\"#B6E880\"},\"name\":\"Ford, Mr. Edward Watson\",\"notched\":false,\"offsetgroup\":\"Ford, Mr. Edward Watson\",\"orientation\":\"h\",\"showlegend\":true,\"x\":[18.0],\"x0\":\" \",\"xaxis\":\"x\",\"y0\":\" \",\"yaxis\":\"y\",\"type\":\"box\"},{\"alignmentgroup\":\"True\",\"hovertemplate\":\"color=Cassebeer, Mrs. Henry Arthur Jr (Eleanor Genevieve Fosdick)\\u003cbr\\u003ex=%{x}\\u003cextra\\u003e\\u003c\\u002fextra\\u003e\",\"legendgroup\":\"Cassebeer, Mrs. Henry Arthur Jr (Eleanor Genevieve Fosdick)\",\"marker\":{\"color\":\"#FF97FF\"},\"name\":\"Cassebeer, Mrs. Henry Arthur Jr (Eleanor Genevieve Fosdick)\",\"notched\":false,\"offsetgroup\":\"Cassebeer, Mrs. Henry Arthur Jr (Eleanor Genevieve Fosdick)\",\"orientation\":\"h\",\"showlegend\":true,\"x\":[30.272590361445783],\"x0\":\" \",\"xaxis\":\"x\",\"y0\":\" \",\"yaxis\":\"y\",\"type\":\"box\"},{\"alignmentgroup\":\"True\",\"hovertemplate\":\"color=Hellstrom, Miss. Hilda Maria\\u003cbr\\u003ex=%{x}\\u003cextra\\u003e\\u003c\\u002fextra\\u003e\",\"legendgroup\":\"Hellstrom, Miss. Hilda Maria\",\"marker\":{\"color\":\"#FECB52\"},\"name\":\"Hellstrom, Miss. Hilda Maria\",\"notched\":false,\"offsetgroup\":\"Hellstrom, Miss. Hilda Maria\",\"orientation\":\"h\",\"showlegend\":true,\"x\":[22.0],\"x0\":\" \",\"xaxis\":\"x\",\"y0\":\" \",\"yaxis\":\"y\",\"type\":\"box\"},{\"alignmentgroup\":\"True\",\"hovertemplate\":\"color=Lithman, Mr. Simon\\u003cbr\\u003ex=%{x}\\u003cextra\\u003e\\u003c\\u002fextra\\u003e\",\"legendgroup\":\"Lithman, Mr. Simon\",\"marker\":{\"color\":\"#636efa\"},\"name\":\"Lithman, Mr. Simon\",\"notched\":false,\"offsetgroup\":\"Lithman, Mr. Simon\",\"orientation\":\"h\",\"showlegend\":true,\"x\":[30.272590361445783],\"x0\":\" \",\"xaxis\":\"x\",\"y0\":\" \",\"yaxis\":\"y\",\"type\":\"box\"},{\"alignmentgroup\":\"True\",\"hovertemplate\":\"color=Zakarian, Mr. Ortin\\u003cbr\\u003ex=%{x}\\u003cextra\\u003e\\u003c\\u002fextra\\u003e\",\"legendgroup\":\"Zakarian, Mr. Ortin\",\"marker\":{\"color\":\"#EF553B\"},\"name\":\"Zakarian, Mr. Ortin\",\"notched\":false,\"offsetgroup\":\"Zakarian, Mr. Ortin\",\"orientation\":\"h\",\"showlegend\":true,\"x\":[27.0],\"x0\":\" \",\"xaxis\":\"x\",\"y0\":\" \",\"yaxis\":\"y\",\"type\":\"box\"},{\"alignmentgroup\":\"True\",\"hovertemplate\":\"color=Dyker, Mr. Adolf Fredrik\\u003cbr\\u003ex=%{x}\\u003cextra\\u003e\\u003c\\u002fextra\\u003e\",\"legendgroup\":\"Dyker, Mr. Adolf Fredrik\",\"marker\":{\"color\":\"#00cc96\"},\"name\":\"Dyker, Mr. Adolf Fredrik\",\"notched\":false,\"offsetgroup\":\"Dyker, Mr. Adolf Fredrik\",\"orientation\":\"h\",\"showlegend\":true,\"x\":[23.0],\"x0\":\" \",\"xaxis\":\"x\",\"y0\":\" \",\"yaxis\":\"y\",\"type\":\"box\"},{\"alignmentgroup\":\"True\",\"hovertemplate\":\"color=Torfa, Mr. Assad\\u003cbr\\u003ex=%{x}\\u003cextra\\u003e\\u003c\\u002fextra\\u003e\",\"legendgroup\":\"Torfa, Mr. Assad\",\"marker\":{\"color\":\"#ab63fa\"},\"name\":\"Torfa, Mr. Assad\",\"notched\":false,\"offsetgroup\":\"Torfa, Mr. Assad\",\"orientation\":\"h\",\"showlegend\":true,\"x\":[30.272590361445783],\"x0\":\" \",\"xaxis\":\"x\",\"y0\":\" \",\"yaxis\":\"y\",\"type\":\"box\"},{\"alignmentgroup\":\"True\",\"hovertemplate\":\"color=Asplund, Mr. Carl Oscar Vilhelm Gustafsson\\u003cbr\\u003ex=%{x}\\u003cextra\\u003e\\u003c\\u002fextra\\u003e\",\"legendgroup\":\"Asplund, Mr. Carl Oscar Vilhelm Gustafsson\",\"marker\":{\"color\":\"#FFA15A\"},\"name\":\"Asplund, Mr. Carl Oscar Vilhelm Gustafsson\",\"notched\":false,\"offsetgroup\":\"Asplund, Mr. Carl Oscar Vilhelm Gustafsson\",\"orientation\":\"h\",\"showlegend\":true,\"x\":[40.0],\"x0\":\" \",\"xaxis\":\"x\",\"y0\":\" \",\"yaxis\":\"y\",\"type\":\"box\"},{\"alignmentgroup\":\"True\",\"hovertemplate\":\"color=Brown, Miss. Edith Eileen\\u003cbr\\u003ex=%{x}\\u003cextra\\u003e\\u003c\\u002fextra\\u003e\",\"legendgroup\":\"Brown, Miss. Edith Eileen\",\"marker\":{\"color\":\"#19d3f3\"},\"name\":\"Brown, Miss. Edith Eileen\",\"notched\":false,\"offsetgroup\":\"Brown, Miss. Edith Eileen\",\"orientation\":\"h\",\"showlegend\":true,\"x\":[15.0],\"x0\":\" \",\"xaxis\":\"x\",\"y0\":\" \",\"yaxis\":\"y\",\"type\":\"box\"},{\"alignmentgroup\":\"True\",\"hovertemplate\":\"color=Sincock, Miss. Maude\\u003cbr\\u003ex=%{x}\\u003cextra\\u003e\\u003c\\u002fextra\\u003e\",\"legendgroup\":\"Sincock, Miss. Maude\",\"marker\":{\"color\":\"#FF6692\"},\"name\":\"Sincock, Miss. Maude\",\"notched\":false,\"offsetgroup\":\"Sincock, Miss. Maude\",\"orientation\":\"h\",\"showlegend\":true,\"x\":[20.0],\"x0\":\" \",\"xaxis\":\"x\",\"y0\":\" \",\"yaxis\":\"y\",\"type\":\"box\"},{\"alignmentgroup\":\"True\",\"hovertemplate\":\"color=Stengel, Mr. Charles Emil Henry\\u003cbr\\u003ex=%{x}\\u003cextra\\u003e\\u003c\\u002fextra\\u003e\",\"legendgroup\":\"Stengel, Mr. Charles Emil Henry\",\"marker\":{\"color\":\"#B6E880\"},\"name\":\"Stengel, Mr. Charles Emil Henry\",\"notched\":false,\"offsetgroup\":\"Stengel, Mr. Charles Emil Henry\",\"orientation\":\"h\",\"showlegend\":true,\"x\":[54.0],\"x0\":\" \",\"xaxis\":\"x\",\"y0\":\" \",\"yaxis\":\"y\",\"type\":\"box\"},{\"alignmentgroup\":\"True\",\"hovertemplate\":\"color=Becker, Mrs. Allen Oliver (Nellie E Baumgardner)\\u003cbr\\u003ex=%{x}\\u003cextra\\u003e\\u003c\\u002fextra\\u003e\",\"legendgroup\":\"Becker, Mrs. Allen Oliver (Nellie E Baumgardner)\",\"marker\":{\"color\":\"#FF97FF\"},\"name\":\"Becker, Mrs. Allen Oliver (Nellie E Baumgardner)\",\"notched\":false,\"offsetgroup\":\"Becker, Mrs. Allen Oliver (Nellie E Baumgardner)\",\"orientation\":\"h\",\"showlegend\":true,\"x\":[36.0],\"x0\":\" \",\"xaxis\":\"x\",\"y0\":\" \",\"yaxis\":\"y\",\"type\":\"box\"},{\"alignmentgroup\":\"True\",\"hovertemplate\":\"color=Compton, Mrs. Alexander Taylor (Mary Eliza Ingersoll)\\u003cbr\\u003ex=%{x}\\u003cextra\\u003e\\u003c\\u002fextra\\u003e\",\"legendgroup\":\"Compton, Mrs. Alexander Taylor (Mary Eliza Ingersoll)\",\"marker\":{\"color\":\"#FECB52\"},\"name\":\"Compton, Mrs. Alexander Taylor (Mary Eliza Ingersoll)\",\"notched\":false,\"offsetgroup\":\"Compton, Mrs. Alexander Taylor (Mary Eliza Ingersoll)\",\"orientation\":\"h\",\"showlegend\":true,\"x\":[64.0],\"x0\":\" \",\"xaxis\":\"x\",\"y0\":\" \",\"yaxis\":\"y\",\"type\":\"box\"},{\"alignmentgroup\":\"True\",\"hovertemplate\":\"color=McCrie, Mr. James Matthew\\u003cbr\\u003ex=%{x}\\u003cextra\\u003e\\u003c\\u002fextra\\u003e\",\"legendgroup\":\"McCrie, Mr. James Matthew\",\"marker\":{\"color\":\"#636efa\"},\"name\":\"McCrie, Mr. James Matthew\",\"notched\":false,\"offsetgroup\":\"McCrie, Mr. James Matthew\",\"orientation\":\"h\",\"showlegend\":true,\"x\":[30.0],\"x0\":\" \",\"xaxis\":\"x\",\"y0\":\" \",\"yaxis\":\"y\",\"type\":\"box\"},{\"alignmentgroup\":\"True\",\"hovertemplate\":\"color=Compton, Mr. Alexander Taylor Jr\\u003cbr\\u003ex=%{x}\\u003cextra\\u003e\\u003c\\u002fextra\\u003e\",\"legendgroup\":\"Compton, Mr. Alexander Taylor Jr\",\"marker\":{\"color\":\"#EF553B\"},\"name\":\"Compton, Mr. Alexander Taylor Jr\",\"notched\":false,\"offsetgroup\":\"Compton, Mr. Alexander Taylor Jr\",\"orientation\":\"h\",\"showlegend\":true,\"x\":[37.0],\"x0\":\" \",\"xaxis\":\"x\",\"y0\":\" \",\"yaxis\":\"y\",\"type\":\"box\"},{\"alignmentgroup\":\"True\",\"hovertemplate\":\"color=Marvin, Mrs. Daniel Warner (Mary Graham Carmichael Farquarson)\\u003cbr\\u003ex=%{x}\\u003cextra\\u003e\\u003c\\u002fextra\\u003e\",\"legendgroup\":\"Marvin, Mrs. Daniel Warner (Mary Graham Carmichael Farquarson)\",\"marker\":{\"color\":\"#00cc96\"},\"name\":\"Marvin, Mrs. Daniel Warner (Mary Graham Carmichael Farquarson)\",\"notched\":false,\"offsetgroup\":\"Marvin, Mrs. Daniel Warner (Mary Graham Carmichael Farquarson)\",\"orientation\":\"h\",\"showlegend\":true,\"x\":[18.0],\"x0\":\" \",\"xaxis\":\"x\",\"y0\":\" \",\"yaxis\":\"y\",\"type\":\"box\"},{\"alignmentgroup\":\"True\",\"hovertemplate\":\"color=Lane, Mr. Patrick\\u003cbr\\u003ex=%{x}\\u003cextra\\u003e\\u003c\\u002fextra\\u003e\",\"legendgroup\":\"Lane, Mr. Patrick\",\"marker\":{\"color\":\"#ab63fa\"},\"name\":\"Lane, Mr. Patrick\",\"notched\":false,\"offsetgroup\":\"Lane, Mr. Patrick\",\"orientation\":\"h\",\"showlegend\":true,\"x\":[30.272590361445783],\"x0\":\" \",\"xaxis\":\"x\",\"y0\":\" \",\"yaxis\":\"y\",\"type\":\"box\"},{\"alignmentgroup\":\"True\",\"hovertemplate\":\"color=Douglas, Mrs. Frederick Charles (Mary Helene Baxter)\\u003cbr\\u003ex=%{x}\\u003cextra\\u003e\\u003c\\u002fextra\\u003e\",\"legendgroup\":\"Douglas, Mrs. Frederick Charles (Mary Helene Baxter)\",\"marker\":{\"color\":\"#FFA15A\"},\"name\":\"Douglas, Mrs. Frederick Charles (Mary Helene Baxter)\",\"notched\":false,\"offsetgroup\":\"Douglas, Mrs. Frederick Charles (Mary Helene Baxter)\",\"orientation\":\"h\",\"showlegend\":true,\"x\":[27.0],\"x0\":\" \",\"xaxis\":\"x\",\"y0\":\" \",\"yaxis\":\"y\",\"type\":\"box\"},{\"alignmentgroup\":\"True\",\"hovertemplate\":\"color=Maybery, Mr. Frank Hubert\\u003cbr\\u003ex=%{x}\\u003cextra\\u003e\\u003c\\u002fextra\\u003e\",\"legendgroup\":\"Maybery, Mr. Frank Hubert\",\"marker\":{\"color\":\"#19d3f3\"},\"name\":\"Maybery, Mr. Frank Hubert\",\"notched\":false,\"offsetgroup\":\"Maybery, Mr. Frank Hubert\",\"orientation\":\"h\",\"showlegend\":true,\"x\":[40.0],\"x0\":\" \",\"xaxis\":\"x\",\"y0\":\" \",\"yaxis\":\"y\",\"type\":\"box\"},{\"alignmentgroup\":\"True\",\"hovertemplate\":\"color=Phillips, Miss. Alice Frances Louisa\\u003cbr\\u003ex=%{x}\\u003cextra\\u003e\\u003c\\u002fextra\\u003e\",\"legendgroup\":\"Phillips, Miss. Alice Frances Louisa\",\"marker\":{\"color\":\"#FF6692\"},\"name\":\"Phillips, Miss. Alice Frances Louisa\",\"notched\":false,\"offsetgroup\":\"Phillips, Miss. Alice Frances Louisa\",\"orientation\":\"h\",\"showlegend\":true,\"x\":[21.0],\"x0\":\" \",\"xaxis\":\"x\",\"y0\":\" \",\"yaxis\":\"y\",\"type\":\"box\"},{\"alignmentgroup\":\"True\",\"hovertemplate\":\"color=Davies, Mr. Joseph\\u003cbr\\u003ex=%{x}\\u003cextra\\u003e\\u003c\\u002fextra\\u003e\",\"legendgroup\":\"Davies, Mr. Joseph\",\"marker\":{\"color\":\"#B6E880\"},\"name\":\"Davies, Mr. Joseph\",\"notched\":false,\"offsetgroup\":\"Davies, Mr. Joseph\",\"orientation\":\"h\",\"showlegend\":true,\"x\":[17.0],\"x0\":\" \",\"xaxis\":\"x\",\"y0\":\" \",\"yaxis\":\"y\",\"type\":\"box\"},{\"alignmentgroup\":\"True\",\"hovertemplate\":\"color=Sage, Miss. Ada\\u003cbr\\u003ex=%{x}\\u003cextra\\u003e\\u003c\\u002fextra\\u003e\",\"legendgroup\":\"Sage, Miss. Ada\",\"marker\":{\"color\":\"#FF97FF\"},\"name\":\"Sage, Miss. Ada\",\"notched\":false,\"offsetgroup\":\"Sage, Miss. Ada\",\"orientation\":\"h\",\"showlegend\":true,\"x\":[30.272590361445783],\"x0\":\" \",\"xaxis\":\"x\",\"y0\":\" \",\"yaxis\":\"y\",\"type\":\"box\"},{\"alignmentgroup\":\"True\",\"hovertemplate\":\"color=Veal, Mr. James\\u003cbr\\u003ex=%{x}\\u003cextra\\u003e\\u003c\\u002fextra\\u003e\",\"legendgroup\":\"Veal, Mr. James\",\"marker\":{\"color\":\"#FECB52\"},\"name\":\"Veal, Mr. James\",\"notched\":false,\"offsetgroup\":\"Veal, Mr. James\",\"orientation\":\"h\",\"showlegend\":true,\"x\":[40.0],\"x0\":\" \",\"xaxis\":\"x\",\"y0\":\" \",\"yaxis\":\"y\",\"type\":\"box\"},{\"alignmentgroup\":\"True\",\"hovertemplate\":\"color=Angle, Mr. William A\\u003cbr\\u003ex=%{x}\\u003cextra\\u003e\\u003c\\u002fextra\\u003e\",\"legendgroup\":\"Angle, Mr. William A\",\"marker\":{\"color\":\"#636efa\"},\"name\":\"Angle, Mr. William A\",\"notched\":false,\"offsetgroup\":\"Angle, Mr. William A\",\"orientation\":\"h\",\"showlegend\":true,\"x\":[34.0],\"x0\":\" \",\"xaxis\":\"x\",\"y0\":\" \",\"yaxis\":\"y\",\"type\":\"box\"},{\"alignmentgroup\":\"True\",\"hovertemplate\":\"color=Salomon, Mr. Abraham L\\u003cbr\\u003ex=%{x}\\u003cextra\\u003e\\u003c\\u002fextra\\u003e\",\"legendgroup\":\"Salomon, Mr. Abraham L\",\"marker\":{\"color\":\"#EF553B\"},\"name\":\"Salomon, Mr. Abraham L\",\"notched\":false,\"offsetgroup\":\"Salomon, Mr. Abraham L\",\"orientation\":\"h\",\"showlegend\":true,\"x\":[30.272590361445783],\"x0\":\" \",\"xaxis\":\"x\",\"y0\":\" \",\"yaxis\":\"y\",\"type\":\"box\"},{\"alignmentgroup\":\"True\",\"hovertemplate\":\"color=van Billiard, Master. Walter John\\u003cbr\\u003ex=%{x}\\u003cextra\\u003e\\u003c\\u002fextra\\u003e\",\"legendgroup\":\"van Billiard, Master. Walter John\",\"marker\":{\"color\":\"#00cc96\"},\"name\":\"van Billiard, Master. Walter John\",\"notched\":false,\"offsetgroup\":\"van Billiard, Master. Walter John\",\"orientation\":\"h\",\"showlegend\":true,\"x\":[11.5],\"x0\":\" \",\"xaxis\":\"x\",\"y0\":\" \",\"yaxis\":\"y\",\"type\":\"box\"},{\"alignmentgroup\":\"True\",\"hovertemplate\":\"color=Lingane, Mr. John\\u003cbr\\u003ex=%{x}\\u003cextra\\u003e\\u003c\\u002fextra\\u003e\",\"legendgroup\":\"Lingane, Mr. John\",\"marker\":{\"color\":\"#ab63fa\"},\"name\":\"Lingane, Mr. John\",\"notched\":false,\"offsetgroup\":\"Lingane, Mr. John\",\"orientation\":\"h\",\"showlegend\":true,\"x\":[61.0],\"x0\":\" \",\"xaxis\":\"x\",\"y0\":\" \",\"yaxis\":\"y\",\"type\":\"box\"},{\"alignmentgroup\":\"True\",\"hovertemplate\":\"color=Drew, Master. Marshall Brines\\u003cbr\\u003ex=%{x}\\u003cextra\\u003e\\u003c\\u002fextra\\u003e\",\"legendgroup\":\"Drew, Master. Marshall Brines\",\"marker\":{\"color\":\"#FFA15A\"},\"name\":\"Drew, Master. Marshall Brines\",\"notched\":false,\"offsetgroup\":\"Drew, Master. Marshall Brines\",\"orientation\":\"h\",\"showlegend\":true,\"x\":[8.0],\"x0\":\" \",\"xaxis\":\"x\",\"y0\":\" \",\"yaxis\":\"y\",\"type\":\"box\"},{\"alignmentgroup\":\"True\",\"hovertemplate\":\"color=Karlsson, Mr. Julius Konrad Eugen\\u003cbr\\u003ex=%{x}\\u003cextra\\u003e\\u003c\\u002fextra\\u003e\",\"legendgroup\":\"Karlsson, Mr. Julius Konrad Eugen\",\"marker\":{\"color\":\"#19d3f3\"},\"name\":\"Karlsson, Mr. Julius Konrad Eugen\",\"notched\":false,\"offsetgroup\":\"Karlsson, Mr. Julius Konrad Eugen\",\"orientation\":\"h\",\"showlegend\":true,\"x\":[33.0],\"x0\":\" \",\"xaxis\":\"x\",\"y0\":\" \",\"yaxis\":\"y\",\"type\":\"box\"},{\"alignmentgroup\":\"True\",\"hovertemplate\":\"color=Spedden, Master. Robert Douglas\\u003cbr\\u003ex=%{x}\\u003cextra\\u003e\\u003c\\u002fextra\\u003e\",\"legendgroup\":\"Spedden, Master. Robert Douglas\",\"marker\":{\"color\":\"#FF6692\"},\"name\":\"Spedden, Master. Robert Douglas\",\"notched\":false,\"offsetgroup\":\"Spedden, Master. Robert Douglas\",\"orientation\":\"h\",\"showlegend\":true,\"x\":[6.0],\"x0\":\" \",\"xaxis\":\"x\",\"y0\":\" \",\"yaxis\":\"y\",\"type\":\"box\"},{\"alignmentgroup\":\"True\",\"hovertemplate\":\"color=Nilsson, Miss. Berta Olivia\\u003cbr\\u003ex=%{x}\\u003cextra\\u003e\\u003c\\u002fextra\\u003e\",\"legendgroup\":\"Nilsson, Miss. Berta Olivia\",\"marker\":{\"color\":\"#B6E880\"},\"name\":\"Nilsson, Miss. Berta Olivia\",\"notched\":false,\"offsetgroup\":\"Nilsson, Miss. Berta Olivia\",\"orientation\":\"h\",\"showlegend\":true,\"x\":[18.0],\"x0\":\" \",\"xaxis\":\"x\",\"y0\":\" \",\"yaxis\":\"y\",\"type\":\"box\"},{\"alignmentgroup\":\"True\",\"hovertemplate\":\"color=Baimbrigge, Mr. Charles Robert\\u003cbr\\u003ex=%{x}\\u003cextra\\u003e\\u003c\\u002fextra\\u003e\",\"legendgroup\":\"Baimbrigge, Mr. Charles Robert\",\"marker\":{\"color\":\"#FF97FF\"},\"name\":\"Baimbrigge, Mr. Charles Robert\",\"notched\":false,\"offsetgroup\":\"Baimbrigge, Mr. Charles Robert\",\"orientation\":\"h\",\"showlegend\":true,\"x\":[23.0],\"x0\":\" \",\"xaxis\":\"x\",\"y0\":\" \",\"yaxis\":\"y\",\"type\":\"box\"},{\"alignmentgroup\":\"True\",\"hovertemplate\":\"color=Rasmussen, Mrs. (Lena Jacobsen Solvang)\\u003cbr\\u003ex=%{x}\\u003cextra\\u003e\\u003c\\u002fextra\\u003e\",\"legendgroup\":\"Rasmussen, Mrs. (Lena Jacobsen Solvang)\",\"marker\":{\"color\":\"#FECB52\"},\"name\":\"Rasmussen, Mrs. (Lena Jacobsen Solvang)\",\"notched\":false,\"offsetgroup\":\"Rasmussen, Mrs. (Lena Jacobsen Solvang)\",\"orientation\":\"h\",\"showlegend\":true,\"x\":[30.272590361445783],\"x0\":\" \",\"xaxis\":\"x\",\"y0\":\" \",\"yaxis\":\"y\",\"type\":\"box\"},{\"alignmentgroup\":\"True\",\"hovertemplate\":\"color=Murphy, Miss. Nora\\u003cbr\\u003ex=%{x}\\u003cextra\\u003e\\u003c\\u002fextra\\u003e\",\"legendgroup\":\"Murphy, Miss. Nora\",\"marker\":{\"color\":\"#636efa\"},\"name\":\"Murphy, Miss. Nora\",\"notched\":false,\"offsetgroup\":\"Murphy, Miss. Nora\",\"orientation\":\"h\",\"showlegend\":true,\"x\":[30.272590361445783],\"x0\":\" \",\"xaxis\":\"x\",\"y0\":\" \",\"yaxis\":\"y\",\"type\":\"box\"},{\"alignmentgroup\":\"True\",\"hovertemplate\":\"color=Danbom, Master. Gilbert Sigvard Emanuel\\u003cbr\\u003ex=%{x}\\u003cextra\\u003e\\u003c\\u002fextra\\u003e\",\"legendgroup\":\"Danbom, Master. Gilbert Sigvard Emanuel\",\"marker\":{\"color\":\"#EF553B\"},\"name\":\"Danbom, Master. Gilbert Sigvard Emanuel\",\"notched\":false,\"offsetgroup\":\"Danbom, Master. Gilbert Sigvard Emanuel\",\"orientation\":\"h\",\"showlegend\":true,\"x\":[0.33],\"x0\":\" \",\"xaxis\":\"x\",\"y0\":\" \",\"yaxis\":\"y\",\"type\":\"box\"},{\"alignmentgroup\":\"True\",\"hovertemplate\":\"color=Astor, Col. John Jacob\\u003cbr\\u003ex=%{x}\\u003cextra\\u003e\\u003c\\u002fextra\\u003e\",\"legendgroup\":\"Astor, Col. John Jacob\",\"marker\":{\"color\":\"#00cc96\"},\"name\":\"Astor, Col. John Jacob\",\"notched\":false,\"offsetgroup\":\"Astor, Col. John Jacob\",\"orientation\":\"h\",\"showlegend\":true,\"x\":[47.0],\"x0\":\" \",\"xaxis\":\"x\",\"y0\":\" \",\"yaxis\":\"y\",\"type\":\"box\"},{\"alignmentgroup\":\"True\",\"hovertemplate\":\"color=Quick, Miss. Winifred Vera\\u003cbr\\u003ex=%{x}\\u003cextra\\u003e\\u003c\\u002fextra\\u003e\",\"legendgroup\":\"Quick, Miss. Winifred Vera\",\"marker\":{\"color\":\"#ab63fa\"},\"name\":\"Quick, Miss. Winifred Vera\",\"notched\":false,\"offsetgroup\":\"Quick, Miss. Winifred Vera\",\"orientation\":\"h\",\"showlegend\":true,\"x\":[8.0],\"x0\":\" \",\"xaxis\":\"x\",\"y0\":\" \",\"yaxis\":\"y\",\"type\":\"box\"},{\"alignmentgroup\":\"True\",\"hovertemplate\":\"color=Andrew, Mr. Frank Thomas\\u003cbr\\u003ex=%{x}\\u003cextra\\u003e\\u003c\\u002fextra\\u003e\",\"legendgroup\":\"Andrew, Mr. Frank Thomas\",\"marker\":{\"color\":\"#FFA15A\"},\"name\":\"Andrew, Mr. Frank Thomas\",\"notched\":false,\"offsetgroup\":\"Andrew, Mr. Frank Thomas\",\"orientation\":\"h\",\"showlegend\":true,\"x\":[25.0],\"x0\":\" \",\"xaxis\":\"x\",\"y0\":\" \",\"yaxis\":\"y\",\"type\":\"box\"},{\"alignmentgroup\":\"True\",\"hovertemplate\":\"color=Omont, Mr. Alfred Fernand\\u003cbr\\u003ex=%{x}\\u003cextra\\u003e\\u003c\\u002fextra\\u003e\",\"legendgroup\":\"Omont, Mr. Alfred Fernand\",\"marker\":{\"color\":\"#19d3f3\"},\"name\":\"Omont, Mr. Alfred Fernand\",\"notched\":false,\"offsetgroup\":\"Omont, Mr. Alfred Fernand\",\"orientation\":\"h\",\"showlegend\":true,\"x\":[30.272590361445783],\"x0\":\" \",\"xaxis\":\"x\",\"y0\":\" \",\"yaxis\":\"y\",\"type\":\"box\"},{\"alignmentgroup\":\"True\",\"hovertemplate\":\"color=McGowan, Miss. Katherine\\u003cbr\\u003ex=%{x}\\u003cextra\\u003e\\u003c\\u002fextra\\u003e\",\"legendgroup\":\"McGowan, Miss. Katherine\",\"marker\":{\"color\":\"#FF6692\"},\"name\":\"McGowan, Miss. Katherine\",\"notched\":false,\"offsetgroup\":\"McGowan, Miss. Katherine\",\"orientation\":\"h\",\"showlegend\":true,\"x\":[35.0],\"x0\":\" \",\"xaxis\":\"x\",\"y0\":\" \",\"yaxis\":\"y\",\"type\":\"box\"},{\"alignmentgroup\":\"True\",\"hovertemplate\":\"color=Collett, Mr. Sidney C Stuart\\u003cbr\\u003ex=%{x}\\u003cextra\\u003e\\u003c\\u002fextra\\u003e\",\"legendgroup\":\"Collett, Mr. Sidney C Stuart\",\"marker\":{\"color\":\"#B6E880\"},\"name\":\"Collett, Mr. Sidney C Stuart\",\"notched\":false,\"offsetgroup\":\"Collett, Mr. Sidney C Stuart\",\"orientation\":\"h\",\"showlegend\":true,\"x\":[24.0],\"x0\":\" \",\"xaxis\":\"x\",\"y0\":\" \",\"yaxis\":\"y\",\"type\":\"box\"},{\"alignmentgroup\":\"True\",\"hovertemplate\":\"color=Rosenbaum, Miss. Edith Louise\\u003cbr\\u003ex=%{x}\\u003cextra\\u003e\\u003c\\u002fextra\\u003e\",\"legendgroup\":\"Rosenbaum, Miss. Edith Louise\",\"marker\":{\"color\":\"#FF97FF\"},\"name\":\"Rosenbaum, Miss. Edith Louise\",\"notched\":false,\"offsetgroup\":\"Rosenbaum, Miss. Edith Louise\",\"orientation\":\"h\",\"showlegend\":true,\"x\":[33.0],\"x0\":\" \",\"xaxis\":\"x\",\"y0\":\" \",\"yaxis\":\"y\",\"type\":\"box\"},{\"alignmentgroup\":\"True\",\"hovertemplate\":\"color=Delalic, Mr. Redjo\\u003cbr\\u003ex=%{x}\\u003cextra\\u003e\\u003c\\u002fextra\\u003e\",\"legendgroup\":\"Delalic, Mr. Redjo\",\"marker\":{\"color\":\"#FECB52\"},\"name\":\"Delalic, Mr. Redjo\",\"notched\":false,\"offsetgroup\":\"Delalic, Mr. Redjo\",\"orientation\":\"h\",\"showlegend\":true,\"x\":[25.0],\"x0\":\" \",\"xaxis\":\"x\",\"y0\":\" \",\"yaxis\":\"y\",\"type\":\"box\"},{\"alignmentgroup\":\"True\",\"hovertemplate\":\"color=Andersen, Mr. Albert Karvin\\u003cbr\\u003ex=%{x}\\u003cextra\\u003e\\u003c\\u002fextra\\u003e\",\"legendgroup\":\"Andersen, Mr. Albert Karvin\",\"marker\":{\"color\":\"#636efa\"},\"name\":\"Andersen, Mr. Albert Karvin\",\"notched\":false,\"offsetgroup\":\"Andersen, Mr. Albert Karvin\",\"orientation\":\"h\",\"showlegend\":true,\"x\":[32.0],\"x0\":\" \",\"xaxis\":\"x\",\"y0\":\" \",\"yaxis\":\"y\",\"type\":\"box\"},{\"alignmentgroup\":\"True\",\"hovertemplate\":\"color=Finoli, Mr. Luigi\\u003cbr\\u003ex=%{x}\\u003cextra\\u003e\\u003c\\u002fextra\\u003e\",\"legendgroup\":\"Finoli, Mr. Luigi\",\"marker\":{\"color\":\"#EF553B\"},\"name\":\"Finoli, Mr. Luigi\",\"notched\":false,\"offsetgroup\":\"Finoli, Mr. Luigi\",\"orientation\":\"h\",\"showlegend\":true,\"x\":[30.272590361445783],\"x0\":\" \",\"xaxis\":\"x\",\"y0\":\" \",\"yaxis\":\"y\",\"type\":\"box\"},{\"alignmentgroup\":\"True\",\"hovertemplate\":\"color=Deacon, Mr. Percy William\\u003cbr\\u003ex=%{x}\\u003cextra\\u003e\\u003c\\u002fextra\\u003e\",\"legendgroup\":\"Deacon, Mr. Percy William\",\"marker\":{\"color\":\"#00cc96\"},\"name\":\"Deacon, Mr. Percy William\",\"notched\":false,\"offsetgroup\":\"Deacon, Mr. Percy William\",\"orientation\":\"h\",\"showlegend\":true,\"x\":[17.0],\"x0\":\" \",\"xaxis\":\"x\",\"y0\":\" \",\"yaxis\":\"y\",\"type\":\"box\"},{\"alignmentgroup\":\"True\",\"hovertemplate\":\"color=Howard, Mrs. Benjamin (Ellen Truelove Arman)\\u003cbr\\u003ex=%{x}\\u003cextra\\u003e\\u003c\\u002fextra\\u003e\",\"legendgroup\":\"Howard, Mrs. Benjamin (Ellen Truelove Arman)\",\"marker\":{\"color\":\"#ab63fa\"},\"name\":\"Howard, Mrs. Benjamin (Ellen Truelove Arman)\",\"notched\":false,\"offsetgroup\":\"Howard, Mrs. Benjamin (Ellen Truelove Arman)\",\"orientation\":\"h\",\"showlegend\":true,\"x\":[60.0],\"x0\":\" \",\"xaxis\":\"x\",\"y0\":\" \",\"yaxis\":\"y\",\"type\":\"box\"},{\"alignmentgroup\":\"True\",\"hovertemplate\":\"color=Andersson, Miss. Ida Augusta Margareta\\u003cbr\\u003ex=%{x}\\u003cextra\\u003e\\u003c\\u002fextra\\u003e\",\"legendgroup\":\"Andersson, Miss. Ida Augusta Margareta\",\"marker\":{\"color\":\"#FFA15A\"},\"name\":\"Andersson, Miss. Ida Augusta Margareta\",\"notched\":false,\"offsetgroup\":\"Andersson, Miss. Ida Augusta Margareta\",\"orientation\":\"h\",\"showlegend\":true,\"x\":[38.0],\"x0\":\" \",\"xaxis\":\"x\",\"y0\":\" \",\"yaxis\":\"y\",\"type\":\"box\"},{\"alignmentgroup\":\"True\",\"hovertemplate\":\"color=Head, Mr. Christopher\\u003cbr\\u003ex=%{x}\\u003cextra\\u003e\\u003c\\u002fextra\\u003e\",\"legendgroup\":\"Head, Mr. Christopher\",\"marker\":{\"color\":\"#19d3f3\"},\"name\":\"Head, Mr. Christopher\",\"notched\":false,\"offsetgroup\":\"Head, Mr. Christopher\",\"orientation\":\"h\",\"showlegend\":true,\"x\":[42.0],\"x0\":\" \",\"xaxis\":\"x\",\"y0\":\" \",\"yaxis\":\"y\",\"type\":\"box\"},{\"alignmentgroup\":\"True\",\"hovertemplate\":\"color=Mahon, Miss. Bridget Delia\\u003cbr\\u003ex=%{x}\\u003cextra\\u003e\\u003c\\u002fextra\\u003e\",\"legendgroup\":\"Mahon, Miss. Bridget Delia\",\"marker\":{\"color\":\"#FF6692\"},\"name\":\"Mahon, Miss. Bridget Delia\",\"notched\":false,\"offsetgroup\":\"Mahon, Miss. Bridget Delia\",\"orientation\":\"h\",\"showlegend\":true,\"x\":[30.272590361445783],\"x0\":\" \",\"xaxis\":\"x\",\"y0\":\" \",\"yaxis\":\"y\",\"type\":\"box\"},{\"alignmentgroup\":\"True\",\"hovertemplate\":\"color=Wick, Mr. George Dennick\\u003cbr\\u003ex=%{x}\\u003cextra\\u003e\\u003c\\u002fextra\\u003e\",\"legendgroup\":\"Wick, Mr. George Dennick\",\"marker\":{\"color\":\"#B6E880\"},\"name\":\"Wick, Mr. George Dennick\",\"notched\":false,\"offsetgroup\":\"Wick, Mr. George Dennick\",\"orientation\":\"h\",\"showlegend\":true,\"x\":[57.0],\"x0\":\" \",\"xaxis\":\"x\",\"y0\":\" \",\"yaxis\":\"y\",\"type\":\"box\"},{\"alignmentgroup\":\"True\",\"hovertemplate\":\"color=Widener, Mrs. George Dunton (Eleanor Elkins)\\u003cbr\\u003ex=%{x}\\u003cextra\\u003e\\u003c\\u002fextra\\u003e\",\"legendgroup\":\"Widener, Mrs. George Dunton (Eleanor Elkins)\",\"marker\":{\"color\":\"#FF97FF\"},\"name\":\"Widener, Mrs. George Dunton (Eleanor Elkins)\",\"notched\":false,\"offsetgroup\":\"Widener, Mrs. George Dunton (Eleanor Elkins)\",\"orientation\":\"h\",\"showlegend\":true,\"x\":[50.0],\"x0\":\" \",\"xaxis\":\"x\",\"y0\":\" \",\"yaxis\":\"y\",\"type\":\"box\"},{\"alignmentgroup\":\"True\",\"hovertemplate\":\"color=Thomson, Mr. Alexander Morrison\\u003cbr\\u003ex=%{x}\\u003cextra\\u003e\\u003c\\u002fextra\\u003e\",\"legendgroup\":\"Thomson, Mr. Alexander Morrison\",\"marker\":{\"color\":\"#FECB52\"},\"name\":\"Thomson, Mr. Alexander Morrison\",\"notched\":false,\"offsetgroup\":\"Thomson, Mr. Alexander Morrison\",\"orientation\":\"h\",\"showlegend\":true,\"x\":[30.272590361445783],\"x0\":\" \",\"xaxis\":\"x\",\"y0\":\" \",\"yaxis\":\"y\",\"type\":\"box\"},{\"alignmentgroup\":\"True\",\"hovertemplate\":\"color=Duran y More, Miss. Florentina\\u003cbr\\u003ex=%{x}\\u003cextra\\u003e\\u003c\\u002fextra\\u003e\",\"legendgroup\":\"Duran y More, Miss. Florentina\",\"marker\":{\"color\":\"#636efa\"},\"name\":\"Duran y More, Miss. Florentina\",\"notched\":false,\"offsetgroup\":\"Duran y More, Miss. Florentina\",\"orientation\":\"h\",\"showlegend\":true,\"x\":[30.0],\"x0\":\" \",\"xaxis\":\"x\",\"y0\":\" \",\"yaxis\":\"y\",\"type\":\"box\"},{\"alignmentgroup\":\"True\",\"hovertemplate\":\"color=Reynolds, Mr. Harold J\\u003cbr\\u003ex=%{x}\\u003cextra\\u003e\\u003c\\u002fextra\\u003e\",\"legendgroup\":\"Reynolds, Mr. Harold J\",\"marker\":{\"color\":\"#EF553B\"},\"name\":\"Reynolds, Mr. Harold J\",\"notched\":false,\"offsetgroup\":\"Reynolds, Mr. Harold J\",\"orientation\":\"h\",\"showlegend\":true,\"x\":[21.0],\"x0\":\" \",\"xaxis\":\"x\",\"y0\":\" \",\"yaxis\":\"y\",\"type\":\"box\"},{\"alignmentgroup\":\"True\",\"hovertemplate\":\"color=Cook, Mrs. (Selena Rogers)\\u003cbr\\u003ex=%{x}\\u003cextra\\u003e\\u003c\\u002fextra\\u003e\",\"legendgroup\":\"Cook, Mrs. (Selena Rogers)\",\"marker\":{\"color\":\"#00cc96\"},\"name\":\"Cook, Mrs. (Selena Rogers)\",\"notched\":false,\"offsetgroup\":\"Cook, Mrs. (Selena Rogers)\",\"orientation\":\"h\",\"showlegend\":true,\"x\":[22.0],\"x0\":\" \",\"xaxis\":\"x\",\"y0\":\" \",\"yaxis\":\"y\",\"type\":\"box\"},{\"alignmentgroup\":\"True\",\"hovertemplate\":\"color=Karlsson, Mr. Einar Gervasius\\u003cbr\\u003ex=%{x}\\u003cextra\\u003e\\u003c\\u002fextra\\u003e\",\"legendgroup\":\"Karlsson, Mr. Einar Gervasius\",\"marker\":{\"color\":\"#ab63fa\"},\"name\":\"Karlsson, Mr. Einar Gervasius\",\"notched\":false,\"offsetgroup\":\"Karlsson, Mr. Einar Gervasius\",\"orientation\":\"h\",\"showlegend\":true,\"x\":[21.0],\"x0\":\" \",\"xaxis\":\"x\",\"y0\":\" \",\"yaxis\":\"y\",\"type\":\"box\"},{\"alignmentgroup\":\"True\",\"hovertemplate\":\"color=Candee, Mrs. Edward (Helen Churchill Hungerford)\\u003cbr\\u003ex=%{x}\\u003cextra\\u003e\\u003c\\u002fextra\\u003e\",\"legendgroup\":\"Candee, Mrs. Edward (Helen Churchill Hungerford)\",\"marker\":{\"color\":\"#FFA15A\"},\"name\":\"Candee, Mrs. Edward (Helen Churchill Hungerford)\",\"notched\":false,\"offsetgroup\":\"Candee, Mrs. Edward (Helen Churchill Hungerford)\",\"orientation\":\"h\",\"showlegend\":true,\"x\":[53.0],\"x0\":\" \",\"xaxis\":\"x\",\"y0\":\" \",\"yaxis\":\"y\",\"type\":\"box\"},{\"alignmentgroup\":\"True\",\"hovertemplate\":\"color=Moubarek, Mrs. George (Omine Amenia\\\" Alexander)\\\"\\u003cbr\\u003ex=%{x}\\u003cextra\\u003e\\u003c\\u002fextra\\u003e\",\"legendgroup\":\"Moubarek, Mrs. George (Omine Amenia\\\" Alexander)\\\"\",\"marker\":{\"color\":\"#19d3f3\"},\"name\":\"Moubarek, Mrs. George (Omine Amenia\\\" Alexander)\\\"\",\"notched\":false,\"offsetgroup\":\"Moubarek, Mrs. George (Omine Amenia\\\" Alexander)\\\"\",\"orientation\":\"h\",\"showlegend\":true,\"x\":[30.272590361445783],\"x0\":\" \",\"xaxis\":\"x\",\"y0\":\" \",\"yaxis\":\"y\",\"type\":\"box\"},{\"alignmentgroup\":\"True\",\"hovertemplate\":\"color=Asplund, Mr. Johan Charles\\u003cbr\\u003ex=%{x}\\u003cextra\\u003e\\u003c\\u002fextra\\u003e\",\"legendgroup\":\"Asplund, Mr. Johan Charles\",\"marker\":{\"color\":\"#FF6692\"},\"name\":\"Asplund, Mr. Johan Charles\",\"notched\":false,\"offsetgroup\":\"Asplund, Mr. Johan Charles\",\"orientation\":\"h\",\"showlegend\":true,\"x\":[23.0],\"x0\":\" \",\"xaxis\":\"x\",\"y0\":\" \",\"yaxis\":\"y\",\"type\":\"box\"},{\"alignmentgroup\":\"True\",\"hovertemplate\":\"color=McNeill, Miss. Bridget\\u003cbr\\u003ex=%{x}\\u003cextra\\u003e\\u003c\\u002fextra\\u003e\",\"legendgroup\":\"McNeill, Miss. Bridget\",\"marker\":{\"color\":\"#B6E880\"},\"name\":\"McNeill, Miss. Bridget\",\"notched\":false,\"offsetgroup\":\"McNeill, Miss. Bridget\",\"orientation\":\"h\",\"showlegend\":true,\"x\":[30.272590361445783],\"x0\":\" \",\"xaxis\":\"x\",\"y0\":\" \",\"yaxis\":\"y\",\"type\":\"box\"},{\"alignmentgroup\":\"True\",\"hovertemplate\":\"color=Everett, Mr. Thomas James\\u003cbr\\u003ex=%{x}\\u003cextra\\u003e\\u003c\\u002fextra\\u003e\",\"legendgroup\":\"Everett, Mr. Thomas James\",\"marker\":{\"color\":\"#FF97FF\"},\"name\":\"Everett, Mr. Thomas James\",\"notched\":false,\"offsetgroup\":\"Everett, Mr. Thomas James\",\"orientation\":\"h\",\"showlegend\":true,\"x\":[40.5],\"x0\":\" \",\"xaxis\":\"x\",\"y0\":\" \",\"yaxis\":\"y\",\"type\":\"box\"},{\"alignmentgroup\":\"True\",\"hovertemplate\":\"color=Hocking, Mr. Samuel James Metcalfe\\u003cbr\\u003ex=%{x}\\u003cextra\\u003e\\u003c\\u002fextra\\u003e\",\"legendgroup\":\"Hocking, Mr. Samuel James Metcalfe\",\"marker\":{\"color\":\"#FECB52\"},\"name\":\"Hocking, Mr. Samuel James Metcalfe\",\"notched\":false,\"offsetgroup\":\"Hocking, Mr. Samuel James Metcalfe\",\"orientation\":\"h\",\"showlegend\":true,\"x\":[36.0],\"x0\":\" \",\"xaxis\":\"x\",\"y0\":\" \",\"yaxis\":\"y\",\"type\":\"box\"},{\"alignmentgroup\":\"True\",\"hovertemplate\":\"color=Sweet, Mr. George Frederick\\u003cbr\\u003ex=%{x}\\u003cextra\\u003e\\u003c\\u002fextra\\u003e\",\"legendgroup\":\"Sweet, Mr. George Frederick\",\"marker\":{\"color\":\"#636efa\"},\"name\":\"Sweet, Mr. George Frederick\",\"notched\":false,\"offsetgroup\":\"Sweet, Mr. George Frederick\",\"orientation\":\"h\",\"showlegend\":true,\"x\":[14.0],\"x0\":\" \",\"xaxis\":\"x\",\"y0\":\" \",\"yaxis\":\"y\",\"type\":\"box\"},{\"alignmentgroup\":\"True\",\"hovertemplate\":\"color=Willard, Miss. Constance\\u003cbr\\u003ex=%{x}\\u003cextra\\u003e\\u003c\\u002fextra\\u003e\",\"legendgroup\":\"Willard, Miss. Constance\",\"marker\":{\"color\":\"#EF553B\"},\"name\":\"Willard, Miss. Constance\",\"notched\":false,\"offsetgroup\":\"Willard, Miss. Constance\",\"orientation\":\"h\",\"showlegend\":true,\"x\":[21.0],\"x0\":\" \",\"xaxis\":\"x\",\"y0\":\" \",\"yaxis\":\"y\",\"type\":\"box\"},{\"alignmentgroup\":\"True\",\"hovertemplate\":\"color=Wiklund, Mr. Karl Johan\\u003cbr\\u003ex=%{x}\\u003cextra\\u003e\\u003c\\u002fextra\\u003e\",\"legendgroup\":\"Wiklund, Mr. Karl Johan\",\"marker\":{\"color\":\"#00cc96\"},\"name\":\"Wiklund, Mr. Karl Johan\",\"notched\":false,\"offsetgroup\":\"Wiklund, Mr. Karl Johan\",\"orientation\":\"h\",\"showlegend\":true,\"x\":[21.0],\"x0\":\" \",\"xaxis\":\"x\",\"y0\":\" \",\"yaxis\":\"y\",\"type\":\"box\"},{\"alignmentgroup\":\"True\",\"hovertemplate\":\"color=Linehan, Mr. Michael\\u003cbr\\u003ex=%{x}\\u003cextra\\u003e\\u003c\\u002fextra\\u003e\",\"legendgroup\":\"Linehan, Mr. Michael\",\"marker\":{\"color\":\"#ab63fa\"},\"name\":\"Linehan, Mr. Michael\",\"notched\":false,\"offsetgroup\":\"Linehan, Mr. Michael\",\"orientation\":\"h\",\"showlegend\":true,\"x\":[30.272590361445783],\"x0\":\" \",\"xaxis\":\"x\",\"y0\":\" \",\"yaxis\":\"y\",\"type\":\"box\"},{\"alignmentgroup\":\"True\",\"hovertemplate\":\"color=Cumings, Mr. John Bradley\\u003cbr\\u003ex=%{x}\\u003cextra\\u003e\\u003c\\u002fextra\\u003e\",\"legendgroup\":\"Cumings, Mr. John Bradley\",\"marker\":{\"color\":\"#FFA15A\"},\"name\":\"Cumings, Mr. John Bradley\",\"notched\":false,\"offsetgroup\":\"Cumings, Mr. John Bradley\",\"orientation\":\"h\",\"showlegend\":true,\"x\":[39.0],\"x0\":\" \",\"xaxis\":\"x\",\"y0\":\" \",\"yaxis\":\"y\",\"type\":\"box\"},{\"alignmentgroup\":\"True\",\"hovertemplate\":\"color=Vendel, Mr. Olof Edvin\\u003cbr\\u003ex=%{x}\\u003cextra\\u003e\\u003c\\u002fextra\\u003e\",\"legendgroup\":\"Vendel, Mr. Olof Edvin\",\"marker\":{\"color\":\"#19d3f3\"},\"name\":\"Vendel, Mr. Olof Edvin\",\"notched\":false,\"offsetgroup\":\"Vendel, Mr. Olof Edvin\",\"orientation\":\"h\",\"showlegend\":true,\"x\":[20.0],\"x0\":\" \",\"xaxis\":\"x\",\"y0\":\" \",\"yaxis\":\"y\",\"type\":\"box\"},{\"alignmentgroup\":\"True\",\"hovertemplate\":\"color=Warren, Mr. Frank Manley\\u003cbr\\u003ex=%{x}\\u003cextra\\u003e\\u003c\\u002fextra\\u003e\",\"legendgroup\":\"Warren, Mr. Frank Manley\",\"marker\":{\"color\":\"#FF6692\"},\"name\":\"Warren, Mr. Frank Manley\",\"notched\":false,\"offsetgroup\":\"Warren, Mr. Frank Manley\",\"orientation\":\"h\",\"showlegend\":true,\"x\":[64.0],\"x0\":\" \",\"xaxis\":\"x\",\"y0\":\" \",\"yaxis\":\"y\",\"type\":\"box\"},{\"alignmentgroup\":\"True\",\"hovertemplate\":\"color=Baccos, Mr. Raffull\\u003cbr\\u003ex=%{x}\\u003cextra\\u003e\\u003c\\u002fextra\\u003e\",\"legendgroup\":\"Baccos, Mr. Raffull\",\"marker\":{\"color\":\"#B6E880\"},\"name\":\"Baccos, Mr. Raffull\",\"notched\":false,\"offsetgroup\":\"Baccos, Mr. Raffull\",\"orientation\":\"h\",\"showlegend\":true,\"x\":[20.0],\"x0\":\" \",\"xaxis\":\"x\",\"y0\":\" \",\"yaxis\":\"y\",\"type\":\"box\"},{\"alignmentgroup\":\"True\",\"hovertemplate\":\"color=Hiltunen, Miss. Marta\\u003cbr\\u003ex=%{x}\\u003cextra\\u003e\\u003c\\u002fextra\\u003e\",\"legendgroup\":\"Hiltunen, Miss. Marta\",\"marker\":{\"color\":\"#FF97FF\"},\"name\":\"Hiltunen, Miss. Marta\",\"notched\":false,\"offsetgroup\":\"Hiltunen, Miss. Marta\",\"orientation\":\"h\",\"showlegend\":true,\"x\":[18.0],\"x0\":\" \",\"xaxis\":\"x\",\"y0\":\" \",\"yaxis\":\"y\",\"type\":\"box\"},{\"alignmentgroup\":\"True\",\"hovertemplate\":\"color=Douglas, Mrs. Walter Donald (Mahala Dutton)\\u003cbr\\u003ex=%{x}\\u003cextra\\u003e\\u003c\\u002fextra\\u003e\",\"legendgroup\":\"Douglas, Mrs. Walter Donald (Mahala Dutton)\",\"marker\":{\"color\":\"#FECB52\"},\"name\":\"Douglas, Mrs. Walter Donald (Mahala Dutton)\",\"notched\":false,\"offsetgroup\":\"Douglas, Mrs. Walter Donald (Mahala Dutton)\",\"orientation\":\"h\",\"showlegend\":true,\"x\":[48.0],\"x0\":\" \",\"xaxis\":\"x\",\"y0\":\" \",\"yaxis\":\"y\",\"type\":\"box\"},{\"alignmentgroup\":\"True\",\"hovertemplate\":\"color=Lindstrom, Mrs. Carl Johan (Sigrid Posse)\\u003cbr\\u003ex=%{x}\\u003cextra\\u003e\\u003c\\u002fextra\\u003e\",\"legendgroup\":\"Lindstrom, Mrs. Carl Johan (Sigrid Posse)\",\"marker\":{\"color\":\"#636efa\"},\"name\":\"Lindstrom, Mrs. Carl Johan (Sigrid Posse)\",\"notched\":false,\"offsetgroup\":\"Lindstrom, Mrs. Carl Johan (Sigrid Posse)\",\"orientation\":\"h\",\"showlegend\":true,\"x\":[55.0],\"x0\":\" \",\"xaxis\":\"x\",\"y0\":\" \",\"yaxis\":\"y\",\"type\":\"box\"},{\"alignmentgroup\":\"True\",\"hovertemplate\":\"color=Christy, Mrs. (Alice Frances)\\u003cbr\\u003ex=%{x}\\u003cextra\\u003e\\u003c\\u002fextra\\u003e\",\"legendgroup\":\"Christy, Mrs. (Alice Frances)\",\"marker\":{\"color\":\"#EF553B\"},\"name\":\"Christy, Mrs. (Alice Frances)\",\"notched\":false,\"offsetgroup\":\"Christy, Mrs. (Alice Frances)\",\"orientation\":\"h\",\"showlegend\":true,\"x\":[45.0],\"x0\":\" \",\"xaxis\":\"x\",\"y0\":\" \",\"yaxis\":\"y\",\"type\":\"box\"},{\"alignmentgroup\":\"True\",\"hovertemplate\":\"color=Spedden, Mr. Frederic Oakley\\u003cbr\\u003ex=%{x}\\u003cextra\\u003e\\u003c\\u002fextra\\u003e\",\"legendgroup\":\"Spedden, Mr. Frederic Oakley\",\"marker\":{\"color\":\"#00cc96\"},\"name\":\"Spedden, Mr. Frederic Oakley\",\"notched\":false,\"offsetgroup\":\"Spedden, Mr. Frederic Oakley\",\"orientation\":\"h\",\"showlegend\":true,\"x\":[45.0],\"x0\":\" \",\"xaxis\":\"x\",\"y0\":\" \",\"yaxis\":\"y\",\"type\":\"box\"},{\"alignmentgroup\":\"True\",\"hovertemplate\":\"color=Hyman, Mr. Abraham\\u003cbr\\u003ex=%{x}\\u003cextra\\u003e\\u003c\\u002fextra\\u003e\",\"legendgroup\":\"Hyman, Mr. Abraham\",\"marker\":{\"color\":\"#ab63fa\"},\"name\":\"Hyman, Mr. Abraham\",\"notched\":false,\"offsetgroup\":\"Hyman, Mr. Abraham\",\"orientation\":\"h\",\"showlegend\":true,\"x\":[30.272590361445783],\"x0\":\" \",\"xaxis\":\"x\",\"y0\":\" \",\"yaxis\":\"y\",\"type\":\"box\"},{\"alignmentgroup\":\"True\",\"hovertemplate\":\"color=Johnston, Master. William Arthur Willie\\\"\\\"\\u003cbr\\u003ex=%{x}\\u003cextra\\u003e\\u003c\\u002fextra\\u003e\",\"legendgroup\":\"Johnston, Master. William Arthur Willie\\\"\\\"\",\"marker\":{\"color\":\"#FFA15A\"},\"name\":\"Johnston, Master. William Arthur Willie\\\"\\\"\",\"notched\":false,\"offsetgroup\":\"Johnston, Master. William Arthur Willie\\\"\\\"\",\"orientation\":\"h\",\"showlegend\":true,\"x\":[30.272590361445783],\"x0\":\" \",\"xaxis\":\"x\",\"y0\":\" \",\"yaxis\":\"y\",\"type\":\"box\"},{\"alignmentgroup\":\"True\",\"hovertemplate\":\"color=Kenyon, Mr. Frederick R\\u003cbr\\u003ex=%{x}\\u003cextra\\u003e\\u003c\\u002fextra\\u003e\",\"legendgroup\":\"Kenyon, Mr. Frederick R\",\"marker\":{\"color\":\"#19d3f3\"},\"name\":\"Kenyon, Mr. Frederick R\",\"notched\":false,\"offsetgroup\":\"Kenyon, Mr. Frederick R\",\"orientation\":\"h\",\"showlegend\":true,\"x\":[41.0],\"x0\":\" \",\"xaxis\":\"x\",\"y0\":\" \",\"yaxis\":\"y\",\"type\":\"box\"},{\"alignmentgroup\":\"True\",\"hovertemplate\":\"color=Karnes, Mrs. J Frank (Claire Bennett)\\u003cbr\\u003ex=%{x}\\u003cextra\\u003e\\u003c\\u002fextra\\u003e\",\"legendgroup\":\"Karnes, Mrs. J Frank (Claire Bennett)\",\"marker\":{\"color\":\"#FF6692\"},\"name\":\"Karnes, Mrs. J Frank (Claire Bennett)\",\"notched\":false,\"offsetgroup\":\"Karnes, Mrs. J Frank (Claire Bennett)\",\"orientation\":\"h\",\"showlegend\":true,\"x\":[22.0],\"x0\":\" \",\"xaxis\":\"x\",\"y0\":\" \",\"yaxis\":\"y\",\"type\":\"box\"},{\"alignmentgroup\":\"True\",\"hovertemplate\":\"color=Drew, Mr. James Vivian\\u003cbr\\u003ex=%{x}\\u003cextra\\u003e\\u003c\\u002fextra\\u003e\",\"legendgroup\":\"Drew, Mr. James Vivian\",\"marker\":{\"color\":\"#B6E880\"},\"name\":\"Drew, Mr. James Vivian\",\"notched\":false,\"offsetgroup\":\"Drew, Mr. James Vivian\",\"orientation\":\"h\",\"showlegend\":true,\"x\":[42.0],\"x0\":\" \",\"xaxis\":\"x\",\"y0\":\" \",\"yaxis\":\"y\",\"type\":\"box\"},{\"alignmentgroup\":\"True\",\"hovertemplate\":\"color=Hold, Mrs. Stephen (Annie Margaret Hill)\\u003cbr\\u003ex=%{x}\\u003cextra\\u003e\\u003c\\u002fextra\\u003e\",\"legendgroup\":\"Hold, Mrs. Stephen (Annie Margaret Hill)\",\"marker\":{\"color\":\"#FF97FF\"},\"name\":\"Hold, Mrs. Stephen (Annie Margaret Hill)\",\"notched\":false,\"offsetgroup\":\"Hold, Mrs. Stephen (Annie Margaret Hill)\",\"orientation\":\"h\",\"showlegend\":true,\"x\":[29.0],\"x0\":\" \",\"xaxis\":\"x\",\"y0\":\" \",\"yaxis\":\"y\",\"type\":\"box\"},{\"alignmentgroup\":\"True\",\"hovertemplate\":\"color=Khalil, Mrs. Betros (Zahie Maria\\\" Elias)\\\"\\u003cbr\\u003ex=%{x}\\u003cextra\\u003e\\u003c\\u002fextra\\u003e\",\"legendgroup\":\"Khalil, Mrs. Betros (Zahie Maria\\\" Elias)\\\"\",\"marker\":{\"color\":\"#FECB52\"},\"name\":\"Khalil, Mrs. Betros (Zahie Maria\\\" Elias)\\\"\",\"notched\":false,\"offsetgroup\":\"Khalil, Mrs. Betros (Zahie Maria\\\" Elias)\\\"\",\"orientation\":\"h\",\"showlegend\":true,\"x\":[30.272590361445783],\"x0\":\" \",\"xaxis\":\"x\",\"y0\":\" \",\"yaxis\":\"y\",\"type\":\"box\"},{\"alignmentgroup\":\"True\",\"hovertemplate\":\"color=West, Miss. Barbara J\\u003cbr\\u003ex=%{x}\\u003cextra\\u003e\\u003c\\u002fextra\\u003e\",\"legendgroup\":\"West, Miss. Barbara J\",\"marker\":{\"color\":\"#636efa\"},\"name\":\"West, Miss. Barbara J\",\"notched\":false,\"offsetgroup\":\"West, Miss. Barbara J\",\"orientation\":\"h\",\"showlegend\":true,\"x\":[0.92],\"x0\":\" \",\"xaxis\":\"x\",\"y0\":\" \",\"yaxis\":\"y\",\"type\":\"box\"},{\"alignmentgroup\":\"True\",\"hovertemplate\":\"color=Abrahamsson, Mr. Abraham August Johannes\\u003cbr\\u003ex=%{x}\\u003cextra\\u003e\\u003c\\u002fextra\\u003e\",\"legendgroup\":\"Abrahamsson, Mr. Abraham August Johannes\",\"marker\":{\"color\":\"#EF553B\"},\"name\":\"Abrahamsson, Mr. Abraham August Johannes\",\"notched\":false,\"offsetgroup\":\"Abrahamsson, Mr. Abraham August Johannes\",\"orientation\":\"h\",\"showlegend\":true,\"x\":[20.0],\"x0\":\" \",\"xaxis\":\"x\",\"y0\":\" \",\"yaxis\":\"y\",\"type\":\"box\"},{\"alignmentgroup\":\"True\",\"hovertemplate\":\"color=Clark, Mr. Walter Miller\\u003cbr\\u003ex=%{x}\\u003cextra\\u003e\\u003c\\u002fextra\\u003e\",\"legendgroup\":\"Clark, Mr. Walter Miller\",\"marker\":{\"color\":\"#00cc96\"},\"name\":\"Clark, Mr. Walter Miller\",\"notched\":false,\"offsetgroup\":\"Clark, Mr. Walter Miller\",\"orientation\":\"h\",\"showlegend\":true,\"x\":[27.0],\"x0\":\" \",\"xaxis\":\"x\",\"y0\":\" \",\"yaxis\":\"y\",\"type\":\"box\"},{\"alignmentgroup\":\"True\",\"hovertemplate\":\"color=Salander, Mr. Karl Johan\\u003cbr\\u003ex=%{x}\\u003cextra\\u003e\\u003c\\u002fextra\\u003e\",\"legendgroup\":\"Salander, Mr. Karl Johan\",\"marker\":{\"color\":\"#ab63fa\"},\"name\":\"Salander, Mr. Karl Johan\",\"notched\":false,\"offsetgroup\":\"Salander, Mr. Karl Johan\",\"orientation\":\"h\",\"showlegend\":true,\"x\":[24.0],\"x0\":\" \",\"xaxis\":\"x\",\"y0\":\" \",\"yaxis\":\"y\",\"type\":\"box\"},{\"alignmentgroup\":\"True\",\"hovertemplate\":\"color=Wenzel, Mr. Linhart\\u003cbr\\u003ex=%{x}\\u003cextra\\u003e\\u003c\\u002fextra\\u003e\",\"legendgroup\":\"Wenzel, Mr. Linhart\",\"marker\":{\"color\":\"#FFA15A\"},\"name\":\"Wenzel, Mr. Linhart\",\"notched\":false,\"offsetgroup\":\"Wenzel, Mr. Linhart\",\"orientation\":\"h\",\"showlegend\":true,\"x\":[32.5],\"x0\":\" \",\"xaxis\":\"x\",\"y0\":\" \",\"yaxis\":\"y\",\"type\":\"box\"},{\"alignmentgroup\":\"True\",\"hovertemplate\":\"color=MacKay, Mr. George William\\u003cbr\\u003ex=%{x}\\u003cextra\\u003e\\u003c\\u002fextra\\u003e\",\"legendgroup\":\"MacKay, Mr. George William\",\"marker\":{\"color\":\"#19d3f3\"},\"name\":\"MacKay, Mr. George William\",\"notched\":false,\"offsetgroup\":\"MacKay, Mr. George William\",\"orientation\":\"h\",\"showlegend\":true,\"x\":[30.272590361445783],\"x0\":\" \",\"xaxis\":\"x\",\"y0\":\" \",\"yaxis\":\"y\",\"type\":\"box\"},{\"alignmentgroup\":\"True\",\"hovertemplate\":\"color=Mahon, Mr. John\\u003cbr\\u003ex=%{x}\\u003cextra\\u003e\\u003c\\u002fextra\\u003e\",\"legendgroup\":\"Mahon, Mr. John\",\"marker\":{\"color\":\"#FF6692\"},\"name\":\"Mahon, Mr. John\",\"notched\":false,\"offsetgroup\":\"Mahon, Mr. John\",\"orientation\":\"h\",\"showlegend\":true,\"x\":[30.272590361445783],\"x0\":\" \",\"xaxis\":\"x\",\"y0\":\" \",\"yaxis\":\"y\",\"type\":\"box\"},{\"alignmentgroup\":\"True\",\"hovertemplate\":\"color=Niklasson, Mr. Samuel\\u003cbr\\u003ex=%{x}\\u003cextra\\u003e\\u003c\\u002fextra\\u003e\",\"legendgroup\":\"Niklasson, Mr. Samuel\",\"marker\":{\"color\":\"#B6E880\"},\"name\":\"Niklasson, Mr. Samuel\",\"notched\":false,\"offsetgroup\":\"Niklasson, Mr. Samuel\",\"orientation\":\"h\",\"showlegend\":true,\"x\":[28.0],\"x0\":\" \",\"xaxis\":\"x\",\"y0\":\" \",\"yaxis\":\"y\",\"type\":\"box\"},{\"alignmentgroup\":\"True\",\"hovertemplate\":\"color=Bentham, Miss. Lilian W\\u003cbr\\u003ex=%{x}\\u003cextra\\u003e\\u003c\\u002fextra\\u003e\",\"legendgroup\":\"Bentham, Miss. Lilian W\",\"marker\":{\"color\":\"#FF97FF\"},\"name\":\"Bentham, Miss. Lilian W\",\"notched\":false,\"offsetgroup\":\"Bentham, Miss. Lilian W\",\"orientation\":\"h\",\"showlegend\":true,\"x\":[19.0],\"x0\":\" \",\"xaxis\":\"x\",\"y0\":\" \",\"yaxis\":\"y\",\"type\":\"box\"},{\"alignmentgroup\":\"True\",\"hovertemplate\":\"color=Midtsjo, Mr. Karl Albert\\u003cbr\\u003ex=%{x}\\u003cextra\\u003e\\u003c\\u002fextra\\u003e\",\"legendgroup\":\"Midtsjo, Mr. Karl Albert\",\"marker\":{\"color\":\"#FECB52\"},\"name\":\"Midtsjo, Mr. Karl Albert\",\"notched\":false,\"offsetgroup\":\"Midtsjo, Mr. Karl Albert\",\"orientation\":\"h\",\"showlegend\":true,\"x\":[21.0],\"x0\":\" \",\"xaxis\":\"x\",\"y0\":\" \",\"yaxis\":\"y\",\"type\":\"box\"},{\"alignmentgroup\":\"True\",\"hovertemplate\":\"color=de Messemaeker, Mr. Guillaume Joseph\\u003cbr\\u003ex=%{x}\\u003cextra\\u003e\\u003c\\u002fextra\\u003e\",\"legendgroup\":\"de Messemaeker, Mr. Guillaume Joseph\",\"marker\":{\"color\":\"#636efa\"},\"name\":\"de Messemaeker, Mr. Guillaume Joseph\",\"notched\":false,\"offsetgroup\":\"de Messemaeker, Mr. Guillaume Joseph\",\"orientation\":\"h\",\"showlegend\":true,\"x\":[36.5],\"x0\":\" \",\"xaxis\":\"x\",\"y0\":\" \",\"yaxis\":\"y\",\"type\":\"box\"},{\"alignmentgroup\":\"True\",\"hovertemplate\":\"color=Nilsson, Mr. August Ferdinand\\u003cbr\\u003ex=%{x}\\u003cextra\\u003e\\u003c\\u002fextra\\u003e\",\"legendgroup\":\"Nilsson, Mr. August Ferdinand\",\"marker\":{\"color\":\"#EF553B\"},\"name\":\"Nilsson, Mr. August Ferdinand\",\"notched\":false,\"offsetgroup\":\"Nilsson, Mr. August Ferdinand\",\"orientation\":\"h\",\"showlegend\":true,\"x\":[21.0],\"x0\":\" \",\"xaxis\":\"x\",\"y0\":\" \",\"yaxis\":\"y\",\"type\":\"box\"},{\"alignmentgroup\":\"True\",\"hovertemplate\":\"color=Wells, Mrs. Arthur Henry (Addie\\\" Dart Trevaskis)\\\"\\u003cbr\\u003ex=%{x}\\u003cextra\\u003e\\u003c\\u002fextra\\u003e\",\"legendgroup\":\"Wells, Mrs. Arthur Henry (Addie\\\" Dart Trevaskis)\\\"\",\"marker\":{\"color\":\"#00cc96\"},\"name\":\"Wells, Mrs. Arthur Henry (Addie\\\" Dart Trevaskis)\\\"\",\"notched\":false,\"offsetgroup\":\"Wells, Mrs. Arthur Henry (Addie\\\" Dart Trevaskis)\\\"\",\"orientation\":\"h\",\"showlegend\":true,\"x\":[29.0],\"x0\":\" \",\"xaxis\":\"x\",\"y0\":\" \",\"yaxis\":\"y\",\"type\":\"box\"},{\"alignmentgroup\":\"True\",\"hovertemplate\":\"color=Klasen, Miss. Gertrud Emilia\\u003cbr\\u003ex=%{x}\\u003cextra\\u003e\\u003c\\u002fextra\\u003e\",\"legendgroup\":\"Klasen, Miss. Gertrud Emilia\",\"marker\":{\"color\":\"#ab63fa\"},\"name\":\"Klasen, Miss. Gertrud Emilia\",\"notched\":false,\"offsetgroup\":\"Klasen, Miss. Gertrud Emilia\",\"orientation\":\"h\",\"showlegend\":true,\"x\":[1.0],\"x0\":\" \",\"xaxis\":\"x\",\"y0\":\" \",\"yaxis\":\"y\",\"type\":\"box\"},{\"alignmentgroup\":\"True\",\"hovertemplate\":\"color=Portaluppi, Mr. Emilio Ilario Giuseppe\\u003cbr\\u003ex=%{x}\\u003cextra\\u003e\\u003c\\u002fextra\\u003e\",\"legendgroup\":\"Portaluppi, Mr. Emilio Ilario Giuseppe\",\"marker\":{\"color\":\"#FFA15A\"},\"name\":\"Portaluppi, Mr. Emilio Ilario Giuseppe\",\"notched\":false,\"offsetgroup\":\"Portaluppi, Mr. Emilio Ilario Giuseppe\",\"orientation\":\"h\",\"showlegend\":true,\"x\":[30.0],\"x0\":\" \",\"xaxis\":\"x\",\"y0\":\" \",\"yaxis\":\"y\",\"type\":\"box\"},{\"alignmentgroup\":\"True\",\"hovertemplate\":\"color=Lyntakoff, Mr. Stanko\\u003cbr\\u003ex=%{x}\\u003cextra\\u003e\\u003c\\u002fextra\\u003e\",\"legendgroup\":\"Lyntakoff, Mr. Stanko\",\"marker\":{\"color\":\"#19d3f3\"},\"name\":\"Lyntakoff, Mr. Stanko\",\"notched\":false,\"offsetgroup\":\"Lyntakoff, Mr. Stanko\",\"orientation\":\"h\",\"showlegend\":true,\"x\":[30.272590361445783],\"x0\":\" \",\"xaxis\":\"x\",\"y0\":\" \",\"yaxis\":\"y\",\"type\":\"box\"},{\"alignmentgroup\":\"True\",\"hovertemplate\":\"color=Chisholm, Mr. Roderick Robert Crispin\\u003cbr\\u003ex=%{x}\\u003cextra\\u003e\\u003c\\u002fextra\\u003e\",\"legendgroup\":\"Chisholm, Mr. Roderick Robert Crispin\",\"marker\":{\"color\":\"#FF6692\"},\"name\":\"Chisholm, Mr. Roderick Robert Crispin\",\"notched\":false,\"offsetgroup\":\"Chisholm, Mr. Roderick Robert Crispin\",\"orientation\":\"h\",\"showlegend\":true,\"x\":[30.272590361445783],\"x0\":\" \",\"xaxis\":\"x\",\"y0\":\" \",\"yaxis\":\"y\",\"type\":\"box\"},{\"alignmentgroup\":\"True\",\"hovertemplate\":\"color=Warren, Mr. Charles William\\u003cbr\\u003ex=%{x}\\u003cextra\\u003e\\u003c\\u002fextra\\u003e\",\"legendgroup\":\"Warren, Mr. Charles William\",\"marker\":{\"color\":\"#B6E880\"},\"name\":\"Warren, Mr. Charles William\",\"notched\":false,\"offsetgroup\":\"Warren, Mr. Charles William\",\"orientation\":\"h\",\"showlegend\":true,\"x\":[30.272590361445783],\"x0\":\" \",\"xaxis\":\"x\",\"y0\":\" \",\"yaxis\":\"y\",\"type\":\"box\"},{\"alignmentgroup\":\"True\",\"hovertemplate\":\"color=Howard, Miss. May Elizabeth\\u003cbr\\u003ex=%{x}\\u003cextra\\u003e\\u003c\\u002fextra\\u003e\",\"legendgroup\":\"Howard, Miss. May Elizabeth\",\"marker\":{\"color\":\"#FF97FF\"},\"name\":\"Howard, Miss. May Elizabeth\",\"notched\":false,\"offsetgroup\":\"Howard, Miss. May Elizabeth\",\"orientation\":\"h\",\"showlegend\":true,\"x\":[30.272590361445783],\"x0\":\" \",\"xaxis\":\"x\",\"y0\":\" \",\"yaxis\":\"y\",\"type\":\"box\"},{\"alignmentgroup\":\"True\",\"hovertemplate\":\"color=Pokrnic, Mr. Mate\\u003cbr\\u003ex=%{x}\\u003cextra\\u003e\\u003c\\u002fextra\\u003e\",\"legendgroup\":\"Pokrnic, Mr. Mate\",\"marker\":{\"color\":\"#FECB52\"},\"name\":\"Pokrnic, Mr. Mate\",\"notched\":false,\"offsetgroup\":\"Pokrnic, Mr. Mate\",\"orientation\":\"h\",\"showlegend\":true,\"x\":[17.0],\"x0\":\" \",\"xaxis\":\"x\",\"y0\":\" \",\"yaxis\":\"y\",\"type\":\"box\"},{\"alignmentgroup\":\"True\",\"hovertemplate\":\"color=McCaffry, Mr. Thomas Francis\\u003cbr\\u003ex=%{x}\\u003cextra\\u003e\\u003c\\u002fextra\\u003e\",\"legendgroup\":\"McCaffry, Mr. Thomas Francis\",\"marker\":{\"color\":\"#636efa\"},\"name\":\"McCaffry, Mr. Thomas Francis\",\"notched\":false,\"offsetgroup\":\"McCaffry, Mr. Thomas Francis\",\"orientation\":\"h\",\"showlegend\":true,\"x\":[46.0],\"x0\":\" \",\"xaxis\":\"x\",\"y0\":\" \",\"yaxis\":\"y\",\"type\":\"box\"},{\"alignmentgroup\":\"True\",\"hovertemplate\":\"color=Fox, Mr. Patrick\\u003cbr\\u003ex=%{x}\\u003cextra\\u003e\\u003c\\u002fextra\\u003e\",\"legendgroup\":\"Fox, Mr. Patrick\",\"marker\":{\"color\":\"#EF553B\"},\"name\":\"Fox, Mr. Patrick\",\"notched\":false,\"offsetgroup\":\"Fox, Mr. Patrick\",\"orientation\":\"h\",\"showlegend\":true,\"x\":[30.272590361445783],\"x0\":\" \",\"xaxis\":\"x\",\"y0\":\" \",\"yaxis\":\"y\",\"type\":\"box\"},{\"alignmentgroup\":\"True\",\"hovertemplate\":\"color=Clark, Mrs. Walter Miller (Virginia McDowell)\\u003cbr\\u003ex=%{x}\\u003cextra\\u003e\\u003c\\u002fextra\\u003e\",\"legendgroup\":\"Clark, Mrs. Walter Miller (Virginia McDowell)\",\"marker\":{\"color\":\"#00cc96\"},\"name\":\"Clark, Mrs. Walter Miller (Virginia McDowell)\",\"notched\":false,\"offsetgroup\":\"Clark, Mrs. Walter Miller (Virginia McDowell)\",\"orientation\":\"h\",\"showlegend\":true,\"x\":[26.0],\"x0\":\" \",\"xaxis\":\"x\",\"y0\":\" \",\"yaxis\":\"y\",\"type\":\"box\"},{\"alignmentgroup\":\"True\",\"hovertemplate\":\"color=Lennon, Miss. Mary\\u003cbr\\u003ex=%{x}\\u003cextra\\u003e\\u003c\\u002fextra\\u003e\",\"legendgroup\":\"Lennon, Miss. Mary\",\"marker\":{\"color\":\"#ab63fa\"},\"name\":\"Lennon, Miss. Mary\",\"notched\":false,\"offsetgroup\":\"Lennon, Miss. Mary\",\"orientation\":\"h\",\"showlegend\":true,\"x\":[30.272590361445783],\"x0\":\" \",\"xaxis\":\"x\",\"y0\":\" \",\"yaxis\":\"y\",\"type\":\"box\"},{\"alignmentgroup\":\"True\",\"hovertemplate\":\"color=Saade, Mr. Jean Nassr\\u003cbr\\u003ex=%{x}\\u003cextra\\u003e\\u003c\\u002fextra\\u003e\",\"legendgroup\":\"Saade, Mr. Jean Nassr\",\"marker\":{\"color\":\"#FFA15A\"},\"name\":\"Saade, Mr. Jean Nassr\",\"notched\":false,\"offsetgroup\":\"Saade, Mr. Jean Nassr\",\"orientation\":\"h\",\"showlegend\":true,\"x\":[30.272590361445783],\"x0\":\" \",\"xaxis\":\"x\",\"y0\":\" \",\"yaxis\":\"y\",\"type\":\"box\"},{\"alignmentgroup\":\"True\",\"hovertemplate\":\"color=Bryhl, Miss. Dagmar Jenny Ingeborg \\u003cbr\\u003ex=%{x}\\u003cextra\\u003e\\u003c\\u002fextra\\u003e\",\"legendgroup\":\"Bryhl, Miss. Dagmar Jenny Ingeborg \",\"marker\":{\"color\":\"#19d3f3\"},\"name\":\"Bryhl, Miss. Dagmar Jenny Ingeborg \",\"notched\":false,\"offsetgroup\":\"Bryhl, Miss. Dagmar Jenny Ingeborg \",\"orientation\":\"h\",\"showlegend\":true,\"x\":[20.0],\"x0\":\" \",\"xaxis\":\"x\",\"y0\":\" \",\"yaxis\":\"y\",\"type\":\"box\"},{\"alignmentgroup\":\"True\",\"hovertemplate\":\"color=Parker, Mr. Clifford Richard\\u003cbr\\u003ex=%{x}\\u003cextra\\u003e\\u003c\\u002fextra\\u003e\",\"legendgroup\":\"Parker, Mr. Clifford Richard\",\"marker\":{\"color\":\"#FF6692\"},\"name\":\"Parker, Mr. Clifford Richard\",\"notched\":false,\"offsetgroup\":\"Parker, Mr. Clifford Richard\",\"orientation\":\"h\",\"showlegend\":true,\"x\":[28.0],\"x0\":\" \",\"xaxis\":\"x\",\"y0\":\" \",\"yaxis\":\"y\",\"type\":\"box\"},{\"alignmentgroup\":\"True\",\"hovertemplate\":\"color=Faunthorpe, Mr. Harry\\u003cbr\\u003ex=%{x}\\u003cextra\\u003e\\u003c\\u002fextra\\u003e\",\"legendgroup\":\"Faunthorpe, Mr. Harry\",\"marker\":{\"color\":\"#B6E880\"},\"name\":\"Faunthorpe, Mr. Harry\",\"notched\":false,\"offsetgroup\":\"Faunthorpe, Mr. Harry\",\"orientation\":\"h\",\"showlegend\":true,\"x\":[40.0],\"x0\":\" \",\"xaxis\":\"x\",\"y0\":\" \",\"yaxis\":\"y\",\"type\":\"box\"},{\"alignmentgroup\":\"True\",\"hovertemplate\":\"color=Ware, Mr. John James\\u003cbr\\u003ex=%{x}\\u003cextra\\u003e\\u003c\\u002fextra\\u003e\",\"legendgroup\":\"Ware, Mr. John James\",\"marker\":{\"color\":\"#FF97FF\"},\"name\":\"Ware, Mr. John James\",\"notched\":false,\"offsetgroup\":\"Ware, Mr. John James\",\"orientation\":\"h\",\"showlegend\":true,\"x\":[30.0],\"x0\":\" \",\"xaxis\":\"x\",\"y0\":\" \",\"yaxis\":\"y\",\"type\":\"box\"},{\"alignmentgroup\":\"True\",\"hovertemplate\":\"color=Oxenham, Mr. Percy Thomas\\u003cbr\\u003ex=%{x}\\u003cextra\\u003e\\u003c\\u002fextra\\u003e\",\"legendgroup\":\"Oxenham, Mr. Percy Thomas\",\"marker\":{\"color\":\"#FECB52\"},\"name\":\"Oxenham, Mr. Percy Thomas\",\"notched\":false,\"offsetgroup\":\"Oxenham, Mr. Percy Thomas\",\"orientation\":\"h\",\"showlegend\":true,\"x\":[22.0],\"x0\":\" \",\"xaxis\":\"x\",\"y0\":\" \",\"yaxis\":\"y\",\"type\":\"box\"},{\"alignmentgroup\":\"True\",\"hovertemplate\":\"color=Oreskovic, Miss. Jelka\\u003cbr\\u003ex=%{x}\\u003cextra\\u003e\\u003c\\u002fextra\\u003e\",\"legendgroup\":\"Oreskovic, Miss. Jelka\",\"marker\":{\"color\":\"#636efa\"},\"name\":\"Oreskovic, Miss. Jelka\",\"notched\":false,\"offsetgroup\":\"Oreskovic, Miss. Jelka\",\"orientation\":\"h\",\"showlegend\":true,\"x\":[23.0],\"x0\":\" \",\"xaxis\":\"x\",\"y0\":\" \",\"yaxis\":\"y\",\"type\":\"box\"},{\"alignmentgroup\":\"True\",\"hovertemplate\":\"color=Peacock, Master. Alfred Edward\\u003cbr\\u003ex=%{x}\\u003cextra\\u003e\\u003c\\u002fextra\\u003e\",\"legendgroup\":\"Peacock, Master. Alfred Edward\",\"marker\":{\"color\":\"#EF553B\"},\"name\":\"Peacock, Master. Alfred Edward\",\"notched\":false,\"offsetgroup\":\"Peacock, Master. Alfred Edward\",\"orientation\":\"h\",\"showlegend\":true,\"x\":[0.75],\"x0\":\" \",\"xaxis\":\"x\",\"y0\":\" \",\"yaxis\":\"y\",\"type\":\"box\"},{\"alignmentgroup\":\"True\",\"hovertemplate\":\"color=Fleming, Miss. Honora\\u003cbr\\u003ex=%{x}\\u003cextra\\u003e\\u003c\\u002fextra\\u003e\",\"legendgroup\":\"Fleming, Miss. Honora\",\"marker\":{\"color\":\"#00cc96\"},\"name\":\"Fleming, Miss. Honora\",\"notched\":false,\"offsetgroup\":\"Fleming, Miss. Honora\",\"orientation\":\"h\",\"showlegend\":true,\"x\":[30.272590361445783],\"x0\":\" \",\"xaxis\":\"x\",\"y0\":\" \",\"yaxis\":\"y\",\"type\":\"box\"},{\"alignmentgroup\":\"True\",\"hovertemplate\":\"color=Touma, Miss. Maria Youssef\\u003cbr\\u003ex=%{x}\\u003cextra\\u003e\\u003c\\u002fextra\\u003e\",\"legendgroup\":\"Touma, Miss. Maria Youssef\",\"marker\":{\"color\":\"#ab63fa\"},\"name\":\"Touma, Miss. Maria Youssef\",\"notched\":false,\"offsetgroup\":\"Touma, Miss. Maria Youssef\",\"orientation\":\"h\",\"showlegend\":true,\"x\":[9.0],\"x0\":\" \",\"xaxis\":\"x\",\"y0\":\" \",\"yaxis\":\"y\",\"type\":\"box\"},{\"alignmentgroup\":\"True\",\"hovertemplate\":\"color=Rosblom, Miss. Salli Helena\\u003cbr\\u003ex=%{x}\\u003cextra\\u003e\\u003c\\u002fextra\\u003e\",\"legendgroup\":\"Rosblom, Miss. Salli Helena\",\"marker\":{\"color\":\"#FFA15A\"},\"name\":\"Rosblom, Miss. Salli Helena\",\"notched\":false,\"offsetgroup\":\"Rosblom, Miss. Salli Helena\",\"orientation\":\"h\",\"showlegend\":true,\"x\":[2.0],\"x0\":\" \",\"xaxis\":\"x\",\"y0\":\" \",\"yaxis\":\"y\",\"type\":\"box\"},{\"alignmentgroup\":\"True\",\"hovertemplate\":\"color=Dennis, Mr. William\\u003cbr\\u003ex=%{x}\\u003cextra\\u003e\\u003c\\u002fextra\\u003e\",\"legendgroup\":\"Dennis, Mr. William\",\"marker\":{\"color\":\"#19d3f3\"},\"name\":\"Dennis, Mr. William\",\"notched\":false,\"offsetgroup\":\"Dennis, Mr. William\",\"orientation\":\"h\",\"showlegend\":true,\"x\":[36.0],\"x0\":\" \",\"xaxis\":\"x\",\"y0\":\" \",\"yaxis\":\"y\",\"type\":\"box\"},{\"alignmentgroup\":\"True\",\"hovertemplate\":\"color=Franklin, Mr. Charles (Charles Fardon)\\u003cbr\\u003ex=%{x}\\u003cextra\\u003e\\u003c\\u002fextra\\u003e\",\"legendgroup\":\"Franklin, Mr. Charles (Charles Fardon)\",\"marker\":{\"color\":\"#FF6692\"},\"name\":\"Franklin, Mr. Charles (Charles Fardon)\",\"notched\":false,\"offsetgroup\":\"Franklin, Mr. Charles (Charles Fardon)\",\"orientation\":\"h\",\"showlegend\":true,\"x\":[30.272590361445783],\"x0\":\" \",\"xaxis\":\"x\",\"y0\":\" \",\"yaxis\":\"y\",\"type\":\"box\"},{\"alignmentgroup\":\"True\",\"hovertemplate\":\"color=Snyder, Mr. John Pillsbury\\u003cbr\\u003ex=%{x}\\u003cextra\\u003e\\u003c\\u002fextra\\u003e\",\"legendgroup\":\"Snyder, Mr. John Pillsbury\",\"marker\":{\"color\":\"#B6E880\"},\"name\":\"Snyder, Mr. John Pillsbury\",\"notched\":false,\"offsetgroup\":\"Snyder, Mr. John Pillsbury\",\"orientation\":\"h\",\"showlegend\":true,\"x\":[24.0],\"x0\":\" \",\"xaxis\":\"x\",\"y0\":\" \",\"yaxis\":\"y\",\"type\":\"box\"},{\"alignmentgroup\":\"True\",\"hovertemplate\":\"color=Mardirosian, Mr. Sarkis\\u003cbr\\u003ex=%{x}\\u003cextra\\u003e\\u003c\\u002fextra\\u003e\",\"legendgroup\":\"Mardirosian, Mr. Sarkis\",\"marker\":{\"color\":\"#FF97FF\"},\"name\":\"Mardirosian, Mr. Sarkis\",\"notched\":false,\"offsetgroup\":\"Mardirosian, Mr. Sarkis\",\"orientation\":\"h\",\"showlegend\":true,\"x\":[30.272590361445783],\"x0\":\" \",\"xaxis\":\"x\",\"y0\":\" \",\"yaxis\":\"y\",\"type\":\"box\"},{\"alignmentgroup\":\"True\",\"hovertemplate\":\"color=Ford, Mr. Arthur\\u003cbr\\u003ex=%{x}\\u003cextra\\u003e\\u003c\\u002fextra\\u003e\",\"legendgroup\":\"Ford, Mr. Arthur\",\"marker\":{\"color\":\"#FECB52\"},\"name\":\"Ford, Mr. Arthur\",\"notched\":false,\"offsetgroup\":\"Ford, Mr. Arthur\",\"orientation\":\"h\",\"showlegend\":true,\"x\":[30.272590361445783],\"x0\":\" \",\"xaxis\":\"x\",\"y0\":\" \",\"yaxis\":\"y\",\"type\":\"box\"},{\"alignmentgroup\":\"True\",\"hovertemplate\":\"color=Rheims, Mr. George Alexander Lucien\\u003cbr\\u003ex=%{x}\\u003cextra\\u003e\\u003c\\u002fextra\\u003e\",\"legendgroup\":\"Rheims, Mr. George Alexander Lucien\",\"marker\":{\"color\":\"#636efa\"},\"name\":\"Rheims, Mr. George Alexander Lucien\",\"notched\":false,\"offsetgroup\":\"Rheims, Mr. George Alexander Lucien\",\"orientation\":\"h\",\"showlegend\":true,\"x\":[30.272590361445783],\"x0\":\" \",\"xaxis\":\"x\",\"y0\":\" \",\"yaxis\":\"y\",\"type\":\"box\"},{\"alignmentgroup\":\"True\",\"hovertemplate\":\"color=Daly, Miss. Margaret Marcella Maggie\\\"\\\"\\u003cbr\\u003ex=%{x}\\u003cextra\\u003e\\u003c\\u002fextra\\u003e\",\"legendgroup\":\"Daly, Miss. Margaret Marcella Maggie\\\"\\\"\",\"marker\":{\"color\":\"#EF553B\"},\"name\":\"Daly, Miss. Margaret Marcella Maggie\\\"\\\"\",\"notched\":false,\"offsetgroup\":\"Daly, Miss. Margaret Marcella Maggie\\\"\\\"\",\"orientation\":\"h\",\"showlegend\":true,\"x\":[30.0],\"x0\":\" \",\"xaxis\":\"x\",\"y0\":\" \",\"yaxis\":\"y\",\"type\":\"box\"},{\"alignmentgroup\":\"True\",\"hovertemplate\":\"color=Nasr, Mr. Mustafa\\u003cbr\\u003ex=%{x}\\u003cextra\\u003e\\u003c\\u002fextra\\u003e\",\"legendgroup\":\"Nasr, Mr. Mustafa\",\"marker\":{\"color\":\"#00cc96\"},\"name\":\"Nasr, Mr. Mustafa\",\"notched\":false,\"offsetgroup\":\"Nasr, Mr. Mustafa\",\"orientation\":\"h\",\"showlegend\":true,\"x\":[30.272590361445783],\"x0\":\" \",\"xaxis\":\"x\",\"y0\":\" \",\"yaxis\":\"y\",\"type\":\"box\"},{\"alignmentgroup\":\"True\",\"hovertemplate\":\"color=Dodge, Dr. Washington\\u003cbr\\u003ex=%{x}\\u003cextra\\u003e\\u003c\\u002fextra\\u003e\",\"legendgroup\":\"Dodge, Dr. Washington\",\"marker\":{\"color\":\"#ab63fa\"},\"name\":\"Dodge, Dr. Washington\",\"notched\":false,\"offsetgroup\":\"Dodge, Dr. Washington\",\"orientation\":\"h\",\"showlegend\":true,\"x\":[53.0],\"x0\":\" \",\"xaxis\":\"x\",\"y0\":\" \",\"yaxis\":\"y\",\"type\":\"box\"},{\"alignmentgroup\":\"True\",\"hovertemplate\":\"color=Wittevrongel, Mr. Camille\\u003cbr\\u003ex=%{x}\\u003cextra\\u003e\\u003c\\u002fextra\\u003e\",\"legendgroup\":\"Wittevrongel, Mr. Camille\",\"marker\":{\"color\":\"#FFA15A\"},\"name\":\"Wittevrongel, Mr. Camille\",\"notched\":false,\"offsetgroup\":\"Wittevrongel, Mr. Camille\",\"orientation\":\"h\",\"showlegend\":true,\"x\":[36.0],\"x0\":\" \",\"xaxis\":\"x\",\"y0\":\" \",\"yaxis\":\"y\",\"type\":\"box\"},{\"alignmentgroup\":\"True\",\"hovertemplate\":\"color=Angheloff, Mr. Minko\\u003cbr\\u003ex=%{x}\\u003cextra\\u003e\\u003c\\u002fextra\\u003e\",\"legendgroup\":\"Angheloff, Mr. Minko\",\"marker\":{\"color\":\"#19d3f3\"},\"name\":\"Angheloff, Mr. Minko\",\"notched\":false,\"offsetgroup\":\"Angheloff, Mr. Minko\",\"orientation\":\"h\",\"showlegend\":true,\"x\":[26.0],\"x0\":\" \",\"xaxis\":\"x\",\"y0\":\" \",\"yaxis\":\"y\",\"type\":\"box\"},{\"alignmentgroup\":\"True\",\"hovertemplate\":\"color=Laroche, Miss. Louise\\u003cbr\\u003ex=%{x}\\u003cextra\\u003e\\u003c\\u002fextra\\u003e\",\"legendgroup\":\"Laroche, Miss. Louise\",\"marker\":{\"color\":\"#FF6692\"},\"name\":\"Laroche, Miss. Louise\",\"notched\":false,\"offsetgroup\":\"Laroche, Miss. Louise\",\"orientation\":\"h\",\"showlegend\":true,\"x\":[1.0],\"x0\":\" \",\"xaxis\":\"x\",\"y0\":\" \",\"yaxis\":\"y\",\"type\":\"box\"},{\"alignmentgroup\":\"True\",\"hovertemplate\":\"color=Samaan, Mr. Hanna\\u003cbr\\u003ex=%{x}\\u003cextra\\u003e\\u003c\\u002fextra\\u003e\",\"legendgroup\":\"Samaan, Mr. Hanna\",\"marker\":{\"color\":\"#B6E880\"},\"name\":\"Samaan, Mr. Hanna\",\"notched\":false,\"offsetgroup\":\"Samaan, Mr. Hanna\",\"orientation\":\"h\",\"showlegend\":true,\"x\":[30.272590361445783],\"x0\":\" \",\"xaxis\":\"x\",\"y0\":\" \",\"yaxis\":\"y\",\"type\":\"box\"},{\"alignmentgroup\":\"True\",\"hovertemplate\":\"color=Loring, Mr. Joseph Holland\\u003cbr\\u003ex=%{x}\\u003cextra\\u003e\\u003c\\u002fextra\\u003e\",\"legendgroup\":\"Loring, Mr. Joseph Holland\",\"marker\":{\"color\":\"#FF97FF\"},\"name\":\"Loring, Mr. Joseph Holland\",\"notched\":false,\"offsetgroup\":\"Loring, Mr. Joseph Holland\",\"orientation\":\"h\",\"showlegend\":true,\"x\":[30.0],\"x0\":\" \",\"xaxis\":\"x\",\"y0\":\" \",\"yaxis\":\"y\",\"type\":\"box\"},{\"alignmentgroup\":\"True\",\"hovertemplate\":\"color=Johansson, Mr. Nils\\u003cbr\\u003ex=%{x}\\u003cextra\\u003e\\u003c\\u002fextra\\u003e\",\"legendgroup\":\"Johansson, Mr. Nils\",\"marker\":{\"color\":\"#FECB52\"},\"name\":\"Johansson, Mr. Nils\",\"notched\":false,\"offsetgroup\":\"Johansson, Mr. Nils\",\"orientation\":\"h\",\"showlegend\":true,\"x\":[29.0],\"x0\":\" \",\"xaxis\":\"x\",\"y0\":\" \",\"yaxis\":\"y\",\"type\":\"box\"},{\"alignmentgroup\":\"True\",\"hovertemplate\":\"color=Olsson, Mr. Oscar Wilhelm\\u003cbr\\u003ex=%{x}\\u003cextra\\u003e\\u003c\\u002fextra\\u003e\",\"legendgroup\":\"Olsson, Mr. Oscar Wilhelm\",\"marker\":{\"color\":\"#636efa\"},\"name\":\"Olsson, Mr. Oscar Wilhelm\",\"notched\":false,\"offsetgroup\":\"Olsson, Mr. Oscar Wilhelm\",\"orientation\":\"h\",\"showlegend\":true,\"x\":[32.0],\"x0\":\" \",\"xaxis\":\"x\",\"y0\":\" \",\"yaxis\":\"y\",\"type\":\"box\"},{\"alignmentgroup\":\"True\",\"hovertemplate\":\"color=Malachard, Mr. Noel\\u003cbr\\u003ex=%{x}\\u003cextra\\u003e\\u003c\\u002fextra\\u003e\",\"legendgroup\":\"Malachard, Mr. Noel\",\"marker\":{\"color\":\"#EF553B\"},\"name\":\"Malachard, Mr. Noel\",\"notched\":false,\"offsetgroup\":\"Malachard, Mr. Noel\",\"orientation\":\"h\",\"showlegend\":true,\"x\":[30.272590361445783],\"x0\":\" \",\"xaxis\":\"x\",\"y0\":\" \",\"yaxis\":\"y\",\"type\":\"box\"},{\"alignmentgroup\":\"True\",\"hovertemplate\":\"color=Phillips, Mr. Escott Robert\\u003cbr\\u003ex=%{x}\\u003cextra\\u003e\\u003c\\u002fextra\\u003e\",\"legendgroup\":\"Phillips, Mr. Escott Robert\",\"marker\":{\"color\":\"#00cc96\"},\"name\":\"Phillips, Mr. Escott Robert\",\"notched\":false,\"offsetgroup\":\"Phillips, Mr. Escott Robert\",\"orientation\":\"h\",\"showlegend\":true,\"x\":[43.0],\"x0\":\" \",\"xaxis\":\"x\",\"y0\":\" \",\"yaxis\":\"y\",\"type\":\"box\"},{\"alignmentgroup\":\"True\",\"hovertemplate\":\"color=Pokrnic, Mr. Tome\\u003cbr\\u003ex=%{x}\\u003cextra\\u003e\\u003c\\u002fextra\\u003e\",\"legendgroup\":\"Pokrnic, Mr. Tome\",\"marker\":{\"color\":\"#ab63fa\"},\"name\":\"Pokrnic, Mr. Tome\",\"notched\":false,\"offsetgroup\":\"Pokrnic, Mr. Tome\",\"orientation\":\"h\",\"showlegend\":true,\"x\":[24.0],\"x0\":\" \",\"xaxis\":\"x\",\"y0\":\" \",\"yaxis\":\"y\",\"type\":\"box\"},{\"alignmentgroup\":\"True\",\"hovertemplate\":\"color=McCarthy, Miss. Catherine Katie\\\"\\\"\\u003cbr\\u003ex=%{x}\\u003cextra\\u003e\\u003c\\u002fextra\\u003e\",\"legendgroup\":\"McCarthy, Miss. Catherine Katie\\\"\\\"\",\"marker\":{\"color\":\"#FFA15A\"},\"name\":\"McCarthy, Miss. Catherine Katie\\\"\\\"\",\"notched\":false,\"offsetgroup\":\"McCarthy, Miss. Catherine Katie\\\"\\\"\",\"orientation\":\"h\",\"showlegend\":true,\"x\":[30.272590361445783],\"x0\":\" \",\"xaxis\":\"x\",\"y0\":\" \",\"yaxis\":\"y\",\"type\":\"box\"},{\"alignmentgroup\":\"True\",\"hovertemplate\":\"color=Crosby, Mrs. Edward Gifford (Catherine Elizabeth Halstead)\\u003cbr\\u003ex=%{x}\\u003cextra\\u003e\\u003c\\u002fextra\\u003e\",\"legendgroup\":\"Crosby, Mrs. Edward Gifford (Catherine Elizabeth Halstead)\",\"marker\":{\"color\":\"#19d3f3\"},\"name\":\"Crosby, Mrs. Edward Gifford (Catherine Elizabeth Halstead)\",\"notched\":false,\"offsetgroup\":\"Crosby, Mrs. Edward Gifford (Catherine Elizabeth Halstead)\",\"orientation\":\"h\",\"showlegend\":true,\"x\":[64.0],\"x0\":\" \",\"xaxis\":\"x\",\"y0\":\" \",\"yaxis\":\"y\",\"type\":\"box\"},{\"alignmentgroup\":\"True\",\"hovertemplate\":\"color=Allison, Mr. Hudson Joshua Creighton\\u003cbr\\u003ex=%{x}\\u003cextra\\u003e\\u003c\\u002fextra\\u003e\",\"legendgroup\":\"Allison, Mr. Hudson Joshua Creighton\",\"marker\":{\"color\":\"#FF6692\"},\"name\":\"Allison, Mr. Hudson Joshua Creighton\",\"notched\":false,\"offsetgroup\":\"Allison, Mr. Hudson Joshua Creighton\",\"orientation\":\"h\",\"showlegend\":true,\"x\":[30.0],\"x0\":\" \",\"xaxis\":\"x\",\"y0\":\" \",\"yaxis\":\"y\",\"type\":\"box\"},{\"alignmentgroup\":\"True\",\"hovertemplate\":\"color=Aks, Master. Philip Frank\\u003cbr\\u003ex=%{x}\\u003cextra\\u003e\\u003c\\u002fextra\\u003e\",\"legendgroup\":\"Aks, Master. Philip Frank\",\"marker\":{\"color\":\"#B6E880\"},\"name\":\"Aks, Master. Philip Frank\",\"notched\":false,\"offsetgroup\":\"Aks, Master. Philip Frank\",\"orientation\":\"h\",\"showlegend\":true,\"x\":[0.83],\"x0\":\" \",\"xaxis\":\"x\",\"y0\":\" \",\"yaxis\":\"y\",\"type\":\"box\"},{\"alignmentgroup\":\"True\",\"hovertemplate\":\"color=Hays, Mr. Charles Melville\\u003cbr\\u003ex=%{x}\\u003cextra\\u003e\\u003c\\u002fextra\\u003e\",\"legendgroup\":\"Hays, Mr. Charles Melville\",\"marker\":{\"color\":\"#FF97FF\"},\"name\":\"Hays, Mr. Charles Melville\",\"notched\":false,\"offsetgroup\":\"Hays, Mr. Charles Melville\",\"orientation\":\"h\",\"showlegend\":true,\"x\":[55.0],\"x0\":\" \",\"xaxis\":\"x\",\"y0\":\" \",\"yaxis\":\"y\",\"type\":\"box\"},{\"alignmentgroup\":\"True\",\"hovertemplate\":\"color=Hansen, Mrs. Claus Peter (Jennie L Howard)\\u003cbr\\u003ex=%{x}\\u003cextra\\u003e\\u003c\\u002fextra\\u003e\",\"legendgroup\":\"Hansen, Mrs. Claus Peter (Jennie L Howard)\",\"marker\":{\"color\":\"#FECB52\"},\"name\":\"Hansen, Mrs. Claus Peter (Jennie L Howard)\",\"notched\":false,\"offsetgroup\":\"Hansen, Mrs. Claus Peter (Jennie L Howard)\",\"orientation\":\"h\",\"showlegend\":true,\"x\":[45.0],\"x0\":\" \",\"xaxis\":\"x\",\"y0\":\" \",\"yaxis\":\"y\",\"type\":\"box\"},{\"alignmentgroup\":\"True\",\"hovertemplate\":\"color=Cacic, Mr. Jego Grga\\u003cbr\\u003ex=%{x}\\u003cextra\\u003e\\u003c\\u002fextra\\u003e\",\"legendgroup\":\"Cacic, Mr. Jego Grga\",\"marker\":{\"color\":\"#636efa\"},\"name\":\"Cacic, Mr. Jego Grga\",\"notched\":false,\"offsetgroup\":\"Cacic, Mr. Jego Grga\",\"orientation\":\"h\",\"showlegend\":true,\"x\":[18.0],\"x0\":\" \",\"xaxis\":\"x\",\"y0\":\" \",\"yaxis\":\"y\",\"type\":\"box\"},{\"alignmentgroup\":\"True\",\"hovertemplate\":\"color=Vartanian, Mr. David\\u003cbr\\u003ex=%{x}\\u003cextra\\u003e\\u003c\\u002fextra\\u003e\",\"legendgroup\":\"Vartanian, Mr. David\",\"marker\":{\"color\":\"#EF553B\"},\"name\":\"Vartanian, Mr. David\",\"notched\":false,\"offsetgroup\":\"Vartanian, Mr. David\",\"orientation\":\"h\",\"showlegend\":true,\"x\":[22.0],\"x0\":\" \",\"xaxis\":\"x\",\"y0\":\" \",\"yaxis\":\"y\",\"type\":\"box\"},{\"alignmentgroup\":\"True\",\"hovertemplate\":\"color=Sadowitz, Mr. Harry\\u003cbr\\u003ex=%{x}\\u003cextra\\u003e\\u003c\\u002fextra\\u003e\",\"legendgroup\":\"Sadowitz, Mr. Harry\",\"marker\":{\"color\":\"#00cc96\"},\"name\":\"Sadowitz, Mr. Harry\",\"notched\":false,\"offsetgroup\":\"Sadowitz, Mr. Harry\",\"orientation\":\"h\",\"showlegend\":true,\"x\":[30.272590361445783],\"x0\":\" \",\"xaxis\":\"x\",\"y0\":\" \",\"yaxis\":\"y\",\"type\":\"box\"},{\"alignmentgroup\":\"True\",\"hovertemplate\":\"color=Carr, Miss. Jeannie\\u003cbr\\u003ex=%{x}\\u003cextra\\u003e\\u003c\\u002fextra\\u003e\",\"legendgroup\":\"Carr, Miss. Jeannie\",\"marker\":{\"color\":\"#ab63fa\"},\"name\":\"Carr, Miss. Jeannie\",\"notched\":false,\"offsetgroup\":\"Carr, Miss. Jeannie\",\"orientation\":\"h\",\"showlegend\":true,\"x\":[37.0],\"x0\":\" \",\"xaxis\":\"x\",\"y0\":\" \",\"yaxis\":\"y\",\"type\":\"box\"},{\"alignmentgroup\":\"True\",\"hovertemplate\":\"color=White, Mrs. John Stuart (Ella Holmes)\\u003cbr\\u003ex=%{x}\\u003cextra\\u003e\\u003c\\u002fextra\\u003e\",\"legendgroup\":\"White, Mrs. John Stuart (Ella Holmes)\",\"marker\":{\"color\":\"#FFA15A\"},\"name\":\"White, Mrs. John Stuart (Ella Holmes)\",\"notched\":false,\"offsetgroup\":\"White, Mrs. John Stuart (Ella Holmes)\",\"orientation\":\"h\",\"showlegend\":true,\"x\":[55.0],\"x0\":\" \",\"xaxis\":\"x\",\"y0\":\" \",\"yaxis\":\"y\",\"type\":\"box\"},{\"alignmentgroup\":\"True\",\"hovertemplate\":\"color=Hagardon, Miss. Kate\\u003cbr\\u003ex=%{x}\\u003cextra\\u003e\\u003c\\u002fextra\\u003e\",\"legendgroup\":\"Hagardon, Miss. Kate\",\"marker\":{\"color\":\"#19d3f3\"},\"name\":\"Hagardon, Miss. Kate\",\"notched\":false,\"offsetgroup\":\"Hagardon, Miss. Kate\",\"orientation\":\"h\",\"showlegend\":true,\"x\":[17.0],\"x0\":\" \",\"xaxis\":\"x\",\"y0\":\" \",\"yaxis\":\"y\",\"type\":\"box\"},{\"alignmentgroup\":\"True\",\"hovertemplate\":\"color=Spencer, Mr. William Augustus\\u003cbr\\u003ex=%{x}\\u003cextra\\u003e\\u003c\\u002fextra\\u003e\",\"legendgroup\":\"Spencer, Mr. William Augustus\",\"marker\":{\"color\":\"#FF6692\"},\"name\":\"Spencer, Mr. William Augustus\",\"notched\":false,\"offsetgroup\":\"Spencer, Mr. William Augustus\",\"orientation\":\"h\",\"showlegend\":true,\"x\":[57.0],\"x0\":\" \",\"xaxis\":\"x\",\"y0\":\" \",\"yaxis\":\"y\",\"type\":\"box\"},{\"alignmentgroup\":\"True\",\"hovertemplate\":\"color=Rogers, Mr. Reginald Harry\\u003cbr\\u003ex=%{x}\\u003cextra\\u003e\\u003c\\u002fextra\\u003e\",\"legendgroup\":\"Rogers, Mr. Reginald Harry\",\"marker\":{\"color\":\"#B6E880\"},\"name\":\"Rogers, Mr. Reginald Harry\",\"notched\":false,\"offsetgroup\":\"Rogers, Mr. Reginald Harry\",\"orientation\":\"h\",\"showlegend\":true,\"x\":[19.0],\"x0\":\" \",\"xaxis\":\"x\",\"y0\":\" \",\"yaxis\":\"y\",\"type\":\"box\"},{\"alignmentgroup\":\"True\",\"hovertemplate\":\"color=Jonsson, Mr. Nils Hilding\\u003cbr\\u003ex=%{x}\\u003cextra\\u003e\\u003c\\u002fextra\\u003e\",\"legendgroup\":\"Jonsson, Mr. Nils Hilding\",\"marker\":{\"color\":\"#FF97FF\"},\"name\":\"Jonsson, Mr. Nils Hilding\",\"notched\":false,\"offsetgroup\":\"Jonsson, Mr. Nils Hilding\",\"orientation\":\"h\",\"showlegend\":true,\"x\":[27.0],\"x0\":\" \",\"xaxis\":\"x\",\"y0\":\" \",\"yaxis\":\"y\",\"type\":\"box\"},{\"alignmentgroup\":\"True\",\"hovertemplate\":\"color=Jefferys, Mr. Ernest Wilfred\\u003cbr\\u003ex=%{x}\\u003cextra\\u003e\\u003c\\u002fextra\\u003e\",\"legendgroup\":\"Jefferys, Mr. Ernest Wilfred\",\"marker\":{\"color\":\"#FECB52\"},\"name\":\"Jefferys, Mr. Ernest Wilfred\",\"notched\":false,\"offsetgroup\":\"Jefferys, Mr. Ernest Wilfred\",\"orientation\":\"h\",\"showlegend\":true,\"x\":[22.0],\"x0\":\" \",\"xaxis\":\"x\",\"y0\":\" \",\"yaxis\":\"y\",\"type\":\"box\"},{\"alignmentgroup\":\"True\",\"hovertemplate\":\"color=Andersson, Mr. Johan Samuel\\u003cbr\\u003ex=%{x}\\u003cextra\\u003e\\u003c\\u002fextra\\u003e\",\"legendgroup\":\"Andersson, Mr. Johan Samuel\",\"marker\":{\"color\":\"#636efa\"},\"name\":\"Andersson, Mr. Johan Samuel\",\"notched\":false,\"offsetgroup\":\"Andersson, Mr. Johan Samuel\",\"orientation\":\"h\",\"showlegend\":true,\"x\":[26.0],\"x0\":\" \",\"xaxis\":\"x\",\"y0\":\" \",\"yaxis\":\"y\",\"type\":\"box\"},{\"alignmentgroup\":\"True\",\"hovertemplate\":\"color=Krekorian, Mr. Neshan\\u003cbr\\u003ex=%{x}\\u003cextra\\u003e\\u003c\\u002fextra\\u003e\",\"legendgroup\":\"Krekorian, Mr. Neshan\",\"marker\":{\"color\":\"#EF553B\"},\"name\":\"Krekorian, Mr. Neshan\",\"notched\":false,\"offsetgroup\":\"Krekorian, Mr. Neshan\",\"orientation\":\"h\",\"showlegend\":true,\"x\":[25.0],\"x0\":\" \",\"xaxis\":\"x\",\"y0\":\" \",\"yaxis\":\"y\",\"type\":\"box\"},{\"alignmentgroup\":\"True\",\"hovertemplate\":\"color=Nesson, Mr. Israel\\u003cbr\\u003ex=%{x}\\u003cextra\\u003e\\u003c\\u002fextra\\u003e\",\"legendgroup\":\"Nesson, Mr. Israel\",\"marker\":{\"color\":\"#00cc96\"},\"name\":\"Nesson, Mr. Israel\",\"notched\":false,\"offsetgroup\":\"Nesson, Mr. Israel\",\"orientation\":\"h\",\"showlegend\":true,\"x\":[26.0],\"x0\":\" \",\"xaxis\":\"x\",\"y0\":\" \",\"yaxis\":\"y\",\"type\":\"box\"},{\"alignmentgroup\":\"True\",\"hovertemplate\":\"color=Rowe, Mr. Alfred G\\u003cbr\\u003ex=%{x}\\u003cextra\\u003e\\u003c\\u002fextra\\u003e\",\"legendgroup\":\"Rowe, Mr. Alfred G\",\"marker\":{\"color\":\"#ab63fa\"},\"name\":\"Rowe, Mr. Alfred G\",\"notched\":false,\"offsetgroup\":\"Rowe, Mr. Alfred G\",\"orientation\":\"h\",\"showlegend\":true,\"x\":[33.0],\"x0\":\" \",\"xaxis\":\"x\",\"y0\":\" \",\"yaxis\":\"y\",\"type\":\"box\"},{\"alignmentgroup\":\"True\",\"hovertemplate\":\"color=Kreuchen, Miss. Emilie\\u003cbr\\u003ex=%{x}\\u003cextra\\u003e\\u003c\\u002fextra\\u003e\",\"legendgroup\":\"Kreuchen, Miss. Emilie\",\"marker\":{\"color\":\"#FFA15A\"},\"name\":\"Kreuchen, Miss. Emilie\",\"notched\":false,\"offsetgroup\":\"Kreuchen, Miss. Emilie\",\"orientation\":\"h\",\"showlegend\":true,\"x\":[39.0],\"x0\":\" \",\"xaxis\":\"x\",\"y0\":\" \",\"yaxis\":\"y\",\"type\":\"box\"},{\"alignmentgroup\":\"True\",\"hovertemplate\":\"color=Assam, Mr. Ali\\u003cbr\\u003ex=%{x}\\u003cextra\\u003e\\u003c\\u002fextra\\u003e\",\"legendgroup\":\"Assam, Mr. Ali\",\"marker\":{\"color\":\"#19d3f3\"},\"name\":\"Assam, Mr. Ali\",\"notched\":false,\"offsetgroup\":\"Assam, Mr. Ali\",\"orientation\":\"h\",\"showlegend\":true,\"x\":[23.0],\"x0\":\" \",\"xaxis\":\"x\",\"y0\":\" \",\"yaxis\":\"y\",\"type\":\"box\"},{\"alignmentgroup\":\"True\",\"hovertemplate\":\"color=Becker, Miss. Ruth Elizabeth\\u003cbr\\u003ex=%{x}\\u003cextra\\u003e\\u003c\\u002fextra\\u003e\",\"legendgroup\":\"Becker, Miss. Ruth Elizabeth\",\"marker\":{\"color\":\"#FF6692\"},\"name\":\"Becker, Miss. Ruth Elizabeth\",\"notched\":false,\"offsetgroup\":\"Becker, Miss. Ruth Elizabeth\",\"orientation\":\"h\",\"showlegend\":true,\"x\":[12.0],\"x0\":\" \",\"xaxis\":\"x\",\"y0\":\" \",\"yaxis\":\"y\",\"type\":\"box\"},{\"alignmentgroup\":\"True\",\"hovertemplate\":\"color=Rosenshine, Mr. George (Mr George Thorne\\\")\\\"\\u003cbr\\u003ex=%{x}\\u003cextra\\u003e\\u003c\\u002fextra\\u003e\",\"legendgroup\":\"Rosenshine, Mr. George (Mr George Thorne\\\")\\\"\",\"marker\":{\"color\":\"#B6E880\"},\"name\":\"Rosenshine, Mr. George (Mr George Thorne\\\")\\\"\",\"notched\":false,\"offsetgroup\":\"Rosenshine, Mr. George (Mr George Thorne\\\")\\\"\",\"orientation\":\"h\",\"showlegend\":true,\"x\":[46.0],\"x0\":\" \",\"xaxis\":\"x\",\"y0\":\" \",\"yaxis\":\"y\",\"type\":\"box\"},{\"alignmentgroup\":\"True\",\"hovertemplate\":\"color=Clarke, Mr. Charles Valentine\\u003cbr\\u003ex=%{x}\\u003cextra\\u003e\\u003c\\u002fextra\\u003e\",\"legendgroup\":\"Clarke, Mr. Charles Valentine\",\"marker\":{\"color\":\"#FF97FF\"},\"name\":\"Clarke, Mr. Charles Valentine\",\"notched\":false,\"offsetgroup\":\"Clarke, Mr. Charles Valentine\",\"orientation\":\"h\",\"showlegend\":true,\"x\":[29.0],\"x0\":\" \",\"xaxis\":\"x\",\"y0\":\" \",\"yaxis\":\"y\",\"type\":\"box\"},{\"alignmentgroup\":\"True\",\"hovertemplate\":\"color=Enander, Mr. Ingvar\\u003cbr\\u003ex=%{x}\\u003cextra\\u003e\\u003c\\u002fextra\\u003e\",\"legendgroup\":\"Enander, Mr. Ingvar\",\"marker\":{\"color\":\"#FECB52\"},\"name\":\"Enander, Mr. Ingvar\",\"notched\":false,\"offsetgroup\":\"Enander, Mr. Ingvar\",\"orientation\":\"h\",\"showlegend\":true,\"x\":[21.0],\"x0\":\" \",\"xaxis\":\"x\",\"y0\":\" \",\"yaxis\":\"y\",\"type\":\"box\"},{\"alignmentgroup\":\"True\",\"hovertemplate\":\"color=Davies, Mrs. John Morgan (Elizabeth Agnes Mary White) \\u003cbr\\u003ex=%{x}\\u003cextra\\u003e\\u003c\\u002fextra\\u003e\",\"legendgroup\":\"Davies, Mrs. John Morgan (Elizabeth Agnes Mary White) \",\"marker\":{\"color\":\"#636efa\"},\"name\":\"Davies, Mrs. John Morgan (Elizabeth Agnes Mary White) \",\"notched\":false,\"offsetgroup\":\"Davies, Mrs. John Morgan (Elizabeth Agnes Mary White) \",\"orientation\":\"h\",\"showlegend\":true,\"x\":[48.0],\"x0\":\" \",\"xaxis\":\"x\",\"y0\":\" \",\"yaxis\":\"y\",\"type\":\"box\"},{\"alignmentgroup\":\"True\",\"hovertemplate\":\"color=Dulles, Mr. William Crothers\\u003cbr\\u003ex=%{x}\\u003cextra\\u003e\\u003c\\u002fextra\\u003e\",\"legendgroup\":\"Dulles, Mr. William Crothers\",\"marker\":{\"color\":\"#EF553B\"},\"name\":\"Dulles, Mr. William Crothers\",\"notched\":false,\"offsetgroup\":\"Dulles, Mr. William Crothers\",\"orientation\":\"h\",\"showlegend\":true,\"x\":[39.0],\"x0\":\" \",\"xaxis\":\"x\",\"y0\":\" \",\"yaxis\":\"y\",\"type\":\"box\"},{\"alignmentgroup\":\"True\",\"hovertemplate\":\"color=Thomas, Mr. Tannous\\u003cbr\\u003ex=%{x}\\u003cextra\\u003e\\u003c\\u002fextra\\u003e\",\"legendgroup\":\"Thomas, Mr. Tannous\",\"marker\":{\"color\":\"#00cc96\"},\"name\":\"Thomas, Mr. Tannous\",\"notched\":false,\"offsetgroup\":\"Thomas, Mr. Tannous\",\"orientation\":\"h\",\"showlegend\":true,\"x\":[30.272590361445783],\"x0\":\" \",\"xaxis\":\"x\",\"y0\":\" \",\"yaxis\":\"y\",\"type\":\"box\"},{\"alignmentgroup\":\"True\",\"hovertemplate\":\"color=Nakid, Mrs. Said (Waika Mary\\\" Mowad)\\\"\\u003cbr\\u003ex=%{x}\\u003cextra\\u003e\\u003c\\u002fextra\\u003e\",\"legendgroup\":\"Nakid, Mrs. Said (Waika Mary\\\" Mowad)\\\"\",\"marker\":{\"color\":\"#ab63fa\"},\"name\":\"Nakid, Mrs. Said (Waika Mary\\\" Mowad)\\\"\",\"notched\":false,\"offsetgroup\":\"Nakid, Mrs. Said (Waika Mary\\\" Mowad)\\\"\",\"orientation\":\"h\",\"showlegend\":true,\"x\":[19.0],\"x0\":\" \",\"xaxis\":\"x\",\"y0\":\" \",\"yaxis\":\"y\",\"type\":\"box\"},{\"alignmentgroup\":\"True\",\"hovertemplate\":\"color=Cor, Mr. Ivan\\u003cbr\\u003ex=%{x}\\u003cextra\\u003e\\u003c\\u002fextra\\u003e\",\"legendgroup\":\"Cor, Mr. Ivan\",\"marker\":{\"color\":\"#FFA15A\"},\"name\":\"Cor, Mr. Ivan\",\"notched\":false,\"offsetgroup\":\"Cor, Mr. Ivan\",\"orientation\":\"h\",\"showlegend\":true,\"x\":[27.0],\"x0\":\" \",\"xaxis\":\"x\",\"y0\":\" \",\"yaxis\":\"y\",\"type\":\"box\"},{\"alignmentgroup\":\"True\",\"hovertemplate\":\"color=Maguire, Mr. John Edward\\u003cbr\\u003ex=%{x}\\u003cextra\\u003e\\u003c\\u002fextra\\u003e\",\"legendgroup\":\"Maguire, Mr. John Edward\",\"marker\":{\"color\":\"#19d3f3\"},\"name\":\"Maguire, Mr. John Edward\",\"notched\":false,\"offsetgroup\":\"Maguire, Mr. John Edward\",\"orientation\":\"h\",\"showlegend\":true,\"x\":[30.0],\"x0\":\" \",\"xaxis\":\"x\",\"y0\":\" \",\"yaxis\":\"y\",\"type\":\"box\"},{\"alignmentgroup\":\"True\",\"hovertemplate\":\"color=de Brito, Mr. Jose Joaquim\\u003cbr\\u003ex=%{x}\\u003cextra\\u003e\\u003c\\u002fextra\\u003e\",\"legendgroup\":\"de Brito, Mr. Jose Joaquim\",\"marker\":{\"color\":\"#FF6692\"},\"name\":\"de Brito, Mr. Jose Joaquim\",\"notched\":false,\"offsetgroup\":\"de Brito, Mr. Jose Joaquim\",\"orientation\":\"h\",\"showlegend\":true,\"x\":[32.0],\"x0\":\" \",\"xaxis\":\"x\",\"y0\":\" \",\"yaxis\":\"y\",\"type\":\"box\"},{\"alignmentgroup\":\"True\",\"hovertemplate\":\"color=Elias, Mr. Joseph\\u003cbr\\u003ex=%{x}\\u003cextra\\u003e\\u003c\\u002fextra\\u003e\",\"legendgroup\":\"Elias, Mr. Joseph\",\"marker\":{\"color\":\"#B6E880\"},\"name\":\"Elias, Mr. Joseph\",\"notched\":false,\"offsetgroup\":\"Elias, Mr. Joseph\",\"orientation\":\"h\",\"showlegend\":true,\"x\":[39.0],\"x0\":\" \",\"xaxis\":\"x\",\"y0\":\" \",\"yaxis\":\"y\",\"type\":\"box\"},{\"alignmentgroup\":\"True\",\"hovertemplate\":\"color=Denbury, Mr. Herbert\\u003cbr\\u003ex=%{x}\\u003cextra\\u003e\\u003c\\u002fextra\\u003e\",\"legendgroup\":\"Denbury, Mr. Herbert\",\"marker\":{\"color\":\"#FF97FF\"},\"name\":\"Denbury, Mr. Herbert\",\"notched\":false,\"offsetgroup\":\"Denbury, Mr. Herbert\",\"orientation\":\"h\",\"showlegend\":true,\"x\":[25.0],\"x0\":\" \",\"xaxis\":\"x\",\"y0\":\" \",\"yaxis\":\"y\",\"type\":\"box\"},{\"alignmentgroup\":\"True\",\"hovertemplate\":\"color=Betros, Master. Seman\\u003cbr\\u003ex=%{x}\\u003cextra\\u003e\\u003c\\u002fextra\\u003e\",\"legendgroup\":\"Betros, Master. Seman\",\"marker\":{\"color\":\"#FECB52\"},\"name\":\"Betros, Master. Seman\",\"notched\":false,\"offsetgroup\":\"Betros, Master. Seman\",\"orientation\":\"h\",\"showlegend\":true,\"x\":[30.272590361445783],\"x0\":\" \",\"xaxis\":\"x\",\"y0\":\" \",\"yaxis\":\"y\",\"type\":\"box\"},{\"alignmentgroup\":\"True\",\"hovertemplate\":\"color=Fillbrook, Mr. Joseph Charles\\u003cbr\\u003ex=%{x}\\u003cextra\\u003e\\u003c\\u002fextra\\u003e\",\"legendgroup\":\"Fillbrook, Mr. Joseph Charles\",\"marker\":{\"color\":\"#636efa\"},\"name\":\"Fillbrook, Mr. Joseph Charles\",\"notched\":false,\"offsetgroup\":\"Fillbrook, Mr. Joseph Charles\",\"orientation\":\"h\",\"showlegend\":true,\"x\":[18.0],\"x0\":\" \",\"xaxis\":\"x\",\"y0\":\" \",\"yaxis\":\"y\",\"type\":\"box\"},{\"alignmentgroup\":\"True\",\"hovertemplate\":\"color=Lundstrom, Mr. Thure Edvin\\u003cbr\\u003ex=%{x}\\u003cextra\\u003e\\u003c\\u002fextra\\u003e\",\"legendgroup\":\"Lundstrom, Mr. Thure Edvin\",\"marker\":{\"color\":\"#EF553B\"},\"name\":\"Lundstrom, Mr. Thure Edvin\",\"notched\":false,\"offsetgroup\":\"Lundstrom, Mr. Thure Edvin\",\"orientation\":\"h\",\"showlegend\":true,\"x\":[32.0],\"x0\":\" \",\"xaxis\":\"x\",\"y0\":\" \",\"yaxis\":\"y\",\"type\":\"box\"},{\"alignmentgroup\":\"True\",\"hovertemplate\":\"color=Sage, Mr. John George\\u003cbr\\u003ex=%{x}\\u003cextra\\u003e\\u003c\\u002fextra\\u003e\",\"legendgroup\":\"Sage, Mr. John George\",\"marker\":{\"color\":\"#00cc96\"},\"name\":\"Sage, Mr. John George\",\"notched\":false,\"offsetgroup\":\"Sage, Mr. John George\",\"orientation\":\"h\",\"showlegend\":true,\"x\":[30.272590361445783],\"x0\":\" \",\"xaxis\":\"x\",\"y0\":\" \",\"yaxis\":\"y\",\"type\":\"box\"},{\"alignmentgroup\":\"True\",\"hovertemplate\":\"color=Cardeza, Mrs. James Warburton Martinez (Charlotte Wardle Drake)\\u003cbr\\u003ex=%{x}\\u003cextra\\u003e\\u003c\\u002fextra\\u003e\",\"legendgroup\":\"Cardeza, Mrs. James Warburton Martinez (Charlotte Wardle Drake)\",\"marker\":{\"color\":\"#ab63fa\"},\"name\":\"Cardeza, Mrs. James Warburton Martinez (Charlotte Wardle Drake)\",\"notched\":false,\"offsetgroup\":\"Cardeza, Mrs. James Warburton Martinez (Charlotte Wardle Drake)\",\"orientation\":\"h\",\"showlegend\":true,\"x\":[58.0],\"x0\":\" \",\"xaxis\":\"x\",\"y0\":\" \",\"yaxis\":\"y\",\"type\":\"box\"},{\"alignmentgroup\":\"True\",\"hovertemplate\":\"color=van Billiard, Master. James William\\u003cbr\\u003ex=%{x}\\u003cextra\\u003e\\u003c\\u002fextra\\u003e\",\"legendgroup\":\"van Billiard, Master. James William\",\"marker\":{\"color\":\"#FFA15A\"},\"name\":\"van Billiard, Master. James William\",\"notched\":false,\"offsetgroup\":\"van Billiard, Master. James William\",\"orientation\":\"h\",\"showlegend\":true,\"x\":[30.272590361445783],\"x0\":\" \",\"xaxis\":\"x\",\"y0\":\" \",\"yaxis\":\"y\",\"type\":\"box\"},{\"alignmentgroup\":\"True\",\"hovertemplate\":\"color=Abelseth, Miss. Karen Marie\\u003cbr\\u003ex=%{x}\\u003cextra\\u003e\\u003c\\u002fextra\\u003e\",\"legendgroup\":\"Abelseth, Miss. Karen Marie\",\"marker\":{\"color\":\"#19d3f3\"},\"name\":\"Abelseth, Miss. Karen Marie\",\"notched\":false,\"offsetgroup\":\"Abelseth, Miss. Karen Marie\",\"orientation\":\"h\",\"showlegend\":true,\"x\":[16.0],\"x0\":\" \",\"xaxis\":\"x\",\"y0\":\" \",\"yaxis\":\"y\",\"type\":\"box\"},{\"alignmentgroup\":\"True\",\"hovertemplate\":\"color=Botsford, Mr. William Hull\\u003cbr\\u003ex=%{x}\\u003cextra\\u003e\\u003c\\u002fextra\\u003e\",\"legendgroup\":\"Botsford, Mr. William Hull\",\"marker\":{\"color\":\"#FF6692\"},\"name\":\"Botsford, Mr. William Hull\",\"notched\":false,\"offsetgroup\":\"Botsford, Mr. William Hull\",\"orientation\":\"h\",\"showlegend\":true,\"x\":[26.0],\"x0\":\" \",\"xaxis\":\"x\",\"y0\":\" \",\"yaxis\":\"y\",\"type\":\"box\"},{\"alignmentgroup\":\"True\",\"hovertemplate\":\"color=Whabee, Mrs. George Joseph (Shawneene Abi-Saab)\\u003cbr\\u003ex=%{x}\\u003cextra\\u003e\\u003c\\u002fextra\\u003e\",\"legendgroup\":\"Whabee, Mrs. George Joseph (Shawneene Abi-Saab)\",\"marker\":{\"color\":\"#B6E880\"},\"name\":\"Whabee, Mrs. George Joseph (Shawneene Abi-Saab)\",\"notched\":false,\"offsetgroup\":\"Whabee, Mrs. George Joseph (Shawneene Abi-Saab)\",\"orientation\":\"h\",\"showlegend\":true,\"x\":[38.0],\"x0\":\" \",\"xaxis\":\"x\",\"y0\":\" \",\"yaxis\":\"y\",\"type\":\"box\"},{\"alignmentgroup\":\"True\",\"hovertemplate\":\"color=Giles, Mr. Ralph\\u003cbr\\u003ex=%{x}\\u003cextra\\u003e\\u003c\\u002fextra\\u003e\",\"legendgroup\":\"Giles, Mr. Ralph\",\"marker\":{\"color\":\"#FF97FF\"},\"name\":\"Giles, Mr. Ralph\",\"notched\":false,\"offsetgroup\":\"Giles, Mr. Ralph\",\"orientation\":\"h\",\"showlegend\":true,\"x\":[24.0],\"x0\":\" \",\"xaxis\":\"x\",\"y0\":\" \",\"yaxis\":\"y\",\"type\":\"box\"},{\"alignmentgroup\":\"True\",\"hovertemplate\":\"color=Walcroft, Miss. Nellie\\u003cbr\\u003ex=%{x}\\u003cextra\\u003e\\u003c\\u002fextra\\u003e\",\"legendgroup\":\"Walcroft, Miss. Nellie\",\"marker\":{\"color\":\"#FECB52\"},\"name\":\"Walcroft, Miss. Nellie\",\"notched\":false,\"offsetgroup\":\"Walcroft, Miss. Nellie\",\"orientation\":\"h\",\"showlegend\":true,\"x\":[31.0],\"x0\":\" \",\"xaxis\":\"x\",\"y0\":\" \",\"yaxis\":\"y\",\"type\":\"box\"},{\"alignmentgroup\":\"True\",\"hovertemplate\":\"color=Greenfield, Mrs. Leo David (Blanche Strouse)\\u003cbr\\u003ex=%{x}\\u003cextra\\u003e\\u003c\\u002fextra\\u003e\",\"legendgroup\":\"Greenfield, Mrs. Leo David (Blanche Strouse)\",\"marker\":{\"color\":\"#636efa\"},\"name\":\"Greenfield, Mrs. Leo David (Blanche Strouse)\",\"notched\":false,\"offsetgroup\":\"Greenfield, Mrs. Leo David (Blanche Strouse)\",\"orientation\":\"h\",\"showlegend\":true,\"x\":[45.0],\"x0\":\" \",\"xaxis\":\"x\",\"y0\":\" \",\"yaxis\":\"y\",\"type\":\"box\"},{\"alignmentgroup\":\"True\",\"hovertemplate\":\"color=Stokes, Mr. Philip Joseph\\u003cbr\\u003ex=%{x}\\u003cextra\\u003e\\u003c\\u002fextra\\u003e\",\"legendgroup\":\"Stokes, Mr. Philip Joseph\",\"marker\":{\"color\":\"#EF553B\"},\"name\":\"Stokes, Mr. Philip Joseph\",\"notched\":false,\"offsetgroup\":\"Stokes, Mr. Philip Joseph\",\"orientation\":\"h\",\"showlegend\":true,\"x\":[25.0],\"x0\":\" \",\"xaxis\":\"x\",\"y0\":\" \",\"yaxis\":\"y\",\"type\":\"box\"},{\"alignmentgroup\":\"True\",\"hovertemplate\":\"color=Dibden, Mr. William\\u003cbr\\u003ex=%{x}\\u003cextra\\u003e\\u003c\\u002fextra\\u003e\",\"legendgroup\":\"Dibden, Mr. William\",\"marker\":{\"color\":\"#00cc96\"},\"name\":\"Dibden, Mr. William\",\"notched\":false,\"offsetgroup\":\"Dibden, Mr. William\",\"orientation\":\"h\",\"showlegend\":true,\"x\":[18.0],\"x0\":\" \",\"xaxis\":\"x\",\"y0\":\" \",\"yaxis\":\"y\",\"type\":\"box\"},{\"alignmentgroup\":\"True\",\"hovertemplate\":\"color=Herman, Mr. Samuel\\u003cbr\\u003ex=%{x}\\u003cextra\\u003e\\u003c\\u002fextra\\u003e\",\"legendgroup\":\"Herman, Mr. Samuel\",\"marker\":{\"color\":\"#ab63fa\"},\"name\":\"Herman, Mr. Samuel\",\"notched\":false,\"offsetgroup\":\"Herman, Mr. Samuel\",\"orientation\":\"h\",\"showlegend\":true,\"x\":[49.0],\"x0\":\" \",\"xaxis\":\"x\",\"y0\":\" \",\"yaxis\":\"y\",\"type\":\"box\"},{\"alignmentgroup\":\"True\",\"hovertemplate\":\"color=Dean, Miss. Elizabeth Gladys Millvina\\\"\\\"\\u003cbr\\u003ex=%{x}\\u003cextra\\u003e\\u003c\\u002fextra\\u003e\",\"legendgroup\":\"Dean, Miss. Elizabeth Gladys Millvina\\\"\\\"\",\"marker\":{\"color\":\"#FFA15A\"},\"name\":\"Dean, Miss. Elizabeth Gladys Millvina\\\"\\\"\",\"notched\":false,\"offsetgroup\":\"Dean, Miss. Elizabeth Gladys Millvina\\\"\\\"\",\"orientation\":\"h\",\"showlegend\":true,\"x\":[0.17],\"x0\":\" \",\"xaxis\":\"x\",\"y0\":\" \",\"yaxis\":\"y\",\"type\":\"box\"},{\"alignmentgroup\":\"True\",\"hovertemplate\":\"color=Julian, Mr. Henry Forbes\\u003cbr\\u003ex=%{x}\\u003cextra\\u003e\\u003c\\u002fextra\\u003e\",\"legendgroup\":\"Julian, Mr. Henry Forbes\",\"marker\":{\"color\":\"#19d3f3\"},\"name\":\"Julian, Mr. Henry Forbes\",\"notched\":false,\"offsetgroup\":\"Julian, Mr. Henry Forbes\",\"orientation\":\"h\",\"showlegend\":true,\"x\":[50.0],\"x0\":\" \",\"xaxis\":\"x\",\"y0\":\" \",\"yaxis\":\"y\",\"type\":\"box\"},{\"alignmentgroup\":\"True\",\"hovertemplate\":\"color=Brown, Mrs. John Murray (Caroline Lane Lamson)\\u003cbr\\u003ex=%{x}\\u003cextra\\u003e\\u003c\\u002fextra\\u003e\",\"legendgroup\":\"Brown, Mrs. John Murray (Caroline Lane Lamson)\",\"marker\":{\"color\":\"#FF6692\"},\"name\":\"Brown, Mrs. John Murray (Caroline Lane Lamson)\",\"notched\":false,\"offsetgroup\":\"Brown, Mrs. John Murray (Caroline Lane Lamson)\",\"orientation\":\"h\",\"showlegend\":true,\"x\":[59.0],\"x0\":\" \",\"xaxis\":\"x\",\"y0\":\" \",\"yaxis\":\"y\",\"type\":\"box\"},{\"alignmentgroup\":\"True\",\"hovertemplate\":\"color=Lockyer, Mr. Edward\\u003cbr\\u003ex=%{x}\\u003cextra\\u003e\\u003c\\u002fextra\\u003e\",\"legendgroup\":\"Lockyer, Mr. Edward\",\"marker\":{\"color\":\"#B6E880\"},\"name\":\"Lockyer, Mr. Edward\",\"notched\":false,\"offsetgroup\":\"Lockyer, Mr. Edward\",\"orientation\":\"h\",\"showlegend\":true,\"x\":[30.272590361445783],\"x0\":\" \",\"xaxis\":\"x\",\"y0\":\" \",\"yaxis\":\"y\",\"type\":\"box\"},{\"alignmentgroup\":\"True\",\"hovertemplate\":\"color=O'Keefe, Mr. Patrick\\u003cbr\\u003ex=%{x}\\u003cextra\\u003e\\u003c\\u002fextra\\u003e\",\"legendgroup\":\"O'Keefe, Mr. Patrick\",\"marker\":{\"color\":\"#FF97FF\"},\"name\":\"O'Keefe, Mr. Patrick\",\"notched\":false,\"offsetgroup\":\"O'Keefe, Mr. Patrick\",\"orientation\":\"h\",\"showlegend\":true,\"x\":[30.272590361445783],\"x0\":\" \",\"xaxis\":\"x\",\"y0\":\" \",\"yaxis\":\"y\",\"type\":\"box\"},{\"alignmentgroup\":\"True\",\"hovertemplate\":\"color=Lindell, Mrs. Edvard Bengtsson (Elin Gerda Persson)\\u003cbr\\u003ex=%{x}\\u003cextra\\u003e\\u003c\\u002fextra\\u003e\",\"legendgroup\":\"Lindell, Mrs. Edvard Bengtsson (Elin Gerda Persson)\",\"marker\":{\"color\":\"#FECB52\"},\"name\":\"Lindell, Mrs. Edvard Bengtsson (Elin Gerda Persson)\",\"notched\":false,\"offsetgroup\":\"Lindell, Mrs. Edvard Bengtsson (Elin Gerda Persson)\",\"orientation\":\"h\",\"showlegend\":true,\"x\":[30.0],\"x0\":\" \",\"xaxis\":\"x\",\"y0\":\" \",\"yaxis\":\"y\",\"type\":\"box\"},{\"alignmentgroup\":\"True\",\"hovertemplate\":\"color=Sage, Master. William Henry\\u003cbr\\u003ex=%{x}\\u003cextra\\u003e\\u003c\\u002fextra\\u003e\",\"legendgroup\":\"Sage, Master. William Henry\",\"marker\":{\"color\":\"#636efa\"},\"name\":\"Sage, Master. William Henry\",\"notched\":false,\"offsetgroup\":\"Sage, Master. William Henry\",\"orientation\":\"h\",\"showlegend\":true,\"x\":[14.5],\"x0\":\" \",\"xaxis\":\"x\",\"y0\":\" \",\"yaxis\":\"y\",\"type\":\"box\"},{\"alignmentgroup\":\"True\",\"hovertemplate\":\"color=Mallet, Mrs. Albert (Antoinette Magnin)\\u003cbr\\u003ex=%{x}\\u003cextra\\u003e\\u003c\\u002fextra\\u003e\",\"legendgroup\":\"Mallet, Mrs. Albert (Antoinette Magnin)\",\"marker\":{\"color\":\"#EF553B\"},\"name\":\"Mallet, Mrs. Albert (Antoinette Magnin)\",\"notched\":false,\"offsetgroup\":\"Mallet, Mrs. Albert (Antoinette Magnin)\",\"orientation\":\"h\",\"showlegend\":true,\"x\":[24.0],\"x0\":\" \",\"xaxis\":\"x\",\"y0\":\" \",\"yaxis\":\"y\",\"type\":\"box\"},{\"alignmentgroup\":\"True\",\"hovertemplate\":\"color=Ware, Mrs. John James (Florence Louise Long)\\u003cbr\\u003ex=%{x}\\u003cextra\\u003e\\u003c\\u002fextra\\u003e\",\"legendgroup\":\"Ware, Mrs. John James (Florence Louise Long)\",\"marker\":{\"color\":\"#00cc96\"},\"name\":\"Ware, Mrs. John James (Florence Louise Long)\",\"notched\":false,\"offsetgroup\":\"Ware, Mrs. John James (Florence Louise Long)\",\"orientation\":\"h\",\"showlegend\":true,\"x\":[31.0],\"x0\":\" \",\"xaxis\":\"x\",\"y0\":\" \",\"yaxis\":\"y\",\"type\":\"box\"},{\"alignmentgroup\":\"True\",\"hovertemplate\":\"color=Strilic, Mr. Ivan\\u003cbr\\u003ex=%{x}\\u003cextra\\u003e\\u003c\\u002fextra\\u003e\",\"legendgroup\":\"Strilic, Mr. Ivan\",\"marker\":{\"color\":\"#ab63fa\"},\"name\":\"Strilic, Mr. Ivan\",\"notched\":false,\"offsetgroup\":\"Strilic, Mr. Ivan\",\"orientation\":\"h\",\"showlegend\":true,\"x\":[27.0],\"x0\":\" \",\"xaxis\":\"x\",\"y0\":\" \",\"yaxis\":\"y\",\"type\":\"box\"},{\"alignmentgroup\":\"True\",\"hovertemplate\":\"color=Harder, Mrs. George Achilles (Dorothy Annan)\\u003cbr\\u003ex=%{x}\\u003cextra\\u003e\\u003c\\u002fextra\\u003e\",\"legendgroup\":\"Harder, Mrs. George Achilles (Dorothy Annan)\",\"marker\":{\"color\":\"#FFA15A\"},\"name\":\"Harder, Mrs. George Achilles (Dorothy Annan)\",\"notched\":false,\"offsetgroup\":\"Harder, Mrs. George Achilles (Dorothy Annan)\",\"orientation\":\"h\",\"showlegend\":true,\"x\":[25.0],\"x0\":\" \",\"xaxis\":\"x\",\"y0\":\" \",\"yaxis\":\"y\",\"type\":\"box\"},{\"alignmentgroup\":\"True\",\"hovertemplate\":\"color=Sage, Mrs. John (Annie Bullen)\\u003cbr\\u003ex=%{x}\\u003cextra\\u003e\\u003c\\u002fextra\\u003e\",\"legendgroup\":\"Sage, Mrs. John (Annie Bullen)\",\"marker\":{\"color\":\"#19d3f3\"},\"name\":\"Sage, Mrs. John (Annie Bullen)\",\"notched\":false,\"offsetgroup\":\"Sage, Mrs. John (Annie Bullen)\",\"orientation\":\"h\",\"showlegend\":true,\"x\":[30.272590361445783],\"x0\":\" \",\"xaxis\":\"x\",\"y0\":\" \",\"yaxis\":\"y\",\"type\":\"box\"},{\"alignmentgroup\":\"True\",\"hovertemplate\":\"color=Caram, Mr. Joseph\\u003cbr\\u003ex=%{x}\\u003cextra\\u003e\\u003c\\u002fextra\\u003e\",\"legendgroup\":\"Caram, Mr. Joseph\",\"marker\":{\"color\":\"#FF6692\"},\"name\":\"Caram, Mr. Joseph\",\"notched\":false,\"offsetgroup\":\"Caram, Mr. Joseph\",\"orientation\":\"h\",\"showlegend\":true,\"x\":[30.272590361445783],\"x0\":\" \",\"xaxis\":\"x\",\"y0\":\" \",\"yaxis\":\"y\",\"type\":\"box\"},{\"alignmentgroup\":\"True\",\"hovertemplate\":\"color=Riihivouri, Miss. Susanna Juhantytar Sanni\\\"\\\"\\u003cbr\\u003ex=%{x}\\u003cextra\\u003e\\u003c\\u002fextra\\u003e\",\"legendgroup\":\"Riihivouri, Miss. Susanna Juhantytar Sanni\\\"\\\"\",\"marker\":{\"color\":\"#B6E880\"},\"name\":\"Riihivouri, Miss. Susanna Juhantytar Sanni\\\"\\\"\",\"notched\":false,\"offsetgroup\":\"Riihivouri, Miss. Susanna Juhantytar Sanni\\\"\\\"\",\"orientation\":\"h\",\"showlegend\":true,\"x\":[22.0],\"x0\":\" \",\"xaxis\":\"x\",\"y0\":\" \",\"yaxis\":\"y\",\"type\":\"box\"},{\"alignmentgroup\":\"True\",\"hovertemplate\":\"color=Gibson, Mrs. Leonard (Pauline C Boeson)\\u003cbr\\u003ex=%{x}\\u003cextra\\u003e\\u003c\\u002fextra\\u003e\",\"legendgroup\":\"Gibson, Mrs. Leonard (Pauline C Boeson)\",\"marker\":{\"color\":\"#FF97FF\"},\"name\":\"Gibson, Mrs. Leonard (Pauline C Boeson)\",\"notched\":false,\"offsetgroup\":\"Gibson, Mrs. Leonard (Pauline C Boeson)\",\"orientation\":\"h\",\"showlegend\":true,\"x\":[45.0],\"x0\":\" \",\"xaxis\":\"x\",\"y0\":\" \",\"yaxis\":\"y\",\"type\":\"box\"},{\"alignmentgroup\":\"True\",\"hovertemplate\":\"color=Pallas y Castello, Mr. Emilio\\u003cbr\\u003ex=%{x}\\u003cextra\\u003e\\u003c\\u002fextra\\u003e\",\"legendgroup\":\"Pallas y Castello, Mr. Emilio\",\"marker\":{\"color\":\"#FECB52\"},\"name\":\"Pallas y Castello, Mr. Emilio\",\"notched\":false,\"offsetgroup\":\"Pallas y Castello, Mr. Emilio\",\"orientation\":\"h\",\"showlegend\":true,\"x\":[29.0],\"x0\":\" \",\"xaxis\":\"x\",\"y0\":\" \",\"yaxis\":\"y\",\"type\":\"box\"},{\"alignmentgroup\":\"True\",\"hovertemplate\":\"color=Giles, Mr. Edgar\\u003cbr\\u003ex=%{x}\\u003cextra\\u003e\\u003c\\u002fextra\\u003e\",\"legendgroup\":\"Giles, Mr. Edgar\",\"marker\":{\"color\":\"#636efa\"},\"name\":\"Giles, Mr. Edgar\",\"notched\":false,\"offsetgroup\":\"Giles, Mr. Edgar\",\"orientation\":\"h\",\"showlegend\":true,\"x\":[21.0],\"x0\":\" \",\"xaxis\":\"x\",\"y0\":\" \",\"yaxis\":\"y\",\"type\":\"box\"},{\"alignmentgroup\":\"True\",\"hovertemplate\":\"color=Wilson, Miss. Helen Alice\\u003cbr\\u003ex=%{x}\\u003cextra\\u003e\\u003c\\u002fextra\\u003e\",\"legendgroup\":\"Wilson, Miss. Helen Alice\",\"marker\":{\"color\":\"#EF553B\"},\"name\":\"Wilson, Miss. Helen Alice\",\"notched\":false,\"offsetgroup\":\"Wilson, Miss. Helen Alice\",\"orientation\":\"h\",\"showlegend\":true,\"x\":[31.0],\"x0\":\" \",\"xaxis\":\"x\",\"y0\":\" \",\"yaxis\":\"y\",\"type\":\"box\"},{\"alignmentgroup\":\"True\",\"hovertemplate\":\"color=Ismay, Mr. Joseph Bruce\\u003cbr\\u003ex=%{x}\\u003cextra\\u003e\\u003c\\u002fextra\\u003e\",\"legendgroup\":\"Ismay, Mr. Joseph Bruce\",\"marker\":{\"color\":\"#00cc96\"},\"name\":\"Ismay, Mr. Joseph Bruce\",\"notched\":false,\"offsetgroup\":\"Ismay, Mr. Joseph Bruce\",\"orientation\":\"h\",\"showlegend\":true,\"x\":[49.0],\"x0\":\" \",\"xaxis\":\"x\",\"y0\":\" \",\"yaxis\":\"y\",\"type\":\"box\"},{\"alignmentgroup\":\"True\",\"hovertemplate\":\"color=Harbeck, Mr. William H\\u003cbr\\u003ex=%{x}\\u003cextra\\u003e\\u003c\\u002fextra\\u003e\",\"legendgroup\":\"Harbeck, Mr. William H\",\"marker\":{\"color\":\"#ab63fa\"},\"name\":\"Harbeck, Mr. William H\",\"notched\":false,\"offsetgroup\":\"Harbeck, Mr. William H\",\"orientation\":\"h\",\"showlegend\":true,\"x\":[44.0],\"x0\":\" \",\"xaxis\":\"x\",\"y0\":\" \",\"yaxis\":\"y\",\"type\":\"box\"},{\"alignmentgroup\":\"True\",\"hovertemplate\":\"color=Dodge, Mrs. Washington (Ruth Vidaver)\\u003cbr\\u003ex=%{x}\\u003cextra\\u003e\\u003c\\u002fextra\\u003e\",\"legendgroup\":\"Dodge, Mrs. Washington (Ruth Vidaver)\",\"marker\":{\"color\":\"#FFA15A\"},\"name\":\"Dodge, Mrs. Washington (Ruth Vidaver)\",\"notched\":false,\"offsetgroup\":\"Dodge, Mrs. Washington (Ruth Vidaver)\",\"orientation\":\"h\",\"showlegend\":true,\"x\":[54.0],\"x0\":\" \",\"xaxis\":\"x\",\"y0\":\" \",\"yaxis\":\"y\",\"type\":\"box\"},{\"alignmentgroup\":\"True\",\"hovertemplate\":\"color=Bowen, Miss. Grace Scott\\u003cbr\\u003ex=%{x}\\u003cextra\\u003e\\u003c\\u002fextra\\u003e\",\"legendgroup\":\"Bowen, Miss. Grace Scott\",\"marker\":{\"color\":\"#19d3f3\"},\"name\":\"Bowen, Miss. Grace Scott\",\"notched\":false,\"offsetgroup\":\"Bowen, Miss. Grace Scott\",\"orientation\":\"h\",\"showlegend\":true,\"x\":[45.0],\"x0\":\" \",\"xaxis\":\"x\",\"y0\":\" \",\"yaxis\":\"y\",\"type\":\"box\"},{\"alignmentgroup\":\"True\",\"hovertemplate\":\"color=Kink, Miss. Maria\\u003cbr\\u003ex=%{x}\\u003cextra\\u003e\\u003c\\u002fextra\\u003e\",\"legendgroup\":\"Kink, Miss. Maria\",\"marker\":{\"color\":\"#FF6692\"},\"name\":\"Kink, Miss. Maria\",\"notched\":false,\"offsetgroup\":\"Kink, Miss. Maria\",\"orientation\":\"h\",\"showlegend\":true,\"x\":[22.0],\"x0\":\" \",\"xaxis\":\"x\",\"y0\":\" \",\"yaxis\":\"y\",\"type\":\"box\"},{\"alignmentgroup\":\"True\",\"hovertemplate\":\"color=Cotterill, Mr. Henry Harry\\\"\\\"\\u003cbr\\u003ex=%{x}\\u003cextra\\u003e\\u003c\\u002fextra\\u003e\",\"legendgroup\":\"Cotterill, Mr. Henry Harry\\\"\\\"\",\"marker\":{\"color\":\"#B6E880\"},\"name\":\"Cotterill, Mr. Henry Harry\\\"\\\"\",\"notched\":false,\"offsetgroup\":\"Cotterill, Mr. Henry Harry\\\"\\\"\",\"orientation\":\"h\",\"showlegend\":true,\"x\":[21.0],\"x0\":\" \",\"xaxis\":\"x\",\"y0\":\" \",\"yaxis\":\"y\",\"type\":\"box\"},{\"alignmentgroup\":\"True\",\"hovertemplate\":\"color=Hipkins, Mr. William Edward\\u003cbr\\u003ex=%{x}\\u003cextra\\u003e\\u003c\\u002fextra\\u003e\",\"legendgroup\":\"Hipkins, Mr. William Edward\",\"marker\":{\"color\":\"#FF97FF\"},\"name\":\"Hipkins, Mr. William Edward\",\"notched\":false,\"offsetgroup\":\"Hipkins, Mr. William Edward\",\"orientation\":\"h\",\"showlegend\":true,\"x\":[55.0],\"x0\":\" \",\"xaxis\":\"x\",\"y0\":\" \",\"yaxis\":\"y\",\"type\":\"box\"},{\"alignmentgroup\":\"True\",\"hovertemplate\":\"color=Asplund, Master. Carl Edgar\\u003cbr\\u003ex=%{x}\\u003cextra\\u003e\\u003c\\u002fextra\\u003e\",\"legendgroup\":\"Asplund, Master. Carl Edgar\",\"marker\":{\"color\":\"#FECB52\"},\"name\":\"Asplund, Master. Carl Edgar\",\"notched\":false,\"offsetgroup\":\"Asplund, Master. Carl Edgar\",\"orientation\":\"h\",\"showlegend\":true,\"x\":[5.0],\"x0\":\" \",\"xaxis\":\"x\",\"y0\":\" \",\"yaxis\":\"y\",\"type\":\"box\"},{\"alignmentgroup\":\"True\",\"hovertemplate\":\"color=O'Connor, Mr. Patrick\\u003cbr\\u003ex=%{x}\\u003cextra\\u003e\\u003c\\u002fextra\\u003e\",\"legendgroup\":\"O'Connor, Mr. Patrick\",\"marker\":{\"color\":\"#636efa\"},\"name\":\"O'Connor, Mr. Patrick\",\"notched\":false,\"offsetgroup\":\"O'Connor, Mr. Patrick\",\"orientation\":\"h\",\"showlegend\":true,\"x\":[30.272590361445783],\"x0\":\" \",\"xaxis\":\"x\",\"y0\":\" \",\"yaxis\":\"y\",\"type\":\"box\"},{\"alignmentgroup\":\"True\",\"hovertemplate\":\"color=Foley, Mr. Joseph\\u003cbr\\u003ex=%{x}\\u003cextra\\u003e\\u003c\\u002fextra\\u003e\",\"legendgroup\":\"Foley, Mr. Joseph\",\"marker\":{\"color\":\"#EF553B\"},\"name\":\"Foley, Mr. Joseph\",\"notched\":false,\"offsetgroup\":\"Foley, Mr. Joseph\",\"orientation\":\"h\",\"showlegend\":true,\"x\":[26.0],\"x0\":\" \",\"xaxis\":\"x\",\"y0\":\" \",\"yaxis\":\"y\",\"type\":\"box\"},{\"alignmentgroup\":\"True\",\"hovertemplate\":\"color=Risien, Mrs. Samuel (Emma)\\u003cbr\\u003ex=%{x}\\u003cextra\\u003e\\u003c\\u002fextra\\u003e\",\"legendgroup\":\"Risien, Mrs. Samuel (Emma)\",\"marker\":{\"color\":\"#00cc96\"},\"name\":\"Risien, Mrs. Samuel (Emma)\",\"notched\":false,\"offsetgroup\":\"Risien, Mrs. Samuel (Emma)\",\"orientation\":\"h\",\"showlegend\":true,\"x\":[30.272590361445783],\"x0\":\" \",\"xaxis\":\"x\",\"y0\":\" \",\"yaxis\":\"y\",\"type\":\"box\"},{\"alignmentgroup\":\"True\",\"hovertemplate\":\"color=McNamee, Mrs. Neal (Eileen O'Leary)\\u003cbr\\u003ex=%{x}\\u003cextra\\u003e\\u003c\\u002fextra\\u003e\",\"legendgroup\":\"McNamee, Mrs. Neal (Eileen O'Leary)\",\"marker\":{\"color\":\"#ab63fa\"},\"name\":\"McNamee, Mrs. Neal (Eileen O'Leary)\",\"notched\":false,\"offsetgroup\":\"McNamee, Mrs. Neal (Eileen O'Leary)\",\"orientation\":\"h\",\"showlegend\":true,\"x\":[19.0],\"x0\":\" \",\"xaxis\":\"x\",\"y0\":\" \",\"yaxis\":\"y\",\"type\":\"box\"},{\"alignmentgroup\":\"True\",\"hovertemplate\":\"color=Wheeler, Mr. Edwin Frederick\\\"\\\"\\u003cbr\\u003ex=%{x}\\u003cextra\\u003e\\u003c\\u002fextra\\u003e\",\"legendgroup\":\"Wheeler, Mr. Edwin Frederick\\\"\\\"\",\"marker\":{\"color\":\"#FFA15A\"},\"name\":\"Wheeler, Mr. Edwin Frederick\\\"\\\"\",\"notched\":false,\"offsetgroup\":\"Wheeler, Mr. Edwin Frederick\\\"\\\"\",\"orientation\":\"h\",\"showlegend\":true,\"x\":[30.272590361445783],\"x0\":\" \",\"xaxis\":\"x\",\"y0\":\" \",\"yaxis\":\"y\",\"type\":\"box\"},{\"alignmentgroup\":\"True\",\"hovertemplate\":\"color=Herman, Miss. Kate\\u003cbr\\u003ex=%{x}\\u003cextra\\u003e\\u003c\\u002fextra\\u003e\",\"legendgroup\":\"Herman, Miss. Kate\",\"marker\":{\"color\":\"#19d3f3\"},\"name\":\"Herman, Miss. Kate\",\"notched\":false,\"offsetgroup\":\"Herman, Miss. Kate\",\"orientation\":\"h\",\"showlegend\":true,\"x\":[24.0],\"x0\":\" \",\"xaxis\":\"x\",\"y0\":\" \",\"yaxis\":\"y\",\"type\":\"box\"},{\"alignmentgroup\":\"True\",\"hovertemplate\":\"color=Aronsson, Mr. Ernst Axel Algot\\u003cbr\\u003ex=%{x}\\u003cextra\\u003e\\u003c\\u002fextra\\u003e\",\"legendgroup\":\"Aronsson, Mr. Ernst Axel Algot\",\"marker\":{\"color\":\"#FF6692\"},\"name\":\"Aronsson, Mr. Ernst Axel Algot\",\"notched\":false,\"offsetgroup\":\"Aronsson, Mr. Ernst Axel Algot\",\"orientation\":\"h\",\"showlegend\":true,\"x\":[24.0],\"x0\":\" \",\"xaxis\":\"x\",\"y0\":\" \",\"yaxis\":\"y\",\"type\":\"box\"},{\"alignmentgroup\":\"True\",\"hovertemplate\":\"color=Ashby, Mr. John\\u003cbr\\u003ex=%{x}\\u003cextra\\u003e\\u003c\\u002fextra\\u003e\",\"legendgroup\":\"Ashby, Mr. John\",\"marker\":{\"color\":\"#B6E880\"},\"name\":\"Ashby, Mr. John\",\"notched\":false,\"offsetgroup\":\"Ashby, Mr. John\",\"orientation\":\"h\",\"showlegend\":true,\"x\":[57.0],\"x0\":\" \",\"xaxis\":\"x\",\"y0\":\" \",\"yaxis\":\"y\",\"type\":\"box\"},{\"alignmentgroup\":\"True\",\"hovertemplate\":\"color=Canavan, Mr. Patrick\\u003cbr\\u003ex=%{x}\\u003cextra\\u003e\\u003c\\u002fextra\\u003e\",\"legendgroup\":\"Canavan, Mr. Patrick\",\"marker\":{\"color\":\"#FF97FF\"},\"name\":\"Canavan, Mr. Patrick\",\"notched\":false,\"offsetgroup\":\"Canavan, Mr. Patrick\",\"orientation\":\"h\",\"showlegend\":true,\"x\":[21.0],\"x0\":\" \",\"xaxis\":\"x\",\"y0\":\" \",\"yaxis\":\"y\",\"type\":\"box\"},{\"alignmentgroup\":\"True\",\"hovertemplate\":\"color=Palsson, Master. Paul Folke\\u003cbr\\u003ex=%{x}\\u003cextra\\u003e\\u003c\\u002fextra\\u003e\",\"legendgroup\":\"Palsson, Master. Paul Folke\",\"marker\":{\"color\":\"#FECB52\"},\"name\":\"Palsson, Master. Paul Folke\",\"notched\":false,\"offsetgroup\":\"Palsson, Master. Paul Folke\",\"orientation\":\"h\",\"showlegend\":true,\"x\":[6.0],\"x0\":\" \",\"xaxis\":\"x\",\"y0\":\" \",\"yaxis\":\"y\",\"type\":\"box\"},{\"alignmentgroup\":\"True\",\"hovertemplate\":\"color=Payne, Mr. Vivian Ponsonby\\u003cbr\\u003ex=%{x}\\u003cextra\\u003e\\u003c\\u002fextra\\u003e\",\"legendgroup\":\"Payne, Mr. Vivian Ponsonby\",\"marker\":{\"color\":\"#636efa\"},\"name\":\"Payne, Mr. Vivian Ponsonby\",\"notched\":false,\"offsetgroup\":\"Payne, Mr. Vivian Ponsonby\",\"orientation\":\"h\",\"showlegend\":true,\"x\":[23.0],\"x0\":\" \",\"xaxis\":\"x\",\"y0\":\" \",\"yaxis\":\"y\",\"type\":\"box\"},{\"alignmentgroup\":\"True\",\"hovertemplate\":\"color=Lines, Mrs. Ernest H (Elizabeth Lindsey James)\\u003cbr\\u003ex=%{x}\\u003cextra\\u003e\\u003c\\u002fextra\\u003e\",\"legendgroup\":\"Lines, Mrs. Ernest H (Elizabeth Lindsey James)\",\"marker\":{\"color\":\"#EF553B\"},\"name\":\"Lines, Mrs. Ernest H (Elizabeth Lindsey James)\",\"notched\":false,\"offsetgroup\":\"Lines, Mrs. Ernest H (Elizabeth Lindsey James)\",\"orientation\":\"h\",\"showlegend\":true,\"x\":[51.0],\"x0\":\" \",\"xaxis\":\"x\",\"y0\":\" \",\"yaxis\":\"y\",\"type\":\"box\"},{\"alignmentgroup\":\"True\",\"hovertemplate\":\"color=Abbott, Master. Eugene Joseph\\u003cbr\\u003ex=%{x}\\u003cextra\\u003e\\u003c\\u002fextra\\u003e\",\"legendgroup\":\"Abbott, Master. Eugene Joseph\",\"marker\":{\"color\":\"#00cc96\"},\"name\":\"Abbott, Master. Eugene Joseph\",\"notched\":false,\"offsetgroup\":\"Abbott, Master. Eugene Joseph\",\"orientation\":\"h\",\"showlegend\":true,\"x\":[13.0],\"x0\":\" \",\"xaxis\":\"x\",\"y0\":\" \",\"yaxis\":\"y\",\"type\":\"box\"},{\"alignmentgroup\":\"True\",\"hovertemplate\":\"color=Gilbert, Mr. William\\u003cbr\\u003ex=%{x}\\u003cextra\\u003e\\u003c\\u002fextra\\u003e\",\"legendgroup\":\"Gilbert, Mr. William\",\"marker\":{\"color\":\"#ab63fa\"},\"name\":\"Gilbert, Mr. William\",\"notched\":false,\"offsetgroup\":\"Gilbert, Mr. William\",\"orientation\":\"h\",\"showlegend\":true,\"x\":[47.0],\"x0\":\" \",\"xaxis\":\"x\",\"y0\":\" \",\"yaxis\":\"y\",\"type\":\"box\"},{\"alignmentgroup\":\"True\",\"hovertemplate\":\"color=Kink-Heilmann, Mr. Anton\\u003cbr\\u003ex=%{x}\\u003cextra\\u003e\\u003c\\u002fextra\\u003e\",\"legendgroup\":\"Kink-Heilmann, Mr. Anton\",\"marker\":{\"color\":\"#FFA15A\"},\"name\":\"Kink-Heilmann, Mr. Anton\",\"notched\":false,\"offsetgroup\":\"Kink-Heilmann, Mr. Anton\",\"orientation\":\"h\",\"showlegend\":true,\"x\":[29.0],\"x0\":\" \",\"xaxis\":\"x\",\"y0\":\" \",\"yaxis\":\"y\",\"type\":\"box\"},{\"alignmentgroup\":\"True\",\"hovertemplate\":\"color=Smith, Mrs. Lucien Philip (Mary Eloise Hughes)\\u003cbr\\u003ex=%{x}\\u003cextra\\u003e\\u003c\\u002fextra\\u003e\",\"legendgroup\":\"Smith, Mrs. Lucien Philip (Mary Eloise Hughes)\",\"marker\":{\"color\":\"#19d3f3\"},\"name\":\"Smith, Mrs. Lucien Philip (Mary Eloise Hughes)\",\"notched\":false,\"offsetgroup\":\"Smith, Mrs. Lucien Philip (Mary Eloise Hughes)\",\"orientation\":\"h\",\"showlegend\":true,\"x\":[18.0],\"x0\":\" \",\"xaxis\":\"x\",\"y0\":\" \",\"yaxis\":\"y\",\"type\":\"box\"},{\"alignmentgroup\":\"True\",\"hovertemplate\":\"color=Colbert, Mr. Patrick\\u003cbr\\u003ex=%{x}\\u003cextra\\u003e\\u003c\\u002fextra\\u003e\",\"legendgroup\":\"Colbert, Mr. Patrick\",\"marker\":{\"color\":\"#FF6692\"},\"name\":\"Colbert, Mr. Patrick\",\"notched\":false,\"offsetgroup\":\"Colbert, Mr. Patrick\",\"orientation\":\"h\",\"showlegend\":true,\"x\":[24.0],\"x0\":\" \",\"xaxis\":\"x\",\"y0\":\" \",\"yaxis\":\"y\",\"type\":\"box\"},{\"alignmentgroup\":\"True\",\"hovertemplate\":\"color=Frolicher-Stehli, Mrs. Maxmillian (Margaretha Emerentia Stehli)\\u003cbr\\u003ex=%{x}\\u003cextra\\u003e\\u003c\\u002fextra\\u003e\",\"legendgroup\":\"Frolicher-Stehli, Mrs. Maxmillian (Margaretha Emerentia Stehli)\",\"marker\":{\"color\":\"#B6E880\"},\"name\":\"Frolicher-Stehli, Mrs. Maxmillian (Margaretha Emerentia Stehli)\",\"notched\":false,\"offsetgroup\":\"Frolicher-Stehli, Mrs. Maxmillian (Margaretha Emerentia Stehli)\",\"orientation\":\"h\",\"showlegend\":true,\"x\":[48.0],\"x0\":\" \",\"xaxis\":\"x\",\"y0\":\" \",\"yaxis\":\"y\",\"type\":\"box\"},{\"alignmentgroup\":\"True\",\"hovertemplate\":\"color=Larsson-Rondberg, Mr. Edvard A\\u003cbr\\u003ex=%{x}\\u003cextra\\u003e\\u003c\\u002fextra\\u003e\",\"legendgroup\":\"Larsson-Rondberg, Mr. Edvard A\",\"marker\":{\"color\":\"#FF97FF\"},\"name\":\"Larsson-Rondberg, Mr. Edvard A\",\"notched\":false,\"offsetgroup\":\"Larsson-Rondberg, Mr. Edvard A\",\"orientation\":\"h\",\"showlegend\":true,\"x\":[22.0],\"x0\":\" \",\"xaxis\":\"x\",\"y0\":\" \",\"yaxis\":\"y\",\"type\":\"box\"},{\"alignmentgroup\":\"True\",\"hovertemplate\":\"color=Conlon, Mr. Thomas Henry\\u003cbr\\u003ex=%{x}\\u003cextra\\u003e\\u003c\\u002fextra\\u003e\",\"legendgroup\":\"Conlon, Mr. Thomas Henry\",\"marker\":{\"color\":\"#FECB52\"},\"name\":\"Conlon, Mr. Thomas Henry\",\"notched\":false,\"offsetgroup\":\"Conlon, Mr. Thomas Henry\",\"orientation\":\"h\",\"showlegend\":true,\"x\":[31.0],\"x0\":\" \",\"xaxis\":\"x\",\"y0\":\" \",\"yaxis\":\"y\",\"type\":\"box\"},{\"alignmentgroup\":\"True\",\"hovertemplate\":\"color=Bonnell, Miss. Caroline\\u003cbr\\u003ex=%{x}\\u003cextra\\u003e\\u003c\\u002fextra\\u003e\",\"legendgroup\":\"Bonnell, Miss. Caroline\",\"marker\":{\"color\":\"#636efa\"},\"name\":\"Bonnell, Miss. Caroline\",\"notched\":false,\"offsetgroup\":\"Bonnell, Miss. Caroline\",\"orientation\":\"h\",\"showlegend\":true,\"x\":[30.0],\"x0\":\" \",\"xaxis\":\"x\",\"y0\":\" \",\"yaxis\":\"y\",\"type\":\"box\"},{\"alignmentgroup\":\"True\",\"hovertemplate\":\"color=Gale, Mr. Harry\\u003cbr\\u003ex=%{x}\\u003cextra\\u003e\\u003c\\u002fextra\\u003e\",\"legendgroup\":\"Gale, Mr. Harry\",\"marker\":{\"color\":\"#EF553B\"},\"name\":\"Gale, Mr. Harry\",\"notched\":false,\"offsetgroup\":\"Gale, Mr. Harry\",\"orientation\":\"h\",\"showlegend\":true,\"x\":[38.0],\"x0\":\" \",\"xaxis\":\"x\",\"y0\":\" \",\"yaxis\":\"y\",\"type\":\"box\"},{\"alignmentgroup\":\"True\",\"hovertemplate\":\"color=Gibson, Miss. Dorothy Winifred\\u003cbr\\u003ex=%{x}\\u003cextra\\u003e\\u003c\\u002fextra\\u003e\",\"legendgroup\":\"Gibson, Miss. Dorothy Winifred\",\"marker\":{\"color\":\"#00cc96\"},\"name\":\"Gibson, Miss. Dorothy Winifred\",\"notched\":false,\"offsetgroup\":\"Gibson, Miss. Dorothy Winifred\",\"orientation\":\"h\",\"showlegend\":true,\"x\":[22.0],\"x0\":\" \",\"xaxis\":\"x\",\"y0\":\" \",\"yaxis\":\"y\",\"type\":\"box\"},{\"alignmentgroup\":\"True\",\"hovertemplate\":\"color=Carrau, Mr. Jose Pedro\\u003cbr\\u003ex=%{x}\\u003cextra\\u003e\\u003c\\u002fextra\\u003e\",\"legendgroup\":\"Carrau, Mr. Jose Pedro\",\"marker\":{\"color\":\"#ab63fa\"},\"name\":\"Carrau, Mr. Jose Pedro\",\"notched\":false,\"offsetgroup\":\"Carrau, Mr. Jose Pedro\",\"orientation\":\"h\",\"showlegend\":true,\"x\":[17.0],\"x0\":\" \",\"xaxis\":\"x\",\"y0\":\" \",\"yaxis\":\"y\",\"type\":\"box\"},{\"alignmentgroup\":\"True\",\"hovertemplate\":\"color=Frauenthal, Mr. Isaac Gerald\\u003cbr\\u003ex=%{x}\\u003cextra\\u003e\\u003c\\u002fextra\\u003e\",\"legendgroup\":\"Frauenthal, Mr. Isaac Gerald\",\"marker\":{\"color\":\"#FFA15A\"},\"name\":\"Frauenthal, Mr. Isaac Gerald\",\"notched\":false,\"offsetgroup\":\"Frauenthal, Mr. Isaac Gerald\",\"orientation\":\"h\",\"showlegend\":true,\"x\":[43.0],\"x0\":\" \",\"xaxis\":\"x\",\"y0\":\" \",\"yaxis\":\"y\",\"type\":\"box\"},{\"alignmentgroup\":\"True\",\"hovertemplate\":\"color=Nourney, Mr. Alfred (Baron von Drachstedt\\\")\\\"\\u003cbr\\u003ex=%{x}\\u003cextra\\u003e\\u003c\\u002fextra\\u003e\",\"legendgroup\":\"Nourney, Mr. Alfred (Baron von Drachstedt\\\")\\\"\",\"marker\":{\"color\":\"#19d3f3\"},\"name\":\"Nourney, Mr. Alfred (Baron von Drachstedt\\\")\\\"\",\"notched\":false,\"offsetgroup\":\"Nourney, Mr. Alfred (Baron von Drachstedt\\\")\\\"\",\"orientation\":\"h\",\"showlegend\":true,\"x\":[20.0],\"x0\":\" \",\"xaxis\":\"x\",\"y0\":\" \",\"yaxis\":\"y\",\"type\":\"box\"},{\"alignmentgroup\":\"True\",\"hovertemplate\":\"color=Ware, Mr. William Jeffery\\u003cbr\\u003ex=%{x}\\u003cextra\\u003e\\u003c\\u002fextra\\u003e\",\"legendgroup\":\"Ware, Mr. William Jeffery\",\"marker\":{\"color\":\"#FF6692\"},\"name\":\"Ware, Mr. William Jeffery\",\"notched\":false,\"offsetgroup\":\"Ware, Mr. William Jeffery\",\"orientation\":\"h\",\"showlegend\":true,\"x\":[23.0],\"x0\":\" \",\"xaxis\":\"x\",\"y0\":\" \",\"yaxis\":\"y\",\"type\":\"box\"},{\"alignmentgroup\":\"True\",\"hovertemplate\":\"color=Widener, Mr. George Dunton\\u003cbr\\u003ex=%{x}\\u003cextra\\u003e\\u003c\\u002fextra\\u003e\",\"legendgroup\":\"Widener, Mr. George Dunton\",\"marker\":{\"color\":\"#B6E880\"},\"name\":\"Widener, Mr. George Dunton\",\"notched\":false,\"offsetgroup\":\"Widener, Mr. George Dunton\",\"orientation\":\"h\",\"showlegend\":true,\"x\":[50.0],\"x0\":\" \",\"xaxis\":\"x\",\"y0\":\" \",\"yaxis\":\"y\",\"type\":\"box\"},{\"alignmentgroup\":\"True\",\"hovertemplate\":\"color=Riordan, Miss. Johanna Hannah\\\"\\\"\\u003cbr\\u003ex=%{x}\\u003cextra\\u003e\\u003c\\u002fextra\\u003e\",\"legendgroup\":\"Riordan, Miss. Johanna Hannah\\\"\\\"\",\"marker\":{\"color\":\"#FF97FF\"},\"name\":\"Riordan, Miss. Johanna Hannah\\\"\\\"\",\"notched\":false,\"offsetgroup\":\"Riordan, Miss. Johanna Hannah\\\"\\\"\",\"orientation\":\"h\",\"showlegend\":true,\"x\":[30.272590361445783],\"x0\":\" \",\"xaxis\":\"x\",\"y0\":\" \",\"yaxis\":\"y\",\"type\":\"box\"},{\"alignmentgroup\":\"True\",\"hovertemplate\":\"color=Peacock, Miss. Treasteall\\u003cbr\\u003ex=%{x}\\u003cextra\\u003e\\u003c\\u002fextra\\u003e\",\"legendgroup\":\"Peacock, Miss. Treasteall\",\"marker\":{\"color\":\"#FECB52\"},\"name\":\"Peacock, Miss. Treasteall\",\"notched\":false,\"offsetgroup\":\"Peacock, Miss. Treasteall\",\"orientation\":\"h\",\"showlegend\":true,\"x\":[3.0],\"x0\":\" \",\"xaxis\":\"x\",\"y0\":\" \",\"yaxis\":\"y\",\"type\":\"box\"},{\"alignmentgroup\":\"True\",\"hovertemplate\":\"color=Naughton, Miss. Hannah\\u003cbr\\u003ex=%{x}\\u003cextra\\u003e\\u003c\\u002fextra\\u003e\",\"legendgroup\":\"Naughton, Miss. Hannah\",\"marker\":{\"color\":\"#636efa\"},\"name\":\"Naughton, Miss. Hannah\",\"notched\":false,\"offsetgroup\":\"Naughton, Miss. Hannah\",\"orientation\":\"h\",\"showlegend\":true,\"x\":[30.272590361445783],\"x0\":\" \",\"xaxis\":\"x\",\"y0\":\" \",\"yaxis\":\"y\",\"type\":\"box\"},{\"alignmentgroup\":\"True\",\"hovertemplate\":\"color=Minahan, Mrs. William Edward (Lillian E Thorpe)\\u003cbr\\u003ex=%{x}\\u003cextra\\u003e\\u003c\\u002fextra\\u003e\",\"legendgroup\":\"Minahan, Mrs. William Edward (Lillian E Thorpe)\",\"marker\":{\"color\":\"#EF553B\"},\"name\":\"Minahan, Mrs. William Edward (Lillian E Thorpe)\",\"notched\":false,\"offsetgroup\":\"Minahan, Mrs. William Edward (Lillian E Thorpe)\",\"orientation\":\"h\",\"showlegend\":true,\"x\":[37.0],\"x0\":\" \",\"xaxis\":\"x\",\"y0\":\" \",\"yaxis\":\"y\",\"type\":\"box\"},{\"alignmentgroup\":\"True\",\"hovertemplate\":\"color=Henriksson, Miss. Jenny Lovisa\\u003cbr\\u003ex=%{x}\\u003cextra\\u003e\\u003c\\u002fextra\\u003e\",\"legendgroup\":\"Henriksson, Miss. Jenny Lovisa\",\"marker\":{\"color\":\"#00cc96\"},\"name\":\"Henriksson, Miss. Jenny Lovisa\",\"notched\":false,\"offsetgroup\":\"Henriksson, Miss. Jenny Lovisa\",\"orientation\":\"h\",\"showlegend\":true,\"x\":[28.0],\"x0\":\" \",\"xaxis\":\"x\",\"y0\":\" \",\"yaxis\":\"y\",\"type\":\"box\"},{\"alignmentgroup\":\"True\",\"hovertemplate\":\"color=Spector, Mr. Woolf\\u003cbr\\u003ex=%{x}\\u003cextra\\u003e\\u003c\\u002fextra\\u003e\",\"legendgroup\":\"Spector, Mr. Woolf\",\"marker\":{\"color\":\"#ab63fa\"},\"name\":\"Spector, Mr. Woolf\",\"notched\":false,\"offsetgroup\":\"Spector, Mr. Woolf\",\"orientation\":\"h\",\"showlegend\":true,\"x\":[30.272590361445783],\"x0\":\" \",\"xaxis\":\"x\",\"y0\":\" \",\"yaxis\":\"y\",\"type\":\"box\"},{\"alignmentgroup\":\"True\",\"hovertemplate\":\"color=Oliva y Ocana, Dona. Fermina\\u003cbr\\u003ex=%{x}\\u003cextra\\u003e\\u003c\\u002fextra\\u003e\",\"legendgroup\":\"Oliva y Ocana, Dona. Fermina\",\"marker\":{\"color\":\"#FFA15A\"},\"name\":\"Oliva y Ocana, Dona. Fermina\",\"notched\":false,\"offsetgroup\":\"Oliva y Ocana, Dona. Fermina\",\"orientation\":\"h\",\"showlegend\":true,\"x\":[39.0],\"x0\":\" \",\"xaxis\":\"x\",\"y0\":\" \",\"yaxis\":\"y\",\"type\":\"box\"},{\"alignmentgroup\":\"True\",\"hovertemplate\":\"color=Saether, Mr. Simon Sivertsen\\u003cbr\\u003ex=%{x}\\u003cextra\\u003e\\u003c\\u002fextra\\u003e\",\"legendgroup\":\"Saether, Mr. Simon Sivertsen\",\"marker\":{\"color\":\"#19d3f3\"},\"name\":\"Saether, Mr. Simon Sivertsen\",\"notched\":false,\"offsetgroup\":\"Saether, Mr. Simon Sivertsen\",\"orientation\":\"h\",\"showlegend\":true,\"x\":[38.5],\"x0\":\" \",\"xaxis\":\"x\",\"y0\":\" \",\"yaxis\":\"y\",\"type\":\"box\"},{\"alignmentgroup\":\"True\",\"hovertemplate\":\"color=Ware, Mr. Frederick\\u003cbr\\u003ex=%{x}\\u003cextra\\u003e\\u003c\\u002fextra\\u003e\",\"legendgroup\":\"Ware, Mr. Frederick\",\"marker\":{\"color\":\"#FF6692\"},\"name\":\"Ware, Mr. Frederick\",\"notched\":false,\"offsetgroup\":\"Ware, Mr. Frederick\",\"orientation\":\"h\",\"showlegend\":true,\"x\":[30.272590361445783],\"x0\":\" \",\"xaxis\":\"x\",\"y0\":\" \",\"yaxis\":\"y\",\"type\":\"box\"},{\"alignmentgroup\":\"True\",\"hovertemplate\":\"color=Peter, Master. Michael J\\u003cbr\\u003ex=%{x}\\u003cextra\\u003e\\u003c\\u002fextra\\u003e\",\"legendgroup\":\"Peter, Master. Michael J\",\"marker\":{\"color\":\"#B6E880\"},\"name\":\"Peter, Master. Michael J\",\"notched\":false,\"offsetgroup\":\"Peter, Master. Michael J\",\"orientation\":\"h\",\"showlegend\":true,\"x\":[30.272590361445783],\"x0\":\" \",\"xaxis\":\"x\",\"y0\":\" \",\"yaxis\":\"y\",\"type\":\"box\"}],                        {\"template\":{\"data\":{\"histogram2dcontour\":[{\"type\":\"histogram2dcontour\",\"colorbar\":{\"outlinewidth\":0,\"ticks\":\"\"},\"colorscale\":[[0.0,\"#0d0887\"],[0.1111111111111111,\"#46039f\"],[0.2222222222222222,\"#7201a8\"],[0.3333333333333333,\"#9c179e\"],[0.4444444444444444,\"#bd3786\"],[0.5555555555555556,\"#d8576b\"],[0.6666666666666666,\"#ed7953\"],[0.7777777777777778,\"#fb9f3a\"],[0.8888888888888888,\"#fdca26\"],[1.0,\"#f0f921\"]]}],\"choropleth\":[{\"type\":\"choropleth\",\"colorbar\":{\"outlinewidth\":0,\"ticks\":\"\"}}],\"histogram2d\":[{\"type\":\"histogram2d\",\"colorbar\":{\"outlinewidth\":0,\"ticks\":\"\"},\"colorscale\":[[0.0,\"#0d0887\"],[0.1111111111111111,\"#46039f\"],[0.2222222222222222,\"#7201a8\"],[0.3333333333333333,\"#9c179e\"],[0.4444444444444444,\"#bd3786\"],[0.5555555555555556,\"#d8576b\"],[0.6666666666666666,\"#ed7953\"],[0.7777777777777778,\"#fb9f3a\"],[0.8888888888888888,\"#fdca26\"],[1.0,\"#f0f921\"]]}],\"heatmap\":[{\"type\":\"heatmap\",\"colorbar\":{\"outlinewidth\":0,\"ticks\":\"\"},\"colorscale\":[[0.0,\"#0d0887\"],[0.1111111111111111,\"#46039f\"],[0.2222222222222222,\"#7201a8\"],[0.3333333333333333,\"#9c179e\"],[0.4444444444444444,\"#bd3786\"],[0.5555555555555556,\"#d8576b\"],[0.6666666666666666,\"#ed7953\"],[0.7777777777777778,\"#fb9f3a\"],[0.8888888888888888,\"#fdca26\"],[1.0,\"#f0f921\"]]}],\"heatmapgl\":[{\"type\":\"heatmapgl\",\"colorbar\":{\"outlinewidth\":0,\"ticks\":\"\"},\"colorscale\":[[0.0,\"#0d0887\"],[0.1111111111111111,\"#46039f\"],[0.2222222222222222,\"#7201a8\"],[0.3333333333333333,\"#9c179e\"],[0.4444444444444444,\"#bd3786\"],[0.5555555555555556,\"#d8576b\"],[0.6666666666666666,\"#ed7953\"],[0.7777777777777778,\"#fb9f3a\"],[0.8888888888888888,\"#fdca26\"],[1.0,\"#f0f921\"]]}],\"contourcarpet\":[{\"type\":\"contourcarpet\",\"colorbar\":{\"outlinewidth\":0,\"ticks\":\"\"}}],\"contour\":[{\"type\":\"contour\",\"colorbar\":{\"outlinewidth\":0,\"ticks\":\"\"},\"colorscale\":[[0.0,\"#0d0887\"],[0.1111111111111111,\"#46039f\"],[0.2222222222222222,\"#7201a8\"],[0.3333333333333333,\"#9c179e\"],[0.4444444444444444,\"#bd3786\"],[0.5555555555555556,\"#d8576b\"],[0.6666666666666666,\"#ed7953\"],[0.7777777777777778,\"#fb9f3a\"],[0.8888888888888888,\"#fdca26\"],[1.0,\"#f0f921\"]]}],\"surface\":[{\"type\":\"surface\",\"colorbar\":{\"outlinewidth\":0,\"ticks\":\"\"},\"colorscale\":[[0.0,\"#0d0887\"],[0.1111111111111111,\"#46039f\"],[0.2222222222222222,\"#7201a8\"],[0.3333333333333333,\"#9c179e\"],[0.4444444444444444,\"#bd3786\"],[0.5555555555555556,\"#d8576b\"],[0.6666666666666666,\"#ed7953\"],[0.7777777777777778,\"#fb9f3a\"],[0.8888888888888888,\"#fdca26\"],[1.0,\"#f0f921\"]]}],\"mesh3d\":[{\"type\":\"mesh3d\",\"colorbar\":{\"outlinewidth\":0,\"ticks\":\"\"}}],\"scatter\":[{\"fillpattern\":{\"fillmode\":\"overlay\",\"size\":10,\"solidity\":0.2},\"type\":\"scatter\"}],\"parcoords\":[{\"type\":\"parcoords\",\"line\":{\"colorbar\":{\"outlinewidth\":0,\"ticks\":\"\"}}}],\"scatterpolargl\":[{\"type\":\"scatterpolargl\",\"marker\":{\"colorbar\":{\"outlinewidth\":0,\"ticks\":\"\"}}}],\"bar\":[{\"error_x\":{\"color\":\"#2a3f5f\"},\"error_y\":{\"color\":\"#2a3f5f\"},\"marker\":{\"line\":{\"color\":\"#E5ECF6\",\"width\":0.5},\"pattern\":{\"fillmode\":\"overlay\",\"size\":10,\"solidity\":0.2}},\"type\":\"bar\"}],\"scattergeo\":[{\"type\":\"scattergeo\",\"marker\":{\"colorbar\":{\"outlinewidth\":0,\"ticks\":\"\"}}}],\"scatterpolar\":[{\"type\":\"scatterpolar\",\"marker\":{\"colorbar\":{\"outlinewidth\":0,\"ticks\":\"\"}}}],\"histogram\":[{\"marker\":{\"pattern\":{\"fillmode\":\"overlay\",\"size\":10,\"solidity\":0.2}},\"type\":\"histogram\"}],\"scattergl\":[{\"type\":\"scattergl\",\"marker\":{\"colorbar\":{\"outlinewidth\":0,\"ticks\":\"\"}}}],\"scatter3d\":[{\"type\":\"scatter3d\",\"line\":{\"colorbar\":{\"outlinewidth\":0,\"ticks\":\"\"}},\"marker\":{\"colorbar\":{\"outlinewidth\":0,\"ticks\":\"\"}}}],\"scattermapbox\":[{\"type\":\"scattermapbox\",\"marker\":{\"colorbar\":{\"outlinewidth\":0,\"ticks\":\"\"}}}],\"scatterternary\":[{\"type\":\"scatterternary\",\"marker\":{\"colorbar\":{\"outlinewidth\":0,\"ticks\":\"\"}}}],\"scattercarpet\":[{\"type\":\"scattercarpet\",\"marker\":{\"colorbar\":{\"outlinewidth\":0,\"ticks\":\"\"}}}],\"carpet\":[{\"aaxis\":{\"endlinecolor\":\"#2a3f5f\",\"gridcolor\":\"white\",\"linecolor\":\"white\",\"minorgridcolor\":\"white\",\"startlinecolor\":\"#2a3f5f\"},\"baxis\":{\"endlinecolor\":\"#2a3f5f\",\"gridcolor\":\"white\",\"linecolor\":\"white\",\"minorgridcolor\":\"white\",\"startlinecolor\":\"#2a3f5f\"},\"type\":\"carpet\"}],\"table\":[{\"cells\":{\"fill\":{\"color\":\"#EBF0F8\"},\"line\":{\"color\":\"white\"}},\"header\":{\"fill\":{\"color\":\"#C8D4E3\"},\"line\":{\"color\":\"white\"}},\"type\":\"table\"}],\"barpolar\":[{\"marker\":{\"line\":{\"color\":\"#E5ECF6\",\"width\":0.5},\"pattern\":{\"fillmode\":\"overlay\",\"size\":10,\"solidity\":0.2}},\"type\":\"barpolar\"}],\"pie\":[{\"automargin\":true,\"type\":\"pie\"}]},\"layout\":{\"autotypenumbers\":\"strict\",\"colorway\":[\"#636efa\",\"#EF553B\",\"#00cc96\",\"#ab63fa\",\"#FFA15A\",\"#19d3f3\",\"#FF6692\",\"#B6E880\",\"#FF97FF\",\"#FECB52\"],\"font\":{\"color\":\"#2a3f5f\"},\"hovermode\":\"closest\",\"hoverlabel\":{\"align\":\"left\"},\"paper_bgcolor\":\"white\",\"plot_bgcolor\":\"#E5ECF6\",\"polar\":{\"bgcolor\":\"#E5ECF6\",\"angularaxis\":{\"gridcolor\":\"white\",\"linecolor\":\"white\",\"ticks\":\"\"},\"radialaxis\":{\"gridcolor\":\"white\",\"linecolor\":\"white\",\"ticks\":\"\"}},\"ternary\":{\"bgcolor\":\"#E5ECF6\",\"aaxis\":{\"gridcolor\":\"white\",\"linecolor\":\"white\",\"ticks\":\"\"},\"baxis\":{\"gridcolor\":\"white\",\"linecolor\":\"white\",\"ticks\":\"\"},\"caxis\":{\"gridcolor\":\"white\",\"linecolor\":\"white\",\"ticks\":\"\"}},\"coloraxis\":{\"colorbar\":{\"outlinewidth\":0,\"ticks\":\"\"}},\"colorscale\":{\"sequential\":[[0.0,\"#0d0887\"],[0.1111111111111111,\"#46039f\"],[0.2222222222222222,\"#7201a8\"],[0.3333333333333333,\"#9c179e\"],[0.4444444444444444,\"#bd3786\"],[0.5555555555555556,\"#d8576b\"],[0.6666666666666666,\"#ed7953\"],[0.7777777777777778,\"#fb9f3a\"],[0.8888888888888888,\"#fdca26\"],[1.0,\"#f0f921\"]],\"sequentialminus\":[[0.0,\"#0d0887\"],[0.1111111111111111,\"#46039f\"],[0.2222222222222222,\"#7201a8\"],[0.3333333333333333,\"#9c179e\"],[0.4444444444444444,\"#bd3786\"],[0.5555555555555556,\"#d8576b\"],[0.6666666666666666,\"#ed7953\"],[0.7777777777777778,\"#fb9f3a\"],[0.8888888888888888,\"#fdca26\"],[1.0,\"#f0f921\"]],\"diverging\":[[0,\"#8e0152\"],[0.1,\"#c51b7d\"],[0.2,\"#de77ae\"],[0.3,\"#f1b6da\"],[0.4,\"#fde0ef\"],[0.5,\"#f7f7f7\"],[0.6,\"#e6f5d0\"],[0.7,\"#b8e186\"],[0.8,\"#7fbc41\"],[0.9,\"#4d9221\"],[1,\"#276419\"]]},\"xaxis\":{\"gridcolor\":\"white\",\"linecolor\":\"white\",\"ticks\":\"\",\"title\":{\"standoff\":15},\"zerolinecolor\":\"white\",\"automargin\":true,\"zerolinewidth\":2},\"yaxis\":{\"gridcolor\":\"white\",\"linecolor\":\"white\",\"ticks\":\"\",\"title\":{\"standoff\":15},\"zerolinecolor\":\"white\",\"automargin\":true,\"zerolinewidth\":2},\"scene\":{\"xaxis\":{\"backgroundcolor\":\"#E5ECF6\",\"gridcolor\":\"white\",\"linecolor\":\"white\",\"showbackground\":true,\"ticks\":\"\",\"zerolinecolor\":\"white\",\"gridwidth\":2},\"yaxis\":{\"backgroundcolor\":\"#E5ECF6\",\"gridcolor\":\"white\",\"linecolor\":\"white\",\"showbackground\":true,\"ticks\":\"\",\"zerolinecolor\":\"white\",\"gridwidth\":2},\"zaxis\":{\"backgroundcolor\":\"#E5ECF6\",\"gridcolor\":\"white\",\"linecolor\":\"white\",\"showbackground\":true,\"ticks\":\"\",\"zerolinecolor\":\"white\",\"gridwidth\":2}},\"shapedefaults\":{\"line\":{\"color\":\"#2a3f5f\"}},\"annotationdefaults\":{\"arrowcolor\":\"#2a3f5f\",\"arrowhead\":0,\"arrowwidth\":1},\"geo\":{\"bgcolor\":\"white\",\"landcolor\":\"#E5ECF6\",\"subunitcolor\":\"white\",\"showland\":true,\"showlakes\":true,\"lakecolor\":\"white\"},\"title\":{\"x\":0.05},\"mapbox\":{\"style\":\"light\"}}},\"xaxis\":{\"anchor\":\"y\",\"domain\":[0.0,1.0],\"title\":{\"text\":\"x\"}},\"yaxis\":{\"anchor\":\"x\",\"domain\":[0.0,1.0]},\"legend\":{\"title\":{\"text\":\"color\"},\"tracegroupgap\":0},\"margin\":{\"t\":60},\"boxmode\":\"group\"},                        {\"responsive\": true}                    ).then(function(){\n",
       "                            \n",
       "var gd = document.getElementById('5d6d31fb-233d-436b-8e3a-60340b828514');\n",
       "var x = new MutationObserver(function (mutations, observer) {{\n",
       "        var display = window.getComputedStyle(gd).display;\n",
       "        if (!display || display === 'none') {{\n",
       "            console.log([gd, 'removed!']);\n",
       "            Plotly.purge(gd);\n",
       "            observer.disconnect();\n",
       "        }}\n",
       "}});\n",
       "\n",
       "// Listen for the removal of the full notebook cells\n",
       "var notebookContainer = gd.closest('#notebook-container');\n",
       "if (notebookContainer) {{\n",
       "    x.observe(notebookContainer, {childList: true});\n",
       "}}\n",
       "\n",
       "// Listen for the clearing of the current output cell\n",
       "var outputEl = gd.closest('.output');\n",
       "if (outputEl) {{\n",
       "    x.observe(outputEl, {childList: true});\n",
       "}}\n",
       "\n",
       "                        })                };                });            </script>        </div>"
      ]
     },
     "metadata": {},
     "output_type": "display_data"
    }
   ],
   "source": [
    "px.box(titanic_data['Sex'],titanic_data['Age'],color=titanic_data['Survived'])"
   ]
  },
  {
   "cell_type": "code",
   "execution_count": null,
   "id": "780132c5-07eb-4375-bbb6-95a947e9aa3a",
   "metadata": {},
   "outputs": [],
   "source": []
  }
 ],
 "metadata": {
  "kernelspec": {
   "display_name": "Python 3 (ipykernel)",
   "language": "python",
   "name": "python3"
  },
  "language_info": {
   "codemirror_mode": {
    "name": "ipython",
    "version": 3
   },
   "file_extension": ".py",
   "mimetype": "text/x-python",
   "name": "python",
   "nbconvert_exporter": "python",
   "pygments_lexer": "ipython3",
   "version": "3.10.4"
  }
 },
 "nbformat": 4,
 "nbformat_minor": 5
}
