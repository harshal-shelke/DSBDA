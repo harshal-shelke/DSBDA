{
 "cells": [
  {
   "cell_type": "code",
   "execution_count": 41,
   "id": "6d0b514f-1c38-465d-9204-0f430dbedfe9",
   "metadata": {},
   "outputs": [
    {
     "name": "stderr",
     "output_type": "stream",
     "text": [
      "[nltk_data] Downloading package punkt to\n",
      "[nltk_data]     C:\\Users\\lenovo\\AppData\\Roaming\\nltk_data...\n",
      "[nltk_data]   Package punkt is already up-to-date!\n",
      "[nltk_data] Downloading package averaged_perceptron_tagger to\n",
      "[nltk_data]     C:\\Users\\lenovo\\AppData\\Roaming\\nltk_data...\n",
      "[nltk_data]   Package averaged_perceptron_tagger is already up-to-\n",
      "[nltk_data]       date!\n",
      "[nltk_data] Downloading package stopwords to\n",
      "[nltk_data]     C:\\Users\\lenovo\\AppData\\Roaming\\nltk_data...\n",
      "[nltk_data]   Package stopwords is already up-to-date!\n",
      "[nltk_data] Downloading package wordnet to\n",
      "[nltk_data]     C:\\Users\\lenovo\\AppData\\Roaming\\nltk_data...\n",
      "[nltk_data]   Package wordnet is already up-to-date!\n"
     ]
    }
   ],
   "source": [
    "import nltk\n",
    "nltk.download('punkt')\n",
    "nltk.download('averaged_perceptron_tagger')\n",
    "nltk.download('stopwords')\n",
    "nltk.download('wordnet')\n",
    "from nltk.corpus import stopwords\n",
    "from nltk import sent_tokenize\n",
    "from nltk.tokenize import word_tokenize\n",
    "from nltk.stem import PorterStemmer, WordNetLemmatizer\n",
    "from sklearn.feature_extraction.text import TfidfVectorizer\n"
   ]
  },
  {
   "cell_type": "code",
   "execution_count": 44,
   "id": "2f695756-b324-4822-a6da-f3dbe812314b",
   "metadata": {},
   "outputs": [],
   "source": [
    "doc=\"This is a sample document for demonstration purposes. It contains twenty words to illustrate text processing techniques.------>This is a sample document for demonstration purposes. It contains twenty words to illustrate text processing techniques.\"\n"
   ]
  },
  {
   "cell_type": "code",
   "execution_count": 45,
   "id": "e27c049a-6a79-45c5-859d-4238224ed6f2",
   "metadata": {},
   "outputs": [],
   "source": [
    "tokens_sents=nltk.sent_tokenize(doc)"
   ]
  },
  {
   "cell_type": "code",
   "execution_count": 46,
   "id": "ec6a8c7f-1c6e-45be-972f-00dc84c6b769",
   "metadata": {},
   "outputs": [
    {
     "name": "stdout",
     "output_type": "stream",
     "text": [
      "['This is a sample document for demonstration purposes.', 'It contains twenty words to illustrate text processing techniques.------>This is a sample document for demonstration purposes.', 'It contains twenty words to illustrate text processing techniques.']\n"
     ]
    }
   ],
   "source": [
    "print(tokens_sents)"
   ]
  },
  {
   "cell_type": "code",
   "execution_count": 47,
   "id": "febe2e72-313c-4afb-b5b1-adfca7db204b",
   "metadata": {},
   "outputs": [],
   "source": [
    "tokens_words=nltk.word_tokenize(doc)"
   ]
  },
  {
   "cell_type": "code",
   "execution_count": 48,
   "id": "611ea047-2d68-49d5-99fc-754811c2015c",
   "metadata": {},
   "outputs": [
    {
     "name": "stdout",
     "output_type": "stream",
     "text": [
      "['This', 'is', 'a', 'sample', 'document', 'for', 'demonstration', 'purposes', '.', 'It', 'contains', 'twenty', 'words', 'to', 'illustrate', 'text', 'processing', 'techniques.', '--', '--', '--', '>', 'This', 'is', 'a', 'sample', 'document', 'for', 'demonstration', 'purposes', '.', 'It', 'contains', 'twenty', 'words', 'to', 'illustrate', 'text', 'processing', 'techniques', '.']\n"
     ]
    }
   ],
   "source": [
    "print(tokens_words)"
   ]
  },
  {
   "cell_type": "code",
   "execution_count": 51,
   "id": "a0a913ea-2198-4d6d-ba4a-9a52cda9df25",
   "metadata": {},
   "outputs": [],
   "source": [
    "sw_nltk=stopwords.words('english')"
   ]
  },
  {
   "cell_type": "code",
   "execution_count": 52,
   "id": "b1d63163-1876-49d5-8704-616c001b9f56",
   "metadata": {},
   "outputs": [
    {
     "name": "stdout",
     "output_type": "stream",
     "text": [
      "['i', 'me', 'my', 'myself', 'we', 'our', 'ours', 'ourselves', 'you', \"you're\", \"you've\", \"you'll\", \"you'd\", 'your', 'yours', 'yourself', 'yourselves', 'he', 'him', 'his', 'himself', 'she', \"she's\", 'her', 'hers', 'herself', 'it', \"it's\", 'its', 'itself', 'they', 'them', 'their', 'theirs', 'themselves', 'what', 'which', 'who', 'whom', 'this', 'that', \"that'll\", 'these', 'those', 'am', 'is', 'are', 'was', 'were', 'be', 'been', 'being', 'have', 'has', 'had', 'having', 'do', 'does', 'did', 'doing', 'a', 'an', 'the', 'and', 'but', 'if', 'or', 'because', 'as', 'until', 'while', 'of', 'at', 'by', 'for', 'with', 'about', 'against', 'between', 'into', 'through', 'during', 'before', 'after', 'above', 'below', 'to', 'from', 'up', 'down', 'in', 'out', 'on', 'off', 'over', 'under', 'again', 'further', 'then', 'once', 'here', 'there', 'when', 'where', 'why', 'how', 'all', 'any', 'both', 'each', 'few', 'more', 'most', 'other', 'some', 'such', 'no', 'nor', 'not', 'only', 'own', 'same', 'so', 'than', 'too', 'very', 's', 't', 'can', 'will', 'just', 'don', \"don't\", 'should', \"should've\", 'now', 'd', 'll', 'm', 'o', 're', 've', 'y', 'ain', 'aren', \"aren't\", 'couldn', \"couldn't\", 'didn', \"didn't\", 'doesn', \"doesn't\", 'hadn', \"hadn't\", 'hasn', \"hasn't\", 'haven', \"haven't\", 'isn', \"isn't\", 'ma', 'mightn', \"mightn't\", 'mustn', \"mustn't\", 'needn', \"needn't\", 'shan', \"shan't\", 'shouldn', \"shouldn't\", 'wasn', \"wasn't\", 'weren', \"weren't\", 'won', \"won't\", 'wouldn', \"wouldn't\"]\n"
     ]
    }
   ],
   "source": [
    "print(sw_nltk)"
   ]
  },
  {
   "cell_type": "code",
   "execution_count": 53,
   "id": "6e2dea17-0ebd-4082-844f-5296eee2e620",
   "metadata": {},
   "outputs": [],
   "source": [
    "words=[i for i in doc.split() if i.lower() not in sw_nltk]"
   ]
  },
  {
   "cell_type": "code",
   "execution_count": 54,
   "id": "06a76dce-30f8-4ad1-ac7f-4fe49c8c3c73",
   "metadata": {},
   "outputs": [
    {
     "data": {
      "text/plain": [
       "['sample',\n",
       " 'document',\n",
       " 'demonstration',\n",
       " 'purposes.',\n",
       " 'contains',\n",
       " 'twenty',\n",
       " 'words',\n",
       " 'illustrate',\n",
       " 'text',\n",
       " 'processing',\n",
       " 'techniques.------>This',\n",
       " 'sample',\n",
       " 'document',\n",
       " 'demonstration',\n",
       " 'purposes.',\n",
       " 'contains',\n",
       " 'twenty',\n",
       " 'words',\n",
       " 'illustrate',\n",
       " 'text',\n",
       " 'processing',\n",
       " 'techniques.']"
      ]
     },
     "execution_count": 54,
     "metadata": {},
     "output_type": "execute_result"
    }
   ],
   "source": []
  },
  {
   "cell_type": "code",
   "execution_count": 55,
   "id": "6d10b6c4-4124-4123-9ade-b6084ac4cb11",
   "metadata": {},
   "outputs": [
    {
     "name": "stdout",
     "output_type": "stream",
     "text": [
      "['sample', 'document', 'demonstration', 'purposes.', 'contains', 'twenty', 'words', 'illustrate', 'text', 'processing', 'techniques.------>This', 'sample', 'document', 'demonstration', 'purposes.', 'contains', 'twenty', 'words', 'illustrate', 'text', 'processing', 'techniques.']\n"
     ]
    }
   ],
   "source": [
    "print(words)"
   ]
  },
  {
   "cell_type": "code",
   "execution_count": 56,
   "id": "6a0ff959-988f-420a-97d4-c86592c4872e",
   "metadata": {},
   "outputs": [],
   "source": [
    "from nltk.stem import PorterStemmer"
   ]
  },
  {
   "cell_type": "code",
   "execution_count": 57,
   "id": "f33f7231-1a8d-4624-ad35-8636230fd582",
   "metadata": {},
   "outputs": [],
   "source": [
    "stem=[]\n",
    "for i in words:\n",
    "    ps=PorterStemmer()\n",
    "    stem_word=ps.stem(i)\n",
    "    stem.append(stem_word)"
   ]
  },
  {
   "cell_type": "code",
   "execution_count": 58,
   "id": "24188b44-c0c6-423b-909f-8ca844619661",
   "metadata": {},
   "outputs": [
    {
     "name": "stdout",
     "output_type": "stream",
     "text": [
      "['sampl', 'document', 'demonstr', 'purposes.', 'contain', 'twenti', 'word', 'illustr', 'text', 'process', 'techniques.------>thi', 'sampl', 'document', 'demonstr', 'purposes.', 'contain', 'twenti', 'word', 'illustr', 'text', 'process', 'techniques.']\n"
     ]
    }
   ],
   "source": [
    "print(stem)"
   ]
  },
  {
   "cell_type": "code",
   "execution_count": 59,
   "id": "fa8c10c4-c567-401c-8820-214ff9700256",
   "metadata": {},
   "outputs": [],
   "source": [
    "import nltk \n",
    "from nltk.stem import WordNetLemmatizer\n",
    "lemmatizer=WordNetLemmatizer()\n"
   ]
  },
  {
   "cell_type": "code",
   "execution_count": 61,
   "id": "b7687cd1-f12e-4943-a41d-6ed43c0c7c54",
   "metadata": {},
   "outputs": [
    {
     "name": "stdout",
     "output_type": "stream",
     "text": [
      "['sample', 'document', 'demonstration', 'purposes.', 'contains', 'twenty', 'word', 'illustrate', 'text', 'processing', 'techniques.------>This', 'sample', 'document', 'demonstration', 'purposes.', 'contains', 'twenty', 'word', 'illustrate', 'text', 'processing', 'techniques.']\n",
      "sample document demonstration purposes. contains twenty word illustrate text processing techniques.------>This sample document demonstration purposes. contains twenty word illustrate text processing techniques.\n"
     ]
    }
   ],
   "source": [
    "leme=[]\n",
    "for i in words:\n",
    "    lemetized_word=lemmatizer.lemmatize(i)\n",
    "    leme.append(lemetized_word)\n",
    "print(leme)\n",
    "\n",
    "new_text=\" \".join(leme)\n",
    "print(new_text)"
   ]
  },
  {
   "cell_type": "code",
   "execution_count": 63,
   "id": "1989c611-ae44-4535-838a-cc7d9f7186f3",
   "metadata": {},
   "outputs": [
    {
     "name": "stdout",
     "output_type": "stream",
     "text": [
      "Parts of Speech  [('sample', 'JJ'), ('document', 'NN'), ('demonstration', 'NN'), ('purposes.', 'NN'), ('contains', 'VBZ'), ('twenty', 'JJ'), ('word', 'NN'), ('illustrate', 'NN'), ('text', 'NN'), ('processing', 'VBG'), ('techniques.------>This', 'JJ'), ('sample', 'NN'), ('document', 'NN'), ('demonstration', 'NN'), ('purposes.', 'NN'), ('contains', 'VBZ'), ('twenty', 'JJ'), ('word', 'NN'), ('illustrate', 'NN'), ('text', 'NN'), ('processing', 'NN'), ('techniques.', 'NN')]\n"
     ]
    }
   ],
   "source": [
    "print(\"Parts of Speech \",nltk.pos_tag(leme))"
   ]
  },
  {
   "cell_type": "code",
   "execution_count": 64,
   "id": "3e6bcd55-1c06-4efe-b843-680d37dd375d",
   "metadata": {},
   "outputs": [],
   "source": [
    "from sklearn.feature_extraction.text import TfidfVectorizer"
   ]
  },
  {
   "cell_type": "code",
   "execution_count": 69,
   "id": "33fc479c-8bf6-4fb1-8be2-e420e0b1c46c",
   "metadata": {},
   "outputs": [
    {
     "name": "stdout",
     "output_type": "stream",
     "text": [
      "Document \n",
      "  contains  :  0.29814239699997197\n",
      "  demonstration  :  0.29814239699997197\n",
      "  document  :  0.29814239699997197\n",
      "  illustrate  :  0.29814239699997197\n",
      "  processing  :  0.29814239699997197\n",
      "  purposes  :  0.29814239699997197\n",
      "  sample  :  0.29814239699997197\n",
      "  techniques  :  0.29814239699997197\n",
      "  text  :  0.29814239699997197\n",
      "  this  :  0.14907119849998599\n",
      "  twenty  :  0.29814239699997197\n",
      "  word  :  0.29814239699997197\n"
     ]
    }
   ],
   "source": [
    "vectorizer= TfidfVectorizer()\n",
    "tfidf_matrix= vectorizer.fit_transform([new_text])\n",
    "\n",
    "features_name=vectorizer.get_feature_names_out()\n",
    "\n",
    "print(\"Document \")\n",
    "for j, feature in enumerate(features_name):\n",
    "    if tfidf_matrix[0,j]>0:\n",
    "        print(\" \",feature,\" : \" ,tfidf_matrix[0,j])"
   ]
  },
  {
   "cell_type": "code",
   "execution_count": null,
   "id": "9b7ed577-9d01-40be-b717-85385f9e074c",
   "metadata": {},
   "outputs": [],
   "source": []
  }
 ],
 "metadata": {
  "kernelspec": {
   "display_name": "Python 3 (ipykernel)",
   "language": "python",
   "name": "python3"
  },
  "language_info": {
   "codemirror_mode": {
    "name": "ipython",
    "version": 3
   },
   "file_extension": ".py",
   "mimetype": "text/x-python",
   "name": "python",
   "nbconvert_exporter": "python",
   "pygments_lexer": "ipython3",
   "version": "3.10.4"
  }
 },
 "nbformat": 4,
 "nbformat_minor": 5
}
